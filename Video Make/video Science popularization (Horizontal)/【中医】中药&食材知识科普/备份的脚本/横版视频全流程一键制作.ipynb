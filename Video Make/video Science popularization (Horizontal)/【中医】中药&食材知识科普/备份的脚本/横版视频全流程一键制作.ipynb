{
 "cells": [
  {
   "cell_type": "code",
   "execution_count": 1,
   "metadata": {},
   "outputs": [
    {
     "name": "stderr",
     "output_type": "stream",
     "text": [
      "C:\\Users\\AERO\\Anaconda3\\lib\\site-packages\\numpy\\core\\__init__.py:29: UserWarning: loaded more than 1 DLL from .libs:\n",
      "C:\\Users\\AERO\\Anaconda3\\lib\\site-packages\\numpy\\.libs\\libopenblas.IPBC74C7KURV7CB2PKT5Z5FNR3SIBV4J.gfortran-win_amd64.dll\n",
      "C:\\Users\\AERO\\Anaconda3\\lib\\site-packages\\numpy\\.libs\\libopenblas.PYQHXLVVQ7VESDPUVUADXEVJOBGHJPAY.gfortran-win_amd64.dll\n",
      "  stacklevel=1)\n"
     ]
    }
   ],
   "source": [
    "import pandas as pd\n",
    "import librosa\n",
    "import cv2\n",
    "import numpy as np\n",
    "from PIL import Image\n",
    "from moviepy.editor import *\n",
    "import subprocess\n",
    "import os\n",
    "import glob\n",
    "from removebg import RemoveBg\n",
    "from aip import AipSpeech\n",
    "import pymongo\n",
    "from pyecharts import options as opts\n",
    "from pyecharts.charts import Map\n",
    "from pyecharts.faker import Faker\n",
    "from snapshot_selenium import snapshot\n",
    "from pyecharts.render import make_snapshot"
   ]
  },
  {
   "cell_type": "markdown",
   "metadata": {},
   "source": [
    "# 读取制作内容数据"
   ]
  },
  {
   "cell_type": "code",
   "execution_count": 9,
   "metadata": {
    "scrolled": true
   },
   "outputs": [
    {
     "name": "stdout",
     "output_type": "stream",
     "text": [
      "本次制作内容： 矮脚罗伞\n"
     ]
    }
   ],
   "source": [
    "# username = \"zgtNewsUser\"\n",
    "# password = \"ciiczgtJZFP\"\n",
    "# client = pymongo.MongoClient(host=\"localhost\", port=27017, username=username, password=password)\n",
    "# db = client['TCM_Datas']\n",
    "# df = pd.DataFrame(list(db.TCM.find({})))\n",
    "\n",
    "df = pd.read_excel(\"data/data.xlsx\")\n",
    "row = 8 # 这里设置数字\n",
    "df = df.loc[row:row, :]\n",
    "df.reset_index(drop=True, inplace=True)\n",
    "pic_name = df[\"药材名称\"][0].replace(\"?\", \"\")\n",
    "print(\"本次制作内容：\", pic_name)"
   ]
  },
  {
   "cell_type": "code",
   "execution_count": 10,
   "metadata": {
    "code_folding": [
     1
    ]
   },
   "outputs": [],
   "source": [
    "# 重命名列信息\n",
    "df = df.rename(columns={\n",
    "    '药材名称':\"CnName\",\n",
    "    '汉语拼音':\"PinYin\",\n",
    "    '文件原文':\"LaiYuan\",\n",
    "    '原拉丁植物动物矿物名':\"LaDing\",\n",
    "    '药材基原':\"YCJY\",\n",
    "    '性味归经':\"YWGJ\",\n",
    "    '功能主治':\"GNZZ\",\n",
    "    '地理分布':\"QYFB\",\n",
    "    '省市':\"SS\",\n",
    "    '英文名':\"EnName\",\n",
    "    '药材别名':\"YCBM\",\n",
    "    '化学成分':\"HXCF\", \n",
    "    '名家论述':\"MJLS\", \n",
    "    '拉丁文名':\"LDWM\", \n",
    "    '药理作用':\"YLZY\",\n",
    "    '附方':\"FF\", \n",
    "    '现代临床研究':\"XDLCYJ\",\n",
    "    '注意事项':\"ZYSX\", \n",
    "    '药用类别':\"YYLB\",\n",
    "    '现代化研究':\"XDHYJ\"})\n",
    "# df.drop([\"_id\"],inplace=True,axis=1)\n",
    "# df.drop([\"url\"],inplace=True,axis=1)\n",
    "# 清理掉无用的数据部分\n",
    "df[\"QYFB\"][0] = df[\"QYFB\"][0].replace(\" \",\"\").replace(\"生态环境\",\"\").replace(\"资源分布\",\"\")\n",
    "df = df.fillna(\"暂无数据\")"
   ]
  },
  {
   "cell_type": "markdown",
   "metadata": {},
   "source": [
    "# 加载配置内容"
   ]
  },
  {
   "cell_type": "code",
   "execution_count": 11,
   "metadata": {
    "code_folding": []
   },
   "outputs": [],
   "source": [
    "# 加载字体配置文件\n",
    "font_path = './font/kaiti.ttf'\n",
    "# 文件对应中文名称配置\n",
    "text_dict = {\n",
    "\"CnName\":\"药材名称\",\n",
    "\"PinYin\":\"汉语拼音\",\n",
    "\"LaiYuan\":\"文件原文\",\n",
    "\"LaDing\":\"原拉丁植物动物矿物名\",\n",
    "\"YCJY\":\"药材基原\",\n",
    "\"YWGJ\":\"性味归经\",\n",
    "\"GNZZ\":\"功能主治\",\n",
    "\"QYFB\":\"地理分布\",\n",
    "\"SS\":\"省市\",\n",
    "\"EnName\":\"英文名\",\n",
    "\"YCBM\":\"药材别名\",\n",
    "\"HXCF\":\"化学成分\",\n",
    "\"MJLS\":\"名家论述\",\n",
    "\"LDWM\":\"拉丁文名\",\n",
    "\"YLZY\":\"药理作用\",\n",
    "\"FF\":\"附方\",\n",
    "\"XDLCYJ\":\"现代临床研究\",\n",
    "\"ZYSX\":\"注意事项\",\n",
    "\"YYLB\":\"药用类别\",\n",
    "\"XDHYJ\":\"现代化研究\",\n",
    "}\n",
    "# 文字处理对应方法\n",
    "def clean_word(word):\n",
    "    word_len = int(len(word) / 20)\n",
    "    word_num = 0\n",
    "    while word_num <= word_len:\n",
    "        if word_num == 0:\n",
    "            strs = word[:(word_num + 1) * 20] + \"\\n\"\n",
    "        else:\n",
    "#             strs = word[:(word_num + 1) * 8] + \"...\"            \n",
    "            strs = strs + word[word_num * 20:(word_num + 1) * 20] + \"\\n\"\n",
    "        word_num = word_num + 1\n",
    "    return word_len,strs"
   ]
  },
  {
   "cell_type": "code",
   "execution_count": 12,
   "metadata": {},
   "outputs": [],
   "source": [
    "def clean_word_2(word):\n",
    "    word_len = int(len(word) / 10)\n",
    "    word_num = 0\n",
    "    while word_num <= word_len:\n",
    "        if word_num == 0:\n",
    "            strs = word[:(word_num + 1) * 10] + \"\\n\"\n",
    "        else:\n",
    "#             strs = word[:(word_num + 1) * 8] + \"...\"            \n",
    "            strs = strs + word[word_num * 10:(word_num + 1) * 10] + \"\\n\"\n",
    "        word_num = word_num + 1\n",
    "    return word_len,strs"
   ]
  },
  {
   "cell_type": "markdown",
   "metadata": {},
   "source": [
    "# 制作前删除合成语音的文件，否则无法继续"
   ]
  },
  {
   "cell_type": "code",
   "execution_count": 13,
   "metadata": {},
   "outputs": [],
   "source": [
    "path = \"./material_video/\" + pic_name\n",
    "for infile in glob.glob(os.path.join(path, '*.mp4')):\n",
    "    os.remove(infile)\n",
    "path = \"./material_everypart/\" + pic_name\n",
    "for infile in glob.glob(os.path.join(path, '*.mp4')):\n",
    "    os.remove(infile)\n",
    "path = \"./material_mp3/\" + pic_name\n",
    "for infile in glob.glob(os.path.join(path, '*.mp3')):\n",
    "    os.remove(infile)"
   ]
  },
  {
   "cell_type": "markdown",
   "metadata": {},
   "source": [
    "# 药材图片进行抠图生成素材"
   ]
  },
  {
   "cell_type": "code",
   "execution_count": 14,
   "metadata": {},
   "outputs": [
    {
     "name": "stdout",
     "output_type": "stream",
     "text": [
      "该图片的内容抠图已经存在\n"
     ]
    }
   ],
   "source": [
    "# 图片抠图处理\n",
    "rmbg = RemoveBg(\"ypWN2SE5p57qKMk6jtaaSXRq\", \"data/error.log\")  # 把你的`API Key`填进去\n",
    "# 判断如果没有该数据的文件夹就创建\n",
    "dirs = 'material_jpg/'+ pic_name\n",
    "if not os.path.exists(dirs):\n",
    "    os.makedirs(dirs)\n",
    "# 判断视频图片是否存在，若存在则跳过\n",
    "png_name = \"./material_jpg/\" + pic_name + \"/\" + pic_name + \".jpg_no_bg.png\"\n",
    "if not os.path.exists(png_name):\n",
    "    rmbg.remove_background_from_img_file(\"./material_jpg/\" + pic_name + \"/\" + pic_name + \".jpg\")\n",
    "else:\n",
    "    print(\"该图片的内容抠图已经存在\")"
   ]
  },
  {
   "cell_type": "markdown",
   "metadata": {},
   "source": [
    "# 合成封面图片"
   ]
  },
  {
   "cell_type": "code",
   "execution_count": 15,
   "metadata": {},
   "outputs": [],
   "source": [
    "# 加载背景图片\n",
    "base_img = Image.open('material_jpg/base/base.jpg')\n",
    "# 转换图片色到分别表示RGBA的值\n",
    "target = Image.new('RGBA', base_img.size, (0, 0, 0, 0))\n",
    "# 选择png图片显示的区域\n",
    "box = (800, 400, 1260, 690)  \n",
    "# 加载PNG图片\n",
    "region = Image.open('material_jpg/' + pic_name + '/' + pic_name + '.jpg_no_bg.png')\n",
    "# 确保图片是RGBA格式，大小和box区域一样\n",
    "region = region.convert(\"RGBA\")\n",
    "region = region.resize((box[2] - box[0], box[3] - box[1]))\n",
    "# 将素材图片合成道底板图上\n",
    "target.paste(region,box)\n",
    "# 将背景图上假如生成号的素材地板透明背景图\n",
    "base_img.paste(target,(0,0),target) #第一个参数表示需要粘贴的图像，中间的是坐标，最后是一个是mask图片，用于指定透明区域，将底图显示出来。\n",
    "# base_img.show()\n",
    "base_img.save('material_jpg/' + pic_name + '/result.jpg')  # 保存图片"
   ]
  },
  {
   "cell_type": "markdown",
   "metadata": {},
   "source": [
    "# 读取文字转语音"
   ]
  },
  {
   "cell_type": "code",
   "execution_count": 16,
   "metadata": {
    "code_folding": []
   },
   "outputs": [],
   "source": [
    "# 加载百度AIP账号\n",
    "APP_ID = '22577460'\n",
    "API_KEY = 'Q7aI5ALdYHbHzDGestq4trF8'\n",
    "SECRET_KEY = 'h850Sj1g3eoLKDEwNAj6yVNyGx5GbXht'\n",
    "client = AipSpeech(APP_ID, API_KEY, SECRET_KEY)\n",
    "# 把文字转换成语音 将生成的音频文件保存到material_mp3下\n",
    "def ChangeWordsToMp3(dataframe):\n",
    "    # 判断如果没有该数据的文件夹就创建\n",
    "    dirs = 'material_mp3/'+ dataframe[\"CnName\"][0]\n",
    "    if not os.path.exists(dirs):\n",
    "        os.makedirs(dirs)\n",
    "    # 遍历该条df数据每列文字进行语音MP3转换\n",
    "    for col in dataframe.columns:\n",
    "        try:\n",
    "            result  = client.synthesis(text_dict[col] + dataframe[col][0], 'zh', 1, {'vol': 12,'spd':6,'per':0})\n",
    "            if not isinstance(result, dict):\n",
    "                with open('material_mp3/' + dataframe[\"CnName\"][0] + \"/\" + col + '.mp3', 'wb') as f:\n",
    "                    f.write(result)\n",
    "        except:\n",
    "            pass\n",
    "# 执行函数生成文字对应MP3文件\n",
    "ChangeWordsToMp3(df)\n",
    "\n",
    "# 获取MP3的文件列表\n",
    "def file_name(file_dir):\n",
    "    list_ = [files for files in os.walk(file_dir)][0][2]\n",
    "    filelist = [i for i in list_ if os.path.splitext(i)[1] == '.mp3']\n",
    "    return filelist\n",
    "filelist = file_name(\"./material_mp3/\" + df[\"CnName\"][0])\n",
    "# 读取文字转语音的MP3 并计算时长\n",
    "def get_mp3_duration(audio_path):\n",
    "    duration = librosa.get_duration(filename=audio_path)\n",
    "    return duration\n",
    "time_name_dict = {}\n",
    "time_num_all = 0  # 总音频的秒数\n",
    "for i in filelist:\n",
    "    time_num = get_mp3_duration(\"material_mp3/\" + df[\"CnName\"][0] + \"/\" + i)\n",
    "    time_num_all = time_num_all + time_num\n",
    "    time_name_dict[i] = time_num"
   ]
  },
  {
   "cell_type": "markdown",
   "metadata": {},
   "source": [
    "拼接顺序制作\n",
    "- \"CnName\":\"药材名称\"\n",
    "- \"LaiYuan\":\"文件原文\"\n",
    "- \"YCBM\":\"药材别名\",\n",
    "- \"YYLB\":\"药用类别\",\n",
    "    \n",
    "    \n",
    "- \"PinYin\":\"汉语拼音\",\n",
    "- \"LaDing\":\"原拉丁植物动物矿物名\",\n",
    "- \"EnName\":\"英文名\", \n",
    "- \"LDWM\":\"拉丁文名\",\n",
    "\n",
    "    \n",
    "- \"YCJY\":\"药材基原\",\n",
    "- \"YWGJ\":\"性味归经\",\n",
    "- \"GNZZ\":\"功能主治\",\n",
    "- \"ZYSX\":\"注意事项\",\n",
    "- \"YLZY\":\"药理作用\",\n",
    "\n",
    "\n",
    "- \"QYFB\":\"地理分布\",\n",
    "- \"SS\":\"省市\", # 自定义生成图表使用\n",
    "    \n",
    "    \n",
    "- \"MJLS\":\"名家论述\",\n",
    "- \"HXCF\":\"化学成分\",\n",
    "- \"XDLCYJ\":\"现代临床研究\",\n",
    "- \"XDHYJ\":\"现代化研究\",\n",
    "    \n",
    "    \n",
    "- \"FF\":\"附方\","
   ]
  },
  {
   "cell_type": "code",
   "execution_count": 17,
   "metadata": {},
   "outputs": [],
   "source": [
    "df = df.fillna(\"暂无数据\")"
   ]
  },
  {
   "cell_type": "markdown",
   "metadata": {},
   "source": [
    "# 模板,如果字段为空则跳过"
   ]
  },
  {
   "cell_type": "code",
   "execution_count": 18,
   "metadata": {},
   "outputs": [],
   "source": [
    "# 创建该内容的文件夹，用于保存算法合成的每个部分无声音的MP4视频 \n",
    "dirs = 'material_everypart/'+ pic_name\n",
    "if not os.path.exists(dirs):\n",
    "    os.makedirs(dirs)"
   ]
  },
  {
   "cell_type": "markdown",
   "metadata": {},
   "source": [
    "## 第一部分"
   ]
  },
  {
   "cell_type": "code",
   "execution_count": 20,
   "metadata": {
    "code_folding": [
     0
    ],
    "scrolled": true
   },
   "outputs": [
    {
     "name": "stdout",
     "output_type": "stream",
     "text": [
      "Moviepy - Building video ./material_everypart/矮脚罗伞/1st.mp4.\n",
      "Moviepy - Writing video ./material_everypart/矮脚罗伞/1st.mp4\n",
      "\n"
     ]
    },
    {
     "name": "stderr",
     "output_type": "stream",
     "text": [
      "                                                                                                                       \r"
     ]
    },
    {
     "name": "stdout",
     "output_type": "stream",
     "text": [
      "Moviepy - Done !\n",
      "Moviepy - video ready ./material_everypart/矮脚罗伞/1st.mp4\n"
     ]
    },
    {
     "data": {
      "text/plain": [
       "0"
      ]
     },
     "execution_count": 20,
     "metadata": {},
     "output_type": "execute_result"
    }
   ],
   "source": [
    "# 选取第一部分的字段\n",
    "word_list = [\"CnName\", \"LaiYuan\", \"YCBM\", \"YYLB\"]\n",
    "data_list = []  # 选择有用的数据进行处理\n",
    "f_write = open('material_mp3/' + pic_name + \"/\" + '1st.mp3', 'wb')  # 处理有用数据的MP3\n",
    "\n",
    "for col in df[word_list].columns:\n",
    "    if df[col][0] != \"暂无数据\":\n",
    "        # 文本数据部分\n",
    "        col_text = df[col]\n",
    "        data_text = df[col][0]\n",
    "        col_duration_time = time_name_dict[col + \".mp3\"]\n",
    "        one_dict = {col: {\"text\": data_text, \"time\": col_duration_time}}\n",
    "        data_list.append(one_dict)\n",
    "\n",
    "        # 语音数据部分\n",
    "        f_read = open('material_mp3/' + pic_name + \"/\" + col + '.mp3', 'rb')\n",
    "        f_write.write(f_read.read())\n",
    "        f_read.close()\n",
    "f_write.flush()\n",
    "f_write.close()\n",
    "\n",
    "start_time = 0\n",
    "all_duration_time = sum([list(data_list[i].values())[0][\"time\"] for i in range(len(data_list))])\n",
    "\n",
    "# 文字的坐标参数\n",
    "title_y1 = 80\n",
    "title_y2 = 140\n",
    "title_y = 110\n",
    "\n",
    "result_list = []\n",
    "\n",
    "for i in range(len(data_list)):\n",
    "    title = text_dict[list(data_list[i].keys())[0]]\n",
    "    content = list(data_list[i].values())[0][\"text\"]\n",
    "    duration_time = list(data_list[i].values())[0][\"time\"]\n",
    "\n",
    "    # 判断内容过去分行\n",
    "    if len(content) > 15:\n",
    "        words_len, words_result = clean_word(content)\n",
    "        content = \"\\n\".join(words_result.split(\"\\n\")[:-1])\n",
    "    else:\n",
    "        words_len = 1\n",
    "\n",
    "    ## 将标题和文字融入到视频中\n",
    "    txt_title = (\n",
    "        TextClip(title, font=font_path, fontsize=50, color='black', method='label', align='West')\n",
    "            .set_position((230, title_y1))\n",
    "            .set_duration(all_duration_time - start_time)\n",
    "            .set_start(start_time)\n",
    "    )\n",
    "    txt_content = (\n",
    "        TextClip(content, font=font_path, fontsize=40, color='black', method='label', align='West')\n",
    "            .set_position((260, title_y2))\n",
    "            .set_duration(all_duration_time - start_time)\n",
    "            .set_start(start_time)\n",
    "    )\n",
    "\n",
    "    result_list.append(txt_title)\n",
    "    result_list.append(txt_content)\n",
    "\n",
    "    start_time = start_time + duration_time\n",
    "    title_y1 = title_y1 + title_y + (words_len - 1) * 50\n",
    "    title_y2 = title_y2 + title_y + (words_len - 1) * 50\n",
    "\n",
    "# 添加该模块材料图片（药材图片）\n",
    "Image = (\n",
    "    ImageClip(\"./material_jpg/\" + pic_name + \"/\" + pic_name + \".jpg_no_bg.png\")\n",
    "        .set_duration(start_time)  # 水印持续时间\n",
    "        .resize(height=300)  # 水印的高度，会等比缩放\n",
    "        .set_pos((600, 90))  # 水印的位置\n",
    ")\n",
    "\n",
    "# 加入水印\n",
    "logo = (\n",
    "    ImageClip(\"./material_jpg/base/logo.png\")\n",
    "        .set_duration(start_time)  # 水印持续时间\n",
    "        .resize(height=50)  # 水印的高度，会等比缩放\n",
    "        .set_pos((\"right\", \"top\"))  # 水印的位置\n",
    ")\n",
    "\n",
    "# 与背景进行合成\n",
    "L = []\n",
    "path = \"material_base/1s.mp4\"\n",
    "video = VideoFileClip(path)\n",
    "for i in range(int(all_duration_time) + 1):\n",
    "    L.append(video)\n",
    "final_clip = concatenate_videoclips(L).set_duration(all_duration_time).resize((1280, 720))\n",
    "cvc = CompositeVideoClip([final_clip, Image, logo] + result_list, size=(1280, 720))\n",
    "cvc.write_videofile(\"./material_everypart/\" + pic_name + \"/\" + \"1st.mp4\", fps=60, remove_temp=False)\n",
    "\n",
    "# 将对应的音频和视频进行合成\n",
    "outfile_name = 'material_video/' + pic_name + '/' + '1st.mp4'\n",
    "subprocess.call('ffmpeg -i ' + 'material_everypart/' + pic_name + '/' + '1st.mp4'\n",
    "                + ' -i ' + 'material_mp3/' + pic_name + '/' + '1st.mp3' + ' -strict -2 -f mp4 '\n",
    "                + outfile_name, shell=True)\n",
    "print(\"第一部分内容处理完毕，如果发现黑屏请调整改部分的clean_word\")"
   ]
  },
  {
   "cell_type": "markdown",
   "metadata": {},
   "source": [
    "## 第二部分"
   ]
  },
  {
   "cell_type": "code",
   "execution_count": 21,
   "metadata": {
    "code_folding": [
     0
    ]
   },
   "outputs": [
    {
     "name": "stdout",
     "output_type": "stream",
     "text": [
      "Moviepy - Building video ./material_everypart/矮脚罗伞/2nd.mp4.\n",
      "Moviepy - Writing video ./material_everypart/矮脚罗伞/2nd.mp4\n",
      "\n"
     ]
    },
    {
     "name": "stderr",
     "output_type": "stream",
     "text": [
      "                                                                                                                       \r"
     ]
    },
    {
     "name": "stdout",
     "output_type": "stream",
     "text": [
      "Moviepy - Done !\n",
      "Moviepy - video ready ./material_everypart/矮脚罗伞/2nd.mp4\n"
     ]
    },
    {
     "data": {
      "text/plain": [
       "0"
      ]
     },
     "execution_count": 21,
     "metadata": {},
     "output_type": "execute_result"
    }
   ],
   "source": [
    "# 选取第二部分的字段\n",
    "word_list = [\"PinYin\", \"LaDing\", \"EnName\", \"LDWM\"]\n",
    "\n",
    "data_list = []  # 选择有用的数据进行处理\n",
    "f_write = open('material_mp3/' + pic_name + \"/\" + '2nd.mp3', 'wb')  # 处理有用数据的MP3\n",
    "\n",
    "for col in df[word_list].columns:\n",
    "    if df[col][0] != \"暂无数据\":\n",
    "        # 文本数据部分\n",
    "        col_text = df[col]\n",
    "        data_text = df[col][0]\n",
    "        col_duration_time = time_name_dict[col + \".mp3\"]\n",
    "        one_dict = {col: {\"text\": data_text, \"time\": col_duration_time}}\n",
    "        data_list.append(one_dict)\n",
    "\n",
    "        # 语音数据部分\n",
    "        f_read = open('material_mp3/' + pic_name + \"/\" + col + '.mp3', 'rb')\n",
    "        f_write.write(f_read.read())\n",
    "        f_read.close()\n",
    "f_write.flush()\n",
    "f_write.close()\n",
    "\n",
    "start_time = 0\n",
    "all_duration_time = sum([list(data_list[i].values())[0][\"time\"] for i in range(len(data_list))])\n",
    "\n",
    "# 文字的坐标参数\n",
    "title_y1 = 80\n",
    "title_y2 = 140\n",
    "title_y = 110\n",
    "\n",
    "result_list = []\n",
    "\n",
    "for i in range(len(data_list)):\n",
    "    title = text_dict[list(data_list[i].keys())[0]]\n",
    "    content = list(data_list[i].values())[0][\"text\"]\n",
    "    duration_time = list(data_list[i].values())[0][\"time\"]\n",
    "\n",
    "    ## 将标题和文字融入到视频中\n",
    "    txt_title = (\n",
    "        TextClip(title, font=font_path, fontsize=50, color='black', method='label', align='West')\n",
    "            .set_position((230, title_y1))\n",
    "            .set_duration(all_duration_time - start_time)\n",
    "            .set_start(start_time)\n",
    "    )\n",
    "    txt_content = (\n",
    "        TextClip(content, font=font_path, fontsize=40, color='black', method='label', align='West')\n",
    "            .set_position((260, title_y2))\n",
    "            .set_duration(all_duration_time - start_time)\n",
    "            .set_start(start_time)\n",
    "    )\n",
    "\n",
    "    result_list.append(txt_title)\n",
    "    result_list.append(txt_content)\n",
    "\n",
    "    start_time = start_time + duration_time\n",
    "    title_y1 = title_y1 + title_y\n",
    "    title_y2 = title_y2 + title_y\n",
    "\n",
    "# 添加该模块材料图片（药材图片）\n",
    "Image = (\n",
    "    ImageClip(\"./material_jpg/\" + pic_name + \"/\" + pic_name + \".jpg_no_bg.png\")\n",
    "        .set_duration(start_time)  # 水印持续时间\n",
    "        .resize(height=300)  # 水印的高度，会等比缩放\n",
    "        .set_pos((600, 90))  # 水印的位置\n",
    ")\n",
    "\n",
    "# 加入水印\n",
    "logo = (\n",
    "    ImageClip(\"./material_jpg/base/logo.png\")\n",
    "        .set_duration(start_time)  # 水印持续时间\n",
    "        .resize(height=50)  # 水印的高度，会等比缩放\n",
    "        .set_pos((\"right\", \"top\"))  # 水印的位置\n",
    ")\n",
    "\n",
    "# 与背景进行合成\n",
    "L = []\n",
    "path = \"material_base/1s.mp4\"\n",
    "video = VideoFileClip(path)\n",
    "for i in range(int(all_duration_time) + 1):\n",
    "    L.append(video)\n",
    "final_clip = concatenate_videoclips(L).set_duration(all_duration_time).resize((1280, 720))\n",
    "cvc = CompositeVideoClip([final_clip, Image, logo] + result_list, size=(1280, 720))\n",
    "cvc.write_videofile(\"./material_everypart/\" + pic_name + \"/\" + \"2nd.mp4\", fps=60, remove_temp=False)\n",
    "\n",
    "# 将对应的音频和视频进行合成\n",
    "outfile_name = 'material_video/' + pic_name + '/' + '2nd.mp4'\n",
    "subprocess.call('ffmpeg -i ' + 'material_everypart/' + pic_name + '/' + '2nd.mp4'\n",
    "                + ' -i ' + 'material_mp3/' + pic_name + '/' + '2nd.mp3' + ' -strict -2 -f mp4 '\n",
    "                + outfile_name, shell=True)\n",
    "print(\"第二部分内容处理完毕，如果发现黑屏请调整改部分的clean_word\")"
   ]
  },
  {
   "cell_type": "markdown",
   "metadata": {},
   "source": [
    "## 第三部分"
   ]
  },
  {
   "cell_type": "code",
   "execution_count": 22,
   "metadata": {},
   "outputs": [
    {
     "name": "stdout",
     "output_type": "stream",
     "text": [
      "Moviepy - Building video ./material_everypart/矮脚罗伞/3rd.mp4.\n",
      "Moviepy - Writing video ./material_everypart/矮脚罗伞/3rd.mp4\n",
      "\n"
     ]
    },
    {
     "name": "stderr",
     "output_type": "stream",
     "text": [
      "                                                                                                                       \r"
     ]
    },
    {
     "name": "stdout",
     "output_type": "stream",
     "text": [
      "Moviepy - Done !\n",
      "Moviepy - video ready ./material_everypart/矮脚罗伞/3rd.mp4\n"
     ]
    },
    {
     "data": {
      "text/plain": [
       "0"
      ]
     },
     "execution_count": 22,
     "metadata": {},
     "output_type": "execute_result"
    }
   ],
   "source": [
    "# 选取第三部分的字段\n",
    "word_list = [\"YCJY\",\"YWGJ\",\"GNZZ\",\"ZYSX\",\"YLZY\"]\n",
    "data_list = [] # 选择有用的数据进行处理\n",
    "f_write = open('material_mp3/' + pic_name + \"/\"  + '3rd.mp3' , 'wb') # 处理有用数据的MP3\n",
    "\n",
    "for col in df[word_list].columns:\n",
    "    if df[col][0] != \"暂无数据\":\n",
    "        # 文本数据部分\n",
    "        col_text = df[col]\n",
    "        data_text = df[col][0]\n",
    "        col_duration_time = time_name_dict[ col + \".mp3\" ]\n",
    "        one_dict = { col : { \"text\" : data_text , \"time\" : col_duration_time}}\n",
    "        data_list.append(one_dict)\n",
    "        \n",
    "        # 语音数据部分\n",
    "        f_read = open('material_mp3/' + pic_name + \"/\"  + col + '.mp3' , 'rb')\n",
    "        f_write.write(f_read.read())\n",
    "        f_read.close()\n",
    "f_write.flush()\n",
    "f_write.close()\n",
    "\n",
    "start_time = 0\n",
    "result_list = []\n",
    "all_duration_time = sum([list(data_list[i].values())[0][\"time\"] for i in range(len(data_list))])\n",
    "\n",
    "for i in range(len(data_list)):\n",
    "    title = text_dict[list(data_list[i].keys())[0]]\n",
    "    content = list(data_list[i].values())[0][\"text\"]\n",
    "    duration_time = list(data_list[i].values())[0][\"time\"]\n",
    "\n",
    "\n",
    "    # 获得文字长度\n",
    "    words_len,words_result = clean_word(content) \n",
    "    # 构建切换的字幕方法\n",
    "    str_list = words_result.split(\"\\n\")[:-1]\n",
    "    allstrs = []  # 分组切分后的汉字放在这里\n",
    "    every_list = []\n",
    "    for i in range(len(str_list)):\n",
    "        every_list.append((str_list[i]+\"\\n\"))\n",
    "        if i == 0:\n",
    "            allstrs.append(every_list)\n",
    "        if i%2 == 0 and i !=0:\n",
    "            every_list = []\n",
    "            allstrs.append(every_list)\n",
    "        # 分多少页、和时长，由于切分音频是要 1|1|1|1 这么切分\n",
    "    allstrs = [i for i in allstrs if i != [] ]  # 去除无用的空list避免报错\n",
    "    allstrs = [i for i in allstrs if i != ['\\n'] ]  # 去除无用的空list避免报错\n",
    "    page_num , every_page_time = len(allstrs),  duration_time/len(allstrs)\n",
    "#     print(len(allstrs),page_num , every_page_time)\n",
    "#     print(\"起始时间：{}\".format(start_time),\"持续时间：{}\".format(duration_time),\"下段开始时间：{}\".format(start_time + duration_time))\n",
    "#     print(\"字段内容段落数：{}\".format(page_num),\"每段持续时间：{}\".format(every_page_time))\n",
    "\n",
    "    # 标题位置\n",
    "    txt_title = (\n",
    "        TextClip(title,font=font_path, fontsize=50, color='black', method='label',align = 'West')\n",
    "            .set_position((210,320))\n",
    "            .set_duration(duration_time)\n",
    "            .set_start(start_time)\n",
    "    )\n",
    "    logo = (\n",
    "        ImageClip(\"./material_jpg/base/logo.png\")\n",
    "            .set_duration(duration_time) # 水印持续时间\n",
    "            .resize(height=50) # 水印的高度，会等比缩放\n",
    "            .set_pos((\"right\",\"top\")) # 水印的位置\n",
    "    )\n",
    "    Image = (\n",
    "        ImageClip(\"./material_jpg/\" + pic_name + \"/\" + pic_name + \".jpg_no_bg.png\")\n",
    "            .set_duration(all_duration_time) # 水印持续时间\n",
    "            .resize(height=250) # 水印的高度，会等比缩放\n",
    "            .set_pos((\"center\",90)) # 水印的位置\n",
    "    )\n",
    "\n",
    "    # 每个部分\n",
    "    txt_list = []\n",
    "    start_every = start_time\n",
    "\n",
    "    for i in range(len(allstrs)):\n",
    "        txt_every = (\n",
    "            TextClip(\"\".join(allstrs[i]), font=font_path, fontsize=40, color='black', method='label',align = 'West')\n",
    "                .set_position((230,390))\n",
    "                .set_duration(every_page_time)\n",
    "                .set_start(start_every + every_page_time * i)\n",
    "        )\n",
    "    #         print(start_every + every_page_time * i)\n",
    "        txt_list.append(txt_every)\n",
    "    #         print(\"\".join(allstrs[i]),start_time + every_page_time)\n",
    "    start_time = start_time + duration_time\n",
    "\n",
    "    result_list.append(txt_title)\n",
    "    result_list = result_list + txt_list\n",
    "\n",
    "\n",
    "\n",
    "L = []\n",
    "path = \"material_base/1s.mp4\"\n",
    "video = VideoFileClip(path)\n",
    "for i in range(int(start_time)+1):\n",
    "    L.append(video)\n",
    "final_clip = concatenate_videoclips(L).set_duration(start_time).resize((1280,720))\n",
    "cvc = CompositeVideoClip([final_clip,Image,logo] + result_list, size=(1280,720))\n",
    "cvc.write_videofile(\"./material_everypart/\" + pic_name + \"/\" + \"3rd.mp4\", fps=60, remove_temp=False,verbose=True)\n",
    "\n",
    "# 将对应的音频和视频进行合成\n",
    "outfile_name = 'material_video/' + pic_name + '/' + '3rd.mp4'\n",
    "subprocess.call('ffmpeg -i ' + 'material_everypart/' + pic_name + '/' +'3rd.mp4'\n",
    "                + ' -i ' + 'material_mp3/' + pic_name + '/' + '3rd.mp3' + ' -strict -2 -f mp4 '\n",
    "                + outfile_name, shell=True)"
   ]
  },
  {
   "cell_type": "markdown",
   "metadata": {},
   "source": [
    "## 第四部分"
   ]
  },
  {
   "cell_type": "code",
   "execution_count": 24,
   "metadata": {},
   "outputs": [
    {
     "name": "stdout",
     "output_type": "stream",
     "text": [
      "Moviepy - Building video ./material_everypart/矮脚罗伞/4th.mp4.\n",
      "Moviepy - Writing video ./material_everypart/矮脚罗伞/4th.mp4\n",
      "\n"
     ]
    },
    {
     "name": "stderr",
     "output_type": "stream",
     "text": [
      "                                                                                                                       \r"
     ]
    },
    {
     "name": "stdout",
     "output_type": "stream",
     "text": [
      "Moviepy - Done !\n",
      "Moviepy - video ready ./material_everypart/矮脚罗伞/4th.mp4\n"
     ]
    },
    {
     "data": {
      "text/plain": [
       "0"
      ]
     },
     "execution_count": 24,
     "metadata": {},
     "output_type": "execute_result"
    }
   ],
   "source": [
    "# 选取第四部分的字段\n",
    "word_list = [\"QYFB\",\"SS\"]\n",
    "data_list = [] # 选择有用的数据进行处理\n",
    "f_write = open('material_mp3/' + pic_name + \"/\"  + '4th.mp3' , 'wb') # 处理有用数据的MP3\n",
    "\n",
    "for col in [df[word_list].columns[0]]:\n",
    "    if df[col][0] != \"暂无数据\":\n",
    "        # 文本数据部分\n",
    "        col_text = df[col]\n",
    "        data_text = df[col][0]\n",
    "        col_duration_time = time_name_dict[ col + \".mp3\" ]\n",
    "        one_dict = { col : { \"text\" : data_text , \"time\" : col_duration_time,\"area\":df[\"SS\"][0]}}\n",
    "        data_list.append(one_dict)\n",
    "        \n",
    "        # 语音数据部分\n",
    "        f_read = open('material_mp3/' + pic_name + \"/\"  + col + '.mp3' , 'rb')\n",
    "        f_write.write(f_read.read())\n",
    "        f_read.close()\n",
    "f_write.flush()\n",
    "f_write.close()\n",
    "\n",
    "start_time = 0\n",
    "result_list = []\n",
    "all_duration_time = sum([list(data_list[i].values())[0][\"time\"] for i in range(len(data_list))])\n",
    "\n",
    "for i in range(len(data_list)):\n",
    "    title = text_dict[list(data_list[i].keys())[0]]\n",
    "    content = list(data_list[i].values())[0][\"text\"]\n",
    "    duration_time = list(data_list[i].values())[0][\"time\"]\n",
    "    area = list(data_list[i].values())[0][\"area\"]\n",
    "\n",
    "    # 获得文字长度\n",
    "    words_len,words_result = clean_word(content) \n",
    "    # 构建切换的字幕方法\n",
    "    str_list = words_result.split(\"\\n\")[:-1]\n",
    "    allstrs = []  # 分组切分后的汉字放在这里\n",
    "    every_list = []\n",
    "    for i in range(len(str_list)):\n",
    "        every_list.append((str_list[i]+\"\\n\"))\n",
    "        if i == 0:\n",
    "            allstrs.append(every_list)\n",
    "        if i%2 == 0 and i !=0:\n",
    "            every_list = []\n",
    "            allstrs.append(every_list)\n",
    "        # 分多少页、和时长，由于切分音频是要 1|1|1|1 这么切分\n",
    "    allstrs = [i for i in allstrs if i != [] ]  # 去除无用的空list避免报错\n",
    "    allstrs = [i for i in allstrs if i != ['\\n'] ]  # 去除无用的空list避免报错\n",
    "    page_num , every_page_time = len(allstrs),  duration_time/len(allstrs)\n",
    "#     print(len(allstrs),page_num , every_page_time)\n",
    "#     print(\"起始时间：{}\".format(start_time),\"持续时间：{}\".format(duration_time),\"下段开始时间：{}\".format(start_time + duration_time))\n",
    "#     print(\"字段内容段落数：{}\".format(page_num),\"每段持续时间：{}\".format(every_page_time))\n",
    "\n",
    "    # 标题位置\n",
    "    txt_title = (\n",
    "        TextClip(title,font=font_path, fontsize=50, color='black', method='label',align = 'West')\n",
    "            .set_position((210,320))\n",
    "            .set_duration(duration_time)\n",
    "            .set_start(start_time)\n",
    "    )\n",
    "    logo = (\n",
    "        ImageClip(\"./material_jpg/base/logo.png\")\n",
    "            .set_duration(duration_time) # 水印持续时间\n",
    "            .resize(height=50) # 水印的高度，会等比缩放\n",
    "            .set_pos((\"right\",\"top\")) # 水印的位置\n",
    "    )\n",
    "    # 根据地域信息生成png图\n",
    "    # 制作省市显示图标数据bar\n",
    "    n = 1\n",
    "    list_data = []\n",
    "    while n <= len(df[\"SS\"][0]):\n",
    "        list_data.append(1)\n",
    "        n = n +1 \n",
    "    name = pic_name + \"的生长区域分布\"\n",
    "    # 制作背景图fuction    \n",
    "    def every_map():\n",
    "        c = (\n",
    "        Map()\n",
    "        .add(name, [list(z) for z in zip(area, list_data)], \"china\")\n",
    "        .set_global_opts(\n",
    "            visualmap_opts=opts.VisualMapOpts(max_=1),\n",
    "            )\n",
    "        )\n",
    "        return c\n",
    "    make_snapshot(snapshot, every_map().render(), \"./material_jpg/\" + pic_name + \"/area.png\")\n",
    "    \n",
    "    # 将图片进行裁剪\n",
    "    from PIL import Image\n",
    "    img = Image.open(\"./material_jpg/\" + pic_name + \"/area.png\")\n",
    "    img_size = img.size\n",
    "    h = img_size[1]  # 图片高度\n",
    "    w = img_size[0]  # 图片宽度\n",
    "    x = 0.2 * w\n",
    "    y = 0\n",
    "    w = 0.8 * w\n",
    "    h = h\n",
    "    # 开始截取\n",
    "    region = img.crop((x, y, x + w, y + h))\n",
    "    region.save(\"./material_jpg/\" + pic_name + \"/area_cut.png\")\n",
    "    \n",
    "    Image = (\n",
    "        ImageClip(\"./material_jpg/\" + pic_name + \"/area_cut.png\")\n",
    "            .set_duration(all_duration_time) # 水印持续时间\n",
    "            .resize(height=500) # 水印的高度，会等比缩放\n",
    "            .set_pos((600,90)) # 水印的位置\n",
    "    )\n",
    "\n",
    "    # 每个部分\n",
    "    txt_list = []\n",
    "    start_every = start_time\n",
    "\n",
    "    for i in range(len(allstrs)):\n",
    "        txt_every = (\n",
    "            TextClip(\"\".join(allstrs[i]), font=font_path, fontsize=40, color='black', method='label',align = 'West')\n",
    "                .set_position((230,390))\n",
    "                .set_duration(every_page_time)\n",
    "                .set_start(start_every + every_page_time * i)\n",
    "        )\n",
    "    #         print(start_every + every_page_time * i)\n",
    "        txt_list.append(txt_every)\n",
    "    #         print(\"\".join(allstrs[i]),start_time + every_page_time)\n",
    "    start_time = start_time + duration_time\n",
    "\n",
    "    result_list.append(txt_title)\n",
    "    result_list = result_list + txt_list\n",
    "    \n",
    "L = []\n",
    "path = \"material_base/1s.mp4\"\n",
    "video = VideoFileClip(path)\n",
    "for i in range(int(start_time)+1):\n",
    "    L.append(video)\n",
    "final_clip = concatenate_videoclips(L).set_duration(start_time).resize((1280,720))\n",
    "cvc = CompositeVideoClip([final_clip,Image,logo] + result_list, size=(1280,720))\n",
    "cvc.write_videofile(\"./material_everypart/\" + pic_name + \"/\" + \"4th.mp4\", fps=60, remove_temp=False,verbose=True)\n",
    "\n",
    "# 将对应的音频和视频进行合成\n",
    "outfile_name = 'material_video/' + pic_name + '/' + '4th.mp4'\n",
    "subprocess.call('ffmpeg -i ' + 'material_everypart/' + pic_name + '/' +'4th.mp4'\n",
    "                + ' -i ' + 'material_mp3/' + pic_name + '/' + '4th.mp3' + ' -strict -2 -f mp4 '\n",
    "                + outfile_name, shell=True)"
   ]
  },
  {
   "cell_type": "markdown",
   "metadata": {},
   "source": [
    "## 第五部分"
   ]
  },
  {
   "cell_type": "code",
   "execution_count": 78,
   "metadata": {},
   "outputs": [
    {
     "name": "stdout",
     "output_type": "stream",
     "text": [
      "《植物名实图考》：治除打损伤，风痛。《陆\n",
      "川本草》：根：接骨，活血，止痛、消肿。治\n",
      "损伤肿痛。《四川中药志》：全草：治咳嗽吐\n",
      " 10.55\n",
      "血，气痛及寒湿腰痛。根：治冷气腹痛。《福\n",
      "建中草药》：祛风除湿，通经活络。\n",
      " 10.55\n",
      "Moviepy - Building video ./material_everypart/矮脚罗伞/5th.mp4.\n",
      "Moviepy - Writing video ./material_everypart/矮脚罗伞/5th.mp4\n",
      "\n"
     ]
    },
    {
     "name": "stderr",
     "output_type": "stream",
     "text": [
      "                                                                                                                       \r"
     ]
    },
    {
     "name": "stdout",
     "output_type": "stream",
     "text": [
      "Moviepy - Done !\n",
      "Moviepy - video ready ./material_everypart/矮脚罗伞/5th.mp4\n"
     ]
    },
    {
     "data": {
      "text/plain": [
       "0"
      ]
     },
     "execution_count": 78,
     "metadata": {},
     "output_type": "execute_result"
    }
   ],
   "source": [
    "# 选取第五部分的字段\n",
    "word_list = [\"MJLS\",\"HXCF\",\"XDLCYJ\",\"XDHYJ\"]\n",
    "data_list = [] # 选择有用的数据进行处理\n",
    "f_write = open('material_mp3/' + pic_name + \"/\"  + '5th.mp3' , 'wb') # 处理有用数据的MP3\n",
    "\n",
    "for col in df[word_list].columns:\n",
    "    if df[col][0] != \"暂无数据\":\n",
    "        # 文本数据部分\n",
    "        col_text = df[col]\n",
    "        data_text = df[col][0]\n",
    "        col_duration_time = time_name_dict[ col + \".mp3\" ]\n",
    "        one_dict = { col : { \"text\" : data_text , \"time\" : col_duration_time}}\n",
    "        data_list.append(one_dict)\n",
    "        \n",
    "        # 语音数据部分\n",
    "        f_read = open('material_mp3/' + pic_name + \"/\"  + col + '.mp3' , 'rb')\n",
    "        f_write.write(f_read.read())\n",
    "        f_read.close()\n",
    "f_write.flush()\n",
    "f_write.close()\n",
    "\n",
    "start_time = 0\n",
    "result_list = []\n",
    "all_duration_time = sum([list(data_list[i].values())[0][\"time\"] for i in range(len(data_list))])\n",
    "\n",
    "for i in range(len(data_list)):\n",
    "    title = text_dict[list(data_list[i].keys())[0]]\n",
    "    content = list(data_list[i].values())[0][\"text\"]\n",
    "    duration_time = list(data_list[i].values())[0][\"time\"]\n",
    "\n",
    "\n",
    "    # 获得文字长度\n",
    "    words_len,words_result = clean_word(content) \n",
    "    # 构建切换的字幕方法\n",
    "    str_list = words_result.split(\"\\n\")[:-1]\n",
    "    allstrs = []  # 分组切分后的汉字放在这里\n",
    "    every_list = []\n",
    "    for i in range(len(str_list)):\n",
    "        every_list.append((str_list[i]+\"\\n\"))\n",
    "        if i == 0:\n",
    "            allstrs.append(every_list)\n",
    "        if i%2 == 0 and i !=0:\n",
    "            every_list = []\n",
    "            allstrs.append(every_list)\n",
    "        # 分多少页、和时长，由于切分音频是要 1|1|1|1 这么切分\n",
    "    allstrs = [i for i in allstrs if i != [] ]  # 去除无用的空list避免报错\n",
    "    allstrs = [i for i in allstrs if i != ['\\n'] ]  # 去除无用的空list避免报错\n",
    "    page_num , every_page_time = len(allstrs),  duration_time/len(allstrs)\n",
    "#     print(len(allstrs),page_num , every_page_time)\n",
    "#     print(\"起始时间：{}\".format(start_time),\"持续时间：{}\".format(duration_time),\"下段开始时间：{}\".format(start_time + duration_time))\n",
    "#     print(\"字段内容段落数：{}\".format(page_num),\"每段持续时间：{}\".format(every_page_time))\n",
    "    \n",
    "        # 标题位置\n",
    "    txt_title = (\n",
    "        TextClip(title,font=font_path, fontsize=50, color='black', method='label',align = 'West')\n",
    "            .set_position((210,320))\n",
    "            .set_duration(duration_time)\n",
    "            .set_start(start_time)\n",
    "    )\n",
    "    logo = (\n",
    "        ImageClip(\"./material_jpg/base/logo.png\")\n",
    "            .set_duration(duration_time) # 水印持续时间\n",
    "            .resize(height=50) # 水印的高度，会等比缩放\n",
    "            .set_pos((\"right\",\"top\")) # 水印的位置\n",
    "    )\n",
    "    Image = (\n",
    "        ImageClip(\"./material_jpg/base/yanjiu.jpg\")\n",
    "            .set_duration(all_duration_time) # 水印持续时间\n",
    "            .resize(height=250) # 水印的高度，会等比缩放\n",
    "            .set_pos((\"center\",90)) # 水印的位置\n",
    "    )\n",
    "\n",
    "    # 每个部分\n",
    "    txt_list = []\n",
    "    start_every = start_time\n",
    "\n",
    "    for i in range(len(allstrs)):\n",
    "        txt_every = (\n",
    "            TextClip(\"\".join(allstrs[i]), font=font_path, fontsize=40, color='black', method='label',align = 'West')\n",
    "                .set_position((230,390))\n",
    "                .set_duration(every_page_time)\n",
    "                .set_start(start_every + every_page_time * i)\n",
    "        )\n",
    "    #         print(start_every + every_page_time * i)\n",
    "        txt_list.append(txt_every)\n",
    "        print(\"\".join(allstrs[i]),start_time + every_page_time)\n",
    "    start_time = start_time + duration_time\n",
    "\n",
    "    result_list.append(txt_title)\n",
    "    result_list = result_list + txt_list\n",
    "    \n",
    "L = []\n",
    "path = \"material_base/1s.mp4\"\n",
    "video = VideoFileClip(path)\n",
    "for i in range(int(start_time)+1):\n",
    "    L.append(video)\n",
    "final_clip = concatenate_videoclips(L).set_duration(start_time).resize((1280,720))\n",
    "cvc = CompositeVideoClip([final_clip,Image,logo] + result_list, size=(1280,720))\n",
    "cvc.write_videofile(\"./material_everypart/\" + pic_name + \"/\" + \"5th.mp4\", fps=60, remove_temp=False,verbose=True)\n",
    "\n",
    "# 将对应的音频和视频进行合成\n",
    "outfile_name = 'material_video/' + pic_name + '/' + '5th.mp4'\n",
    "subprocess.call('ffmpeg -i ' + 'material_everypart/' + pic_name + '/' +'5th.mp4'\n",
    "                + ' -i ' + 'material_mp3/' + pic_name + '/' + '5th.mp3' + ' -strict -2 -f mp4 '\n",
    "                + outfile_name, shell=True)"
   ]
  },
  {
   "cell_type": "markdown",
   "metadata": {},
   "source": [
    "## 第六部分"
   ]
  },
  {
   "cell_type": "code",
   "execution_count": 19,
   "metadata": {},
   "outputs": [
    {
     "name": "stdout",
     "output_type": "stream",
     "text": [
      "Moviepy - Building video ./material_everypart/阿尔泰扭藿香/6th.mp4.\n",
      "Moviepy - Writing video ./material_everypart/阿尔泰扭藿香/6th.mp4\n",
      "\n"
     ]
    },
    {
     "name": "stderr",
     "output_type": "stream",
     "text": [
      "                                                                                                                       \r"
     ]
    },
    {
     "name": "stdout",
     "output_type": "stream",
     "text": [
      "Moviepy - Done !\n",
      "Moviepy - video ready ./material_everypart/阿尔泰扭藿香/6th.mp4\n"
     ]
    },
    {
     "data": {
      "text/plain": [
       "1"
      ]
     },
     "execution_count": 19,
     "metadata": {},
     "output_type": "execute_result"
    }
   ],
   "source": [
    "# 选取第五部分的字段\n",
    "word_list = [\"FF\"]\n",
    "data_list = [] # 选择有用的数据进行处理\n",
    "f_write = open('material_mp3/' + pic_name + \"/\"  + '6th.mp3' , 'wb') # 处理有用数据的MP3\n",
    "\n",
    "for col in df[word_list].columns:\n",
    "    if df[col][0] != \"暂无数据\":\n",
    "        # 文本数据部分\n",
    "        col_text = df[col]\n",
    "        data_text = df[col][0]\n",
    "        col_duration_time = time_name_dict[ col + \".mp3\" ]\n",
    "        one_dict = { col : { \"text\" : data_text , \"time\" : col_duration_time}}\n",
    "        data_list.append(one_dict)\n",
    "        \n",
    "        # 语音数据部分\n",
    "        f_read = open('material_mp3/' + pic_name + \"/\"  + col + '.mp3' , 'rb')\n",
    "        f_write.write(f_read.read())\n",
    "        f_read.close()\n",
    "f_write.flush()\n",
    "f_write.close()\n",
    "\n",
    "start_time = 0\n",
    "result_list = []\n",
    "all_duration_time = sum([list(data_list[i].values())[0][\"time\"] for i in range(len(data_list))])\n",
    "\n",
    "for i in range(len(data_list)):\n",
    "    title = text_dict[list(data_list[i].keys())[0]]\n",
    "    content = list(data_list[i].values())[0][\"text\"]\n",
    "    duration_time = list(data_list[i].values())[0][\"time\"]\n",
    "\n",
    "\n",
    "    # 获得文字长度\n",
    "    words_len,words_result = clean_word(content) \n",
    "    # 构建切换的字幕方法\n",
    "    str_list = words_result.split(\"\\n\")[:-1]\n",
    "    allstrs = []  # 分组切分后的汉字放在这里\n",
    "    every_list = []\n",
    "    for i in range(len(str_list)):\n",
    "        every_list.append((str_list[i]+\"\\n\"))\n",
    "        if i == 0:\n",
    "            allstrs.append(every_list)\n",
    "        if i%2 == 0 and i !=0:\n",
    "            every_list = []\n",
    "            allstrs.append(every_list)\n",
    "        # 分多少页、和时长，由于切分音频是要 1|1|1|1 这么切分\n",
    "    allstrs = [i for i in allstrs if i != [] ]  # 去除无用的空list避免报错\n",
    "    allstrs = [i for i in allstrs if i != ['\\n'] ]  # 去除无用的空list避免报错\n",
    "    page_num , every_page_time = len(allstrs),  duration_time/len(allstrs)\n",
    "#     print(len(allstrs),page_num , every_page_time)\n",
    "#     print(\"起始时间：{}\".format(start_time),\"持续时间：{}\".format(duration_time),\"下段开始时间：{}\".format(start_time + duration_time))\n",
    "#     print(\"字段内容段落数：{}\".format(page_num),\"每段持续时间：{}\".format(every_page_time))\n",
    "\n",
    "    # 标题位置\n",
    "    txt_title = (\n",
    "        TextClip(title,font=font_path, fontsize=50, color='black', method='label',align = 'West')\n",
    "            .set_position((210,320))\n",
    "            .set_duration(duration_time)\n",
    "            .set_start(start_time)\n",
    "    )\n",
    "    logo = (\n",
    "        ImageClip(\"./material_jpg/base/logo.png\")\n",
    "            .set_duration(duration_time) # 水印持续时间\n",
    "            .resize(height=50) # 水印的高度，会等比缩放\n",
    "            .set_pos((\"right\",\"top\")) # 水印的位置\n",
    "    )\n",
    "    Image = (\n",
    "        ImageClip(\"./material_jpg/base/fufang.jpg\")\n",
    "            .set_duration(all_duration_time) # 水印持续时间\n",
    "            .resize(height=250) # 水印的高度，会等比缩放\n",
    "            .set_pos((\"center\",90)) # 水印的位置\n",
    "    )\n",
    "\n",
    "    # 每个部分\n",
    "    txt_list = []\n",
    "    start_every = start_time\n",
    "\n",
    "    for i in range(len(allstrs)):\n",
    "        txt_every = (\n",
    "            TextClip(\"\".join(allstrs[i]), font=font_path, fontsize=40, color='black', method='label',align = 'West')\n",
    "                .set_position((230,390))\n",
    "                .set_duration(every_page_time)\n",
    "                .set_start(start_every + every_page_time * i)\n",
    "        )\n",
    "    #         print(start_every + every_page_time * i)\n",
    "        txt_list.append(txt_every)\n",
    "    #         print(\"\".join(allstrs[i]),start_time + every_page_time)\n",
    "    start_time = start_time + duration_time\n",
    "\n",
    "    result_list.append(txt_title)\n",
    "    result_list = result_list + txt_list\n",
    "\n",
    "\n",
    "\n",
    "L = []\n",
    "path = \"material_base/1s.mp4\"\n",
    "video = VideoFileClip(path)\n",
    "for i in range(int(start_time)+1):\n",
    "    L.append(video)\n",
    "final_clip = concatenate_videoclips(L).set_duration(start_time).resize((1280,720))\n",
    "cvc = CompositeVideoClip([final_clip,Image,logo] + result_list, size=(1280,720))\n",
    "cvc.write_videofile(\"./material_everypart/\" + pic_name + \"/\" + \"6th.mp4\", fps=60, remove_temp=False,verbose=True)\n",
    "\n",
    "# 将对应的音频和视频进行合成\n",
    "outfile_name = 'material_video/' + pic_name + '/' + '6th.mp4'\n",
    "subprocess.call('ffmpeg -i ' + 'material_everypart/' + pic_name + '/' +'6th.mp4'\n",
    "                + ' -i ' + 'material_mp3/' + pic_name + '/' + '6th.mp3' + ' -strict -2 -f mp4 '\n",
    "                + outfile_name, shell=True)"
   ]
  },
  {
   "cell_type": "markdown",
   "metadata": {},
   "source": [
    "# 制作封面"
   ]
  },
  {
   "cell_type": "code",
   "execution_count": 20,
   "metadata": {},
   "outputs": [
    {
     "name": "stdout",
     "output_type": "stream",
     "text": [
      "Moviepy - Building video ./material_video/阿尔泰扭藿香/cover.mp4.\n",
      "Moviepy - Writing video ./material_video/阿尔泰扭藿香/cover.mp4\n",
      "\n"
     ]
    },
    {
     "name": "stderr",
     "output_type": "stream",
     "text": [
      "                                                                                                                       \r"
     ]
    },
    {
     "name": "stdout",
     "output_type": "stream",
     "text": [
      "Moviepy - Done !\n",
      "Moviepy - video ready ./material_video/阿尔泰扭藿香/cover.mp4\n"
     ]
    }
   ],
   "source": [
    "# 将封面生成1秒的视频\n",
    "from PIL import Image\n",
    "\n",
    "fourcc = cv2.VideoWriter_fourcc('M', 'J', 'P', 'G')\n",
    "size = (1280, 720)\n",
    "vw = cv2.VideoWriter(\"./material_everypart/\" + pic_name + \"/\" + \"cover.mp4\", fourcc=fourcc, fps=10, frameSize=size)\n",
    "f_read = cv2.imdecode(np.fromfile(\"./material_jpg/\"+ pic_name + \"/result.jpg\",dtype=np.uint8),cv2.IMREAD_COLOR)\n",
    "f_img = Image.fromarray(f_read)\n",
    "f_rs = f_img.resize([1280, 720], resample=Image.NONE)\n",
    "f_out = np.array(f_rs)\n",
    "for i in range(10):\n",
    "    vw.write(f_out)\n",
    "vw.release()\n",
    "\n",
    "name = pic_name\n",
    "\n",
    "Txt = (\n",
    "    TextClip(name, font='./font/kaiti.ttf', fontsize=80, color='black', method='label')\n",
    "        .set_position((\"center\",420))\n",
    "        .set_duration(1) # 水印持续时间\n",
    ")\n",
    "\n",
    "path = \"material_everypart/\" + pic_name + \"/\" + \"cover.mp4\"\n",
    "video = VideoFileClip(path).resize((1280, 720))\n",
    "\n",
    "cvc = CompositeVideoClip([video,Txt], size=(1280, 720))\n",
    "cvc.write_videofile(\"./material_video/\" + pic_name + \"/\" + \"cover.mp4\", fps=60, remove_temp=False,verbose=False)"
   ]
  },
  {
   "cell_type": "markdown",
   "metadata": {},
   "source": [
    "# 按照顺序将视频进行拼接"
   ]
  },
  {
   "cell_type": "code",
   "execution_count": 22,
   "metadata": {},
   "outputs": [
    {
     "name": "stdout",
     "output_type": "stream",
     "text": [
      "Moviepy - Building video material_video/阿尔泰扭藿香/result.mp4.\n",
      "MoviePy - Writing audio in resultTEMP_MPY_wvf_snd.mp3\n"
     ]
    },
    {
     "name": "stderr",
     "output_type": "stream",
     "text": [
      "                                                                                                                       \r"
     ]
    },
    {
     "name": "stdout",
     "output_type": "stream",
     "text": [
      "MoviePy - Done.\n",
      "Moviepy - Writing video material_video/阿尔泰扭藿香/result.mp4\n",
      "\n"
     ]
    },
    {
     "name": "stderr",
     "output_type": "stream",
     "text": [
      "                                                                                                                       \r"
     ]
    },
    {
     "name": "stdout",
     "output_type": "stream",
     "text": [
      "Moviepy - Done !\n",
      "Moviepy - video ready material_video/阿尔泰扭藿香/result.mp4\n"
     ]
    }
   ],
   "source": [
    "file_dir = \"material_video/\" + pic_name +\"/\"\n",
    "video_list = [files for files in os.walk(file_dir)][0][2]\n",
    "\n",
    "# 素材路径\n",
    "path_material = \"material_video/\" + pic_name + \"/\"\n",
    "# 切换过场路径\n",
    "path_chanege = \"material_base/change.mp4\"\n",
    "# 封面文件路径\n",
    "path_cover = \"./material_video/\" + pic_name + \"/\" + \"cover.mp4\"\n",
    "# 结尾文件路径\n",
    "path_end = \"material_base/end.mp4\"\n",
    "\n",
    "L = []\n",
    "video = VideoFileClip(path_cover).resize((1280,720))\n",
    "L.append(video)\n",
    "if \"1st.mp4\" in video_list:\n",
    "    video = VideoFileClip(path_material + \"1st.mp4\").resize((1280,720)).fadein(2,(1,1,1))\n",
    "    L.append(video)\n",
    "if \"2nd.mp4\" in video_list:\n",
    "    video = VideoFileClip(path_chanege).resize((1280,720))\n",
    "    L.append(video)\n",
    "    video = VideoFileClip(path_material + \"2nd.mp4\").resize((1280,720))\n",
    "    video = video.set_duration(video.duration-0.5)\n",
    "    L.append(video)\n",
    "if \"3rd.mp4\" in video_list:\n",
    "    video = VideoFileClip(path_chanege).resize((1280,720))\n",
    "    L.append(video)\n",
    "    video = VideoFileClip(path_material + \"3rd.mp4\").resize((1280,720))\n",
    "    video = video.set_duration(video.duration-0.5)\n",
    "    L.append(video)\n",
    "if \"4th.mp4\" in video_list:\n",
    "    video = VideoFileClip(path_chanege).resize((1280,720))\n",
    "    L.append(video)\n",
    "    video = VideoFileClip(path_material + \"4th.mp4\").resize((1280,720))\n",
    "    video = video.set_duration(video.duration-0.5)\n",
    "    L.append(video)   \n",
    "if \"5th.mp4\" in video_list:\n",
    "    video = VideoFileClip(path_chanege).resize((1280,720))\n",
    "    L.append(video)\n",
    "    video = VideoFileClip(path_material + \"5th.mp4\").resize((1280,720))\n",
    "    video = video.set_duration(video.duration-0.5)\n",
    "    L.append(video) \n",
    "if \"6th.mp4\" in video_list:\n",
    "    video = VideoFileClip(path_chanege).resize((1280,720))\n",
    "    L.append(video)\n",
    "    video = VideoFileClip(path_material + \"6th.mp4\").resize((1280,720))\n",
    "    video = video.set_duration(video.duration-0.5)\n",
    "    L.append(video)  \n",
    "    \n",
    "video = VideoFileClip(path_end).resize((1280,720)).fadein(2,(1,1,1))\n",
    "L.append(video)\n",
    "\n",
    "final_clip = concatenate_videoclips(L)\n",
    "\n",
    "# 生成目标视频文件\n",
    "final_clip.to_videofile(path_material + \"result.mp4\", fps=60, remove_temp=False)"
   ]
  },
  {
   "cell_type": "markdown",
   "metadata": {},
   "source": [
    "# 将配乐和视频进行合成"
   ]
  },
  {
   "cell_type": "code",
   "execution_count": 23,
   "metadata": {},
   "outputs": [],
   "source": [
    "inmp4 = 'material_video/' + pic_name + '/'+ 'result.mp4'\n",
    "inmp3 = 'material_mp3/music.mp3'\n",
    "outmp4 = 'material_result/' + pic_name + '.mp4'\n",
    "\n",
    "cmd='ffmpeg -y -i '+ inmp4 +' -i '+ inmp3 +' -filter_complex \\\n",
    "\"[0:a]volume=10dB[a0]; \\\n",
    "[1:a]volume=-10dB[a1]; \\\n",
    "[a0][a1]amix=inputs=2[a]\" \\\n",
    "-map 0:v -map \"[a]\" -c:v copy -c:a aac -shortest '+ outmp4\n",
    "\n",
    "p = subprocess.call(cmd, shell=True, stdout=subprocess.PIPE, stderr=subprocess.PIPE)"
   ]
  },
  {
   "cell_type": "code",
   "execution_count": 24,
   "metadata": {},
   "outputs": [],
   "source": [
    "# 删除目录下生成的MP3文件\n",
    "path = \"./\"\n",
    "for infile in glob.glob(os.path.join(path, '*.mp3')):\n",
    "    os.remove(infile)\n",
    "for infile in glob.glob(os.path.join(path, '*.html')):\n",
    "    os.remove(infile)"
   ]
  },
  {
   "cell_type": "code",
   "execution_count": null,
   "metadata": {},
   "outputs": [],
   "source": []
  }
 ],
 "metadata": {
  "hide_input": false,
  "kernelspec": {
   "display_name": "Python 3",
   "language": "python",
   "name": "python3"
  },
  "language_info": {
   "codemirror_mode": {
    "name": "ipython",
    "version": 3
   },
   "file_extension": ".py",
   "mimetype": "text/x-python",
   "name": "python",
   "nbconvert_exporter": "python",
   "pygments_lexer": "ipython3",
   "version": "3.6.5"
  },
  "toc": {
   "base_numbering": 1,
   "nav_menu": {},
   "number_sections": true,
   "sideBar": true,
   "skip_h1_title": false,
   "title_cell": "Table of Contents",
   "title_sidebar": "Contents",
   "toc_cell": false,
   "toc_position": {
    "height": "calc(100% - 180px)",
    "left": "10px",
    "top": "150px",
    "width": "299px"
   },
   "toc_section_display": true,
   "toc_window_display": true
  }
 },
 "nbformat": 4,
 "nbformat_minor": 2
}
