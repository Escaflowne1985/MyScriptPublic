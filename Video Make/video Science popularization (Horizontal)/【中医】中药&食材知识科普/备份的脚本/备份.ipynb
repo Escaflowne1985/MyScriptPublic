{
 "cells": [
  {
   "cell_type": "code",
   "execution_count": 2,
   "metadata": {},
   "outputs": [],
   "source": [
    "import pandas as pd\n",
    "import numpy as np \n",
    "import os\n",
    "import librosa\n",
    "import time\n",
    "import cv2\n",
    "import numpy as np\n",
    "from PIL import Image\n",
    "import os\n",
    "from moviepy.editor import *\n",
    "import subprocess\n",
    "from pydub import AudioSegment\n",
    "import os, re\n",
    "import glob"
   ]
  },
  {
   "cell_type": "code",
   "execution_count": 3,
   "metadata": {},
   "outputs": [
    {
     "data": {
      "text/plain": [
       "'党参'"
      ]
     },
     "execution_count": 3,
     "metadata": {},
     "output_type": "execute_result"
    }
   ],
   "source": [
    "df = pd.read_csv(\"data/中药材收录.csv\")\n",
    "row = 1\n",
    "df = df.loc[row:row,:]\n",
    "df.reset_index(drop =True,inplace=True)\n",
    "pic_name = df[\"name\"][0]\n",
    "pic_name"
   ]
  },
  {
   "cell_type": "markdown",
   "metadata": {},
   "source": [
    "# 制作前删除合成语音的文件，否则无法继续"
   ]
  },
  {
   "cell_type": "code",
   "execution_count": 4,
   "metadata": {},
   "outputs": [],
   "source": [
    "# 删除无用的文件\n",
    "path = \"./material_video/\" + pic_name\n",
    "for infile in glob.glob(os.path.join(path, '*.mp4')):\n",
    "    os.remove(infile)"
   ]
  },
  {
   "cell_type": "markdown",
   "metadata": {},
   "source": [
    "# 正文内容图片处理"
   ]
  },
  {
   "cell_type": "markdown",
   "metadata": {},
   "source": [
    "## 对选择的图片进行抠图处理"
   ]
  },
  {
   "cell_type": "code",
   "execution_count": 6,
   "metadata": {},
   "outputs": [],
   "source": [
    "# 图片抠图处理\n",
    "from removebg import RemoveBg\n",
    "rmbg = RemoveBg(\"ypWN2SE5p57qKMk6jtaaSXRq\", \"error.log\")  # 把你的`API Key`填进去\n",
    "# 判断如果没有该数据的文件夹就创建\n",
    "dirs = 'material_jpg/'+ pic_name\n",
    "if not os.path.exists(dirs):\n",
    "    os.makedirs(dirs)"
   ]
  },
  {
   "cell_type": "code",
   "execution_count": 7,
   "metadata": {},
   "outputs": [],
   "source": [
    "# 判断视频图片是否存在，若存在则跳过\n",
    "png_name = \"./material_jpg/\" + pic_name + \"/\" + pic_name + \".jpg_no_bg.png\""
   ]
  },
  {
   "cell_type": "code",
   "execution_count": 9,
   "metadata": {},
   "outputs": [
    {
     "name": "stdout",
     "output_type": "stream",
     "text": [
      "该图片的内容抠图已经存在\n"
     ]
    }
   ],
   "source": [
    "if not os.path.exists(png_name):\n",
    "    rmbg.remove_background_from_img_file(\"./material_jpg/\" + pic_name + \"/\" + pic_name + \".jpg\")\n",
    "else:\n",
    "    print(\"该图片的内容抠图已经存在\")"
   ]
  },
  {
   "cell_type": "markdown",
   "metadata": {},
   "source": [
    "## 合成封面图片"
   ]
  },
  {
   "cell_type": "code",
   "execution_count": 10,
   "metadata": {},
   "outputs": [],
   "source": [
    "# 加载背景图片\n",
    "base_img = Image.open('material_jpg/base.jpg')\n",
    "# 转换图片色到分别表示RGBA的值\n",
    "target = Image.new('RGBA', base_img.size, (0, 0, 0, 0))\n",
    "# 选择png图片显示的区域\n",
    "box = (200, 190, 500, 500)  \n",
    "# 加载PNG图片\n",
    "region = Image.open('material_jpg/' + pic_name + '/' + pic_name + '.jpg_no_bg.png')\n",
    "# 确保图片是RGBA格式，大小和box区域一样\n",
    "region = region.convert(\"RGBA\")\n",
    "region = region.resize((box[2] - box[0], box[3] - box[1]))\n",
    "# 将素材图片合成道底板图上\n",
    "target.paste(region,box)\n",
    "# 将背景图上假如生成号的素材地板透明背景图\n",
    "base_img.paste(target,(0,0),target) #第一个参数表示需要粘贴的图像，中间的是坐标，最后是一个是mask图片，用于指定透明区域，将底图显示出来。\n",
    "# base_img.show()\n",
    "base_img.save('material_jpg/' + pic_name + '/result.jpg')  # 保存图片"
   ]
  },
  {
   "cell_type": "markdown",
   "metadata": {},
   "source": [
    "# 读取文字转语音"
   ]
  },
  {
   "cell_type": "markdown",
   "metadata": {},
   "source": [
    "## 读取百度AI的AIP接口"
   ]
  },
  {
   "cell_type": "code",
   "execution_count": 11,
   "metadata": {},
   "outputs": [],
   "source": [
    "from aip import AipSpeech\n",
    "APP_ID = '22577460'\n",
    "API_KEY = 'Q7aI5ALdYHbHzDGestq4trF8'\n",
    "SECRET_KEY = 'h850Sj1g3eoLKDEwNAj6yVNyGx5GbXht'\n",
    "client = AipSpeech(APP_ID, API_KEY, SECRET_KEY)"
   ]
  },
  {
   "cell_type": "markdown",
   "metadata": {},
   "source": [
    "## 把文字转换成语音 将生成的音频文件保存到material_mp3下"
   ]
  },
  {
   "cell_type": "code",
   "execution_count": 6,
   "metadata": {
    "code_folding": [
     0
    ]
   },
   "outputs": [],
   "source": [
    "text_dict = {\n",
    "    \"ddyg\": \"药品来源\",\n",
    "    \"dosage_and_administration\": \"服用方法\",\n",
    "    \"drug_properties\": \"草本性状\",\n",
    "    \"flavor_and_meridian_tropism\": \"性味归经\",\n",
    "    \"functions_of_curing\": \"用途功效\",\n",
    "    \"latin\": \"拉丁文\",\n",
    "    \"medicinal_parts\": \"药用部分\",\n",
    "    \"name\": \"名称\",\n",
    "    \"nmedicinal_partsame\": \"医用部分\",\n",
    "    \"other_name\": \"别名\",\n",
    "    \"pinyin\": \"拼音\",\n",
    "    \"plant\": \"种植方法\",\n",
    "    \"process\": \"处理方法\",\n",
    "    \"production_place\": \"生长环境\",\n",
    "    \"taboos\": \"使用禁忌\",\n",
    "    \"type_\": \"药品类型\",\n",
    "}"
   ]
  },
  {
   "cell_type": "code",
   "execution_count": 7,
   "metadata": {},
   "outputs": [],
   "source": [
    "def str_to_mp3(dataframe):\n",
    "    # 判断如果没有该数据的文件夹就创建\n",
    "    dirs = 'material_mp3/'+ dataframe[\"name\"][0]\n",
    "    if not os.path.exists(dirs):\n",
    "        os.makedirs(dirs)\n",
    "    # 遍历该条df数据每列文字进行语音MP3转换\n",
    "    for col in dataframe.columns:\n",
    "        result  = client.synthesis(text_dict[col] + dataframe[col][0], 'zh', 1, {'vol': 12,'spd':6,'per':0})\n",
    "        if not isinstance(result, dict):\n",
    "            with open('material_mp3/' + dataframe[\"name\"][0] + \"/\" + col + '.mp3', 'wb') as f:\n",
    "                f.write(result)\n",
    "str_to_mp3(df)"
   ]
  },
  {
   "cell_type": "markdown",
   "metadata": {},
   "source": [
    "## 读取文字转语音的MP3 并计算时长"
   ]
  },
  {
   "cell_type": "code",
   "execution_count": 12,
   "metadata": {},
   "outputs": [],
   "source": [
    "# 获取MP3的文件列表\n",
    "def file_name(file_dir):\n",
    "    list_ = [files for files in os.walk(file_dir)][0][2]\n",
    "    filelist = [i for i in list_ if os.path.splitext(i)[1] == '.mp3']\n",
    "    return filelist\n",
    "filelist = file_name(\"./material_mp3/\" + df[\"name\"][0])\n",
    "\n",
    "# 计算MP3的时长\n",
    "def get_mp3_duration(audio_path):\n",
    "    duration = librosa.get_duration(filename=audio_path)\n",
    "    return duration"
   ]
  },
  {
   "cell_type": "code",
   "execution_count": 13,
   "metadata": {},
   "outputs": [],
   "source": [
    "time_name_dict = {}\n",
    "time_num_all = 0  # 总音频的秒数\n",
    "for i in filelist:\n",
    "    time_num = get_mp3_duration(\"material_mp3/\" + df[\"name\"][0] + \"/\" + i)\n",
    "    time_num_all = time_num_all + time_num\n",
    "    time_name_dict[i] = time_num\n",
    "# time_name_dict,time_num_all"
   ]
  },
  {
   "cell_type": "markdown",
   "metadata": {},
   "source": [
    "# 视频合成"
   ]
  },
  {
   "cell_type": "markdown",
   "metadata": {},
   "source": [
    "## 加载合成对应配置文件"
   ]
  },
  {
   "cell_type": "code",
   "execution_count": 14,
   "metadata": {},
   "outputs": [],
   "source": [
    "# 载入字体\n",
    "font_path = './font/kaiti.ttf'\n",
    "# 创建文件夹\n",
    "dirs = 'material_mp4/'+ pic_name\n",
    "if not os.path.exists(dirs):\n",
    "    os.makedirs(dirs)"
   ]
  },
  {
   "cell_type": "code",
   "execution_count": 15,
   "metadata": {
    "code_folding": [
     1
    ]
   },
   "outputs": [],
   "source": [
    "# 用于给文字打的标题\n",
    "text_dict = {\n",
    "    \"ddyg\": \"药品来源\",\n",
    "    \"dosage_and_administration\": \"服用方法\",\n",
    "    \"drug_properties\": \"草本性状\",\n",
    "    \"flavor_and_meridian_tropism\": \"性味归经\",\n",
    "    \"functions_of_curing\": \"用途功效\",\n",
    "    \"latin\": \"拉丁文\",\n",
    "    \"medicinal_parts\": \"药用部分\",\n",
    "    \"name\": \"名称\",\n",
    "    \"nmedicinal_partsame\": \"医用部分\",\n",
    "    \"other_name\": \"别名\",\n",
    "    \"pinyin\": \"拼音\",\n",
    "    \"plant\": \"种植方法\",\n",
    "    \"process\": \"处理方法\",\n",
    "    \"production_place\": \"生长环境\",\n",
    "    \"taboos\": \"使用禁忌\",\n",
    "    \"type_\": \"药品类型\",\n",
    "}\n",
    "\n",
    "# 将文字每15个字进行换行操作\n",
    "def clean_word(word):\n",
    "    word_len = int(len(word) / 12)\n",
    "    word_num = 0\n",
    "    while word_num <= word_len:\n",
    "        if word_num == 0:\n",
    "            strs = word[:(word_num + 1) * 12] + \"\\n\"\n",
    "        else:\n",
    "#             strs = word[:(word_num + 1) * 8] + \"...\"            \n",
    "            strs = strs + word[word_num * 12:(word_num + 1) * 12] + \"\\n\"\n",
    "        word_num = word_num + 1\n",
    "    return word_len,strs"
   ]
  },
  {
   "cell_type": "markdown",
   "metadata": {},
   "source": [
    "## 通过遍历列的方式进行每列数据生成"
   ]
  },
  {
   "cell_type": "markdown",
   "metadata": {},
   "source": [
    "拼接顺序制作\n",
    "- name\t名称（pinyin\t拼音）\n",
    "- type_\t药品类型\n",
    "- other_name\t别名\n",
    "- latin\t拉丁文\n",
    "\n",
    "\n",
    "- ddyg\t药品来源\n",
    "- medicinal_parts\t药用部分\n",
    "- process\t处理方法\n",
    "- flavor_and_meridian_tropism\t性味归经\n",
    "- drug_properties\t草本性状（内容较多暂时丢弃）\n",
    "\n",
    "\n",
    "- production_place\t生长环境\n",
    "- plant\t种植方法\n",
    "\n",
    "\n",
    "- dosage_and_administration\t服用方法\n",
    "- functions_of_curing\t用途功效\n",
    "- taboos\t使用禁忌"
   ]
  },
  {
   "cell_type": "markdown",
   "metadata": {},
   "source": [
    "### 制作第一页（单页面显示4个字段内容数据）"
   ]
  },
  {
   "cell_type": "code",
   "execution_count": 16,
   "metadata": {},
   "outputs": [],
   "source": [
    "\"\"\"第一页的基础数据部分\"\"\"\n",
    "\n",
    "word_list = [\"name\",\"type_\",\"other_name\",\"latin\"]\n",
    "\n",
    "# 该单元格的文字 单元格对应时长\n",
    "name = df['name'][0]\n",
    "name_len,name_result = clean_word(name)\n",
    "name_time = time_name_dict[\"name.mp3\"]\n",
    "\n",
    "type_ = df['type_'][0]\n",
    "type_len,type_result = clean_word(type_)\n",
    "type_time = time_name_dict[\"type_.mp3\"]\n",
    "\n",
    "other_name = df['other_name'][0]\n",
    "other_name_len,other_name_result = clean_word(other_name)\n",
    "other_name_time = time_name_dict[\"other_name.mp3\"]\n",
    "\n",
    "latin = df['latin'][0]\n",
    "latin_len,latin_result = 1,df['latin'][0]\n",
    "latin_time = time_name_dict[\"latin.mp3\"]\n",
    "\n",
    "# 计算文字的时长\n",
    "t_s1 = 0\n",
    "t_d1 = name_time + type_time + other_name_time + latin_time\n",
    "t_s2 = name_time\n",
    "t_d2 = type_time + other_name_time + latin_time\n",
    "t_s3 = name_time + type_time\n",
    "t_d3 = other_name_time + latin_time\n",
    "t_s4 = name_time + type_time + other_name_time\n",
    "t_d4 = latin_time"
   ]
  },
  {
   "cell_type": "code",
   "execution_count": 17,
   "metadata": {},
   "outputs": [],
   "source": [
    "\"\"\"将标题和文字融入到视频中\"\"\"\n",
    "\n",
    "Image = (\n",
    "    ImageClip(\"./material_jpg/\" + pic_name + \"/\" + pic_name + \".jpg_no_bg.png\")\n",
    "        .set_duration(t_d1) # 水印持续时间\n",
    "        .resize(height=200) # 水印的高度，会等比缩放\n",
    "        .set_pos((310,120)) # 水印的位置\n",
    ")\n",
    "txt_clip1 = (\n",
    "    TextClip(\"中药名称\",font=font_path, fontsize=50, color='black', method='label')\n",
    "        .set_position((130,220))\n",
    "        .set_duration(t_d1)\n",
    "        .set_start(t_s1)\n",
    ")\n",
    "txt_clip2 = (\n",
    "    TextClip(name_result, font=font_path, fontsize=40, color='black', method='label')\n",
    "        .set_position((140,270))\n",
    "        .set_duration(t_d1)\n",
    "        .set_start(t_s1)\n",
    ")\n",
    "\n",
    "txt_clip3 = (\n",
    "    TextClip(\"药品类型\", font=font_path, fontsize=50, color='black', method='label')\n",
    "        .set_position((130,340))\n",
    "        .set_duration(t_d2)\n",
    "        .set_start(t_s2)\n",
    ")\n",
    "txt_clip4 = (\n",
    "    TextClip(type_result, font=font_path, fontsize=40, color='black', method='label')\n",
    "        .set_position((140,390))\n",
    "        .set_duration(t_d2)\n",
    "        .set_start(t_s2)\n",
    ")\n",
    "\n",
    "## 将标题和文字融入到视频中\n",
    "txt_clip5 = (\n",
    "    TextClip(\"别名\", font=font_path, fontsize=50, color='black', method='label')\n",
    "        .set_position((130,460))\n",
    "        .set_duration(t_d3)\n",
    "        .set_start(t_s3)\n",
    ")\n",
    "txt_clip6 = (\n",
    "    TextClip(other_name_result, font=font_path, fontsize=40, color='black', method='label')\n",
    "        .set_position((140,510))\n",
    "        .set_duration(t_d3)\n",
    "        .set_start(t_s3)\n",
    ")\n",
    "\n",
    "## 将标题和文字融入到视频中\n",
    "txt_clip7 = (\n",
    "    TextClip(\"拉丁文\", font=font_path, fontsize=50, color='black', method='label')\n",
    "        .set_position((130,580))\n",
    "        .set_duration(t_d4)\n",
    "        .set_start(t_s4)\n",
    ")\n",
    "txt_clip8 = (\n",
    "    TextClip(latin_result, font=font_path, fontsize=40, color='black', method='label')\n",
    "        .set_position((140,630))\n",
    "        .set_duration(t_d4)\n",
    "        .set_start(t_s4)\n",
    ")"
   ]
  },
  {
   "cell_type": "code",
   "execution_count": 18,
   "metadata": {},
   "outputs": [
    {
     "name": "stdout",
     "output_type": "stream",
     "text": [
      "Moviepy - Building video ./material_mp4/党参/1st.mp4.\n",
      "Moviepy - Writing video ./material_mp4/党参/1st.mp4\n",
      "\n"
     ]
    },
    {
     "name": "stderr",
     "output_type": "stream",
     "text": [
      "                                                                                                                       \r"
     ]
    },
    {
     "name": "stdout",
     "output_type": "stream",
     "text": [
      "Moviepy - Done !\n",
      "Moviepy - video ready ./material_mp4/党参/1st.mp4\n"
     ]
    }
   ],
   "source": [
    "\"\"\"与背景进行合成\"\"\"\n",
    "L = []\n",
    "path = \"material_base/1s.mp4\"\n",
    "video = VideoFileClip(path)\n",
    "for i in range(int(t_d1)+1):\n",
    "    L.append(video)\n",
    "final_clip = concatenate_videoclips(L).set_duration(t_d1).resize((720,1080))\n",
    "cvc = CompositeVideoClip([final_clip, Image ,txt_clip1,txt_clip2,txt_clip3,txt_clip4,txt_clip5,txt_clip6,txt_clip7,txt_clip8], size=(720,1080))\n",
    "cvc.write_videofile(\"./material_mp4/\" + pic_name + \"/\" + \"1st.mp4\", fps=60, remove_temp=False)"
   ]
  },
  {
   "cell_type": "code",
   "execution_count": 19,
   "metadata": {},
   "outputs": [
    {
     "data": {
      "text/plain": [
       "0"
      ]
     },
     "execution_count": 19,
     "metadata": {},
     "output_type": "execute_result"
    }
   ],
   "source": [
    "\"\"\"合并音频、写入MP4\"\"\"\n",
    "f_write = open('material_mp3/' + pic_name + \"/\"  + '1st.mp3' , 'wb')\n",
    "for i in word_list:\n",
    "    f_read = open('material_mp3/' + pic_name + \"/\"  + i + '.mp3' , 'rb')\n",
    "    f_write.write(f_read.read())\n",
    "    f_read.close()\n",
    "f_write.flush()\n",
    "f_write.close()\n",
    "\n",
    "# 如果没有文件夹自动创建\n",
    "dirs = 'material_video/'+ pic_name\n",
    "if not os.path.exists(dirs):\n",
    "    os.makedirs(dirs)\n",
    "\n",
    "# 将对应的音频和视频进行合成\n",
    "outfile_name = 'material_video/' + pic_name + '/' +  '1st.mp4'\n",
    "subprocess.call('ffmpeg -i ' + 'material_mp4/' + pic_name + '/' + '1st.mp4'\n",
    "                + ' -i ' + 'material_mp3/' + pic_name + '/' + '1st.mp3' + ' -strict -2 -f mp4 '\n",
    "                + outfile_name, shell=True)"
   ]
  },
  {
   "cell_type": "markdown",
   "metadata": {},
   "source": [
    "### 制作第二页"
   ]
  },
  {
   "cell_type": "code",
   "execution_count": 16,
   "metadata": {},
   "outputs": [],
   "source": [
    "# 生成处理字段的列表\n",
    "word_list = [\"ddyg\",\"medicinal_parts\",\"process\",\"flavor_and_meridian_tropism\",\"drug_properties\",\"production_place\",\"plant\",\"dosage_and_administration\",\"functions_of_curing\",\"taboos\"]"
   ]
  },
  {
   "cell_type": "code",
   "execution_count": 17,
   "metadata": {},
   "outputs": [],
   "source": [
    "# 起始时间\n",
    "start_time = 0\n",
    "result_list = []\n",
    "for num in range(len(word_list)):\n",
    "    # 获取该字段字符串\n",
    "    words = df[word_list[num]][0]\n",
    "    # 获得文字长度\n",
    "    words_len,words_result = clean_word(words) \n",
    "\n",
    "    # 持续时间\n",
    "    duration_time = time_name_dict[word_list[num]+\".mp3\"]\n",
    "    \n",
    "    # 构建切换的字幕方法\n",
    "    str_list = words_result.split(\"\\n\")[:-1]\n",
    "    allstrs = []  # 分组切分后的汉字放在这里\n",
    "    every_list = []\n",
    "    for i in range(len(str_list)):\n",
    "        every_list.append((str_list[i]+\"\\n\"))\n",
    "        if i == 0:\n",
    "            allstrs.append(every_list)\n",
    "        if i%5 == 0 and i !=0:\n",
    "            every_list = []\n",
    "            allstrs.append(every_list)\n",
    "    # 分多少页、和时长，由于切分音频是要 1|1|1|1 这么切分，所以(len(allstrs)-1)\n",
    "    try:\n",
    "        page_num , every_page_time = len(allstrs),  duration_time/(len(allstrs)-1)\n",
    "    except:\n",
    "        page_num , every_page_time = 1,  duration_time\n",
    "#     print(\"起始时间：{}\".format(start_time),\"持续时间：{}\".format(duration_time),\"下段开始时间：{}\".format(start_time + duration_time))\n",
    "#     print(\"字段内容段落数：{}\".format(page_num),\"每段持续时间：{}\".format(every_page_time))\n",
    "    \n",
    "    # 标题位置\n",
    "    title_clip = (\n",
    "        TextClip(text_dict[word_list[num]],font=font_path, fontsize=50, color='black', method='label')\n",
    "            .set_position((110,500))\n",
    "            .set_duration(duration_time)\n",
    "            .set_start(start_time)\n",
    "    )\n",
    "    \n",
    "    # 每个部分\n",
    "    txt_list = []\n",
    "    allstrs = [i for i in allstrs if i != [] ]  # 去除无用的空list避免报错\n",
    "    allstrs = [i for i in allstrs if i != ['\\n'] ]  # 去除无用的空list避免报错\n",
    "#     print(allstrs)\n",
    "    start_every = start_time\n",
    "    \n",
    "    for i in range(len(allstrs)):\n",
    "        txt_every = (\n",
    "            TextClip(\"\".join(allstrs[i]), font=font_path, fontsize=40, color='black', method='label')\n",
    "                .set_position((130,570))\n",
    "                .set_duration(every_page_time)\n",
    "                .set_start(start_every + every_page_time * i)\n",
    "        )\n",
    "#         print(start_every + every_page_time * i)\n",
    "        txt_list.append(txt_every)\n",
    "#         print(\"\".join(allstrs[i]),start_time + every_page_time)\n",
    "    start_time = start_time + duration_time\n",
    "    \n",
    "    result_list.append(title_clip)\n",
    "    result_list = result_list + txt_list"
   ]
  },
  {
   "cell_type": "code",
   "execution_count": 18,
   "metadata": {},
   "outputs": [
    {
     "name": "stdout",
     "output_type": "stream",
     "text": [
      "Moviepy - Building video ./material_mp4/党参/2nd.mp4.\n",
      "Moviepy - Writing video ./material_mp4/党参/2nd.mp4\n",
      "\n"
     ]
    },
    {
     "name": "stderr",
     "output_type": "stream",
     "text": [
      "                                                                                                                       \r"
     ]
    },
    {
     "name": "stdout",
     "output_type": "stream",
     "text": [
      "Moviepy - Done !\n",
      "Moviepy - video ready ./material_mp4/党参/2nd.mp4\n"
     ]
    }
   ],
   "source": [
    "# 图片位置\n",
    "Image = (\n",
    "    ImageClip(\"./material_jpg/\" + pic_name + \"/\" + pic_name + \".jpg_no_bg.png\")\n",
    "        .set_duration(start_time) # 水印持续时间\n",
    "        .resize(height=300) # 水印的高度，会等比缩放\n",
    "        .set_pos((\"center\",200)) # 水印的位置\n",
    ")\n",
    "L = []\n",
    "path = \"material_base/1s.mp4\"\n",
    "video = VideoFileClip(path)\n",
    "for i in range(int(start_time)):\n",
    "    L.append(video)\n",
    "final_clip = concatenate_videoclips(L).set_duration(start_time).resize((720,1080))\n",
    "cvc = CompositeVideoClip([final_clip,Image]  + result_list, size=(720,1080))\n",
    "cvc.write_videofile(\"./material_mp4/\" + pic_name + \"/\" + \"2nd.mp4\", fps=60, remove_temp=False,verbose=True)"
   ]
  },
  {
   "cell_type": "code",
   "execution_count": 19,
   "metadata": {},
   "outputs": [
    {
     "data": {
      "text/plain": [
       "1"
      ]
     },
     "execution_count": 19,
     "metadata": {},
     "output_type": "execute_result"
    }
   ],
   "source": [
    "\"\"\"合并音频、写入MP4\"\"\"\n",
    "f_write = open('material_mp3/' + pic_name + \"/\"  + '2nd.mp3' , 'wb')\n",
    "for i in word_list:\n",
    "    f_read = open('material_mp3/' + pic_name + \"/\"  + i + '.mp3' , 'rb')\n",
    "    f_write.write(f_read.read())\n",
    "    f_read.close()\n",
    "f_write.flush()\n",
    "f_write.close()\n",
    "\n",
    "# 如果没有文件夹自动创建\n",
    "dirs = 'material_video/'+ pic_name\n",
    "if not os.path.exists(dirs):\n",
    "    os.makedirs(dirs)\n",
    "\n",
    "# 将对应的音频和视频进行合成\n",
    "outfile_name = 'material_video/' + pic_name + '/' +  '2nd.mp4'\n",
    "subprocess.call('ffmpeg -i ' + 'material_mp4/' + pic_name + '/' + '2nd.mp4'\n",
    "                + ' -i ' + 'material_mp3/' + pic_name + '/' + '2nd.mp3' + ' -strict -2 -f mp4 '\n",
    "                + outfile_name, shell=True)"
   ]
  },
  {
   "cell_type": "markdown",
   "metadata": {},
   "source": [
    "# 制作封面"
   ]
  },
  {
   "cell_type": "code",
   "execution_count": 20,
   "metadata": {},
   "outputs": [],
   "source": [
    "# 将封面生成1秒的视频\n",
    "from PIL import Image\n",
    "\n",
    "fourcc = cv2.VideoWriter_fourcc('M', 'J', 'P', 'G')\n",
    "size = (720, 1080)\n",
    "vw = cv2.VideoWriter(\"./material_mp4/\" + pic_name + \"/\" + \"cover.mp4\", fourcc=fourcc, fps=10, frameSize=size)\n",
    "f_read = cv2.imdecode(np.fromfile(\"./material_jpg/base.jpg\",dtype=np.uint8),cv2.IMREAD_COLOR)\n",
    "f_img = Image.fromarray(f_read)\n",
    "f_rs = f_img.resize([720, 1080], resample=Image.NONE)\n",
    "f_out = np.array(f_rs)\n",
    "for i in range(10):\n",
    "    vw.write(f_out)\n",
    "vw.release()"
   ]
  },
  {
   "cell_type": "code",
   "execution_count": 21,
   "metadata": {},
   "outputs": [
    {
     "name": "stdout",
     "output_type": "stream",
     "text": [
      "Moviepy - Building video ./material_video/党参/cover.mp4.\n",
      "Moviepy - Writing video ./material_video/党参/cover.mp4\n",
      "\n"
     ]
    },
    {
     "name": "stderr",
     "output_type": "stream",
     "text": [
      "                                                                                                                       \r"
     ]
    },
    {
     "name": "stdout",
     "output_type": "stream",
     "text": [
      "Moviepy - Done !\n",
      "Moviepy - video ready ./material_video/党参/cover.mp4\n"
     ]
    }
   ],
   "source": [
    "# 图片位置\n",
    "Image = (\n",
    "    ImageClip(\"./material_jpg/\" + pic_name + \"/\" + pic_name + \".jpg_no_bg.png\")\n",
    "        .set_duration(1) # 水印持续时间\n",
    "        .resize(height=300) # 水印的高度，会等比缩放\n",
    "        .set_pos((\"center\",130)) # 水印的位置\n",
    ")\n",
    "\n",
    "\n",
    "if len(pic_name)>3:\n",
    "    str_name = pic_name[:3] + \"\\n\" + pic_name[3:]\n",
    "else:\n",
    "    str_name = pic_name\n",
    "Txt = (\n",
    "    TextClip(str_name, font='./font/fengmingshoushu.ttf', fontsize=80, color='black', method='label')\n",
    "        .set_position((310,730))\n",
    "        .set_duration(1) # 水印持续时间\n",
    ")\n",
    "\n",
    "path = \"material_mp4/\" + pic_name + \"/\" + \"cover.mp4\"\n",
    "video = VideoFileClip(path).resize((720,1080))\n",
    "\n",
    "cvc = CompositeVideoClip([video,Image,Txt], size=(720,1080))\n",
    "cvc.write_videofile(\"./material_video/\" + pic_name + \"/\" + \"cover.mp4\", fps=60, remove_temp=False,verbose=False)"
   ]
  },
  {
   "cell_type": "markdown",
   "metadata": {},
   "source": [
    "# 按照顺序将视频进行拼接"
   ]
  },
  {
   "cell_type": "code",
   "execution_count": 22,
   "metadata": {},
   "outputs": [
    {
     "name": "stdout",
     "output_type": "stream",
     "text": [
      "Moviepy - Building video material_video/党参/result.mp4.\n",
      "MoviePy - Writing audio in resultTEMP_MPY_wvf_snd.mp3\n"
     ]
    },
    {
     "name": "stderr",
     "output_type": "stream",
     "text": [
      "                                                                                                                       \r"
     ]
    },
    {
     "name": "stdout",
     "output_type": "stream",
     "text": [
      "MoviePy - Done.\n",
      "Moviepy - Writing video material_video/党参/result.mp4\n",
      "\n"
     ]
    },
    {
     "name": "stderr",
     "output_type": "stream",
     "text": [
      "                                                                                                                       \r"
     ]
    },
    {
     "name": "stdout",
     "output_type": "stream",
     "text": [
      "Moviepy - Done !\n",
      "Moviepy - video ready material_video/党参/result.mp4\n"
     ]
    }
   ],
   "source": [
    "L = []\n",
    "path_material = \"material_video/\" + pic_name + \"/\"\n",
    "path_chanege = \"material_base/change.mp4\"\n",
    "path_cover = \"./material_video/\" + pic_name + \"/\" + \"cover.mp4\"\n",
    "path_end = \"material_base/end.mp4\"\n",
    "\n",
    "\n",
    "video = VideoFileClip(path_cover).resize((720,1080))\n",
    "L.append(video)\n",
    "video = VideoFileClip(path_material + \"1st.mp4\").resize((720,1080)).fadein(2,(1,1,1))\n",
    "L.append(video)\n",
    "video = VideoFileClip(path_chanege).resize((720,1080))\n",
    "L.append(video)\n",
    "video = VideoFileClip(path_material + \"2nd.mp4\").fadeout(2,(1,1,1))\n",
    "L.append(video)\n",
    "video = VideoFileClip(path_end).resize((720,1080))\n",
    "L.append(video)\n",
    "\n",
    "final_clip = concatenate_videoclips(L)\n",
    "# 生成目标视频文件\n",
    "final_clip.to_videofile(path_material + \"result.mp4\", fps=60, remove_temp=False)"
   ]
  },
  {
   "cell_type": "markdown",
   "metadata": {},
   "source": [
    "# 将配乐和视频进行合成"
   ]
  },
  {
   "cell_type": "code",
   "execution_count": 23,
   "metadata": {},
   "outputs": [],
   "source": [
    "inmp4 = 'material_video/' + pic_name + '/'+ 'result.mp4'\n",
    "inmp3 = 'material_mp3/music.mp3'\n",
    "outmp4 = 'material_result/' + pic_name + '.mp4'\n",
    "\n",
    "cmd='ffmpeg -y -i '+ inmp4 +' -i '+ inmp3 +' -filter_complex \\\n",
    "\"[0:a]volume=10dB[a0]; \\\n",
    "[1:a]volume=-10dB[a1]; \\\n",
    "[a0][a1]amix=inputs=2[a]\" \\\n",
    "-map 0:v -map \"[a]\" -c:v copy -c:a aac -shortest '+ outmp4\n",
    "\n",
    "p = subprocess.call(cmd, shell=True, stdout=subprocess.PIPE, stderr=subprocess.PIPE)"
   ]
  }
 ],
 "metadata": {
  "kernelspec": {
   "display_name": "Python 3",
   "language": "python",
   "name": "python3"
  },
  "language_info": {
   "codemirror_mode": {
    "name": "ipython",
    "version": 3
   },
   "file_extension": ".py",
   "mimetype": "text/x-python",
   "name": "python",
   "nbconvert_exporter": "python",
   "pygments_lexer": "ipython3",
   "version": "3.6.5"
  },
  "toc": {
   "base_numbering": 1,
   "nav_menu": {},
   "number_sections": true,
   "sideBar": true,
   "skip_h1_title": false,
   "title_cell": "Table of Contents",
   "title_sidebar": "Contents",
   "toc_cell": false,
   "toc_position": {
    "height": "calc(100% - 180px)",
    "left": "10px",
    "top": "150px",
    "width": "299px"
   },
   "toc_section_display": true,
   "toc_window_display": true
  }
 },
 "nbformat": 4,
 "nbformat_minor": 2
}
