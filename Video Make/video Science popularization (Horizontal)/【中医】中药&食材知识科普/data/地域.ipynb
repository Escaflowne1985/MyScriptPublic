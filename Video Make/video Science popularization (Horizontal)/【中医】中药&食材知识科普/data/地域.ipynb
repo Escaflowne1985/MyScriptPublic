{
 "cells": [
  {
   "cell_type": "code",
   "execution_count": 2,
   "metadata": {},
   "outputs": [],
   "source": [
    "import pandas as pd"
   ]
  },
  {
   "cell_type": "code",
   "execution_count": 16,
   "metadata": {
    "code_folding": []
   },
   "outputs": [],
   "source": [
    "# 省市名称\n",
    "dict_all = {\n",
    "    \"全国\": [\"辽宁\",\"吉林\",\"黑龙江\",\"河北\",\"山西\",\"陕西\",\"甘肃\",\"青海\",\"山东\",\"安徽\",\"江苏\",\"浙江\",\"河南\",\"湖北\",\"湖南\",\"江西\",\"台湾\",\"福建\",\"云南\",\"海南\",\"四川\",\"贵州\",\"广东\",\"内蒙古\",\"新疆\",\"广西\",\"西藏\",\"宁夏\",\"北京\",\"上海\",\"天津\",\"重庆\",\"香港\",\"澳门\"],\n",
    "    \"南北\": [\"辽宁\",\"吉林\",\"黑龙江\",\"河北\",\"山西\",\"陕西\",\"甘肃\",\"青海\",\"山东\",\"安徽\",\"江苏\",\"浙江\",\"河南\",\"湖北\",\"湖南\",\"江西\",\"台湾\",\"福建\",\"云南\",\"海南\",\"四川\",\"贵州\",\"广东\",\"内蒙古\",\"新疆\",\"广西\",\"西藏\",\"宁夏\",\"北京\",\"上海\",\"天津\",\"重庆\",\"香港\",\"澳门\"],\n",
    "    \"大部\": [\"辽宁\",\"吉林\",\"黑龙江\",\"河北\",\"山西\",\"陕西\",\"甘肃\",\"青海\",\"山东\",\"安徽\",\"江苏\",\"浙江\",\"河南\",\"湖北\",\"湖南\",\"江西\",\"台湾\",\"福建\",\"云南\",\"海南\",\"四川\",\"贵州\",\"广东\",\"内蒙古\",\"新疆\",\"广西\",\"西藏\",\"宁夏\",\"北京\",\"上海\",\"天津\",\"重庆\",\"香港\",\"澳门\"],    \n",
    "    \"各地\": [\"辽宁\",\"吉林\",\"黑龙江\",\"河北\",\"山西\",\"陕西\",\"甘肃\",\"青海\",\"山东\",\"安徽\",\"江苏\",\"浙江\",\"河南\",\"湖北\",\"湖南\",\"江西\",\"台湾\",\"福建\",\"云南\",\"海南\",\"四川\",\"贵州\",\"广东\",\"内蒙古\",\"新疆\",\"广西\",\"西藏\",\"宁夏\",\"北京\",\"上海\",\"天津\",\"重庆\",\"香港\",\"澳门\"],  \n",
    "    \"各省份\": [\"辽宁\",\"吉林\",\"黑龙江\",\"河北\",\"山西\",\"陕西\",\"甘肃\",\"青海\",\"山东\",\"安徽\",\"江苏\",\"浙江\",\"河南\",\"湖北\",\"湖南\",\"江西\",\"台湾\",\"福建\",\"云南\",\"海南\",\"四川\",\"贵州\",\"广东\",\"内蒙古\",\"新疆\",\"广西\",\"西藏\",\"宁夏\",\"北京\",\"上海\",\"天津\",\"重庆\",\"香港\",\"澳门\"],    \n",
    "    \"华北\": [\"北京\",\"天津\",\"河北\",\"山西\",\"内蒙古\"],\n",
    "    \"华东\": [\"上海\",\"江苏\",\"浙江\",\"山东\",\"安徽\"],\n",
    "    \"东北\": [\"辽宁\",\"吉林\",\"黑龙江\"],\n",
    "    \"华中\": [\"湖北\",\"湖南\",\"河南\",\"江西\"],\n",
    "    \"华南\": [\"广东\",\"广西\",\"海南\",\"福建\"],\n",
    "    \"西南\": [\"四川\",\"重庆\",\"贵州\",\"云南\",\"西藏\"],\n",
    "    \"西北\": [\"陕西\",\"甘肃\",\"新疆\",\"青海\",\"宁夏\"],\n",
    "    \"长江流域\" : [\"青海\",\"四川\",\"西藏\",\"云南\",\"重庆\",\"湖北\",\"湖南\",\"江西\",\"安徽\",\"江苏\",\"上海\"],\n",
    "    \"中部\":[\"湖北\",\"湖南\",\"河南\",\"安徽\",\"江西\",\"山西\"],\n",
    "    \"西部\":[\"西藏\",\"新疆\",\"青海\",\"甘肃\",\"宁夏\",\"云南\",\"贵州\",\"四川\",\"陕西\",\"重庆\",\"广西\",\"内蒙古\"],\n",
    "    \"东部\":[\"广东\",\"福建\",\"浙江\",\"江苏\",\"山东\",\"上海\",\"北京\",\"天津\",\"河北\"],\n",
    "    \"南部\":[\"广东\",\"海南\",\"湖南\",\"云南\",\"重庆\",\"广西\",\"江西\",\"福建\",\"浙江\",\"上海\",\"湖北\",\"江苏\",\"安徽\",\"贵州\",\"四川\",\"香港\",\"澳门\",\"台湾\"],\n",
    "    \"中南\":[\"河南\",\"湖南\",\"湖北\",\"广东\",\"广西\",\"海南\",\"香港\",\"澳门\"],\n",
    "\n",
    "    \"南方\":[\"江苏\",\"安徽\",\"浙江\",\"上海\",\"湖北\",\"湖南\",\"江西\",\"福建\",\"云南\",\"贵州\",\"四川\",\"重庆\",\"广西\",\"广东\",\"海南\",\"香港\",\"澳门\",\"台湾\"],\n",
    "    \"北方\":[\"黑龙江\",\"吉林\",\"辽宁\",\"北京\",\"天津\",\"河北\",\"山东\",\"河南\",\"山西\",\"陕西\",\"内蒙古\",\"江苏\",\"安徽\"],\n",
    "    \"北部\":[\"黑龙江\",\"吉林\",\"辽宁\",\"北京\",\"天津\",\"河北\",\"山东\",\"河南\",\"山西\",\"陕西\",\"内蒙古\",\"江苏\",\"安徽\"],\n",
    "    \"长江中下游\":[\"湖北\",\"湖南\",\"江西\",\"安徽\",\"江苏\",\"浙江\"],\n",
    "    \"青藏高原\":[\"青海\",\"西藏\",\"新疆\",\"甘肃\",\"四川\",\"云南\"],\n",
    "    \"两沙群岛\":[\"海南\",\"广东\"],\n",
    "    \"雅鲁藏布江\":[\"西藏\"],\n",
    "    \"长江以南\":[\"广西\",\"广东\",\"贵州\",\"浙江\",\"福建\",\"台湾\",\"海南\"],\n",
    "    \"沿海\":[\"天津\",\"河北\",\"辽宁\",\"山东\",\"江苏\",\"上海\",\"浙江\",\"福建\",\"台湾\",\"广东\"],\n",
    "    \"沿岸\":[\"天津\",\"河北\",\"辽宁\",\"山东\",\"江苏\",\"上海\",\"浙江\",\"福建\",\"台湾\",\"广东\"],\n",
    "    \"珠江\":[\"广东\",\"香港\",\"澳门\"],\n",
    "    \"长江\":[\"上海\",\"江苏\",\"浙江\"],\n",
    "        \"渤海\":[\"辽宁\",\"河北\",\"山东\",\"天津\"],\n",
    "        \"黄海\":[\"山东\",\"江苏\"],\n",
    "        \"东海\":[\"江苏\",\"浙江\",\"福建\",\"台湾\",\"上海\"],\n",
    "        \"南海\":[\"福建\",\"广东\",\"台湾\",\"海南\",\"香港\",\"香港\",\"澳门\",\"广西\"],\n",
    "            }\n",
    "def clean_area(text):\n",
    "    area_list = []\n",
    "    for name in list(dict_all.keys()):\n",
    "        if name in text:\n",
    "            area_list = area_list + dict_all[name]\n",
    "            area_list = list(set(area_list))\n",
    "    return area_list"
   ]
  },
  {
   "cell_type": "code",
   "execution_count": 17,
   "metadata": {
    "code_folding": [
     0
    ]
   },
   "outputs": [],
   "source": [
    "df = pd.read_excel(\"area.xlsx\")"
   ]
  },
  {
   "cell_type": "code",
   "execution_count": 18,
   "metadata": {},
   "outputs": [],
   "source": [
    "df[\"ss\"] = df.data.apply(clean_area)"
   ]
  },
  {
   "cell_type": "code",
   "execution_count": 19,
   "metadata": {},
   "outputs": [],
   "source": [
    "df.to_excel(\"new.xlsx\")"
   ]
  },
  {
   "cell_type": "code",
   "execution_count": 20,
   "metadata": {},
   "outputs": [
    {
     "data": {
      "text/html": [
       "<div>\n",
       "<style scoped>\n",
       "    .dataframe tbody tr th:only-of-type {\n",
       "        vertical-align: middle;\n",
       "    }\n",
       "\n",
       "    .dataframe tbody tr th {\n",
       "        vertical-align: top;\n",
       "    }\n",
       "\n",
       "    .dataframe thead th {\n",
       "        text-align: right;\n",
       "    }\n",
       "</style>\n",
       "<table border=\"1\" class=\"dataframe\">\n",
       "  <thead>\n",
       "    <tr style=\"text-align: right;\">\n",
       "      <th></th>\n",
       "      <th>data</th>\n",
       "      <th>ss</th>\n",
       "    </tr>\n",
       "  </thead>\n",
       "  <tbody>\n",
       "    <tr>\n",
       "      <th>0</th>\n",
       "      <td>生态环境  生于海拔50-2200m的潮湿荒地或滩地水旁。资源分布  分布于东北、华北、西北...</td>\n",
       "      <td>[陕西, 青海, 上海, 安徽, 天津, 海南, 宁夏, 台湾, 辽宁, 甘肃, 吉林, 山...</td>\n",
       "    </tr>\n",
       "    <tr>\n",
       "      <th>1</th>\n",
       "      <td>生态环境  冬季常栖于近山的平原，潜伏杂草或灌丛中主食谷类和杂草的种子。资源分布  繁殖于东...</td>\n",
       "      <td>[福建, 吉林, 辽宁, 江苏, 山东, 广东, 上海, 河北, 黑龙江, 北京, 天津, 浙江]</td>\n",
       "    </tr>\n",
       "    <tr>\n",
       "      <th>2</th>\n",
       "      <td>生态环境 ①生活于潮间带中低潮区的珊瑚礁及岩石下。②生活于潮间带中区的珊瑚礁及岩石间。资源分...</td>\n",
       "      <td>[福建, 台湾, 广东, 澳门, 广西, 香港, 海南]</td>\n",
       "    </tr>\n",
       "    <tr>\n",
       "      <th>3</th>\n",
       "      <td>生态环境  水性好，善在水中生活。群性强，性很勇敢，喜斗遇人或其他动物时，常头向前下方伸，张...</td>\n",
       "      <td>[福建, 江苏, 山东, 广东, 上海, 广西, 安徽, 海南, 浙江]</td>\n",
       "    </tr>\n",
       "    <tr>\n",
       "      <th>4</th>\n",
       "      <td>生态环境  生于沼泽地、沟边及水稻田中。资源分布  分布几遍全国。</td>\n",
       "      <td>[四川, 陕西, 青海, 贵州, 上海, 安徽, 香港, 江西, 海南, 天津, 宁夏, 台...</td>\n",
       "    </tr>\n",
       "    <tr>\n",
       "      <th>...</th>\n",
       "      <td>...</td>\n",
       "      <td>...</td>\n",
       "    </tr>\n",
       "    <tr>\n",
       "      <th>1361</th>\n",
       "      <td>生活在山区近水的高草丛中和季雨林、疏林、草地和山间沟谷附近。</td>\n",
       "      <td>[]</td>\n",
       "    </tr>\n",
       "    <tr>\n",
       "      <th>1362</th>\n",
       "      <td>分布广,能在各种地质条件下形成。</td>\n",
       "      <td>[]</td>\n",
       "    </tr>\n",
       "    <tr>\n",
       "      <th>1363</th>\n",
       "      <td>形成于含钠离子和硫酸根离子饱和溶液的内陆盐湖中。</td>\n",
       "      <td>[]</td>\n",
       "    </tr>\n",
       "    <tr>\n",
       "      <th>1364</th>\n",
       "      <td>广布各地农村或城市以些草为燃料的火灶底部。</td>\n",
       "      <td>[四川, 陕西, 青海, 贵州, 上海, 安徽, 香港, 江西, 海南, 天津, 宁夏, 台...</td>\n",
       "    </tr>\n",
       "    <tr>\n",
       "      <th>1365</th>\n",
       "      <td>广布我国各地农村以柴草为燃料的灶边、烟囱内和锅底。</td>\n",
       "      <td>[四川, 陕西, 青海, 贵州, 上海, 安徽, 香港, 江西, 海南, 天津, 宁夏, 台...</td>\n",
       "    </tr>\n",
       "  </tbody>\n",
       "</table>\n",
       "<p>1366 rows × 2 columns</p>\n",
       "</div>"
      ],
      "text/plain": [
       "                                                   data  \\\n",
       "0     生态环境  生于海拔50-2200m的潮湿荒地或滩地水旁。资源分布  分布于东北、华北、西北...   \n",
       "1     生态环境  冬季常栖于近山的平原，潜伏杂草或灌丛中主食谷类和杂草的种子。资源分布  繁殖于东...   \n",
       "2     生态环境 ①生活于潮间带中低潮区的珊瑚礁及岩石下。②生活于潮间带中区的珊瑚礁及岩石间。资源分...   \n",
       "3     生态环境  水性好，善在水中生活。群性强，性很勇敢，喜斗遇人或其他动物时，常头向前下方伸，张...   \n",
       "4                     生态环境  生于沼泽地、沟边及水稻田中。资源分布  分布几遍全国。   \n",
       "...                                                 ...   \n",
       "1361                     生活在山区近水的高草丛中和季雨林、疏林、草地和山间沟谷附近。   \n",
       "1362                                   分布广,能在各种地质条件下形成。   \n",
       "1363                           形成于含钠离子和硫酸根离子饱和溶液的内陆盐湖中。   \n",
       "1364                              广布各地农村或城市以些草为燃料的火灶底部。   \n",
       "1365                          广布我国各地农村以柴草为燃料的灶边、烟囱内和锅底。   \n",
       "\n",
       "                                                     ss  \n",
       "0     [陕西, 青海, 上海, 安徽, 天津, 海南, 宁夏, 台湾, 辽宁, 甘肃, 吉林, 山...  \n",
       "1     [福建, 吉林, 辽宁, 江苏, 山东, 广东, 上海, 河北, 黑龙江, 北京, 天津, 浙江]  \n",
       "2                          [福建, 台湾, 广东, 澳门, 广西, 香港, 海南]  \n",
       "3                  [福建, 江苏, 山东, 广东, 上海, 广西, 安徽, 海南, 浙江]  \n",
       "4     [四川, 陕西, 青海, 贵州, 上海, 安徽, 香港, 江西, 海南, 天津, 宁夏, 台...  \n",
       "...                                                 ...  \n",
       "1361                                                 []  \n",
       "1362                                                 []  \n",
       "1363                                                 []  \n",
       "1364  [四川, 陕西, 青海, 贵州, 上海, 安徽, 香港, 江西, 海南, 天津, 宁夏, 台...  \n",
       "1365  [四川, 陕西, 青海, 贵州, 上海, 安徽, 香港, 江西, 海南, 天津, 宁夏, 台...  \n",
       "\n",
       "[1366 rows x 2 columns]"
      ]
     },
     "execution_count": 20,
     "metadata": {},
     "output_type": "execute_result"
    }
   ],
   "source": [
    "df"
   ]
  },
  {
   "cell_type": "code",
   "execution_count": null,
   "metadata": {},
   "outputs": [],
   "source": []
  },
  {
   "cell_type": "code",
   "execution_count": null,
   "metadata": {},
   "outputs": [],
   "source": []
  },
  {
   "cell_type": "code",
   "execution_count": null,
   "metadata": {},
   "outputs": [],
   "source": []
  },
  {
   "cell_type": "code",
   "execution_count": null,
   "metadata": {},
   "outputs": [],
   "source": []
  },
  {
   "cell_type": "code",
   "execution_count": null,
   "metadata": {},
   "outputs": [],
   "source": []
  },
  {
   "cell_type": "code",
   "execution_count": null,
   "metadata": {},
   "outputs": [],
   "source": []
  },
  {
   "cell_type": "code",
   "execution_count": 1,
   "metadata": {},
   "outputs": [
    {
     "name": "stderr",
     "output_type": "stream",
     "text": [
      "C:\\Users\\AERO\\Anaconda3\\lib\\site-packages\\numpy\\core\\__init__.py:29: UserWarning: loaded more than 1 DLL from .libs:\n",
      "C:\\Users\\AERO\\Anaconda3\\lib\\site-packages\\numpy\\.libs\\libopenblas.IPBC74C7KURV7CB2PKT5Z5FNR3SIBV4J.gfortran-win_amd64.dll\n",
      "C:\\Users\\AERO\\Anaconda3\\lib\\site-packages\\numpy\\.libs\\libopenblas.PYQHXLVVQ7VESDPUVUADXEVJOBGHJPAY.gfortran-win_amd64.dll\n",
      "  stacklevel=1)\n"
     ]
    }
   ],
   "source": [
    "import pandas as pd"
   ]
  },
  {
   "cell_type": "code",
   "execution_count": 2,
   "metadata": {},
   "outputs": [],
   "source": [
    "df = pd.read_excel(\"data.xlsx\")"
   ]
  },
  {
   "cell_type": "code",
   "execution_count": 8,
   "metadata": {},
   "outputs": [],
   "source": [
    "re_list = list(set(df[\"原拉丁植物动物矿物名\"].tolist()))"
   ]
  },
  {
   "cell_type": "code",
   "execution_count": 9,
   "metadata": {},
   "outputs": [
    {
     "data": {
      "text/html": [
       "<div>\n",
       "<style scoped>\n",
       "    .dataframe tbody tr th:only-of-type {\n",
       "        vertical-align: middle;\n",
       "    }\n",
       "\n",
       "    .dataframe tbody tr th {\n",
       "        vertical-align: top;\n",
       "    }\n",
       "\n",
       "    .dataframe thead th {\n",
       "        text-align: right;\n",
       "    }\n",
       "</style>\n",
       "<table border=\"1\" class=\"dataframe\">\n",
       "  <thead>\n",
       "    <tr style=\"text-align: right;\">\n",
       "      <th></th>\n",
       "      <th>No.</th>\n",
       "      <th>_id</th>\n",
       "      <th>药材名称</th>\n",
       "      <th>汉语拼音</th>\n",
       "      <th>文件原文</th>\n",
       "      <th>原拉丁植物动物矿物名</th>\n",
       "      <th>药材基原</th>\n",
       "      <th>性味归经</th>\n",
       "      <th>功能主治</th>\n",
       "      <th>地理分布</th>\n",
       "      <th>...</th>\n",
       "      <th>化学成分</th>\n",
       "      <th>名家论述</th>\n",
       "      <th>拉丁文名</th>\n",
       "      <th>药理作用</th>\n",
       "      <th>附方</th>\n",
       "      <th>现代临床研究</th>\n",
       "      <th>注意事项</th>\n",
       "      <th>药用类别</th>\n",
       "      <th>现代化研究</th>\n",
       "      <th>鉴别</th>\n",
       "    </tr>\n",
       "  </thead>\n",
       "  <tbody>\n",
       "    <tr>\n",
       "      <th>0</th>\n",
       "      <td>1</td>\n",
       "      <td>5f6994e128990ebe229cdab7</td>\n",
       "      <td>阿尔泰扭藿香</td>\n",
       "      <td>a er tai niu huo xiang</td>\n",
       "      <td>《中华本草》</td>\n",
       "      <td>Lophanthus krylovii Lipsky</td>\n",
       "      <td>为唇形科植物阿尔泰扭藿香的全草。6-8月采收，晒干。</td>\n",
       "      <td>味辛；性微温。</td>\n",
       "      <td>化湿消暑；行气和中。主夏月感寒饮冷；腹痛吐泻</td>\n",
       "      <td>生态环境  生于海拔2000-2500m的山谷阴处或泉边及岩脚。资源分布  分布于新疆。</td>\n",
       "      <td>...</td>\n",
       "      <td>暂无数据</td>\n",
       "      <td>暂无数据</td>\n",
       "      <td>暂无数据</td>\n",
       "      <td>暂无数据</td>\n",
       "      <td>暂无数据</td>\n",
       "      <td>暂无数据</td>\n",
       "      <td>暂无数据</td>\n",
       "      <td>暂无数据</td>\n",
       "      <td>暂无数据</td>\n",
       "      <td>暂无数据</td>\n",
       "    </tr>\n",
       "  </tbody>\n",
       "</table>\n",
       "<p>1 rows × 24 columns</p>\n",
       "</div>"
      ],
      "text/plain": [
       "   No.                       _id    药材名称                    汉语拼音    文件原文  \\\n",
       "0    1  5f6994e128990ebe229cdab7  阿尔泰扭藿香  a er tai niu huo xiang  《中华本草》   \n",
       "\n",
       "                   原拉丁植物动物矿物名                        药材基原     性味归经  \\\n",
       "0  Lophanthus krylovii Lipsky  为唇形科植物阿尔泰扭藿香的全草。6-8月采收，晒干。  味辛；性微温。   \n",
       "\n",
       "                     功能主治                                          地理分布  ...  \\\n",
       "0  化湿消暑；行气和中。主夏月感寒饮冷；腹痛吐泻  生态环境  生于海拔2000-2500m的山谷阴处或泉边及岩脚。资源分布  分布于新疆。  ...   \n",
       "\n",
       "   化学成分  名家论述  拉丁文名  药理作用    附方 现代临床研究  注意事项  药用类别 现代化研究    鉴别  \n",
       "0  暂无数据  暂无数据  暂无数据  暂无数据  暂无数据   暂无数据  暂无数据  暂无数据  暂无数据  暂无数据  \n",
       "\n",
       "[1 rows x 24 columns]"
      ]
     },
     "execution_count": 9,
     "metadata": {},
     "output_type": "execute_result"
    }
   ],
   "source": [
    "df.head(1)"
   ]
  },
  {
   "cell_type": "code",
   "execution_count": null,
   "metadata": {},
   "outputs": [
    {
     "name": "stderr",
     "output_type": "stream",
     "text": [
      "C:\\Users\\AERO\\Anaconda3\\lib\\site-packages\\ipykernel_launcher.py:3: SettingWithCopyWarning: \n",
      "A value is trying to be set on a copy of a slice from a DataFrame\n",
      "\n",
      "See the caveats in the documentation: http://pandas.pydata.org/pandas-docs/stable/user_guide/indexing.html#returning-a-view-versus-a-copy\n",
      "  This is separate from the ipykernel package so we can avoid doing imports until\n"
     ]
    }
   ],
   "source": [
    "for i in range(len(df)):\n",
    "    for word in re_list:\n",
    "        df[\"药材基原\"][i] = df[\"药材基原\"][i].replace(word,\"\")"
   ]
  },
  {
   "cell_type": "code",
   "execution_count": null,
   "metadata": {},
   "outputs": [],
   "source": []
  },
  {
   "cell_type": "code",
   "execution_count": null,
   "metadata": {},
   "outputs": [],
   "source": []
  }
 ],
 "metadata": {
  "hide_input": false,
  "kernelspec": {
   "display_name": "Python 3",
   "language": "python",
   "name": "python3"
  },
  "language_info": {
   "codemirror_mode": {
    "name": "ipython",
    "version": 3
   },
   "file_extension": ".py",
   "mimetype": "text/x-python",
   "name": "python",
   "nbconvert_exporter": "python",
   "pygments_lexer": "ipython3",
   "version": "3.6.5"
  },
  "toc": {
   "base_numbering": 1,
   "nav_menu": {},
   "number_sections": true,
   "sideBar": true,
   "skip_h1_title": false,
   "title_cell": "Table of Contents",
   "title_sidebar": "Contents",
   "toc_cell": false,
   "toc_position": {},
   "toc_section_display": true,
   "toc_window_display": false
  }
 },
 "nbformat": 4,
 "nbformat_minor": 2
}
