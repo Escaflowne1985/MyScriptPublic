{
 "cells": [
  {
   "cell_type": "markdown",
   "metadata": {},
   "source": [
    "# 基础数据应用部分"
   ]
  },
  {
   "cell_type": "code",
   "execution_count": 1,
   "metadata": {},
   "outputs": [],
   "source": [
    "import os\n",
    "from moviepy.editor import *\n",
    "import time\n",
    "import re\n",
    "import pandas as pd\n",
    "import json\n",
    "\n",
    "# 字符串时、分、秒转换成秒函数\n",
    "def str2sec(x):\n",
    "    h, m, s = x.strip().split(':')\n",
    "    return int(h)*3600 + int(m)*60 + int(s) \n",
    "\n",
    "# 字符串时、分、秒、毫秒转换成秒函数\n",
    "def str2sec_(x):\n",
    "    h, m, s = x.strip().split(':')\n",
    "    s,f = s.split(\",\")\n",
    "    return str(int(h)*3600 + int(m)*60 + int(s)) + \".\" + str(f) \n",
    "\n",
    "\n",
    "# 将影片放到 source_video 文件夹下\n",
    "video = os.listdir(\"source_video/\")[0]"
   ]
  },
  {
   "cell_type": "markdown",
   "metadata": {},
   "source": [
    "# 必须手动的部分"
   ]
  },
  {
   "cell_type": "markdown",
   "metadata": {},
   "source": [
    "## 剪切掉原片的片头部分"
   ]
  },
  {
   "cell_type": "code",
   "execution_count": 4,
   "metadata": {},
   "outputs": [
    {
     "name": "stdout",
     "output_type": "stream",
     "text": [
      "Moviepy - Building video temp_data/cut_start.mp4.\n",
      "MoviePy - Writing audio in cut_startTEMP_MPY_wvf_snd.mp3\n"
     ]
    },
    {
     "name": "stderr",
     "output_type": "stream",
     "text": [
      "                                                                                                                       \r"
     ]
    },
    {
     "name": "stdout",
     "output_type": "stream",
     "text": [
      "MoviePy - Done.\n",
      "Moviepy - Writing video temp_data/cut_start.mp4\n",
      "\n"
     ]
    },
    {
     "name": "stderr",
     "output_type": "stream",
     "text": [
      "                                                                                                                       \r"
     ]
    },
    {
     "name": "stdout",
     "output_type": "stream",
     "text": [
      "Moviepy - Done !\n",
      "Moviepy - video ready temp_data/cut_start.mp4\n"
     ]
    }
   ],
   "source": [
    "test_start_time = 11  # 这里根据影片开头的时间设置\n",
    "test_end_time = 20 # 一般20秒之前就开始正式解说了\n",
    "\n",
    "# 手动测试片头从对应时间切分\n",
    "video_base =  VideoFileClip(\"source_video/\" + video)\n",
    "video_base = video_base.subclip(test_start_time,test_end_time)\n",
    "video_base.write_videofile(\"temp_data/cut_start.mp4\")"
   ]
  },
  {
   "cell_type": "markdown",
   "metadata": {},
   "source": [
    "## 设置画面截取的范围"
   ]
  },
  {
   "cell_type": "code",
   "execution_count": 5,
   "metadata": {},
   "outputs": [
    {
     "name": "stdout",
     "output_type": "stream",
     "text": [
      "Moviepy - Building video temp_data/cut_frames.mp4.\n",
      "MoviePy - Writing audio in cut_framesTEMP_MPY_wvf_snd.mp3\n"
     ]
    },
    {
     "name": "stderr",
     "output_type": "stream",
     "text": [
      "                                                                                                                       \r"
     ]
    },
    {
     "name": "stdout",
     "output_type": "stream",
     "text": [
      "MoviePy - Done.\n",
      "Moviepy - Writing video temp_data/cut_frames.mp4\n",
      "\n"
     ]
    },
    {
     "name": "stderr",
     "output_type": "stream",
     "text": [
      "                                                                                                                       \r"
     ]
    },
    {
     "name": "stdout",
     "output_type": "stream",
     "text": [
      "Moviepy - Done !\n",
      "Moviepy - video ready temp_data/cut_frames.mp4\n"
     ]
    }
   ],
   "source": [
    "# 使用系统自带画图功能选择截取的坐标点\n",
    "x1,y1 = 0,130 # 裁剪区域左上角坐标\n",
    "x2,y2 = 1920,960 # 裁剪区域右下角坐标\n",
    "width,height = None,None # 宽度和高度\n",
    "x_center,y_center = None,None # X、Y轴中心点坐标\n",
    "\n",
    "# 剔除上下黑边选取影响范围\n",
    "video_base =  VideoFileClip(\"temp_data/cut_start.mp4\")\n",
    "video_base = (video_base.fx(vfx.crop,x1,y1,x2,y2)).resize((1920, 1080))\n",
    "video_base.write_videofile(\"temp_data/cut_frames.mp4\")"
   ]
  },
  {
   "cell_type": "markdown",
   "metadata": {},
   "source": [
    "## 裁剪整个影片"
   ]
  },
  {
   "cell_type": "code",
   "execution_count": 6,
   "metadata": {},
   "outputs": [
    {
     "name": "stdout",
     "output_type": "stream",
     "text": [
      "Moviepy - Building video temp_data/2022最新奇幻片《大話西遊：緣起》，吳孟達遺作，可惜沒上院線！.mp4.\n",
      "MoviePy - Writing audio in 2022最新奇幻片《大話西遊：緣起》，吳孟達遺作，可惜沒上院線！TEMP_MPY_wvf_snd.mp3\n"
     ]
    },
    {
     "name": "stderr",
     "output_type": "stream",
     "text": [
      "                                                                                                                       \r"
     ]
    },
    {
     "name": "stdout",
     "output_type": "stream",
     "text": [
      "MoviePy - Done.\n",
      "Moviepy - Writing video temp_data/2022最新奇幻片《大話西遊：緣起》，吳孟達遺作，可惜沒上院線！.mp4\n",
      "\n"
     ]
    },
    {
     "name": "stderr",
     "output_type": "stream",
     "text": [
      "                                                                                                                       \r"
     ]
    },
    {
     "name": "stdout",
     "output_type": "stream",
     "text": [
      "Moviepy - Done !\n",
      "Moviepy - video ready temp_data/2022最新奇幻片《大話西遊：緣起》，吳孟達遺作，可惜沒上院線！.mp4\n"
     ]
    }
   ],
   "source": [
    "# 计算开始和截至时间\n",
    "start_time = test_start_time  # 这里根据影片开头的时间设置\n",
    "\n",
    "video_base =  VideoFileClip(\"source_video/\" + video) # 手动测试片头从对应时间切分\n",
    "end_time = video_base.duration\n",
    "\n",
    "# 手动测试片头从对应时间切分\n",
    "video_base =  VideoFileClip(\"source_video/\" + video)\n",
    "# 按照测测试号的时间进行截取\n",
    "video_base = video_base.subclip(test_start_time,end_time)\n",
    "# 剔除视频无用部分\n",
    "video_base = (video_base.fx(vfx.crop,x1,y1,x2,y2)).resize((1920, 1080))\n",
    "video_base.write_videofile(\"temp_data/\"+ video)"
   ]
  },
  {
   "cell_type": "markdown",
   "metadata": {},
   "source": [
    "# 字幕、文稿处理方法"
   ]
  },
  {
   "cell_type": "markdown",
   "metadata": {},
   "source": [
    "## 字幕处理方法\n",
    "\n",
    "将剪映的影片目录放到当下目录 JianyingPro Drafts 放到脚本同级目录，提取剪映中的文档 **draft_content.json** 文件到 **temp_data** 目录下\n",
    "\n",
    "- 方法1：登录 https://jy.mzh.ren/ 手动加载json文件导出 保存成文档2份（文档1纯文本不包含时间，文档2文本包含时间节点）\n",
    "- 方法2：自制的解析代码解析字幕内容，直接执行代码保存成文档2份（文档1纯文本不包含时间，文档2文本包含时间节点）"
   ]
  },
  {
   "cell_type": "code",
   "execution_count": 7,
   "metadata": {
    "code_folding": [
     12,
     18,
     31,
     38,
     44,
     52
    ]
   },
   "outputs": [],
   "source": [
    "# 加载draft_content.json一键处理文字生成文档\n",
    "with open(\"temp_data/draft_content.json\",encoding=\"utf8\") as f:\n",
    "    content_json = f.read()\n",
    "    content_json = json.loads(content_json)\n",
    "    \n",
    "# 将字幕的时间断\n",
    "content_time_list = content_json[\"tracks\"][1]\n",
    "# 将字幕的字符串保存成列表\n",
    "content_list = content_json[\"materials\"][\"texts\"]\n",
    "\n",
    "# 构建字幕id 对应时间的 dict\n",
    "content_time_dict ={}\n",
    "for i in content_time_list[\"segments\"]:\n",
    "    id_ = i[\"material_id\"]\n",
    "    duration = i[\"target_timerange\"]\n",
    "    content_time_dict[id_] = duration\n",
    "    \n",
    "# 时间数字转换时分秒毫秒\n",
    "def change_time(data):\n",
    "    milliseconds, milliseconds_ = divmod(data, 1000)\n",
    "    seconds, milliseconds = divmod(milliseconds, 1000)\n",
    "    minutes, seconds = divmod(seconds, 60)\n",
    "    hours, minutes = divmod(minutes, 60)\n",
    "\n",
    "    hours = \"0\"+ str(hours) if len(str(hours)) != 2 else str(hours)\n",
    "    minutes = \"0\"+ str(minutes) if len(str(minutes)) != 2 else str(minutes)\n",
    "    seconds = \"0\"+ str(seconds) if len(str(seconds)) != 2 else str(seconds)\n",
    "\n",
    "    return \"{}:{}:{},{}\".format(hours, minutes, seconds,milliseconds)\n",
    "\n",
    "strs_1 = \"\"\n",
    "for n in range(len(content_list)):\n",
    "    content = content_list[n][\"content\"]\n",
    "    time_ = content_time_dict[content_list[n][\"id\"]]\n",
    "    time_strat = change_time(time_[\"start\"])\n",
    "    time_end = change_time(time_[\"start\"] + time_[\"duration\"])\n",
    "    strs_1 = strs_1 + \"{}\\n\".format(content)\n",
    "# 拼接带字符串的文稿\n",
    "with open(\"temp_data/文稿1.txt\",\"w\",encoding='utf-8') as f:\n",
    "    f.write(strs_1)\n",
    "f.close()    \n",
    "    \n",
    "    \n",
    "strs_2 = \"\"\n",
    "for n in range(len(content_list)):\n",
    "    content = content_list[n][\"content\"]\n",
    "    time_ = content_time_dict[content_list[n][\"id\"]]\n",
    "    time_strat = change_time(time_[\"start\"])\n",
    "    time_end = change_time(time_[\"start\"] + time_[\"duration\"])\n",
    "    strs_2 = strs_2 + \"{} --> {}\\n{}\\n\".format(time_strat,time_end,content)\n",
    "\n",
    "# 拼接带时间、字符串的文稿\n",
    "with open(\"temp_data/文稿2.txt\",\"w\",encoding='utf-8') as f:\n",
    "    f.write(strs_2)\n",
    "f.close()"
   ]
  },
  {
   "cell_type": "markdown",
   "metadata": {},
   "source": [
    "## 文稿匹配拆分方案2，拆分时间进行进行文稿重塑"
   ]
  },
  {
   "cell_type": "code",
   "execution_count": 8,
   "metadata": {
    "code_folding": [
     7
    ]
   },
   "outputs": [
    {
     "data": {
      "text/html": [
       "<div>\n",
       "<style scoped>\n",
       "    .dataframe tbody tr th:only-of-type {\n",
       "        vertical-align: middle;\n",
       "    }\n",
       "\n",
       "    .dataframe tbody tr th {\n",
       "        vertical-align: top;\n",
       "    }\n",
       "\n",
       "    .dataframe thead th {\n",
       "        text-align: right;\n",
       "    }\n",
       "</style>\n",
       "<table border=\"1\" class=\"dataframe\">\n",
       "  <thead>\n",
       "    <tr style=\"text-align: right;\">\n",
       "      <th></th>\n",
       "      <th>time_str_1</th>\n",
       "      <th>time_str_2</th>\n",
       "      <th>content</th>\n",
       "      <th>new_content</th>\n",
       "    </tr>\n",
       "  </thead>\n",
       "  <tbody>\n",
       "    <tr>\n",
       "      <th>0</th>\n",
       "      <td>0.100</td>\n",
       "      <td>2.200</td>\n",
       "      <td>致敬了很多原作中的剧情</td>\n",
       "      <td></td>\n",
       "    </tr>\n",
       "    <tr>\n",
       "      <th>1</th>\n",
       "      <td>2.200</td>\n",
       "      <td>4.266</td>\n",
       "      <td>真的要大喊一句爷亲回</td>\n",
       "      <td></td>\n",
       "    </tr>\n",
       "    <tr>\n",
       "      <th>2</th>\n",
       "      <td>4.400</td>\n",
       "      <td>5.300</td>\n",
       "      <td>好了话不多说</td>\n",
       "      <td></td>\n",
       "    </tr>\n",
       "    <tr>\n",
       "      <th>3</th>\n",
       "      <td>5.300</td>\n",
       "      <td>6.433</td>\n",
       "      <td>我们来看剧情</td>\n",
       "      <td></td>\n",
       "    </tr>\n",
       "    <tr>\n",
       "      <th>4</th>\n",
       "      <td>6.533</td>\n",
       "      <td>9.766</td>\n",
       "      <td>至尊宝出生在一个叫花果村的小村庄</td>\n",
       "      <td></td>\n",
       "    </tr>\n",
       "    <tr>\n",
       "      <th>5</th>\n",
       "      <td>9.800</td>\n",
       "      <td>11.933</td>\n",
       "      <td>父亲达叔是一个卖面条的</td>\n",
       "      <td></td>\n",
       "    </tr>\n",
       "  </tbody>\n",
       "</table>\n",
       "</div>"
      ],
      "text/plain": [
       "  time_str_1 time_str_2           content new_content\n",
       "0      0.100      2.200       致敬了很多原作中的剧情            \n",
       "1      2.200      4.266        真的要大喊一句爷亲回            \n",
       "2      4.400      5.300            好了话不多说            \n",
       "3      5.300      6.433            我们来看剧情            \n",
       "4      6.533      9.766  至尊宝出生在一个叫花果村的小村庄            \n",
       "5      9.800     11.933       父亲达叔是一个卖面条的            "
      ]
     },
     "execution_count": 8,
     "metadata": {},
     "output_type": "execute_result"
    }
   ],
   "source": [
    "# 这里按照方法1处理\n",
    "with open(\"temp_data/文稿2.txt\",encoding='utf-8') as f:\n",
    "    txt_list = f.readlines()\n",
    "    \n",
    "    \n",
    "# 判断是否是时间的列表元素 定位符号 -->\n",
    "data_list = []\n",
    "for i in range(len(txt_list)):\n",
    "    # 字符元素判断\n",
    "    if \"-->\" in txt_list[i]:\n",
    "        # 当前索引为 i\n",
    "        time_str = txt_list[i] # 时间字符串\n",
    "        # 处理时间字符\"00:00:00,133 --> 00:00:01,866\\n\"\n",
    "        time_str_1 = time_str.replace(\"\\n\",\"\").split(\" --> \")[0]\n",
    "        time_str_2 =time_str.replace(\"\\n\",\"\").split(\" --> \")[1]\n",
    "        content = txt_list[i+1].replace(\"\\n\",\"\") # 文字字符串\n",
    "        data_list.append((\n",
    "            str2sec_(time_str_1),\n",
    "            str2sec_(time_str_2),\n",
    "            content\n",
    "        ))\n",
    "\n",
    "# 导出全部文稿进行处理      \n",
    "# 生成文件是 字幕开始时间、结束时间、对应文稿 \n",
    "# 理论上匹配的就是文稿对应的影片片段\n",
    "str_df = pd.DataFrame(data_list,columns=[\"time_str_1\",\"time_str_2\",\"content\"])\n",
    "str_df[\"new_content\"] = \"\"\n",
    "str_df.to_excel(\"temp_data/文稿2.xlsx\")\n",
    "str_df.head(6)"
   ]
  },
  {
   "cell_type": "markdown",
   "metadata": {},
   "source": [
    "## 手动修改文稿2.xlsx \n",
    "\n",
    "- 替换新的解说内容到 new_content \n",
    "- 删除自己不需要的片段对白，在对应单元格中清空内容"
   ]
  },
  {
   "cell_type": "markdown",
   "metadata": {},
   "source": [
    "## 修改好的文稿 2.xlsx 放置 temp_mp3 目录下"
   ]
  },
  {
   "cell_type": "markdown",
   "metadata": {},
   "source": [
    "# 影片素材合成\n",
    "\n",
    "分几个不同的版本合成，发现有时候字幕和画面对不上的情况会进行微调\n",
    "\n",
    "1. 百度API接口版本（目前已完成）\n",
    "2. 科大讯飞API接口版本（还没测试）\n",
    "3. 阿里API接口版本（还没测试）"
   ]
  },
  {
   "cell_type": "markdown",
   "metadata": {},
   "source": [
    "# 百度AI接口合成版本\n",
    "\n",
    "百度AI这个版本是按照次数收费的因此200是个上限，计算每个段落生成的文字合成语音的内容"
   ]
  },
  {
   "cell_type": "markdown",
   "metadata": {},
   "source": [
    "## API 基础配置设置"
   ]
  },
  {
   "cell_type": "code",
   "execution_count": 2,
   "metadata": {},
   "outputs": [],
   "source": [
    "from aip import AipSpeech\n",
    "from base_data.API_Info import *\n",
    "\n",
    "# 加载API使用的 APP_ID, API_KEY, SECRET_KEY\n",
    "APP_ID = baidu_api_dict[\"APP_ID\"]\n",
    "API_KEY = baidu_api_dict[\"API_KEY\"]\n",
    "SECRET_KEY = baidu_api_dict[\"SECRET_KEY\"]\n",
    "\n",
    "client = AipSpeech(APP_ID, API_KEY, SECRET_KEY)\n",
    "\n",
    "# API语言合成参数设置\n",
    "vol_ = 15 # 音量\n",
    "per_ = 5118 # 精品发音人选择：度逍遥（精品）=5003，度小鹿=5118，度博文=106，度小童=110，度小萌=111，度米朵=103，度小娇=5\n",
    "spd_ = 7 # 速度"
   ]
  },
  {
   "cell_type": "markdown",
   "metadata": {},
   "source": [
    "## 字幕文稿处理"
   ]
  },
  {
   "cell_type": "code",
   "execution_count": 3,
   "metadata": {
    "code_folding": [
     6,
     8,
     13
    ]
   },
   "outputs": [],
   "source": [
    "# 文稿处理完毕后读取进行稿件拼接\n",
    "df = pd.read_excel(\"temp_mp3/文稿2.xlsx\")\n",
    "# 删除空白的片段内容\n",
    "df.dropna(axis=0,inplace=True) \n",
    "df.reset_index(drop=True,inplace=True)\n",
    "strs = \"\"\n",
    "for i in range(len(df)):\n",
    "    strs = strs + df[\"new_content\"][i] + \"\\n\"\n",
    "with open(\"temp_mp3/文稿2_new.txt\",'w',encoding='utf-8') as f:\n",
    "    f.write(strs)\n",
    "    \n",
    "# 使用新的数据重复方案1的步骤生成新的稿子\n",
    "# 文稿2_new == 文稿1\n",
    "with open(\"temp_mp3/文稿2_new.txt\",encoding='utf-8') as f:\n",
    "    txt_data = f.read()\n",
    "# 将文稿2.xlsx数据格式转换成文稿2.txt按行读取\n",
    "data_list=df[[\"time_str_1\",\"time_str_2\",\"new_content\"]].values.tolist()"
   ]
  },
  {
   "cell_type": "markdown",
   "metadata": {},
   "source": [
    "## 字幕文稿按照API长度进行重置"
   ]
  },
  {
   "cell_type": "code",
   "execution_count": 4,
   "metadata": {
    "code_folding": [
     11
    ]
   },
   "outputs": [
    {
     "name": "stdout",
     "output_type": "stream",
     "text": [
      "一共拆分段落 17 段\n"
     ]
    }
   ],
   "source": [
    "# 累计求不超过200字的文稿和影片按照批次合成\n",
    "# 拆分 data_list 文稿接近200字的组成一个列表\n",
    "# 设定单词转换最大的字符长度 为了方式意外设定少一点\n",
    "each_max_str = 180\n",
    "# 设定一个总的集合\n",
    "each_split_list = []\n",
    "# 设定一个临时的集合\n",
    "each_list = [] \n",
    "# 设定一个空字符串长度累计用\n",
    "strs_len = 0\n",
    "\n",
    "for i in data_list:\n",
    "    strs_len = strs_len + len(i[2]) # 计算单个元素的文字长度进行累计求和\n",
    "    each_list.append(i) # 将数据加入到临时的集合列表中\n",
    "    # 判断是否超过单次合成最大文字数\n",
    "    if strs_len > each_max_str:\n",
    "        each_split_list.append(each_list) # 超过 each_max_str 个字符了\n",
    "        each_list = []  # 重置临时集合\n",
    "        strs_len = 0 # 重置字符累计求和长度\n",
    "        # 开始重新累计\n",
    "        strs_len = strs_len + len(i[2]) # 计算单个元素的文字长度进行累计求和\n",
    "        each_list.append(i) # 将数据加入到临时的集合列表中\n",
    "        \n",
    "each_split_list.append(each_list) # 将最后剩余的字符填充到列表中\n",
    "        \n",
    "print(\"一共拆分段落 {} 段\".format(len(each_split_list)))"
   ]
  },
  {
   "cell_type": "markdown",
   "metadata": {},
   "source": [
    "## 分段落文字合成语音mp3"
   ]
  },
  {
   "cell_type": "code",
   "execution_count": 7,
   "metadata": {},
   "outputs": [],
   "source": [
    "audio_num = 1\n",
    "\n",
    "for list_each in each_split_list:\n",
    "    str_each = \"\\n\".join([str_[2] for str_ in list_each])\n",
    "    result_mp3  = client.synthesis(str_each, 'zh', 1, { 'vol': vol_,'per': per_,'spd':spd_})\n",
    "    # 识别正确返回语音二进制 错误则返回dict 参照下面错误码\n",
    "    # 将对应mp3保存到生成文本的目录文件夹下\n",
    "    if not isinstance(result_mp3, dict):\n",
    "        with open(\"temp_mp3/\"+str(audio_num)+\"_音频素材.mp3\", 'wb') as f:\n",
    "            f.write(result_mp3)\n",
    "            \n",
    "    audio_num = audio_num + 1"
   ]
  },
  {
   "cell_type": "markdown",
   "metadata": {},
   "source": [
    "## 按合成语音的段落点重新剪辑视频"
   ]
  },
  {
   "cell_type": "code",
   "execution_count": 8,
   "metadata": {
    "code_folding": [
     2,
     16,
     38,
     47,
     88
    ],
    "scrolled": true
   },
   "outputs": [
    {
     "name": "stdout",
     "output_type": "stream",
     "text": [
      "1 34.88\n",
      "2 35.21\n",
      "3 35.6\n",
      "4 35.5\n",
      "5 35.14\n",
      "6 34.16\n",
      "7 34.88\n",
      "8 34.06\n",
      "9 35.5\n",
      "10 37.66\n",
      "11 35.68\n",
      "12 36.04\n",
      "13 35.71\n",
      "14 37.15\n",
      "15 35.75\n",
      "16 35.57\n",
      "17 19.62\n"
     ]
    }
   ],
   "source": [
    "# 提取每个段落要处理的视频的的切分点\n",
    "video_split_second = []\n",
    "for i in each_split_list:\n",
    "    # 起始点第一个元素的0索引\n",
    "    start_time = i[0][0]\n",
    "    # 终止点最后一个元素的1索引\n",
    "    end_time = i[-1][1]\n",
    "    video_split_second.append((start_time,end_time))\n",
    "    \n",
    "# 提取文稿2.xlsx中被删减掉的部分\n",
    "df_drop = pd.read_excel(\"temp_mp3/文稿2.xlsx\")\n",
    "drop_list = df_drop.loc[df_drop['new_content'].isnull()].values.tolist()\n",
    "\n",
    "\n",
    "# 删除连续的重复元素合并时间\n",
    "index = 0\n",
    "while index < len(drop_list):\n",
    "    if drop_list[index][1] == drop_list[index-1][2]:\n",
    "        # 替换当前indxe的值\n",
    "        drop_list[index][1] = drop_list[index-1][1]\n",
    "#         print(drop_list[index])\n",
    "        # 删除前面的 index - 1的元素\n",
    "        drop_list.pop(index-1)\n",
    "        index -= 1\n",
    "    else:\n",
    "        pass\n",
    "#         print(drop_list[index])\n",
    "    index += 1\n",
    "    \n",
    "# 加载处理的原片电影\n",
    "video_base =  VideoFileClip(\"temp_data/\" + video)\n",
    "\n",
    "# 设置素材序号\n",
    "num = 1\n",
    "\n",
    "L = [] # 全部视频集合，验证结果用\n",
    "\n",
    "# 遍历需要切分片段的起始和终止时间，进行拆分合成\n",
    "for s,e in video_split_second:\n",
    "    \n",
    "#     print(\"开始切分 {} 至 {} 时间段\".format(s,e))\n",
    "    # 按照字幕长度切分的时间段起始时间和终止时间 s,e\n",
    "    # 循环判断要切分的内容是否在其中\n",
    "    for split_time in drop_list:\n",
    "        temp_time_list = [] # 临时的时间集合列表用于存储切分的时间点\n",
    "        temp_video_list = [] # 创建临时单片段的合成素材集合\n",
    "        # 判断内容为nan的时间点在切分的时间段内则重置时间列表\n",
    "        if s<split_time[1] and e>split_time[2]:\n",
    "            temp_time_list.append(s)\n",
    "            temp_time_list.append(e)\n",
    "            temp_time_list.append(split_time[1])\n",
    "            temp_time_list.append(split_time[2])\n",
    "            # 数据去重重新排列顺序\n",
    "            temp_time_list = list(set(temp_time_list))\n",
    "            temp_time_list.sort()\n",
    "            # temp_time_list 是要切分的视频数据时间点 需要重新两两组合构建新的切分点\n",
    "            cut_time_list =  [temp_time_list[i:i+2] for i in range(0, len(temp_time_list), 2)]\n",
    "#             print(cut_time_list)\n",
    "#             print(s,e)\n",
    "            for time in cut_time_list:\n",
    "#                 print(\"包含空白数据的时间切割部分 {} 至 {}\".format(time[0],time[1]))\n",
    "                cut_video = video_base.subclip(time[0],time[1])\n",
    "#                 print(cut_video.duration)                  \n",
    "                temp_video_list.append(cut_video)         \n",
    "\n",
    "#             print(temp_video_list)\n",
    "            # 截切好的视频片段合并\n",
    "            cvc = CompositeVideoClip(temp_video_list)\n",
    "            # 对视频素材静音操作\n",
    "            cvc = cvc.fx(afx.volumex, 0)\n",
    "            # 记录MP4的时间\n",
    "            video_time = cvc.duration\n",
    "            # 读取MP3配音文件\n",
    "            audio = AudioFileClip(\"temp_mp3/\"+ str(num) +\"_音频素材.mp3\")\n",
    "            # 记录MP3的时间\n",
    "            audio_time = audio.duration\n",
    "            # 给视频进行加速 配合音频文件的字幕\n",
    "            factor = video_time/audio_time # 倍速播放倍数,视频时间/音频时间就是视频加速的时间\n",
    "            final_duration = None # 倍速播放持续时间 ，可以为空表使全部\n",
    "            cvc_video = cvc.fx(vfx.speedx, factor , final_duration)\n",
    "            # 视频和音频合成在一起\n",
    "            cvc_video = cvc_video.set_audio(audio)\n",
    "            # 合成无片头文件\n",
    "#             cvc_video.write_videofile(\"temp_mp4/\"+str(num)+\"_视频素材.mp4\")\n",
    "            print(num ,cvc_video.duration)\n",
    "            L.append(cvc_video) # 临时计算用\n",
    "            \n",
    "            break\n",
    "    else:\n",
    "        # 如果没有切分的片段直接剪辑成素材\n",
    "        temp_video = video_base.subclip(s,e)\n",
    "        # 对视频素材静音操作\n",
    "        temp_video = temp_video.fx(afx.volumex, 0)\n",
    "        # 记录MP4的时间\n",
    "        video_time = temp_video.duration\n",
    "        # 读取MP3配音文件\n",
    "        audio = AudioFileClip(\"temp_mp3/\"+ str(num) +\"_音频素材.mp3\")\n",
    "        # 记录MP3的时间\n",
    "        audio_time = audio.duration\n",
    "        # 给视频进行加速 配合音频文件的字幕\n",
    "        factor = video_time/audio_time # 倍速播放倍数,视频时间/音频时间就是视频加速的时间\n",
    "        final_duration = None # 倍速播放持续时间 ，可以为空表使全部\n",
    "        temp_video = temp_video.fx(vfx.speedx, factor , final_duration)\n",
    "        # 视频和音频合成在一起\n",
    "        temp_video = temp_video.set_audio(audio)\n",
    "        print(num , temp_video.duration)\n",
    "        L.append(temp_video) # 临时计算用\n",
    "#         temp_video.write_videofile(\"temp_mp4/\"+str(num)+\"_视频素材.mp4\")\n",
    "    # 序号自增\n",
    "    num = num + 1"
   ]
  },
  {
   "cell_type": "markdown",
   "metadata": {},
   "source": [
    "## 合并全部素材"
   ]
  },
  {
   "cell_type": "code",
   "execution_count": null,
   "metadata": {},
   "outputs": [],
   "source": [
    "# 文件进行保存到结果文件中\n",
    "cvc_result_viedo = concatenate_videoclips(L)\n",
    "cvc_result_viedo.write_videofile(\"temp_mp4/合成完整素材.mp4\")"
   ]
  },
  {
   "cell_type": "markdown",
   "metadata": {},
   "source": [
    "## 添加水印图"
   ]
  },
  {
   "cell_type": "code",
   "execution_count": 2,
   "metadata": {},
   "outputs": [
    {
     "name": "stdout",
     "output_type": "stream",
     "text": [
      "Moviepy - Building video temp_mp4/添加水印的素材.mp4.\n",
      "MoviePy - Writing audio in 添加水印的素材TEMP_MPY_wvf_snd.mp3\n"
     ]
    },
    {
     "name": "stderr",
     "output_type": "stream",
     "text": [
      "                                                                                                                       \r"
     ]
    },
    {
     "name": "stdout",
     "output_type": "stream",
     "text": [
      "MoviePy - Done.\n",
      "Moviepy - Writing video temp_mp4/添加水印的素材.mp4\n",
      "\n"
     ]
    },
    {
     "name": "stderr",
     "output_type": "stream",
     "text": [
      "                                                                                                                       \r"
     ]
    },
    {
     "name": "stdout",
     "output_type": "stream",
     "text": [
      "Moviepy - Done !\n",
      "Moviepy - video ready temp_mp4/添加水印的素材.mp4\n"
     ]
    }
   ],
   "source": [
    "# 加载素材视频\n",
    "video = VideoFileClip(\"temp_mp4/合成完整素材.mp4\").resize((1920,1080))\n",
    "start = VideoFileClip(\"base_data/片头.mp4\").resize((1920,1080))\n",
    "\n",
    "# 视频中添加水印\n",
    "logo = (\n",
    "    ImageClip(\"./base_data/水印1.png\")\n",
    "#         .set_start(start.duration)\n",
    "        .set_duration(video.duration)  # 水印持续时间\n",
    "        .resize(height=200)  # 水印的高度，会等比缩放\n",
    "        .set_pos((\"left\", \"top\"))  # 水印的位置\n",
    ")\n",
    "\n",
    "# 文件进行保存到结果文件中\n",
    "cvc = CompositeVideoClip([video,logo])\n",
    "cvc = concatenate_videoclips([start,cvc])\n",
    "# 合成无片头文件\n",
    "cvc.write_videofile(\"temp_mp4/添加水印的素材.mp4\")"
   ]
  },
  {
   "cell_type": "markdown",
   "metadata": {},
   "source": [
    "# 算法加工避免机器检测"
   ]
  },
  {
   "cell_type": "markdown",
   "metadata": {},
   "source": [
    "## 去重机器算法测试部分"
   ]
  },
  {
   "cell_type": "code",
   "execution_count": 2,
   "metadata": {},
   "outputs": [
    {
     "data": {
      "text/plain": [
       "['合成完整素材.mp4', '添加水印的素材.mp4']"
      ]
     },
     "execution_count": 2,
     "metadata": {},
     "output_type": "execute_result"
    }
   ],
   "source": [
    "from base_data.algorithm_process import *\n",
    "\n",
    "# 获取MP4路径信息\n",
    "mp4_data_list = os.listdir(\"temp_mp4\")\n",
    "mp4_data_list"
   ]
  },
  {
   "cell_type": "code",
   "execution_count": 3,
   "metadata": {},
   "outputs": [
    {
     "name": "stdout",
     "output_type": "stream",
     "text": [
      "Moviepy - Building video result_video/CNN色彩调整.mp4.\n",
      "MoviePy - Writing audio in CNN色彩调整TEMP_MPY_wvf_snd.mp3\n"
     ]
    },
    {
     "name": "stderr",
     "output_type": "stream",
     "text": [
      "                                                                                                                       \r"
     ]
    },
    {
     "name": "stdout",
     "output_type": "stream",
     "text": [
      "MoviePy - Done.\n",
      "Moviepy - Writing video result_video/CNN色彩调整.mp4\n",
      "\n"
     ]
    },
    {
     "name": "stderr",
     "output_type": "stream",
     "text": [
      "                                                                                                                       \r"
     ]
    },
    {
     "name": "stdout",
     "output_type": "stream",
     "text": [
      "Moviepy - Done !\n",
      "Moviepy - video ready result_video/CNN色彩调整.mp4\n"
     ]
    }
   ],
   "source": [
    "# 获取MP4路径信息\n",
    "mp4_data_list = os.listdir(\"temp_mp4\")\n",
    "\n",
    "for name in mp4_data_list:\n",
    "    if \"水印的素材\" in name:\n",
    "        in_path = 'temp_mp4/'+ name\n",
    "        # 机器加工合成算法\n",
    "        process_function_1(in_path)"
   ]
  },
  {
   "cell_type": "code",
   "execution_count": null,
   "metadata": {},
   "outputs": [],
   "source": []
  }
 ],
 "metadata": {
  "kernelspec": {
   "display_name": "Python 3 (ipykernel)",
   "language": "python",
   "name": "python3"
  },
  "language_info": {
   "codemirror_mode": {
    "name": "ipython",
    "version": 3
   },
   "file_extension": ".py",
   "mimetype": "text/x-python",
   "name": "python",
   "nbconvert_exporter": "python",
   "pygments_lexer": "ipython3",
   "version": "3.9.12"
  },
  "toc": {
   "base_numbering": 1,
   "nav_menu": {},
   "number_sections": true,
   "sideBar": true,
   "skip_h1_title": false,
   "title_cell": "Table of Contents",
   "title_sidebar": "Contents",
   "toc_cell": false,
   "toc_position": {
    "height": "calc(100% - 180px)",
    "left": "10px",
    "top": "150px",
    "width": "306px"
   },
   "toc_section_display": true,
   "toc_window_display": true
  }
 },
 "nbformat": 4,
 "nbformat_minor": 2
}
