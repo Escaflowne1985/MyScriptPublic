{
 "cells": [
  {
   "cell_type": "markdown",
   "metadata": {},
   "source": [
    "# 基础数据应用部分"
   ]
  },
  {
   "cell_type": "code",
   "execution_count": 6,
   "metadata": {},
   "outputs": [],
   "source": [
    "import os\n",
    "from moviepy.editor import *\n",
    "import time\n",
    "import re\n",
    "import pandas as pd\n",
    "import json\n",
    "\n",
    "# 字符串时、分、秒转换成秒函数\n",
    "def str2sec(x):\n",
    "    h, m, s = x.strip().split(':')\n",
    "    return int(h)*3600 + int(m)*60 + int(s) \n",
    "\n",
    "# 字符串时、分、秒、毫秒转换成秒函数\n",
    "def str2sec_(x):\n",
    "    h, m, s = x.strip().split(':')\n",
    "    s,f = s.split(\",\")\n",
    "    return str(int(h)*3600 + int(m)*60 + int(s)) + \".\" + str(f) \n",
    "\n",
    "\n",
    "# 每次将油管下载的mp4文件仍到该文件夹，自动获取该文件夹的文件信息\n",
    "video = os.listdir(\"source_video/\")[0]"
   ]
  },
  {
   "cell_type": "markdown",
   "metadata": {},
   "source": [
    "# 必须手动的部分"
   ]
  },
  {
   "cell_type": "markdown",
   "metadata": {},
   "source": [
    "## 剪切掉原片的片头部分"
   ]
  },
  {
   "cell_type": "code",
   "execution_count": 2,
   "metadata": {},
   "outputs": [
    {
     "name": "stdout",
     "output_type": "stream",
     "text": [
      "Moviepy - Building video temp_data/cut_start.mp4.\n",
      "MoviePy - Writing audio in cut_startTEMP_MPY_wvf_snd.mp3\n"
     ]
    },
    {
     "name": "stderr",
     "output_type": "stream",
     "text": [
      "                                                                                                                       \r"
     ]
    },
    {
     "name": "stdout",
     "output_type": "stream",
     "text": [
      "MoviePy - Done.\n",
      "Moviepy - Writing video temp_data/cut_start.mp4\n",
      "\n"
     ]
    },
    {
     "name": "stderr",
     "output_type": "stream",
     "text": [
      "                                                                                                                       \r"
     ]
    },
    {
     "name": "stdout",
     "output_type": "stream",
     "text": [
      "Moviepy - Done !\n",
      "Moviepy - video ready temp_data/cut_start.mp4\n"
     ]
    }
   ],
   "source": [
    "test_start_time = 5.7  # 这里根据影片开头的时间设置\n",
    "test_end_time = 20 # 一般20秒之前就开始正式解说了\n",
    "\n",
    "# 手动测试片头从对应时间切分\n",
    "video_base =  VideoFileClip(\"source_video/\" + video)\n",
    "video_base = video_base.subclip(test_start_time,test_end_time)\n",
    "video_base.write_videofile(\"temp_data/cut_start.mp4\")"
   ]
  },
  {
   "cell_type": "markdown",
   "metadata": {},
   "source": [
    "## 设置画面截取的范围"
   ]
  },
  {
   "cell_type": "code",
   "execution_count": 3,
   "metadata": {},
   "outputs": [
    {
     "name": "stdout",
     "output_type": "stream",
     "text": [
      "Moviepy - Building video temp_data/cut_frames.mp4.\n",
      "MoviePy - Writing audio in cut_framesTEMP_MPY_wvf_snd.mp3\n"
     ]
    },
    {
     "name": "stderr",
     "output_type": "stream",
     "text": [
      "                                                                                                                       \r"
     ]
    },
    {
     "name": "stdout",
     "output_type": "stream",
     "text": [
      "MoviePy - Done.\n",
      "Moviepy - Writing video temp_data/cut_frames.mp4\n",
      "\n"
     ]
    },
    {
     "name": "stderr",
     "output_type": "stream",
     "text": [
      "                                                                                                                       \r"
     ]
    },
    {
     "name": "stdout",
     "output_type": "stream",
     "text": [
      "Moviepy - Done !\n",
      "Moviepy - video ready temp_data/cut_frames.mp4\n"
     ]
    }
   ],
   "source": [
    "# 使用系统自带画图功能选择截取的坐标点\n",
    "x1,y1 = 0,120 # 裁剪区域左上角坐标\n",
    "x2,y2 = 1920,960 # 裁剪区域右下角坐标\n",
    "width,height = None,None # 宽度和高度\n",
    "x_center,y_center = None,None # X、Y轴中心点坐标\n",
    "\n",
    "# 剔除上下黑边选取影响范围\n",
    "video_base =  VideoFileClip(\"temp_data/cut_start.mp4\")\n",
    "video_base = (video_base.fx(vfx.crop,x1,y1,x2,y2)).resize((1920, 1080))\n",
    "video_base.write_videofile(\"temp_data/cut_frames.mp4\")"
   ]
  },
  {
   "cell_type": "markdown",
   "metadata": {},
   "source": [
    "# 裁剪整个影片"
   ]
  },
  {
   "cell_type": "code",
   "execution_count": 4,
   "metadata": {},
   "outputs": [
    {
     "name": "stdout",
     "output_type": "stream",
     "text": [
      "Moviepy - Building video temp_data/埃及神话大片，耗资1.5亿的特效好看，还是女演员的身材好看Special effects costing 150 million, actress sexy and beautiful.mp4.\n",
      "MoviePy - Writing audio in 埃及神话大片，耗资1.5亿的特效好看，还是女演员的身材好看Special effects costing 150 million, actress sexy and beautifulTEMP_MPY_wvf_snd.mp3\n"
     ]
    },
    {
     "name": "stderr",
     "output_type": "stream",
     "text": [
      "                                                                                                                       \r"
     ]
    },
    {
     "name": "stdout",
     "output_type": "stream",
     "text": [
      "MoviePy - Done.\n",
      "Moviepy - Writing video temp_data/埃及神话大片，耗资1.5亿的特效好看，还是女演员的身材好看Special effects costing 150 million, actress sexy and beautiful.mp4\n",
      "\n"
     ]
    },
    {
     "name": "stderr",
     "output_type": "stream",
     "text": [
      "                                                                                                                       \r"
     ]
    },
    {
     "name": "stdout",
     "output_type": "stream",
     "text": [
      "Moviepy - Done !\n",
      "Moviepy - video ready temp_data/埃及神话大片，耗资1.5亿的特效好看，还是女演员的身材好看Special effects costing 150 million, actress sexy and beautiful.mp4\n"
     ]
    }
   ],
   "source": [
    "# 计算开始和截至时间\n",
    "start_time = 1  # 这里根据影片开头的时间设置\n",
    "\n",
    "video_base =  VideoFileClip(\"source_video/\" + video) # 手动测试片头从对应时间切分\n",
    "end_time = video_base.duration\n",
    "\n",
    "# 手动测试片头从对应时间切分\n",
    "video_base =  VideoFileClip(\"source_video/\" + video)\n",
    "# 按照测测试号的时间进行截取\n",
    "video_base = video_base.subclip(test_start_time,end_time)\n",
    "# 剔除视频无用部分\n",
    "video_base = (video_base.fx(vfx.crop,x1,y1,x2,y2)).resize((1920, 1080))\n",
    "video_base.write_videofile(\"temp_data/\"+ video)"
   ]
  },
  {
   "cell_type": "markdown",
   "metadata": {},
   "source": [
    "## 如果视频太长了进行拆分"
   ]
  },
  {
   "cell_type": "code",
   "execution_count": 7,
   "metadata": {},
   "outputs": [],
   "source": [
    "# 用剪影先洗出文稿里的字母数据，进行拆分按照 2500字/片段拆分\n",
    "# 文档1：将字幕txt纯文本文档保存到 F:\\PythonWorkProject\\07.新媒体内容创作\\02.AI视频创作\\字节娱乐AI说电影\\temp_data\n",
    "# 文档2：将字幕txt文档保存到 F:\\PythonWorkProject\\07.新媒体内容创作\\02.AI视频创作\\字节娱乐AI说电影\\temp_data\n",
    "# 文档以用于字幕制作，文档2用于视频实践拆分，如果文稿文档小于2500字则不拆分"
   ]
  },
  {
   "cell_type": "markdown",
   "metadata": {},
   "source": [
    "## 字幕处理方法"
   ]
  },
  {
   "cell_type": "code",
   "execution_count": 101,
   "metadata": {},
   "outputs": [],
   "source": [
    "# 方法1\n",
    "# 免费：先使用剪映获取视频的字幕信息 \n",
    "# 字幕导出 https://jy.mzh.ren/ \n",
    "# 字幕路径 C:\\Users\\Lenovo\\AppData\\Local\\JianyingPro\\User Data\\Projects\\com.lveditor.draft\n",
    "\n",
    "# 方法2\n",
    "# 收费：用各种API接口\n",
    "# 按照API接口文档来处理\n",
    "\n",
    "# 加载draft_content.json一键处理文字生成文档\n",
    "with open(\"temp_data/draft_content.json\",encoding=\"utf8\") as f:\n",
    "    content_json = f.read()\n",
    "    content_json = json.loads(content_json)\n",
    "    \n",
    "# 将字幕的时间断\n",
    "content_time_list = content_json[\"tracks\"][1]\n",
    "# 将字幕的字符串保存成列表\n",
    "content_list = content_json[\"materials\"][\"texts\"]\n",
    "\n",
    "# 构建字幕id 对应时间的 dict\n",
    "content_time_dict ={}\n",
    "for i in content_time_list[\"segments\"]:\n",
    "    id_ = i[\"material_id\"]\n",
    "    duration = i[\"target_timerange\"]\n",
    "    content_time_dict[id_] = duration\n",
    "    \n",
    "# 时间数字转换时分秒毫秒\n",
    "def change_time(data):\n",
    "    milliseconds, milliseconds_ = divmod(data, 1000)\n",
    "    seconds, milliseconds = divmod(milliseconds, 1000)\n",
    "    minutes, seconds = divmod(seconds, 60)\n",
    "    hours, minutes = divmod(minutes, 60)\n",
    "\n",
    "    hours = \"0\"+ str(hours) if len(str(hours)) != 2 else str(hours)\n",
    "    minutes = \"0\"+ str(minutes) if len(str(minutes)) != 2 else str(minutes)\n",
    "    seconds = \"0\"+ str(seconds) if len(str(seconds)) != 2 else str(seconds)\n",
    "\n",
    "    return \"{}:{}:{},{}\".format(hours, minutes, seconds,milliseconds)\n",
    "\n",
    "strs_1 = \"\"\n",
    "for n in range(len(content_list)):\n",
    "    content = content_list[n][\"content\"]\n",
    "    time_ = content_time_dict[content_list[n][\"id\"]]\n",
    "    time_strat = change_time(time_[\"start\"])\n",
    "    time_end = change_time(time_[\"start\"] + time_[\"duration\"])\n",
    "    strs_1 = strs_1 + \"{}\\n\".format(content)\n",
    "# 拼接带字符串的文稿\n",
    "with open(\"temp_data/文稿1.txt\",\"w\",encoding='utf-8') as f:\n",
    "    f.write(strs_1)\n",
    "f.close()    \n",
    "    \n",
    "    \n",
    "strs_2 = \"\"\n",
    "for n in range(len(content_list)):\n",
    "    content = content_list[n][\"content\"]\n",
    "    time_ = content_time_dict[content_list[n][\"id\"]]\n",
    "    time_strat = change_time(time_[\"start\"])\n",
    "    time_end = change_time(time_[\"start\"] + time_[\"duration\"])\n",
    "    strs_2 = strs_2 + \"{} --> {}\\n{}\\n\".format(time_strat,time_end,content)\n",
    "\n",
    "# 拼接带时间、字符串的文稿\n",
    "with open(\"temp_data/文稿2.txt\",\"w\",encoding='utf-8') as f:\n",
    "    f.write(strs_2)\n",
    "f.close()"
   ]
  },
  {
   "cell_type": "markdown",
   "metadata": {},
   "source": [
    "## **(暂时PASS)**文稿匹配拆分方案1，直接使用默认文稿"
   ]
  },
  {
   "cell_type": "code",
   "execution_count": 126,
   "metadata": {
    "code_folding": [
     0
    ]
   },
   "outputs": [],
   "source": [
    "# 打开文稿1、文稿2\n",
    "with open(\"temp_data/文稿1.txt\",encoding='utf-8') as f:\n",
    "    txt_data = f.read()\n",
    "with open(\"temp_data/文稿2.txt\",encoding='utf-8') as f:\n",
    "    txt_list = f.readlines()\n",
    "    \n",
    "# 单个文稿设置文字总长度\n",
    "each_str = 2500\n",
    "# 最终文稿超出字数会新建文档看情况自己调配\n",
    "\n",
    "# 初始设置一个总的集合\n",
    "each_line_str_list = []\n",
    "# 初始设置起始字符数字 \n",
    "start_str = 0\n",
    "# 记录切分的描述时间点\n",
    "split_second = []\n",
    "\n",
    "for i in txt_data.split(\"\\n\"):\n",
    "    # 记录每一行字幕生成字符串长度\n",
    "    each_line_str_len = len(i)\n",
    "    # 字符串长度累加到列表中\n",
    "    each_line_str_list.append(i)\n",
    "    # 字符串长度求和\n",
    "    start_str = start_str + each_line_str_len\n",
    "    \n",
    "    # 判断如果当前字幕的字符串长度大于单文本字符串长度 即：累计求和start_str的字符串长度大于 each_str\n",
    "    if start_str >= each_str:\n",
    "        # 拼接字符串写入文档\n",
    "        txt_result_data = \"\\n\".join(each_line_str_list)\n",
    "        # 按照时间戳写入\n",
    "        with open(\"temp_data/\"+str(int(time.time())) + \".txt\",'w',encoding='utf-8') as f:\n",
    "            f.write(txt_result_data)\n",
    "        # 提取列表数据最后一行的字符串\n",
    "        last_str = each_line_str_list[-1]\n",
    "#         print(last_str)\n",
    "        \n",
    "        # 在文稿2中提取 last_str 的时间点用于切分视频\n",
    "        # 获取该字幕的index\n",
    "        text_index = txt_list.index(last_str+\"\\n\")\n",
    "        # 获取字幕上一行的时间数据\n",
    "        time_str = txt_list[text_index-1]\n",
    "        # 拆分获取时间\n",
    "        split_time = time_str.split(\" --> \")[1].split(\",\")[0]\n",
    "        split_time = str2sec(split_time)\n",
    "        split_second.append(split_time)\n",
    "        \n",
    "        # 重置起始字符和集合\n",
    "        start_str = 0\n",
    "        each_line_str_list = []\n",
    "        \n",
    "        time.sleep(1)\n",
    "\n",
    "# 拼接字符串写入文档\n",
    "txt_result_data = \"\\n\".join(each_line_str_list)\n",
    "# 按照时间戳写入\n",
    "with open(\"temp_data/\"+str(int(time.time())) + \".txt\",'w',encoding='utf-8') as f:\n",
    "    f.write(str(txt_result_data))"
   ]
  },
  {
   "cell_type": "markdown",
   "metadata": {},
   "source": [
    "## 文稿匹配拆分方案2，拆分时间进行进行文稿重塑"
   ]
  },
  {
   "cell_type": "code",
   "execution_count": 100,
   "metadata": {},
   "outputs": [],
   "source": [
    "# 这里按照方法1处理\n",
    "with open(\"temp_data/文稿2.txt\",encoding='utf-8') as f:\n",
    "    txt_list = f.readlines()\n",
    "    \n",
    "    \n",
    "# 判断是否是时间的列表元素 定位符号 -->\n",
    "data_list = []\n",
    "for i in range(len(txt_list)):\n",
    "    # 字符元素判断\n",
    "    if \"-->\" in txt_list[i]:\n",
    "        # 当前索引为 i\n",
    "        time_str = txt_list[i] # 时间字符串\n",
    "        # 处理时间字符\"00:00:00,133 --> 00:00:01,866\\n\"\n",
    "        time_str_1 = time_str.replace(\"\\n\",\"\").split(\" --> \")[0]\n",
    "        time_str_2 =time_str.replace(\"\\n\",\"\").split(\" --> \")[1]\n",
    "        content = txt_list[i+1].replace(\"\\n\",\"\") # 文字字符串\n",
    "        data_list.append((\n",
    "            str2sec_(time_str_1),\n",
    "            str2sec_(time_str_2),\n",
    "            content\n",
    "        ))\n",
    "\n",
    "# 导出全部文稿进行处理      \n",
    "# 生成文件是 字幕开始时间、结束时间、对应文稿 \n",
    "# 理论上匹配的就是文稿对应的影片片段\n",
    "str_df = pd.DataFrame(data_list,columns=[\"time_str_1\",\"time_str_2\",\"content\"])\n",
    "str_df[\"new_content\"] = \"\"\n",
    "str_df.to_excel(\"temp_data/文稿2.xlsx\")"
   ]
  },
  {
   "cell_type": "markdown",
   "metadata": {},
   "source": [
    "## 这里写好的稿子之后再执行生成合成语音方案"
   ]
  },
  {
   "cell_type": "code",
   "execution_count": 41,
   "metadata": {},
   "outputs": [],
   "source": [
    "# 文稿处理完毕后读取进行稿件拼接\n",
    "df = pd.read_excel(\"temp_mp3/文稿2.xlsx\")\n",
    "df.dropna(axis=0,inplace=True)\n",
    "df.reset_index(drop=True,inplace=True)\n",
    "strs = \"\"\n",
    "for i in range(len(df)):\n",
    "    strs = strs + df[\"new_content\"][i] + \"\\n\"\n",
    "with open(\"temp_mp3/文稿2_new.txt\",'w',encoding='utf-8') as f:\n",
    "    f.write(strs)\n",
    "    \n",
    "# 使用新的数据重复方案1的步骤生成新的稿子\n",
    "# 文稿2_new == 文稿1\n",
    "with open(\"temp_mp3/文稿2_new.txt\",encoding='utf-8') as f:\n",
    "    txt_data = f.read()\n",
    "# 将文稿2.xlsx数据格式转换成文稿2.txt按行读取\n",
    "data_list=df[[\"time_str_1\",\"time_str_2\",\"new_content\"]].values.tolist()\n",
    "\n",
    "# 单个文稿设置文字总长度\n",
    "each_str = 2500\n",
    "# 最终文稿超出字数会新建文档看情况自己调配\n",
    "\n",
    "# 初始设置一个总的集合\n",
    "each_line_str_list = []\n",
    "# 初始设置起始字符数字 \n",
    "start_str = 0\n",
    "# 记录切分的描述时间点\n",
    "split_second = []\n",
    "# 初始的文章段落编号\n",
    "start_page = 1\n",
    "# 播音稿目录文件\n",
    "start_page_list = []\n",
    "\n",
    "for i in txt_data.split(\"\\n\"):\n",
    "    # 记录每一行字幕生成字符串长度\n",
    "    each_line_str_len = len(i)\n",
    "    # 字符串长度累加到列表中\n",
    "    each_line_str_list.append(i)\n",
    "    # 字符串长度求和\n",
    "    start_str = start_str + each_line_str_len\n",
    "    # 创建音频的文件夹\n",
    "    if not os.path.exists(\"temp_mp3/播音稿_\"+ str(start_page)):\n",
    "        os.mkdir(\"temp_mp3/播音稿_\"+ str(start_page))\n",
    "    start_page_list.append(\"temp_mp3/播音稿_\"+ str(start_page))\n",
    "    \n",
    "    # 判断如果当前字幕的字符串长度大于单文本字符串长度 即：累计求和start_str的字符串长度大于 each_str\n",
    "    if start_str >= each_str:\n",
    "        # 拼接字符串写入文档\n",
    "        txt_result_data = \"\\n\".join(each_line_str_list)\n",
    "        # 按照时间戳写入\n",
    "        with open(\"temp_mp3/播音稿_\"+ str(start_page) + \".txt\",'w',encoding='utf-8') as f:\n",
    "            f.write(txt_result_data)\n",
    "            start_page = start_page + 1\n",
    "            # 语音合成序列数据用\n",
    "            start_page_list.append(\"temp_mp3/播音稿_\"+ str(start_page))\n",
    "        # 提取列表数据最后一行的字符串\n",
    "        last_str = each_line_str_list[-1]\n",
    "#         print(last_str)\n",
    "        \n",
    "        # 在data_list中提取 last_str 的时间点用于切分视频\n",
    "        # 拆分获取时间 ，获取 last_str 截至时间\n",
    "        split_time = [i[1] for i in data_list if i[2] == last_str][0]\n",
    "        split_second.append(split_time)\n",
    "        \n",
    "        # 重置起始字符和集合\n",
    "        start_str = 0\n",
    "        each_line_str_list = []\n",
    "        \n",
    "        time.sleep(1)\n",
    "\n",
    "# 拼接字符串写入文档\n",
    "txt_result_data = \"\\n\".join(each_line_str_list)\n",
    "# 按照时间戳写入\n",
    "with open(\"temp_mp3/播音稿_\"+ str(start_page) + \".txt\",'w',encoding='utf-8') as f:\n",
    "    f.write(str(txt_result_data))\n",
    "    \n",
    "# 语音目录路径去重\n",
    "start_page_list = list(set(start_page_list))"
   ]
  },
  {
   "cell_type": "markdown",
   "metadata": {},
   "source": [
    "## 匹配文稿语音合成"
   ]
  },
  {
   "cell_type": "code",
   "execution_count": null,
   "metadata": {},
   "outputs": [],
   "source": [
    "from aip import AipSpeech\n",
    "\n",
    "\"\"\" 你的 APPID AK SK \"\"\"\n",
    "APP_ID = '25695490'\n",
    "API_KEY = 'zbsKNHkCdRoUACOYLjpoaHq0'\n",
    "SECRET_KEY = '0FeLEESAvoRuTmHhNgqvP0mEal5ftszV'\n",
    "\n",
    "client = AipSpeech(APP_ID, API_KEY, SECRET_KEY)\n",
    "\n",
    "# 短语音文字识别200字上限，将文稿再次进行拆分合成，原理同文稿匹配方案\n",
    "for num in range(len(start_page_list)):\n",
    "    with open(start_page_list[num] + \".txt\",encoding='utf-8') as f:\n",
    "        txt_list = f.readlines()\n",
    "\n",
    "    # 初始设置一个总的集合\n",
    "    each_line_str_list = []\n",
    "    # 初始设置起始字符数字 \n",
    "    start_str = 0\n",
    "    # 单个文稿设置文字总长度\n",
    "    each_str = 200\n",
    "    # 初始生成的mp3文件序号\n",
    "    audio_num = 1\n",
    "\n",
    "    for i in txt_list:\n",
    "        # 记录每一行字幕生成字符串长度\n",
    "        each_line_str_len = len(i)\n",
    "        # 字符串长度累加到列表中\n",
    "        each_line_str_list.append(i.replace(\"\\n\",\"\"))\n",
    "        # 字符串长度求和\n",
    "        start_str = start_str + each_line_str_len\n",
    "        if start_str >= each_str:\n",
    "            # 拼接字符串写入文档\n",
    "            txt_result_data = \"。\".join(each_line_str_list)\n",
    "            last_str = each_line_str_list[-1]\n",
    "\n",
    "            # 文字合成语音调用API\n",
    "            result  = client.synthesis(txt_result_data, 'zh', 1, { 'vol': 15,'per': 5003})\n",
    "            # 识别正确返回语音二进制 错误则返回dict 参照下面错误码\n",
    "            # 将对应mp3保存到生成文本的目录文件夹下\n",
    "            if not isinstance(result, dict):\n",
    "                with open(start_page_list[num] + \"/\" + str(audio_num) + '.mp3', 'wb') as f:\n",
    "                    f.write(result)\n",
    "#             print(txt_result_data)\n",
    "#             print(audio_num)\n",
    "#             print(\"-\"*50)\n",
    "\n",
    "            # 重置起始字符和集合、\n",
    "            start_str = 0\n",
    "            each_line_str_list = []\n",
    "            # 求和mp3累计的序号\n",
    "            audio_num = audio_num + 1\n",
    "\n",
    "    # 拼接字符串写入文档\n",
    "    txt_result_data = \"。\".join(each_line_str_list)\n",
    "\n",
    "    # 文字合成语音调用API\n",
    "    result  = client.synthesis(txt_result_data, 'zh', 1, { 'vol': 15,'per': 5003})\n",
    "    # 识别正确返回语音二进制 错误则返回dict 参照下面错误码\n",
    "    # 将对应mp3保存到生成文本的目录文件夹下\n",
    "    if not isinstance(result, dict):\n",
    "        with open(start_page_list[num] + \"/\" + str(audio_num) + '.mp3', 'wb') as f:\n",
    "            f.write(result)\n",
    "#     print(txt_result_data)\n",
    "#     print(audio_num)\n",
    "#     print(\"-\"*50)\n",
    "\n",
    "    # 重置mp3累计求和序号\n",
    "    audio_num = 1\n",
    "#     print(audio_num)\n",
    "#     print(\"=\"*50)"
   ]
  },
  {
   "cell_type": "markdown",
   "metadata": {},
   "source": [
    "## 将生成的音频文件合并"
   ]
  },
  {
   "cell_type": "code",
   "execution_count": 35,
   "metadata": {
    "scrolled": true
   },
   "outputs": [
    {
     "name": "stdout",
     "output_type": "stream",
     "text": [
      "MoviePy - Writing audio in temp_mp3/播音稿_1/all.mp3\n"
     ]
    },
    {
     "name": "stderr",
     "output_type": "stream",
     "text": [
      "                                                                                                                       \r"
     ]
    },
    {
     "name": "stdout",
     "output_type": "stream",
     "text": [
      "MoviePy - Done.\n",
      "MoviePy - Writing audio in temp_mp3/播音稿_2/all.mp3\n"
     ]
    },
    {
     "name": "stderr",
     "output_type": "stream",
     "text": [
      "                                                                                                                       \r"
     ]
    },
    {
     "name": "stdout",
     "output_type": "stream",
     "text": [
      "MoviePy - Done.\n",
      "MoviePy - Writing audio in temp_mp3/播音稿_3/all.mp3\n"
     ]
    },
    {
     "name": "stderr",
     "output_type": "stream",
     "text": [
      "                                                                                                                       \r"
     ]
    },
    {
     "name": "stdout",
     "output_type": "stream",
     "text": [
      "MoviePy - Done.\n"
     ]
    }
   ],
   "source": [
    "# 获取存放mp3的目录里\n",
    "dir_list = [i for i in os.listdir(\"temp_mp3/\") if '.txt' not in i]\n",
    "dir_list = [i for i in dir_list if '.xlsx' not in i]\n",
    "\n",
    "for i in range(len(dir_list)):\n",
    "    # 生成处理的mp3目录\n",
    "    each_dir = \"temp_mp3/\" + dir_list[i] + \"/\"\n",
    "    # 对文件进行数字排序避免 1 10 23456789的情况发生顺序错误\n",
    "    mp3_list = sorted(os.listdir(each_dir),key = lambda i:int(re.match(r'(\\d+)',i).group()))\n",
    "    # 循环读取mp3文件加入合成序列\n",
    "    mp3_list = [AudioFileClip(each_dir + m) for m in mp3_list]\n",
    "    audiocct = concatenate_audioclips(mp3_list) # 合并3个音频\n",
    "    audiocct .write_audiofile(each_dir + 'all.mp3') #输出"
   ]
  },
  {
   "cell_type": "markdown",
   "metadata": {},
   "source": [
    "## split_second 将视频切分"
   ]
  },
  {
   "cell_type": "code",
   "execution_count": 4,
   "metadata": {},
   "outputs": [],
   "source": [
    "split_second = [568.933, 1117.633]"
   ]
  },
  {
   "cell_type": "code",
   "execution_count": 5,
   "metadata": {},
   "outputs": [
    {
     "data": {
      "text/plain": [
       "[568.933, 1117.633]"
      ]
     },
     "execution_count": 5,
     "metadata": {},
     "output_type": "execute_result"
    }
   ],
   "source": [
    "split_second"
   ]
  },
  {
   "cell_type": "code",
   "execution_count": 6,
   "metadata": {},
   "outputs": [],
   "source": [
    "# 根据df剔除没有配置文件的片段，生成裁剪列表\n",
    "df = pd.read_excel(\"temp_mp3/文稿2.xlsx\")\n",
    "# 将空白字幕填充符号 - 用于后续判断\n",
    "df.fillna(\"-\",inplace=True)\n",
    "data_list=df[[\"time_str_1\",\"time_str_2\",\"new_content\"]].values.tolist()\n",
    "# 设置视频切分时间\n",
    "cut_time_list = [0]\n",
    "\n",
    "for index in range(len(data_list)):\n",
    "    # 判断对应索引数据 元素2 是否是空白字幕数据\n",
    "    if data_list[index][2] == \"-\":\n",
    "        cut_end = data_list[index-1][1]\n",
    "        cut_time_list.append(cut_end)\n",
    "        cut_start = data_list[index+1][0]\n",
    "        cut_time_list.append(cut_start)\n",
    "        \n",
    "# 加载处理的原片电影\n",
    "video_base =  VideoFileClip(\"temp_data/\" + video)\n",
    "\n",
    "start_time = 0  # 影片开始时间\n",
    "end_time = video_base.duration # 影片结束时间\n",
    "\n",
    "# 加入影片结束时间\n",
    "cut_time_list.append(end_time)\n",
    "# 时间数据进行排序\n",
    "cut_time_list.sort(key=None,reverse=False) \n",
    "# 先制作剪切掉无用片段的列表 每2个时间点取一个数\n",
    "cut_time_list_data = [cut_time_list[i:i+2] for i in range(0, len(cut_time_list), 2)]"
   ]
  },
  {
   "cell_type": "code",
   "execution_count": 27,
   "metadata": {},
   "outputs": [
    {
     "data": {
      "text/plain": [
       "1432.397"
      ]
     },
     "execution_count": 27,
     "metadata": {},
     "output_type": "execute_result"
    }
   ],
   "source": [
    "# 切分无用片段视频列表\n",
    "cut_movie_list = []\n",
    "cut_data_list = []\n",
    "\n",
    "# 计算被裁剪掉的时间点和时长\n",
    "# 避免出错从索引1开始计算\n",
    "for i in range(1,len(cut_time_list_data)):\n",
    "    if len(cut_time_list_data[i]) == 2:\n",
    "        cut_data = ((cut_time_list_data[i][0] - cut_time_list_data[i-1][1]),cut_time_list_data[i-1][0])\n",
    "        cut_data_list.append(cut_data)\n",
    "        \n",
    "# 拼接裁剪后的视频\n",
    "for i in range(len(cut_time_list_data)):\n",
    "    if len(cut_time_list_data[i]) == 2:\n",
    "        cut_movie = video_base.subclip(cut_time_list_data[i][0],cut_time_list_data[i][1])\n",
    "        cut_movie_list.append(cut_movie) \n",
    "        \n",
    "# 拼接切分后的视频\n",
    "cut_video = concatenate_videoclips(cut_movie_list)\n",
    "# 计算切分拼接后的视频的时长\n",
    "cut_video_duration = cut_video.duration\n",
    "cut_video_duration"
   ]
  },
  {
   "cell_type": "code",
   "execution_count": 59,
   "metadata": {},
   "outputs": [],
   "source": [
    "result_split_second = []\n",
    "# 重新分配视频切分的时间，剔除无字幕的片段或裁剪后的片段\n",
    "for time_data in split_second:\n",
    "    for cut_time_data in cut_data_list:\n",
    "        if cut_time_data[1] < time_data:\n",
    "            time_data = time_data - cut_time_data[0]\n",
    "    result_split_second.append(time_data)\n",
    "    \n",
    "# 添加时间切分列表，然后排序\n",
    "result_split_second.append(start_time)\n",
    "result_split_second.append(cut_video_duration)\n",
    "result_split_second.sort(key=None,reverse=False) \n",
    "\n",
    "# 每次找到2个数字循环生成切分列表\n",
    "result_split_second_list = [result_split_second[i: i+2] for i in range(len(result_split_second) - 1)]\n",
    "\n",
    "# 构建切分视频\n",
    "num = 1\n",
    "for i in range(len(result_split_second_list)):\n",
    "    if len(result_split_second_list[i]) == 2:\n",
    "        # 对应时间切分\n",
    "        video_base = cut_video.subclip(result_split_second_list[i][0],result_split_second_list[i][1])\n",
    "        # 静音操作\n",
    "        video_base = video_base.fx(afx.volumex, 0)\n",
    "        video_base.write_videofile(\"temp_mp4/播音稿_\"+str(num)+\".mp4\")\n",
    "        num = num + 1"
   ]
  },
  {
   "cell_type": "markdown",
   "metadata": {},
   "source": [
    "# 文稿语音生成合并"
   ]
  },
  {
   "cell_type": "markdown",
   "metadata": {},
   "source": [
    "## API接口生成读稿语音"
   ]
  },
  {
   "cell_type": "code",
   "execution_count": null,
   "metadata": {},
   "outputs": [],
   "source": [
    "# 方法有很多 直接接用免费的先"
   ]
  },
  {
   "cell_type": "markdown",
   "metadata": {},
   "source": [
    "## 调整合成音频和视频的速率"
   ]
  },
  {
   "cell_type": "code",
   "execution_count": null,
   "metadata": {},
   "outputs": [],
   "source": [
    "# 获取MP4路径信息\n",
    "mp4_data_list = os.listdir(\"temp_mp4\")\n",
    "\n",
    "for name in mp4_data_list:\n",
    "    file_name = name.split(\".\")[0]\n",
    "    print(file_name)\n",
    "    # 读取MP3配音文件\n",
    "    audio = AudioFileClip(\"temp_mp3/\"+ file_name +\"/all.mp3\")\n",
    "    # 记录MP3的时间\n",
    "    audio_time = audio.duration\n",
    "    # 读取MP4视频文件\n",
    "    video =  VideoFileClip(\"temp_mp4/\"+ file_name +\".mp4\")\n",
    "    # 记录MP4的时间\n",
    "    video_time = video.duration\n",
    "    \n",
    "    # 给视频进行加速 配合音频文件的字幕\n",
    "    factor = video_time/audio_time # 倍速播放倍数,视频时间/音频时间就是视频加速的时间\n",
    "    final_duration = None # 倍速播放持续时间 ，可以为空表使全部\n",
    "    video = video.fx(vfx.speedx, factor , final_duration)\n",
    "\n",
    "    # 视频和音频合成在一起\n",
    "    video_result = video.set_audio(audio)\n",
    "    \n",
    "    # 视频中添加水印\n",
    "    logo = (\n",
    "        ImageClip(\"./base_data/水印1.png\")\n",
    "            .set_duration(video_result.duration)  # 水印持续时间\n",
    "            .resize(height=200)  # 水印的高度，会等比缩放\n",
    "            .set_pos((\"left\", \"top\"))  # 水印的位置\n",
    "    )\n",
    "    \n",
    "    # 文件进行保存到结果文件中\n",
    "    cvc = CompositeVideoClip([video_result,logo])\n",
    "    # 合成无片头文件\n",
    "    cvc.write_videofile(\"result_video/no_\" + file_name + \".mp4\")"
   ]
  }
 ],
 "metadata": {
  "kernelspec": {
   "display_name": "Python 3",
   "language": "python",
   "name": "python3"
  },
  "language_info": {
   "codemirror_mode": {
    "name": "ipython",
    "version": 3
   },
   "file_extension": ".py",
   "mimetype": "text/x-python",
   "name": "python",
   "nbconvert_exporter": "python",
   "pygments_lexer": "ipython3",
   "version": "3.6.5"
  },
  "toc": {
   "base_numbering": 1,
   "nav_menu": {},
   "number_sections": true,
   "sideBar": true,
   "skip_h1_title": false,
   "title_cell": "Table of Contents",
   "title_sidebar": "Contents",
   "toc_cell": false,
   "toc_position": {
    "height": "calc(100% - 180px)",
    "left": "10px",
    "top": "150px",
    "width": "296px"
   },
   "toc_section_display": true,
   "toc_window_display": true
  }
 },
 "nbformat": 4,
 "nbformat_minor": 2
}
