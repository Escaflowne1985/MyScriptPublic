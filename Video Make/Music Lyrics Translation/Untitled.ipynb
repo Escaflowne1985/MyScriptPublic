{
 "cells": [
  {
   "cell_type": "code",
   "execution_count": 1,
   "id": "d6efaed1",
   "metadata": {},
   "outputs": [],
   "source": [
    "from pychorus import find_and_output_chorus\n",
    "from moviepy.editor import VideoFileClip\n",
    "from moviepy.editor import AudioFileClip\n",
    "import re\n",
    "from datetime import datetime, timedelta\n",
    "import pandas as pd"
   ]
  },
  {
   "cell_type": "code",
   "execution_count": 2,
   "id": "c33bf642",
   "metadata": {},
   "outputs": [
    {
     "name": "stdout",
     "output_type": "stream",
     "text": [
      "MoviePy - Writing audio in music/data.mp3\n"
     ]
    },
    {
     "name": "stderr",
     "output_type": "stream",
     "text": [
      "                                                                                                                       "
     ]
    },
    {
     "name": "stdout",
     "output_type": "stream",
     "text": [
      "MoviePy - Done.\n"
     ]
    },
    {
     "name": "stderr",
     "output_type": "stream",
     "text": [
      "\r"
     ]
    }
   ],
   "source": [
    "# 设置文件路径\n",
    "input_mp4 = \"music/data.mp4\"\n",
    "output_mp3 = \"music/data.mp3\"\n",
    "# 加载视频文件\n",
    "video = VideoFileClip(input_mp4)\n",
    "# 提取音频\n",
    "audio = video.audio\n",
    "# 保存为MP3文件\n",
    "audio.write_audiofile(output_mp3)"
   ]
  },
  {
   "cell_type": "code",
   "execution_count": 8,
   "id": "9a733b83",
   "metadata": {
    "collapsed": true
   },
   "outputs": [
    {
     "name": "stderr",
     "output_type": "stream",
     "text": [
      "Traceback (most recent call last):\n",
      "  File \"C:\\Users\\pc\\AppData\\Roaming\\Python\\Python39\\site-packages\\openai_whisper-20230314-py3.9.egg\\whisper\\audio.py\", line 46, in load_audio\n",
      "    ffmpeg.input(file, threads=0)\n",
      "  File \"C:\\Users\\pc\\AppData\\Roaming\\Python\\Python39\\site-packages\\ffmpeg_python-0.2.0-py3.9.egg\\ffmpeg\\_run.py\", line 325, in run\n",
      "    raise Error('ffmpeg', out, err)\n",
      "ffmpeg._run.Error: ffmpeg error (see stderr output for detail)\n",
      "\n",
      "The above exception was the direct cause of the following exception:\n",
      "\n",
      "Traceback (most recent call last):\n",
      "  File \"H:\\MyEnvsProject\\whisper\\Scripts\\whisper-script.py\", line 33, in <module>\n",
      "    sys.exit(load_entry_point('openai-whisper==20230314', 'console_scripts', 'whisper')())\n",
      "  File \"C:\\Users\\pc\\AppData\\Roaming\\Python\\Python39\\site-packages\\openai_whisper-20230314-py3.9.egg\\whisper\\transcribe.py\", line 437, in cli\n",
      "    result = transcribe(model, audio_path, temperature=temperature, **args)\n",
      "  File \"C:\\Users\\pc\\AppData\\Roaming\\Python\\Python39\\site-packages\\openai_whisper-20230314-py3.9.egg\\whisper\\transcribe.py\", line 121, in transcribe\n",
      "    mel = log_mel_spectrogram(audio, padding=N_SAMPLES)\n",
      "  File \"C:\\Users\\pc\\AppData\\Roaming\\Python\\Python39\\site-packages\\openai_whisper-20230314-py3.9.egg\\whisper\\audio.py\", line 130, in log_mel_spectrogram\n",
      "    audio = load_audio(audio)\n",
      "  File \"C:\\Users\\pc\\AppData\\Roaming\\Python\\Python39\\site-packages\\openai_whisper-20230314-py3.9.egg\\whisper\\audio.py\", line 51, in load_audio\n",
      "    raise RuntimeError(f\"Failed to load audio: {e.stderr.decode()}\") from e\n",
      "RuntimeError: Failed to load audio: ffmpeg version 2023-01-25-git-2c3107c3e9-essentials_build-www.gyan.dev Copyright (c) 2000-2023 the FFmpeg developers\n",
      "\n",
      "  built with gcc 12.2.0 (Rev10, Built by MSYS2 project)\n",
      "\n",
      "  configuration: --enable-gpl --enable-version3 --enable-static --disable-w32threads --disable-autodetect --enable-fontconfig --enable-iconv --enable-gnutls --enable-libxml2 --enable-gmp --enable-bzlib --enable-lzma --enable-zlib --enable-libsrt --enable-libssh --enable-libzmq --enable-avisynth --enable-sdl2 --enable-libwebp --enable-libx264 --enable-libx265 --enable-libxvid --enable-libaom --enable-libopenjpeg --enable-libvpx --enable-mediafoundation --enable-libass --enable-libfreetype --enable-libfribidi --enable-libvidstab --enable-libvmaf --enable-libzimg --enable-amf --enable-cuda-llvm --enable-cuvid --enable-ffnvcodec --enable-nvdec --enable-nvenc --enable-d3d11va --enable-dxva2 --enable-libvpl --enable-libgme --enable-libopenmpt --enable-libopencore-amrwb --enable-libmp3lame --enable-libtheora --enable-libvo-amrwbenc --enable-libgsm --enable-libopencore-amrnb --enable-libopus --enable-libspeex --enable-libvorbis --enable-librubberband\n",
      "\n",
      "  libavutil      57. 44.100 / 57. 44.100\n",
      "\n",
      "  libavcodec     59. 57.100 / 59. 57.100\n",
      "\n",
      "  libavformat    59. 36.100 / 59. 36.100\n",
      "\n",
      "  libavdevice    59.  8.101 / 59.  8.101\n",
      "\n",
      "  libavfilter     8. 54.100 /  8. 54.100\n",
      "\n",
      "  libswscale      6.  8.112 /  6.  8.112\n",
      "\n",
      "  libswresample   4.  9.100 /  4.  9.100\n",
      "\n",
      "  libpostproc    56.  7.100 / 56.  7.100\n",
      "\n",
      "data.mp4: No such file or directory\n",
      "\n",
      "\n"
     ]
    }
   ],
   "source": [
    "!H:\\MyEnvsProject\\whisper\\Scripts\\whisper.exe data.mp4 --model_dir H:\\MyGitProject\\下载视频处理操作\\Whisper\\model --model large"
   ]
  },
  {
   "cell_type": "code",
   "execution_count": 3,
   "id": "5e77526e",
   "metadata": {},
   "outputs": [],
   "source": [
    "data = \"\"\"\n",
    "[00:18.000 --> 00:23.000] 떠나지마 다시 한번 돌아봐\n",
    "[00:23.000 --> 00:27.000] 이렇게 만날 수 없는데\n",
    "[00:27.000 --> 00:31.000] Never say goodbye, You make me cry\n",
    "[00:31.000 --> 00:35.000] 기다려 너 하나만\n",
    "[00:36.000 --> 00:40.000] 날 바라보던 너의 그 눈빛, 널 놓친 날 정말 stupid, 이미 가슴에 꽂힌 Cupid\n",
    "[00:40.000 --> 00:44.000] 화살도 뽑아버렸어, 난 정말 바보지\n",
    "[00:44.000 --> 00:48.000] 쓸데없는 자존심, 세우다 못해 맘에도 없는 바보같은 말로\n",
    "[00:48.000 --> 00:52.000] 딱 잘라서 너를 보냈어\n",
    "[00:52.000 --> 00:56.000] 이렇게 떠나 하루하루 어쩌나\n",
    "[00:56.000 --> 01:00.000] 끝까지 내게 이별을 서질러, 결국 내 입술은 참지 못해 네 이름을 흘러\n",
    "[01:00.000 --> 01:04.000] 바보같은 나, 오늘도 웃을 적을 못봐\n",
    "[01:04.000 --> 01:08.000] 꼭 힘들어 너도 이런 너와 같다면 돌아와, 제발 나를 잡아줘\n",
    "[01:08.000 --> 01:11.000] 떠나지마 다시 한번 돌아봐\n",
    "[01:11.000 --> 01:15.000] 이렇게 만날 수 없는데\n",
    "[01:15.000 --> 01:19.000] Never say goodbye, You make me cry\n",
    "[01:19.000 --> 01:23.000] 기다려 너 하나만\n",
    "[01:24.000 --> 01:28.000] You ain't my bad boy but, 내겐 좋은 사람 바로 너\n",
    "[01:28.000 --> 01:32.000] 너만이 my B.A.B.Y, 화나 가슴 아픈 B.A.B.Y\n",
    "[01:32.000 --> 01:36.000] 하루 종일 바라보는 전화기, 이런 내 마음을 하늘이 전하길\n",
    "[01:36.000 --> 01:40.000] 아직 이별 앞에 서툴러, Want you back it's time to love\n",
    "[01:40.000 --> 01:44.000] 이렇게 떠나 하루하루 어쩌나\n",
    "[01:44.000 --> 01:48.000] 아직까지 내게 이별을 서질러, 결국 내 입술은 참지 못해 네 이름을 흘러\n",
    "[01:48.000 --> 01:52.000] 바보같은 나, 오늘도 웃을 적을 못봐\n",
    "[01:52.000 --> 01:56.000] 꼭 힘들어 너도 이런 너와 같다면 돌아와, 제발 나를 잡아줘\n",
    "[01:56.000 --> 01:59.000] 떠나지마 다시 한번 돌아봐\n",
    "[01:59.000 --> 02:03.000] 이렇게 보낼 수 없는데\n",
    "[02:03.000 --> 02:07.000] Never say goodbye, You make me cry\n",
    "[02:07.000 --> 02:11.000] 기다려 너 하나만\n",
    "[02:11.000 --> 02:19.000] 결국 이렇게 보낼 수 없는데\n",
    "[02:19.000 --> 02:24.000] 어디 있어 난 아직 여기에 있어\n",
    "[02:24.000 --> 02:28.000] 돌아와줘\n",
    "[02:28.000 --> 02:32.000] 사랑해도 사랑할 수 없는 너\n",
    "[02:32.000 --> 02:36.000] 이별을 지울 수 없는 너\n",
    "[02:36.000 --> 02:40.000] 남겨진 내겐 그저 눈물뿐\n",
    "[02:40.000 --> 02:44.000] I can't live without you\n",
    "[02:44.000 --> 02:48.000] 떠나지마 다시 한번 돌아봐\n",
    "[02:48.000 --> 02:52.000] 이렇게 보낼 수 없는데\n",
    "[02:52.000 --> 02:56.000] Never say goodbye, You make me cry\n",
    "[02:56.000 --> 03:01.000] 기다려 너 하나만\n",
    "\"\"\""
   ]
  },
  {
   "cell_type": "code",
   "execution_count": 4,
   "id": "02fecea0",
   "metadata": {},
   "outputs": [],
   "source": [
    "pattern = re.compile(r'\\[(\\d{2}:\\d{2}.\\d{3}) --> (\\d{2}:\\d{2}.\\d{3})\\] (.*)')\n",
    "\n",
    "result = []\n",
    "start = 0\n",
    "lines = data.split('\\n')\n",
    "data_list = []\n",
    "for line in lines:\n",
    "    match = pattern.match(line)\n",
    "    if match:\n",
    "        start_time, end_time, text = match.groups()\n",
    "        start = datetime.strptime(start_time, \"%M:%S.%f\")\n",
    "        end = datetime.strptime(end_time, \"%M:%S.%f\")\n",
    "        duration = end-start # 我们这里使用结束时间作为持续时间，如果需要其他方式的持续时间，可以在这里进行相应的计算\n",
    "        duration_seconds = duration.total_seconds()\n",
    "        result.append({'duration': duration_seconds, 'text': text})\n",
    "        data_list.append((duration_seconds,text))\n",
    "    \n",
    "    \n",
    "df = pd.DataFrame(data_list,columns=[\"duration\",\"text\"])"
   ]
  },
  {
   "cell_type": "code",
   "execution_count": 5,
   "id": "9f75a0d3",
   "metadata": {},
   "outputs": [],
   "source": [
    "df.to_excel(\"data.xlsx\")"
   ]
  },
  {
   "cell_type": "code",
   "execution_count": 8,
   "id": "7d2eebfe",
   "metadata": {},
   "outputs": [
    {
     "name": "stdout",
     "output_type": "stream",
     "text": [
      "MoviePy - Writing audio in wav/1.wav\n"
     ]
    },
    {
     "name": "stderr",
     "output_type": "stream",
     "text": [
      "                                                                                                                       \r"
     ]
    },
    {
     "name": "stdout",
     "output_type": "stream",
     "text": [
      "MoviePy - Done.\n",
      "MoviePy - Writing audio in wav/2.wav\n"
     ]
    },
    {
     "name": "stderr",
     "output_type": "stream",
     "text": [
      "                                                                                                                       \r"
     ]
    },
    {
     "name": "stdout",
     "output_type": "stream",
     "text": [
      "MoviePy - Done.\n",
      "MoviePy - Writing audio in wav/3.wav\n"
     ]
    },
    {
     "name": "stderr",
     "output_type": "stream",
     "text": [
      "                                                                                                                       "
     ]
    },
    {
     "name": "stdout",
     "output_type": "stream",
     "text": [
      "MoviePy - Done.\n"
     ]
    },
    {
     "name": "stderr",
     "output_type": "stream",
     "text": [
      "\r"
     ]
    },
    {
     "name": "stdout",
     "output_type": "stream",
     "text": [
      "MoviePy - Writing audio in wav/4.wav\n"
     ]
    },
    {
     "name": "stderr",
     "output_type": "stream",
     "text": [
      "                                                                                                                       \r"
     ]
    },
    {
     "name": "stdout",
     "output_type": "stream",
     "text": [
      "MoviePy - Done.\n",
      "MoviePy - Writing audio in wav/5.wav\n"
     ]
    },
    {
     "name": "stderr",
     "output_type": "stream",
     "text": [
      "                                                                                                                       \r"
     ]
    },
    {
     "name": "stdout",
     "output_type": "stream",
     "text": [
      "MoviePy - Done.\n",
      "MoviePy - Writing audio in wav/6.wav\n"
     ]
    },
    {
     "name": "stderr",
     "output_type": "stream",
     "text": [
      "                                                                                                                       \r"
     ]
    },
    {
     "name": "stdout",
     "output_type": "stream",
     "text": [
      "MoviePy - Done.\n",
      "MoviePy - Writing audio in wav/7.wav\n"
     ]
    },
    {
     "name": "stderr",
     "output_type": "stream",
     "text": [
      "                                                                                                                       "
     ]
    },
    {
     "name": "stdout",
     "output_type": "stream",
     "text": [
      "MoviePy - Done.\n"
     ]
    },
    {
     "name": "stderr",
     "output_type": "stream",
     "text": [
      "\r"
     ]
    },
    {
     "name": "stdout",
     "output_type": "stream",
     "text": [
      "MoviePy - Writing audio in wav/8.wav\n"
     ]
    },
    {
     "name": "stderr",
     "output_type": "stream",
     "text": [
      "                                                                                                                       \r"
     ]
    },
    {
     "name": "stdout",
     "output_type": "stream",
     "text": [
      "MoviePy - Done.\n",
      "MoviePy - Writing audio in wav/9.wav\n"
     ]
    },
    {
     "name": "stderr",
     "output_type": "stream",
     "text": [
      "                                                                                                                       \r"
     ]
    },
    {
     "name": "stdout",
     "output_type": "stream",
     "text": [
      "MoviePy - Done.\n",
      "MoviePy - Writing audio in wav/10.wav\n"
     ]
    },
    {
     "name": "stderr",
     "output_type": "stream",
     "text": [
      "                                                                                                                       \r"
     ]
    },
    {
     "name": "stdout",
     "output_type": "stream",
     "text": [
      "MoviePy - Done.\n",
      "MoviePy - Writing audio in wav/11.wav\n"
     ]
    },
    {
     "name": "stderr",
     "output_type": "stream",
     "text": [
      "                                                                                                                       \r"
     ]
    },
    {
     "name": "stdout",
     "output_type": "stream",
     "text": [
      "MoviePy - Done.\n",
      "MoviePy - Writing audio in wav/12.wav\n"
     ]
    },
    {
     "name": "stderr",
     "output_type": "stream",
     "text": [
      "                                                                                                                       \r"
     ]
    },
    {
     "name": "stdout",
     "output_type": "stream",
     "text": [
      "MoviePy - Done.\n",
      "MoviePy - Writing audio in wav/13.wav\n"
     ]
    },
    {
     "name": "stderr",
     "output_type": "stream",
     "text": [
      "                                                                                                                       \r"
     ]
    },
    {
     "name": "stdout",
     "output_type": "stream",
     "text": [
      "MoviePy - Done.\n",
      "MoviePy - Writing audio in wav/14.wav\n"
     ]
    },
    {
     "name": "stderr",
     "output_type": "stream",
     "text": [
      "                                                                                                                       \r"
     ]
    },
    {
     "name": "stdout",
     "output_type": "stream",
     "text": [
      "MoviePy - Done.\n",
      "MoviePy - Writing audio in wav/15.wav\n"
     ]
    },
    {
     "name": "stderr",
     "output_type": "stream",
     "text": [
      "                                                                                                                       \r"
     ]
    },
    {
     "name": "stdout",
     "output_type": "stream",
     "text": [
      "MoviePy - Done.\n",
      "MoviePy - Writing audio in wav/16.wav\n"
     ]
    },
    {
     "name": "stderr",
     "output_type": "stream",
     "text": [
      "                                                                                                                       "
     ]
    },
    {
     "name": "stdout",
     "output_type": "stream",
     "text": [
      "MoviePy - Done.\n"
     ]
    },
    {
     "name": "stderr",
     "output_type": "stream",
     "text": [
      "\r"
     ]
    },
    {
     "name": "stdout",
     "output_type": "stream",
     "text": [
      "MoviePy - Writing audio in wav/17.wav\n"
     ]
    },
    {
     "name": "stderr",
     "output_type": "stream",
     "text": [
      "                                                                                                                       "
     ]
    },
    {
     "name": "stdout",
     "output_type": "stream",
     "text": [
      "MoviePy - Done.\n"
     ]
    },
    {
     "name": "stderr",
     "output_type": "stream",
     "text": [
      "\r"
     ]
    },
    {
     "name": "stdout",
     "output_type": "stream",
     "text": [
      "MoviePy - Writing audio in wav/18.wav\n"
     ]
    },
    {
     "name": "stderr",
     "output_type": "stream",
     "text": [
      "                                                                                                                       "
     ]
    },
    {
     "name": "stdout",
     "output_type": "stream",
     "text": [
      "MoviePy - Done.\n"
     ]
    },
    {
     "name": "stderr",
     "output_type": "stream",
     "text": [
      "\r"
     ]
    },
    {
     "name": "stdout",
     "output_type": "stream",
     "text": [
      "MoviePy - Writing audio in wav/19.wav\n"
     ]
    },
    {
     "name": "stderr",
     "output_type": "stream",
     "text": [
      "                                                                                                                       \r"
     ]
    },
    {
     "name": "stdout",
     "output_type": "stream",
     "text": [
      "MoviePy - Done.\n",
      "MoviePy - Writing audio in wav/20.wav\n"
     ]
    },
    {
     "name": "stderr",
     "output_type": "stream",
     "text": [
      "                                                                                                                       \r"
     ]
    },
    {
     "name": "stdout",
     "output_type": "stream",
     "text": [
      "MoviePy - Done.\n",
      "MoviePy - Writing audio in wav/21.wav\n"
     ]
    },
    {
     "name": "stderr",
     "output_type": "stream",
     "text": [
      "                                                                                                                       \r"
     ]
    },
    {
     "name": "stdout",
     "output_type": "stream",
     "text": [
      "MoviePy - Done.\n",
      "MoviePy - Writing audio in wav/22.wav\n"
     ]
    },
    {
     "name": "stderr",
     "output_type": "stream",
     "text": [
      "                                                                                                                       \r"
     ]
    },
    {
     "name": "stdout",
     "output_type": "stream",
     "text": [
      "MoviePy - Done.\n",
      "MoviePy - Writing audio in wav/23.wav\n"
     ]
    },
    {
     "name": "stderr",
     "output_type": "stream",
     "text": [
      "                                                                                                                       "
     ]
    },
    {
     "name": "stdout",
     "output_type": "stream",
     "text": [
      "MoviePy - Done.\n"
     ]
    },
    {
     "name": "stderr",
     "output_type": "stream",
     "text": [
      "\r"
     ]
    },
    {
     "name": "stdout",
     "output_type": "stream",
     "text": [
      "MoviePy - Writing audio in wav/24.wav\n"
     ]
    },
    {
     "name": "stderr",
     "output_type": "stream",
     "text": [
      "                                                                                                                       "
     ]
    },
    {
     "name": "stdout",
     "output_type": "stream",
     "text": [
      "MoviePy - Done.\n"
     ]
    },
    {
     "name": "stderr",
     "output_type": "stream",
     "text": [
      "\r"
     ]
    },
    {
     "name": "stdout",
     "output_type": "stream",
     "text": [
      "MoviePy - Writing audio in wav/25.wav\n"
     ]
    },
    {
     "name": "stderr",
     "output_type": "stream",
     "text": [
      "                                                                                                                       \r"
     ]
    },
    {
     "name": "stdout",
     "output_type": "stream",
     "text": [
      "MoviePy - Done.\n",
      "MoviePy - Writing audio in wav/26.wav\n"
     ]
    },
    {
     "name": "stderr",
     "output_type": "stream",
     "text": [
      "                                                                                                                       "
     ]
    },
    {
     "name": "stdout",
     "output_type": "stream",
     "text": [
      "MoviePy - Done.\n"
     ]
    },
    {
     "name": "stderr",
     "output_type": "stream",
     "text": [
      "\r"
     ]
    },
    {
     "name": "stdout",
     "output_type": "stream",
     "text": [
      "MoviePy - Writing audio in wav/27.wav\n"
     ]
    },
    {
     "name": "stderr",
     "output_type": "stream",
     "text": [
      "                                                                                                                       "
     ]
    },
    {
     "name": "stdout",
     "output_type": "stream",
     "text": [
      "MoviePy - Done.\n"
     ]
    },
    {
     "name": "stderr",
     "output_type": "stream",
     "text": [
      "\r"
     ]
    },
    {
     "name": "stdout",
     "output_type": "stream",
     "text": [
      "MoviePy - Writing audio in wav/28.wav\n"
     ]
    },
    {
     "name": "stderr",
     "output_type": "stream",
     "text": [
      "                                                                                                                       \r"
     ]
    },
    {
     "name": "stdout",
     "output_type": "stream",
     "text": [
      "MoviePy - Done.\n",
      "MoviePy - Writing audio in wav/29.wav\n"
     ]
    },
    {
     "name": "stderr",
     "output_type": "stream",
     "text": [
      "                                                                                                                       \r"
     ]
    },
    {
     "name": "stdout",
     "output_type": "stream",
     "text": [
      "MoviePy - Done.\n",
      "MoviePy - Writing audio in wav/30.wav\n"
     ]
    },
    {
     "name": "stderr",
     "output_type": "stream",
     "text": [
      "                                                                                                                       \r"
     ]
    },
    {
     "name": "stdout",
     "output_type": "stream",
     "text": [
      "MoviePy - Done.\n",
      "MoviePy - Writing audio in wav/31.wav\n"
     ]
    },
    {
     "name": "stderr",
     "output_type": "stream",
     "text": [
      "                                                                                                                       "
     ]
    },
    {
     "name": "stdout",
     "output_type": "stream",
     "text": [
      "MoviePy - Done.\n"
     ]
    },
    {
     "name": "stderr",
     "output_type": "stream",
     "text": [
      "\r"
     ]
    },
    {
     "name": "stdout",
     "output_type": "stream",
     "text": [
      "MoviePy - Writing audio in wav/32.wav\n"
     ]
    },
    {
     "name": "stderr",
     "output_type": "stream",
     "text": [
      "                                                                                                                       \r"
     ]
    },
    {
     "name": "stdout",
     "output_type": "stream",
     "text": [
      "MoviePy - Done.\n",
      "MoviePy - Writing audio in wav/33.wav\n"
     ]
    },
    {
     "name": "stderr",
     "output_type": "stream",
     "text": [
      "                                                                                                                       \r"
     ]
    },
    {
     "name": "stdout",
     "output_type": "stream",
     "text": [
      "MoviePy - Done.\n",
      "MoviePy - Writing audio in wav/34.wav\n"
     ]
    },
    {
     "name": "stderr",
     "output_type": "stream",
     "text": [
      "                                                                                                                       \r"
     ]
    },
    {
     "name": "stdout",
     "output_type": "stream",
     "text": [
      "MoviePy - Done.\n",
      "MoviePy - Writing audio in wav/35.wav\n"
     ]
    },
    {
     "name": "stderr",
     "output_type": "stream",
     "text": [
      "                                                                                                                       \r"
     ]
    },
    {
     "name": "stdout",
     "output_type": "stream",
     "text": [
      "MoviePy - Done.\n",
      "MoviePy - Writing audio in wav/36.wav\n"
     ]
    },
    {
     "name": "stderr",
     "output_type": "stream",
     "text": [
      "                                                                                                                       \r"
     ]
    },
    {
     "name": "stdout",
     "output_type": "stream",
     "text": [
      "MoviePy - Done.\n",
      "MoviePy - Writing audio in wav/37.wav\n"
     ]
    },
    {
     "name": "stderr",
     "output_type": "stream",
     "text": [
      "                                                                                                                       "
     ]
    },
    {
     "name": "stdout",
     "output_type": "stream",
     "text": [
      "MoviePy - Done.\n"
     ]
    },
    {
     "name": "stderr",
     "output_type": "stream",
     "text": [
      "\r"
     ]
    },
    {
     "name": "stdout",
     "output_type": "stream",
     "text": [
      "MoviePy - Writing audio in wav/38.wav\n"
     ]
    },
    {
     "name": "stderr",
     "output_type": "stream",
     "text": [
      "                                                                                                                       \r"
     ]
    },
    {
     "name": "stdout",
     "output_type": "stream",
     "text": [
      "MoviePy - Done.\n",
      "MoviePy - Writing audio in wav/39.wav\n"
     ]
    },
    {
     "name": "stderr",
     "output_type": "stream",
     "text": [
      "                                                                                                                       "
     ]
    },
    {
     "name": "stdout",
     "output_type": "stream",
     "text": [
      "MoviePy - Done.\n"
     ]
    },
    {
     "name": "stderr",
     "output_type": "stream",
     "text": [
      "\r"
     ]
    }
   ],
   "source": [
    "for i in range(len(df)):\n",
    "    t = 194.85\n",
    "    audio = AudioFileClip(output_mp3)\n",
    "    audio = audio.subclip(t-int(df[\"duration\"][i]))\n",
    "    audio.duration\n",
    "    # 保存截取后的音频\n",
    "    audio.write_audiofile(\"wav/\"+str(int(i)+1)+\".wav\")"
   ]
  },
  {
   "cell_type": "code",
   "execution_count": null,
   "id": "5c56be7a",
   "metadata": {},
   "outputs": [],
   "source": []
  }
 ],
 "metadata": {
  "kernelspec": {
   "display_name": "Python 3 (ipykernel)",
   "language": "python",
   "name": "python3"
  },
  "language_info": {
   "codemirror_mode": {
    "name": "ipython",
    "version": 3
   },
   "file_extension": ".py",
   "mimetype": "text/x-python",
   "name": "python",
   "nbconvert_exporter": "python",
   "pygments_lexer": "ipython3",
   "version": "3.10.9"
  },
  "toc": {
   "base_numbering": 1,
   "nav_menu": {},
   "number_sections": true,
   "sideBar": true,
   "skip_h1_title": false,
   "title_cell": "Table of Contents",
   "title_sidebar": "Contents",
   "toc_cell": false,
   "toc_position": {},
   "toc_section_display": true,
   "toc_window_display": false
  }
 },
 "nbformat": 4,
 "nbformat_minor": 5
}
