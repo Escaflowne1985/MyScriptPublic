{
 "cells": [
  {
   "cell_type": "code",
   "execution_count": 1,
   "id": "f5531562",
   "metadata": {},
   "outputs": [],
   "source": [
    "from moviepy.editor import *\n",
    "import os\n",
    "from PIL import Image\n",
    "import glob\n",
    "import librosa\n",
    "import random\n",
    "import re\n",
    "import pandas as pd\n",
    "import requests\n",
    "from urllib import parse\n",
    "from bs4 import BeautifulSoup\n",
    "import time\n",
    "from pychorus import find_and_output_chorus\n",
    "import shutil\n",
    "import subprocess"
   ]
  },
  {
   "cell_type": "markdown",
   "id": "6b67c81e",
   "metadata": {},
   "source": [
    "# 全局设置"
   ]
  },
  {
   "cell_type": "code",
   "execution_count": 11,
   "id": "c9f8f488",
   "metadata": {},
   "outputs": [],
   "source": [
    "# 设置素材关键词\n",
    "word_list = [\"足球小将\",\"大空翼\"]\n",
    "# 整体分辨率设置\n",
    "full_screen = (1920,1080)\n",
    "re_full_screen = (1080,1920)\n",
    "# 音乐路径\n",
    "mp3_path = \"mp3_data/\"\n",
    "# 图片保存地址\n",
    "image_path = \"image/\"\n",
    "# 图片列表路径\n",
    "image_cut_list_path = \"image_list/\"\n",
    "# 生成素材图片目录\n",
    "result_data = \"result_data/\"\n",
    "# 设置单张图片最大的画面切分数\n",
    "image_cut_num = 10\n",
    "# 音乐高潮自动截取时间s\n",
    "high_second = 25\n",
    "# 字体文件路径\n",
    "font_path = \"font/kaiti.ttf\"\n",
    "# 制作视频目录\n",
    "make_movie= \"make_movie/\"\n",
    "\n",
    "# 边框设置\n",
    "mar = 10 # 外边框的宽度像素，mar指定了有效值，left、right、top、bottom设定不起作用\n",
    "opacity = 0.5 # 边框透明度，0完全透明，1完全不透明"
   ]
  },
  {
   "cell_type": "markdown",
   "id": "2ba0548c",
   "metadata": {},
   "source": [
    "# 清空无用素材"
   ]
  },
  {
   "cell_type": "code",
   "execution_count": 3,
   "id": "dfba37d5",
   "metadata": {},
   "outputs": [],
   "source": [
    "shutil.rmtree(image_path)\n",
    "os.mkdir(image_path)\n",
    "shutil.rmtree(image_cut_list_path)\n",
    "os.mkdir(image_cut_list_path)\n",
    "shutil.rmtree(result_data)\n",
    "os.mkdir(result_data)\n",
    "for infile in glob.glob(os.path.join(mp3_path, '*.wav')):\n",
    "    os.remove(infile)\n",
    "for infile in glob.glob(os.path.join(mp3_path, '*.mp4')):\n",
    "    os.remove(infile)"
   ]
  },
  {
   "cell_type": "markdown",
   "id": "b647bd74",
   "metadata": {},
   "source": [
    "# 音频处理"
   ]
  },
  {
   "cell_type": "markdown",
   "id": "4e5ac000",
   "metadata": {},
   "source": [
    "## 提取音乐中的高潮部分"
   ]
  },
  {
   "cell_type": "code",
   "execution_count": 5,
   "id": "9ee444d6",
   "metadata": {},
   "outputs": [
    {
     "name": "stderr",
     "output_type": "stream",
     "text": [
      "D:\\MyTools\\Anaconda3\\lib\\site-packages\\librosa\\util\\decorators.py:88: UserWarning: PySoundFile failed. Trying audioread instead.\n",
      "  return f(*args, **kwargs)\n"
     ]
    },
    {
     "name": "stdout",
     "output_type": "stream",
     "text": [
      "Best chorus found at 1 min 45.61 sec\n"
     ]
    }
   ],
   "source": [
    "chorus_start_sec = find_and_output_chorus(mp3_path + os.listdir(mp3_path)[0], \"wav_plot/high.wav\", high_second)"
   ]
  },
  {
   "cell_type": "markdown",
   "id": "f3871682",
   "metadata": {},
   "source": [
    "## 获取音乐节拍列表"
   ]
  },
  {
   "cell_type": "code",
   "execution_count": 6,
   "id": "c7b41003",
   "metadata": {},
   "outputs": [
    {
     "name": "stderr",
     "output_type": "stream",
     "text": [
      "C:\\Users\\pc\\AppData\\Local\\Temp\\ipykernel_41020\\262497375.py:6: FutureWarning: Pass y=[0.14678955 0.14126587 0.15505981 ... 0.2170105  0.399292   0.1968689 ] as keyword args. From version 0.10 passing these as positional arguments will result in an error\n",
      "  onset_frames = librosa.onset.onset_detect(x, sr=sr)\n"
     ]
    }
   ],
   "source": [
    "# 读取音频文件\n",
    "audio = AudioFileClip(\"wav_plot/high.wav\")\n",
    "# 获取音乐节拍\n",
    "x, sr = librosa.load(\"wav_plot/high.wav\")\n",
    "# 构建节拍fram\n",
    "onset_frames = librosa.onset.onset_detect(x, sr=sr)\n",
    "# 转换音乐节拍切换成秒数\n",
    "onset_times = librosa.frames_to_time(onset_frames)\n",
    "# 将秒数时间保留两位小暑\n",
    "onset_times = [round(i,2) for i in onset_times]\n",
    "# onset_times"
   ]
  },
  {
   "cell_type": "markdown",
   "id": "963cc5d6",
   "metadata": {},
   "source": [
    "## 音乐节拍递归分组"
   ]
  },
  {
   "cell_type": "code",
   "execution_count": 7,
   "id": "31e48316",
   "metadata": {
    "code_folding": [
     1
    ],
    "scrolled": true
   },
   "outputs": [],
   "source": [
    "# 音乐节拍递归切分\n",
    "def func(listTemp, n):\n",
    "    for i in range(0, len(listTemp), n):\n",
    "        yield listTemp[i:i + n]\n",
    "        \n",
    "temp = func(onset_times,image_cut_num)\n",
    "\n",
    "time_cut_list = [i for i in temp]\n",
    "\n",
    "# 时间列表追加结束时间\n",
    "time_cut_list[-1].append(audio.duration)\n",
    "# time_cut_list"
   ]
  },
  {
   "cell_type": "markdown",
   "id": "621ae6e7",
   "metadata": {},
   "source": [
    "## 生成音乐节拍卡点波形视频"
   ]
  },
  {
   "cell_type": "code",
   "execution_count": 8,
   "id": "7f91d5cd",
   "metadata": {},
   "outputs": [],
   "source": [
    "cmd = \"python .\\main.py high -m bars --output\"\n",
    "p = subprocess.call(cmd,cwd=\"./wav_plot\")"
   ]
  },
  {
   "cell_type": "markdown",
   "id": "fbd22a68",
   "metadata": {},
   "source": [
    "## 获取分组数对照图片素材"
   ]
  },
  {
   "cell_type": "code",
   "execution_count": 9,
   "id": "22a8bd69",
   "metadata": {},
   "outputs": [
    {
     "data": {
      "text/plain": [
       "10"
      ]
     },
     "execution_count": 9,
     "metadata": {},
     "output_type": "execute_result"
    }
   ],
   "source": [
    "# 最少要有11张素材图片才能完成视频\n",
    "len(time_cut_list)"
   ]
  },
  {
   "cell_type": "markdown",
   "id": "1bd34811",
   "metadata": {},
   "source": [
    "# 图片数据下载"
   ]
  },
  {
   "cell_type": "markdown",
   "id": "23afbabe",
   "metadata": {},
   "source": [
    "## 百度通过关键字爬素材"
   ]
  },
  {
   "cell_type": "code",
   "execution_count": 13,
   "id": "ef7e5879",
   "metadata": {},
   "outputs": [],
   "source": [
    "if word_list is not None:\n",
    "    # 设置图片搜索关键字\n",
    "    for pic_name in word_list:\n",
    "        # 设置搜索url\n",
    "        name_code = parse.quote(pic_name)\n",
    "        url = \"https://image.baidu.com/search/index?ct=201326592&z=&tn=baiduimage&ipn=r&word={}&pn=&spn=&istype=2&ie=utf-8&oe=utf-8&cl=2&lm=-1&st=-1&fr=&fmq=1661475165369_R&ic=&se=&sme=&width=1920&height=1080&face=0&hd=1&latest=0&copyright=0&cs=&os=&objurl=&di=&gsm=5a&dyTabStr=MCwyLDMsNiw1LDEsNCw4LDcsOQ%3D%3D\".format(\n",
    "            pic_name)\n",
    "        # 添加浏览器header 为了省事部改代码cookie手动复制\n",
    "        headers = {\n",
    "            'user-Agent': 'Mozilla/5.0 (Windows NT 10.0; Win64; x64) AppleWebKit/537.36 (KHTML, like Gecko) Chrome/104.0.0.0 Safari/537.36',\n",
    "            'cookie': \"BDqhfp=%E7%BB%B4%E4%B9%9F%E7%BA%B3%26%2619201080-10-1undefined%26%260%26%261; winWH=%5E6_1535x722; BDIMGISLOGIN=0; BIDUPSID=5C0E2C65602B6F0BD63D59645FD1DFD7; PSTM=1650591244; BAIDUID=5C0E2C65602B6F0BC07F935D43829E5A:FG=1; BDUSS=y1WNmV5M2x6TnFVdnZSVE9GSE9QdDVzakFNa0pwSVl1ZWRzeWVDWGVRd1cxUjFqRUFBQUFBJCQAAAAAAAAAAAEAAADRkZcEy77C7eVr4oAAAAAAAAAAAAAAAAAAAAAAAAAAAAAAAAAAAAAAAAAAAAAAAAAAAAAAAAAAAAAAAAAAAAAAAAAAABZI9mIWSPZiS; BDUSS_BFESS=y1WNmV5M2x6TnFVdnZSVE9GSE9QdDVzakFNa0pwSVl1ZWRzeWVDWGVRd1cxUjFqRUFBQUFBJCQAAAAAAAAAAAEAAADRkZcEy77C7eVr4oAAAAAAAAAAAAAAAAAAAAAAAAAAAAAAAAAAAAAAAAAAAAAAAAAAAAAAAAAAAAAAAAAAAAAAAAAAABZI9mIWSPZiS; BDORZ=B490B5EBF6F3CD402E515D22BCDA1598; BDSFRCVID=jJ4OJeC627qj1E7jW5Xs-5LL1evNIK7TH6aopE2tRs2Trywsj14bEG0Pjf8g0Kubqm_IogKK02OTHz-F_2uxOjjg8UtVJeC6EG0Ptf8g0M5; H_BDCLCKID_SF=tJ4DoD-hJKK3MCIwK-rjq4tehHRBBj39WDTm_D_5-RFasD3F3ToiKIr0X-kDKR5wWm0f-pPKKR72sDom0R-K3bD-5pbBJ63a3mkjbncDfn02OP5PKtcryt4syP4jJfRnWTLLKfA-b4ncjRcTehoM3xI8LNj405OTbIFO0KJzJCcjqR8ZDT-KD5bP; H_PS_PSSID=37154_36561_37112_36884_37003_37137_26350_36863_37202_37234; delPer=0; PSINO=2; BAIDUID_BFESS=5C0E2C65602B6F0BC07F935D43829E5A:FG=1; BDSFRCVID_BFESS=jJ4OJeC627qj1E7jW5Xs-5LL1evNIK7TH6aopE2tRs2Trywsj14bEG0Pjf8g0Kubqm_IogKK02OTHz-F_2uxOjjg8UtVJeC6EG0Ptf8g0M5; H_BDCLCKID_SF_BFESS=tJ4DoD-hJKK3MCIwK-rjq4tehHRBBj39WDTm_D_5-RFasD3F3ToiKIr0X-kDKR5wWm0f-pPKKR72sDom0R-K3bD-5pbBJ63a3mkjbncDfn02OP5PKtcryt4syP4jJfRnWTLLKfA-b4ncjRcTehoM3xI8LNj405OTbIFO0KJzJCcjqR8ZDT-KD5bP; BDRCVFR[dG2JNJb_ajR]=mk3SLVN4HKm; userFrom=www.baidu.com; BDRCVFR[-pGxjrCMryR]=mk3SLVN4HKm; cleanHistoryStatus=0; BDRCVFR[Txj84yDU4nc]=mk3SLVN4HKm; indexPageSugList=%5B%22%E7%BB%B4%E4%B9%9F%E7%BA%B3%22%2C%22%E8%B4%9D%E5%A4%9A%E8%8A%AC%22%2C%22%E6%9F%8F%E6%8B%89%E5%9B%BE%20%E6%95%B0%E6%8D%AE%E5%88%86%E6%9E%90%22%2C%22%E7%BE%8E%E5%B0%91%E5%A5%B3%E6%88%98%E5%A3%AB%20%E5%A3%81%E7%BA%B8%22%2C%22%E7%BE%8E%E5%B0%91%E5%A5%B3%E6%88%98%E5%A3%AB%20%E6%9C%A8%E6%98%9F%22%2C%22%E7%BE%8E%E5%B0%91%E5%A5%B3%E6%88%98%E5%A3%AB%22%2C%22%E7%BE%8E%E5%B0%91%E5%A5%B3%E5%B1%95%E7%A4%BA%22%2C%22%E6%98%8E%E6%97%A5%E8%8A%B1%E7%BB%AE%E7%BD%97%22%5D; BDRCVFR[tox4WRQ4-Km]=mk3SLVN4HKm; ab_sr=1.0.1_ZjE0NmM5OTc0ZjU0M2RiZDUyZTU4NWQ3MTYzMmQwZjRhM2Y4OGQ5MDRlYmVjYWRkZmMyY2Y2NTYzMzBjZGEyNGRhNDQ2YTVlYzI0YTQyZWI0MzhjMmQ0NTA0MGY5MDZiZjg1YjFiMDUxNTg3Y2NiZDU5M2UwNWI4OGVkYjQyNWI3Zjk1MWY1OWI5ZDk4YWEzYWVjZWZiMjViZTNlOGI0N\"\n",
    "        }\n",
    "        html = requests.get(url, headers=headers)\n",
    "        html.encoding = \"utf8\"\n",
    "        soup = BeautifulSoup(html.text, 'lxml')\n",
    "\n",
    "        reg = 'https://img2.(?:[a-zA-Z]|[0-9]|[$-_@.&+]|[!*\\(\\),]|(?:%[0-9a-fA-F][0-9a-fA-F]))+'\n",
    "        img_down_list = re.findall(reg, soup.find_all(\"script\")[-1].text)\n",
    "\n",
    "        for jpg_url in img_down_list:\n",
    "            html = requests.get(jpg_url)\n",
    "            #     print(jpg_url)\n",
    "            with open(image_path + str(int(time.time())) + \".jpg\", 'wb') as file:\n",
    "                file.write(html.content)\n",
    "            time.sleep(0.1)"
   ]
  },
  {
   "cell_type": "markdown",
   "id": "e7ef3bdd",
   "metadata": {},
   "source": [
    "## 手动选取一些素材"
   ]
  },
  {
   "cell_type": "code",
   "execution_count": 14,
   "id": "b13331cf",
   "metadata": {},
   "outputs": [],
   "source": [
    "# 未来补充下载地址"
   ]
  },
  {
   "cell_type": "markdown",
   "id": "a3152cbf",
   "metadata": {},
   "source": [
    "## 统一修改下载图片尺寸"
   ]
  },
  {
   "cell_type": "code",
   "execution_count": 15,
   "id": "296c363a",
   "metadata": {
    "code_folding": [
     8
    ]
   },
   "outputs": [],
   "source": [
    "image_dir_list=os.listdir(image_path)\n",
    "random.shuffle(image_dir_list)\n",
    "\n",
    "# 设置图片时间轴2个,2用于覆盖1\n",
    "image_dir_list_1 = image_dir_list[:len(time_cut_list)]\n",
    "image_dir_list_2 = image_dir_list[1:len(time_cut_list)+1]\n",
    "\n",
    "# 将所有图片统一尺寸为 full_screen\n",
    "for i in image_dir_list_1+image_dir_list_2:\n",
    "    img_path = Image.open(image_path+i)\n",
    "    img_size = img_path.resize(full_screen)\n",
    "    img_size.save(image_path+i, 'JPEG')"
   ]
  },
  {
   "cell_type": "markdown",
   "id": "6f9a5b14",
   "metadata": {},
   "source": [
    "## 使用图像制作视频底板"
   ]
  },
  {
   "cell_type": "code",
   "execution_count": 16,
   "id": "a11dae57",
   "metadata": {
    "code_folding": [
     3
    ]
   },
   "outputs": [
    {
     "name": "stdout",
     "output_type": "stream",
     "text": [
      "Moviepy - Building video result_data/base.mp4.\n",
      "MoviePy - Writing audio in baseTEMP_MPY_wvf_snd.mp3\n"
     ]
    },
    {
     "name": "stderr",
     "output_type": "stream",
     "text": [
      "                                                                                                                       \r"
     ]
    },
    {
     "name": "stdout",
     "output_type": "stream",
     "text": [
      "MoviePy - Done.\n",
      "Moviepy - Writing video result_data/base.mp4\n",
      "\n"
     ]
    },
    {
     "name": "stderr",
     "output_type": "stream",
     "text": [
      "                                                                                                                       \r"
     ]
    },
    {
     "name": "stdout",
     "output_type": "stream",
     "text": [
      "Moviepy - Done !\n",
      "Moviepy - video ready result_data/base.mp4\n"
     ]
    }
   ],
   "source": [
    "start_time = 0\n",
    "n = 1 # 创建动态变量计数\n",
    "image_clip_list = [] # 动态变量列表\n",
    "for jpg,t in zip(image_dir_list_1,range(len(time_cut_list))):\n",
    "    image_clip = (\n",
    "        ImageClip(image_path+jpg)\n",
    "            .set_duration(max(time_cut_list[t])-start_time)\n",
    "            .set_start(start_time)\n",
    "    )\n",
    "    start_time = max(time_cut_list[t])\n",
    "    \n",
    "    # 动态变量设置\n",
    "    locals()[\"image_clip\"+str(n)] = image_clip\n",
    "    image_clip_list.append(locals()[\"image_clip\"+str(n)])\n",
    "    n = n + 1\n",
    "\n",
    "    \n",
    "cvc = concatenate_videoclips(image_clip_list)\n",
    "# 将背景音乐合成到mp4中\n",
    "audio = AudioFileClip('wav_plot/high.wav')\n",
    "cvc = cvc.set_audio(audio)\n",
    "cvc.write_videofile(result_data+\"base.mp4\", fps=60)"
   ]
  },
  {
   "cell_type": "markdown",
   "id": "2c28f49c",
   "metadata": {},
   "source": [
    "# 制作切分片段"
   ]
  },
  {
   "cell_type": "markdown",
   "id": "f2fc745b",
   "metadata": {},
   "source": [
    "## 纵向百叶窗切分办法"
   ]
  },
  {
   "cell_type": "code",
   "execution_count": 17,
   "id": "83b9dd50",
   "metadata": {
    "code_folding": [
     2,
     11
    ]
   },
   "outputs": [],
   "source": [
    "# 根据切分的时间计算窗口的大小\n",
    "box_list = []\n",
    "for i in range(image_cut_num):\n",
    "    x1 = full_screen[0] / len(time_cut_list[0]) * i\n",
    "    y1 = 0\n",
    "    x2 = full_screen[0] / len(time_cut_list[0]) * (i + 1)\n",
    "    y2 = full_screen[1]\n",
    "    box_list.append((round(x1,2),round(y1,2),round(x2,2),round(y2,2)))\n",
    "# box_list\n",
    "\n",
    "# 获取全部节拍点切分图片的box像素点\n",
    "all_box_list = []\n",
    "for n in range(len(time_cut_list)):\n",
    "    # 设置图片切分的图片大小\n",
    "    box_list = []\n",
    "    for i in range(len(time_cut_list[n])):\n",
    "        x1 = full_screen[0] / len(time_cut_list[0]) * i\n",
    "        y1 = 0\n",
    "        x2 = full_screen[0] / len(time_cut_list[0]) * (i + 1)\n",
    "        y2 = full_screen[1]\n",
    "        box_list.append((round(x1,2),round(y1,2),round(x2,2),round(y2,2)))\n",
    "    # 获得切分的图像的像素列表\n",
    "    all_box_list.append(box_list)"
   ]
  },
  {
   "cell_type": "markdown",
   "id": "d6b833e2",
   "metadata": {},
   "source": [
    "## 构建图像数据切分字典"
   ]
  },
  {
   "cell_type": "code",
   "execution_count": 23,
   "id": "69d5d044",
   "metadata": {
    "code_folding": [
     2
    ]
   },
   "outputs": [
    {
     "ename": "IndexError",
     "evalue": "list index out of range",
     "output_type": "error",
     "traceback": [
      "\u001b[1;31m---------------------------------------------------------------------------\u001b[0m",
      "\u001b[1;31mIndexError\u001b[0m                                Traceback (most recent call last)",
      "Input \u001b[1;32mIn [23]\u001b[0m, in \u001b[0;36m<cell line: 3>\u001b[1;34m()\u001b[0m\n\u001b[0;32m      2\u001b[0m data_list \u001b[38;5;241m=\u001b[39m []\n\u001b[0;32m      3\u001b[0m \u001b[38;5;28;01mfor\u001b[39;00m n \u001b[38;5;129;01min\u001b[39;00m \u001b[38;5;28mrange\u001b[39m(\u001b[38;5;28mlen\u001b[39m(all_box_list)):\n\u001b[1;32m----> 4\u001b[0m     image \u001b[38;5;241m=\u001b[39m \u001b[43mimage_dir_list_2\u001b[49m\u001b[43m[\u001b[49m\u001b[43mn\u001b[49m\u001b[43m]\u001b[49m\n\u001b[0;32m      5\u001b[0m     list_ \u001b[38;5;241m=\u001b[39m []\n\u001b[0;32m      6\u001b[0m     \u001b[38;5;28;01mfor\u001b[39;00m i \u001b[38;5;129;01min\u001b[39;00m \u001b[38;5;28mrange\u001b[39m(\u001b[38;5;28mlen\u001b[39m(all_box_list[n])):\n",
      "\u001b[1;31mIndexError\u001b[0m: list index out of range"
     ]
    }
   ],
   "source": [
    "data_dict = {}\n",
    "data_list = []\n",
    "for n in range(len(all_box_list)):\n",
    "    image = image_dir_list_2[n]\n",
    "    list_ = []\n",
    "    for i in range(len(all_box_list[n])):\n",
    "        list_.append((all_box_list[n][i],time_cut_list[n][i],max(time_cut_list[n]))) # box \n",
    "    data_dict[image] = list_ # 列表数据应该是box time\n",
    "    data_list = data_list +list_"
   ]
  },
  {
   "cell_type": "markdown",
   "id": "60d07e7d",
   "metadata": {},
   "source": [
    "## 素材图像切分并排序"
   ]
  },
  {
   "cell_type": "code",
   "execution_count": 19,
   "id": "ed078edb",
   "metadata": {
    "code_folding": [
     2
    ]
   },
   "outputs": [],
   "source": [
    "n = 1\n",
    "# 将图片列表按照像素点切割\n",
    "for image_name in image_dir_list_2:\n",
    "    for k in data_dict[image_name]:\n",
    "        img = Image.open(image_path+image_name)\n",
    "        crop_img = img.crop(k[0])\n",
    "        crop_img.save(image_cut_list_path+str(n)+\".jpg\")  \n",
    "        n = n + 1\n",
    "        \n",
    "# 照片排序顺序\n",
    "image_cut_list_ = sorted(os.listdir(image_cut_list_path),key = lambda i:int(re.match(r'(\\d+)',i).group()))"
   ]
  },
  {
   "cell_type": "markdown",
   "id": "c5a6ef10",
   "metadata": {},
   "source": [
    "## 素材数据排列"
   ]
  },
  {
   "cell_type": "code",
   "execution_count": 20,
   "id": "ccf4db52",
   "metadata": {},
   "outputs": [],
   "source": [
    "df = pd.DataFrame(data_list,columns=[\"pos\",\"start\",\"end\"])\n",
    "df[\"jpg\"] = image_cut_list_\n",
    "# df.head(8)\n",
    "\n",
    "# 已经按照递归的方式打乱每张图的起始时间\n",
    "temp = func(df[\"start\"].to_list(),image_cut_num)\n",
    "time_cut_list = [i for i in temp]\n",
    "\n",
    "# 打乱每个组的时间顺序\n",
    "for i in time_cut_list:\n",
    "    random.shuffle(i)\n",
    "\n",
    "shffle_list = []\n",
    "for i in time_cut_list:\n",
    "    for j in i:\n",
    "        shffle_list.append(j)\n",
    "\n",
    "df[\"start\"] = list(shffle_list)"
   ]
  },
  {
   "cell_type": "markdown",
   "id": "b52c2616",
   "metadata": {},
   "source": [
    "# 视频生成"
   ]
  },
  {
   "cell_type": "markdown",
   "id": "898d44d6",
   "metadata": {},
   "source": [
    "## 整理队列数据添加视频片段和效果"
   ]
  },
  {
   "cell_type": "code",
   "execution_count": 21,
   "id": "5ccccc12",
   "metadata": {
    "code_folding": [
     3
    ]
   },
   "outputs": [],
   "source": [
    "# 全局变量计数使用\n",
    "n = 1\n",
    "image_clip_list = []\n",
    "for i in range(len(df)):\n",
    "    image_clip = (\n",
    "        ImageClip(image_cut_list_path+df[\"jpg\"][i])\n",
    "        .set_start(df[\"start\"][i])\n",
    "        .set_duration((df[\"end\"][i]-df[\"start\"][i]))\n",
    "        .set_position((df[\"pos\"][i][0],df[\"pos\"][i][1]))\n",
    "#         .set_position((\"center\",\"center\"))\n",
    "        .fadein(0.1)\n",
    "        .fx(vfx.margin, mar, color=(random.randint(0,255),random.randint(0,255),random.randint(0,255)), opacity=0.5)\n",
    "    )\n",
    "#     print(image_cut_list_path+df[\"jpg\"][i],df[\"end\"][i]-df[\"start\"][i],df[\"start\"][i],(df[\"pos\"][i][0],df[\"pos\"][i][1]))\n",
    "    # 动态变量设置\n",
    "    locals()[\"image_clip\"+str(n)] = image_clip\n",
    "    image_clip_list.append((locals()[\"image_clip\"+str(n)]))\n",
    "#     print(locals()[\"image_clip\"+str(n)].duration,locals()[\"image_clip\"+str(n)].start)\n",
    "    \n",
    "    n = n + 1"
   ]
  },
  {
   "cell_type": "markdown",
   "id": "6f12960e",
   "metadata": {},
   "source": [
    "## 素材按照数据队列生成视频"
   ]
  },
  {
   "cell_type": "code",
   "execution_count": 22,
   "id": "5738fa2e",
   "metadata": {
    "code_folding": []
   },
   "outputs": [
    {
     "name": "stdout",
     "output_type": "stream",
     "text": [
      "Moviepy - Building video result_data/result.mp4.\n",
      "MoviePy - Writing audio in resultTEMP_MPY_wvf_snd.mp3\n"
     ]
    },
    {
     "name": "stderr",
     "output_type": "stream",
     "text": [
      "                                                                                                                       \r"
     ]
    },
    {
     "name": "stdout",
     "output_type": "stream",
     "text": [
      "MoviePy - Done.\n",
      "Moviepy - Writing video result_data/result.mp4\n",
      "\n"
     ]
    },
    {
     "name": "stderr",
     "output_type": "stream",
     "text": [
      "t: 100%|██████████████████████████████████████████████████████████████████▊| 749/751 [01:29<00:00, 25.97it/s, now=None]D:\\MyTools\\Anaconda3\\lib\\site-packages\\moviepy\\video\\io\\ffmpeg_reader.py:154: UserWarning: In file result_data/base.mp4, 6220800 bytes wanted but 0 bytes read,at frame index 1500 (out of a total 1503 frames), at time 25.00/25.05 sec. Using the last valid frame instead.\n",
      "  warnings.warn(\n",
      "                                                                                                                       \r"
     ]
    },
    {
     "name": "stdout",
     "output_type": "stream",
     "text": [
      "Moviepy - Done !\n",
      "Moviepy - video ready result_data/result.mp4\n"
     ]
    }
   ],
   "source": [
    "video_base = VideoFileClip(result_data+\"base.mp4\")\n",
    "cvc = CompositeVideoClip([video_base]+image_clip_list)\n",
    "cvc.write_videofile(result_data+\"result.mp4\",fps=30)"
   ]
  },
  {
   "cell_type": "code",
   "execution_count": null,
   "id": "5d147525",
   "metadata": {},
   "outputs": [],
   "source": []
  }
 ],
 "metadata": {
  "kernelspec": {
   "display_name": "Python 3 (ipykernel)",
   "language": "python",
   "name": "python3"
  },
  "language_info": {
   "codemirror_mode": {
    "name": "ipython",
    "version": 3
   },
   "file_extension": ".py",
   "mimetype": "text/x-python",
   "name": "python",
   "nbconvert_exporter": "python",
   "pygments_lexer": "ipython3",
   "version": "3.9.12"
  },
  "toc": {
   "base_numbering": 1,
   "nav_menu": {},
   "number_sections": true,
   "sideBar": true,
   "skip_h1_title": false,
   "title_cell": "Table of Contents",
   "title_sidebar": "Contents",
   "toc_cell": false,
   "toc_position": {
    "height": "calc(100% - 180px)",
    "left": "10px",
    "top": "150px",
    "width": "252.675px"
   },
   "toc_section_display": true,
   "toc_window_display": true
  }
 },
 "nbformat": 4,
 "nbformat_minor": 5
}
