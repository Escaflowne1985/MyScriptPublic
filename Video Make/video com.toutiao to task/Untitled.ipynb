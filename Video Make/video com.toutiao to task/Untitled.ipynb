{
 "cells": [
  {
   "cell_type": "code",
   "execution_count": null,
   "id": "4b7c0754",
   "metadata": {},
   "outputs": [],
   "source": [
    "# 任务链接\n",
    "\n",
    "https://mp.toutiao.com/xg-editor-api/ttv/query?task_id=\n"
   ]
  },
  {
   "cell_type": "code",
   "execution_count": 15,
   "id": "1f10afd6",
   "metadata": {},
   "outputs": [],
   "source": [
    "import json\n",
    "import requests\n",
    "import pandas as pd"
   ]
  },
  {
   "cell_type": "markdown",
   "id": "4c625def",
   "metadata": {},
   "source": [
    "# 生成需要文档的数据集"
   ]
  },
  {
   "cell_type": "code",
   "execution_count": null,
   "id": "c1ddb859",
   "metadata": {
    "code_folding": []
   },
   "outputs": [
    {
     "name": "stdout",
     "output_type": "stream",
     "text": [
      "前些日子 0 1.58 https://v26-vvecloud.yangyi08.com/ff45038e6d3bbb5436866a9f953be961/63560e73/video/tos/cn/tos-cn-v-2cd6b0/0beec360c3a848b3bcfa11c45d763672/?mime_type=image_jpeg\n",
      "在中国和尼泊尔边界要修建一条中尼铁路 1.58 5.72 https://v3-vvecloud.yangyi08.com/a0888f0ed048f32c2e5d7069f54c1f04/63560e74/video/tos/cn/tos-cn-v-2cd6b0/232718a33d164433a23863ebf943629b/?mime_type=image_jpeg\n",
      "这里位于世界高海拔地区 5.72 8.38 https://v6-vvecloud.yangyi08.com/64e4f2fd29353dd945532ca60428aa07/63560e74/video/tos/cn/tos-cn-v-2cd6b0/4ed90059ac1f4a9e9b6f68dcb04f1212/?mime_type=image_jpeg\n",
      "到处都是超过六七千米的高山 8.38 11.55 https://v26-vvecloud.yangyi08.com/26756472a87f5539926e06e40453c7f4/63560e74/video/tos/cn/tos-cn-v-2cd6b0/44ef5709b2c540b98d73c3dc48800da8/?mime_type=image_jpeg\n",
      "其中就包括了世界最高峰珠穆朗玛峰 11.55 15.4 https://v9-vvecloud.yangyi08.com/2cdfee01ec62f254fccb8fa5e6e17f41/63560e73/video/tos/cn/tos-cn-v-2cd6b0/9b92a56c99054cb3b43186464906305e/?mime_type=image_jpeg\n",
      "在修建铁路时 必须要挖穿喜马拉雅山 15.4 19.58 https://v9-vvecloud.yangyi08.com/2beb03d59eb6075fd062d6c89a0c17cc/63560e73/video/tos/cn/tos-cn-v-2cd6b0/bd3ba0d232e04cbbbbf797f78e473af4/?mime_type=image_jpeg\n",
      "作为世界第一高山 19.58 21.81 https://v3-vvecloud.yangyi08.com/6d0974bf730f2c5ed930cbf6ac078cb0/63560e73/video/tos/cn/tos-cn-v-2cd6b0/6ea276f93cb649849b400d5de4e9182a/?mime_type=image_jpeg\n",
      "喜马拉雅山几乎都是坚固的岩石 施工难度极高 21.81 26.85 https://v6-vvecloud.yangyi08.com/a2c2b5bdb90e4d76137e9cde8e310850/63560e74/video/tos/cn/tos-cn-v-2cd6b0/9eb7987fced34c919b7d3f158a2f48e2/?mime_type=image_jpeg\n",
      "但挖隧道就离不开盾构机 26.85 29.69 https://v6-vvecloud.yangyi08.com/1250fb9c609cfc0b43adc6f242202b93/63560e73/video/tos/cn/tos-cn-v-2cd6b0/47068136e9274dce8d981f3467c5c281/?mime_type=image_jpeg\n",
      "盾构机干什么用的呢? 29.69 31.85 https://v6-vvecloud.yangyi08.com/1250fb9c609cfc0b43adc6f242202b93/63560e73/video/tos/cn/tos-cn-v-2cd6b0/47068136e9274dce8d981f3467c5c281/?mime_type=image_jpeg\n",
      "简单来说掏洞时使用 不论是修铁路的隧道涵洞 31.85 36.82 https://v6-vvecloud.yangyi08.com/37b98d03ecc8ab53a7aa4310cf671907/63560e74/video/tos/cn/tos-cn-v-2cd6b0/e5e967d78704428db12a71610ad808c4/?mime_type=image_jpeg\n",
      "还是城市内修地铁 在地下打洞都离不开盾构机 36.82 41.36 https://v6-vvecloud.yangyi08.com/37b98d03ecc8ab53a7aa4310cf671907/63560e74/video/tos/cn/tos-cn-v-2cd6b0/e5e967d78704428db12a71610ad808c4/?mime_type=image_jpeg\n",
      "说挖隧道大家都不陌生 41.36 44.17 https://v3-vvecloud.yangyi08.com/abe1d6700eee206064e1008f032dca7b/63560e74/video/tos/cn/tos-cn-v-2cd6b0/6814ee66254f4022b630eb3a6c356855/?mime_type=image_jpeg\n",
      "对咱们天津人来说更不陌生 当年引滦入津工程 44.17 49.35 https://v6-vvecloud.yangyi08.com/ec2a1f6a0f14155247d6c3e1b0f817e1/63560e73/video/tos/cn/tos-cn-v-2cd6b0/050e33f0737f4359bb1633f9d68c09f5/?mime_type=image_jpeg\n",
      "施工单位是铁道兵部队 49.35 51.98 https://v9-vvecloud.yangyi08.com/c43164c98dd022b56066cad57ba58007/63560e73/video/tos/cn/tos-cn-v-2cd6b0/f7183a15745242538f8e69f4e55a6b17/?mime_type=image_jpeg\n",
      "十几万铁道兵就是用这种最为原始的方式修了上 51.98 56.59 https://v9-vvecloud.yangyi08.com/2b3a03156cac80cf488b4093f0640ec0/63560e74/video/tos/cn/tos-cn-v-2cd6b0/ff363a5197714515b7ac492aecda3f43/?mime_type=image_jpeg\n",
      "千公里长的引滦入津工程 56.59 59.65 https://v3-vvecloud.yangyi08.com/f02233ee35e2ba1c59c64c6a65de3ce2/63560e73/video/tos/cn/tos-cn-v-2cd6b0/a457e1f595fe4da29e070985f2332247/?mime_type=image_jpeg\n",
      "解决了天津人民喝水的问题 59.65 62.75 https://v26-vvecloud.yangyi08.com/52a73e686708102c5fad37c92bdbe291/63560e73/video/tos/cn/tos-cn-v-2cd6b0/54377f1423804a649e337f55474aef63/?mime_type=image_jpeg\n",
      "那盾构机是怎么工作的呢? 62.75 65.31 https://v26-vvecloud.yangyi08.com/52a73e686708102c5fad37c92bdbe291/63560e73/video/tos/cn/tos-cn-v-2cd6b0/54377f1423804a649e337f55474aef63/?mime_type=image_jpeg\n",
      "比如说哪座山需要开一条隧道 65.31 68.44 https://v3-vvecloud.yangyi08.com/9daa97eee5b99fc5578b478025ab4c12/63560e74/video/tos/cn/tos-cn-v-2cd6b0/6bf08b67974b4971a742cd239a259ae9/?mime_type=image_jpeg\n",
      "先选好施工的作业面 68.44 70.89 https://v6-vvecloud.yangyi08.com/f2b3e84c78a5948498d12a2490581312/63560e73/video/tos/cn/tos-cn-v-2cd6b0/3c590b831c8b4c19a5d01ac12fb1cf3f/?mime_type=image_jpeg\n",
      "用封钻在岩石上面掏出一个洞 前面的人掏洞 70.89 75.57 https://v3-vvecloud.yangyi08.com/59c16e25df2eccb01dfad58311480a38/63560e73/video/tos/cn/tos-cn-v-2cd6b0/877e2666957a4a55a59540ca6828a345/?mime_type=image_jpeg\n",
      "后面的人分成好几波: 75.57 78.09 https://v3-vvecloud.yangyi08.com/59c16e25df2eccb01dfad58311480a38/63560e73/video/tos/cn/tos-cn-v-2cd6b0/877e2666957a4a55a59540ca6828a345/?mime_type=image_jpeg\n",
      "第1波人把这个碎石头通过人拉肩 78.09 81.65 https://v26-vvecloud.yangyi08.com/dc4ac0042fca4b42219b68df9be88675/63560e73/video/tos/cn/tos-cn-v-2cd6b0/3696ed159d7340a2ae8bc6f415953aa8/?mime_type=image_jpeg\n",
      "扛的方式抬出来 81.65 83.63 https://v3-vvecloud.yangyi08.com/f5f9ddbfe6f38a23cc309e8cdf6e4a19/63560e73/video/tos/cn/tos-cn-v-2cd6b0/dab0231824a7401093c67502b7c39831/?mime_type=image_jpeg\n",
      "第2波人开始在洞壁上搭脚手夹防止隧道坍塌 83.63 88.13 https://v6-vvecloud.yangyi08.com/17bddd3f25e71dc66fe20ca2f0aa0bb3/63560e74/video/tos/cn/tos-cn-v-2cd6b0/9d39315e9257492299aabb8f38416941/?mime_type=image_jpeg\n",
      "第3波人开始用抽水机把洞里的积水抽出来 88.13 92.56 https://v6-vvecloud.yangyi08.com/0f91fdee83fb346764464e82a671de01/63560e73/video/tos/cn/tos-cn-v-2cd6b0/ddf9aab62cf94c95a8f807e0abaccb90/?mime_type=image_jpeg\n",
      "当年引滦入津工程的隧道就是用 92.56 96.16 https://v6-vvecloud.yangyi08.com/0f91fdee83fb346764464e82a671de01/63560e73/video/tos/cn/tos-cn-v-2cd6b0/ddf9aab62cf94c95a8f807e0abaccb90/?mime_type=image_jpeg\n",
      "这种方式掏出来的 96.16 98.28 https://v9-vvecloud.yangyi08.com/aeed6e156a676210a5e7071e04fdc6da/63560e74/video/tos/cn/tos-cn-v-2cd6b0/3c78baaf20014d159f8dea861e4cf443/?mime_type=image_jpeg\n",
      "这种传统作业方式的缺点除了慢之外 98.28 102.06 https://v6-vvecloud.yangyi08.com/74ffa91bf32235da7d3fea5c95c6efdd/63560e73/video/tos/cn/tos-cn-v-2cd6b0/cde329d252af4f88be6b9290c4a02cf2/?mime_type=image_jpeg\n",
      "危险系数还比较高 102.06 104.4 https://v6-vvecloud.yangyi08.com/9b05a9076da2b3798b4839e59c16f832/63560e73/video/tos/cn/tos-cn-v-2cd6b0/c032f88bcffe4781a1bb06e1b16086ff/?mime_type=image_jpeg\n",
      "一旦发生了塌方事故就会造成大量的人员伤亡 104.4 108.9 https://v3-vvecloud.yangyi08.com/931557d3ac8fe0a0e9d613631f5f1eb6/63560e74/video/tos/cn/tos-cn-v-2cd6b0/ea01257807e945c89e4eb63fcb18aadd/?mime_type=image_jpeg\n",
      "在盾构机出现后这些问题都得到了解决 108.9 112.75 https://v3-vvecloud.yangyi08.com/510a7b445c0d4158996d350e25ce3337/63560e74/video/tos/cn/tos-cn-v-2cd6b0/b03f633553f943d1bced3806fe3ac3a7/?mime_type=image_jpeg\n",
      "一台大型盾构机掏动的速度是人工速度的几百倍 112.75 117.57 https://v3-vvecloud.yangyi08.com/510a7b445c0d4158996d350e25ce3337/63560e74/video/tos/cn/tos-cn-v-2cd6b0/b03f633553f943d1bced3806fe3ac3a7/?mime_type=image_jpeg\n",
      "人工掏隧道可能1个月也就是十几米的进度 117.57 121.85 https://v3-vvecloud.yangyi08.com/510a7b445c0d4158996d350e25ce3337/63560e74/video/tos/cn/tos-cn-v-2cd6b0/b03f633553f943d1bced3806fe3ac3a7/?mime_type=image_jpeg\n",
      "而盾构机一天就能掏几十米 而且前面掏 121.85 126.35 https://v3-vvecloud.yangyi08.com/2a6134c1eeba175bd7636d8510277211/63560e74/video/tos/cn/tos-cn-v-2cd6b0/39851d2fce8342e6935ad80c682c7c76/?mime_type=image_jpeg\n",
      "后面支撑结构一块跟着立起来 不会发生坍塌 126.35 130.6 https://v9-vvecloud.yangyi08.com/b764e009e407a07036677ad952c719af/63560e74/video/tos/cn/tos-cn-v-2cd6b0/84b6aa73a2d549caa2d621cd5aba773f/?mime_type=image_jpeg\n",
      "然而中国人第一次使用盾构机是在1997年 130.6 135.46 https://v9-vvecloud.yangyi08.com/37ef85b5b6faa82c834907ed51a319cb/63560e74/video/tos/cn/tos-cn-v-2cd6b0/441f6f65545d4179a1779f5b24c2c5cd/?mime_type=image_jpeg\n",
      "当时修建秦岭隧道 135.46 137.84 https://v6-vvecloud.yangyi08.com/23cf97d7d8236f9e24d2ca8cf9d1bd0a/63560e73/video/tos/cn/tos-cn-v-2cd6b0/89e1495a0fd04c8db423b5e26c63c26e/?mime_type=image_jpeg\n",
      "花了3.5亿人民币进口了一台德国大型盾构机 137.84 142.52 https://v26-vvecloud.yangyi08.com/493043afb9a777fff08bafa9e19ed290/63560e73/video/tos/cn/tos-cn-v-2cd6b0/73dfd3006112420ba536b815a9498c06/?mime_type=image_jpeg\n",
      "这时我们终于领教了盾构机的威力 142.52 145.94 https://v26-vvecloud.yangyi08.com/493043afb9a777fff08bafa9e19ed290/63560e73/video/tos/cn/tos-cn-v-2cd6b0/73dfd3006112420ba536b815a9498c06/?mime_type=image_jpeg\n",
      "在过去翻越秦岭一直是一道难题 145.94 149.58 https://v9-vvecloud.yangyi08.com/dbc339311825cb8b6347e19554fb08b3/63560e74/video/tos/cn/tos-cn-v-2cd6b0/2f1820ae78e54c09aeb6b00e9b20b7e5/?mime_type=image_jpeg\n",
      "修建宝城铁路时 从宝鸡到成都咱们整整修了6年 149.58 154.91 https://v3-vvecloud.yangyi08.com/1c9d5e00588e7b8c84573eb134e9cc06/63560e74/video/tos/cn/tos-cn-v-2cd6b0/1fa3ffc66af245629c725ae08fd746e7/?mime_type=image_jpeg\n",
      "其中最险的一段就是穿越秦岭 154.91 158.15 https://v6-vvecloud.yangyi08.com/73bc546bc4360f0d26d799978751ca66/63560e74/video/tos/cn/tos-cn-v-2cd6b0/2239cbc4659c49489f37e8b322ac3c24/?mime_type=image_jpeg\n",
      "当时咱们是受技术条件的限制 158.15 161.28 https://v6-vvecloud.yangyi08.com/fc5bfa35db432e7f841894d833c53668/63560e74/video/tos/cn/tos-cn-v-2cd6b0/24ea28a8d5b04bfea51527d1a2964cf6/?mime_type=image_jpeg\n"
     ]
    },
    {
     "name": "stdout",
     "output_type": "stream",
     "text": [
      "没有能力在秦岭开凿太长太深的隧道 161.28 165.13 https://v9-vvecloud.yangyi08.com/e83eacb05edf81927f467050898a2696/63560e74/video/tos/cn/tos-cn-v-2cd6b0/b93d586fcb814a0593a7211dcd101207/?mime_type=image_jpeg\n",
      "只能选择在半山腰开槽了两段合计 165.13 168.73 https://v3-vvecloud.yangyi08.com/188eee5fa024c0a91119a60c1e839b2c/63560e74/video/tos/cn/tos-cn-v-2cd6b0/b28a67c351dd4d65ad07699a566b15d4/?mime_type=image_jpeg\n",
      "长度500多米的隧道 168.73 171.14 https://v26-vvecloud.yangyi08.com/01019828e7fa3bd43450469fdda9168d/63560e74/video/tos/cn/tos-cn-v-2cd6b0/6a6e8a375d764fe6854b1ba74d4bf4a3/?mime_type=image_jpeg\n",
      "后来修建西康铁路 1995年开工 171.14 174.88 https://v9-vvecloud.yangyi08.com/0e5f73cecff10f9042f5178bacc46662/63560e74/video/tos/cn/tos-cn-v-2cd6b0/181635b4781e40d28f2c5d54b91f191e/?mime_type=image_jpeg\n",
      "2年后咱们从德国购买了大型的盾构机 174.88 178.95 https://v9-vvecloud.yangyi08.com/0e5f73cecff10f9042f5178bacc46662/63560e74/video/tos/cn/tos-cn-v-2cd6b0/181635b4781e40d28f2c5d54b91f191e/?mime_type=image_jpeg\n",
      "在它的加持下 178.95 180.75 https://v9-vvecloud.yangyi08.com/f6152d506c4b20c6fd6269a159f09ff9/63560e74/video/tos/cn/tos-cn-v-2cd6b0/99438af79fc34995a6e2975fde63850e/?mime_type=image_jpeg\n",
      "用了两年不到的功夫在秦岭掏了两条隧道 180.75 184.85 https://v9-vvecloud.yangyi08.com/f6152d506c4b20c6fd6269a159f09ff9/63560e74/video/tos/cn/tos-cn-v-2cd6b0/99438af79fc34995a6e2975fde63850e/?mime_type=image_jpeg\n",
      "一条去一条回 在盾构机的帮助下 184.85 188.2 https://v9-vvecloud.yangyi08.com/f6152d506c4b20c6fd6269a159f09ff9/63560e74/video/tos/cn/tos-cn-v-2cd6b0/99438af79fc34995a6e2975fde63850e/?mime_type=image_jpeg\n",
      "每一条隧道的长度都超过了18公里 188.2 191.84 https://v9-vvecloud.yangyi08.com/a87d262a95261881050a65a60a589d87/63560e74/video/tos/cn/tos-cn-v-2cd6b0/908e5f89dc614a019490ed3481cc0ca2/?mime_type=image_jpeg\n",
      "通过这组数据我们就能知道在没有盾构机前 191.84 196.02 https://v9-vvecloud.yangyi08.com/a87d262a95261881050a65a60a589d87/63560e74/video/tos/cn/tos-cn-v-2cd6b0/908e5f89dc614a019490ed3481cc0ca2/?mime_type=image_jpeg\n",
      "想要在秦岭挖隧道有多难 196.02 199.01 https://v9-vvecloud.yangyi08.com/1f65dc3e65aad1ab51ecc09a2bb76e04/63560e74/video/tos/cn/tos-cn-v-2cd6b0/eb6f9145d8ec4a9c835fc7b64fc5352f/?mime_type=image_jpeg\n",
      "而有了大型盾构机的加持 199.01 201.71 https://v26-vvecloud.yangyi08.com/68ae830e962f746d7e4ea302887120a6/63560e74/video/tos/cn/tos-cn-v-2cd6b0/35105a10cbef4e01b15b18f6020159dd/?mime_type=image_jpeg\n",
      "我们想怎么在秦岭上掏隧道就怎么掏 201.71 205.31 https://v9-vvecloud.yangyi08.com/691c5ff635fb70cfb49881d293012ef3/63560e74/video/tos/cn/tos-cn-v-2cd6b0/338206ed37664f55b4d36c110174847c/?mime_type=image_jpeg\n",
      "大型盾构机的出现也改变了中国 205.31 208.69 https://v3-vvecloud.yangyi08.com/ceb502162a707d0c370e39fa26e4336b/63560e74/video/tos/cn/tos-cn-v-2cd6b0/80c6c831efd444edae1275e82a3c6548/?mime_type=image_jpeg\n",
      "基础设施建设的进程 208.69 211.21 https://v9-vvecloud.yangyi08.com/08e61e1dced3b3bf1fdf0edb6d4452c3/63560e74/video/tos/cn/tos-cn-v-2cd6b0/542e8c8d109244f7859f5d4f32559b34/?mime_type=image_jpeg\n",
      "最初因为我们不会用 211.21 213.66 https://v9-vvecloud.yangyi08.com/08e61e1dced3b3bf1fdf0edb6d4452c3/63560e74/video/tos/cn/tos-cn-v-2cd6b0/542e8c8d109244f7859f5d4f32559b34/?mime_type=image_jpeg\n",
      "就要从德国请师傅工程师手把手地教 213.66 217.51 https://v9-vvecloud.yangyi08.com/67bf04332898901534daa83a9e99eafd/63560e75/video/tos/cn/tos-cn-v-2cd6b0/5846a67fde3c46ae97101830a20ffb55/?mime_type=image_jpeg\n",
      "而当时德国工程师定了一周只上一天班的规矩 217.51 221.9 https://v26-vvecloud.yangyi08.com/858a55d0a2bf1d00a169a5d069a6b5e0/63560e74/video/tos/cn/tos-cn-v-2cd6b0/edb43437e5a54732b402e9501282b6b5/?mime_type=image_jpeg\n",
      "剩下的6天完全看不到人 理由是什么呢? 221.9 226.22 https://v9-vvecloud.yangyi08.com/2642b2e47c401d04042b82269c618247/63560e74/video/tos/cn/tos-cn-v-2cd6b0/322b79436e864b828703283629cd3748/?mime_type=image_jpeg\n",
      "人家说得住在成都市里 不能住在山区的工地呀 226.22 230.58 https://v9-vvecloud.yangyi08.com/9a26fff08f109dc3832287b56aa89b04/63560e75/video/tos/cn/tos-cn-v-2cd6b0/83ebbbbd6c5d491fb1e6d36951c0aa22/?mime_type=image_jpeg\n",
      "来回一趟就要4天 一周7天刨去4天的路程 230.58 235.3 https://v26-vvecloud.yangyi08.com/083c32c07d62386b24c86e169148e992/63560e74/video/tos/cn/tos-cn-v-2cd6b0/a04cfa9fda604942bce923f59c20da0d/?mime_type=image_jpeg\n",
      "再休息一天 那可不只是一周上一天班 235.3 239.22 https://v26-vvecloud.yangyi08.com/d643629eefa2f382d040a5a0b3ae759b/63560e74/video/tos/cn/tos-cn-v-2cd6b0/a3580af31b73460c8ff714361cee5468/?mime_type=image_jpeg\n",
      "在盾构机的使用过程当中不管遇到什么问题 239.22 243.43 https://v26-vvecloud.yangyi08.com/d643629eefa2f382d040a5a0b3ae759b/63560e74/video/tos/cn/tos-cn-v-2cd6b0/a3580af31b73460c8ff714361cee5468/?mime_type=image_jpeg\n",
      "只能等星期一德国工程师上班了 243.43 246.74 https://v26-vvecloud.yangyi08.com/d643629eefa2f382d040a5a0b3ae759b/63560e74/video/tos/cn/tos-cn-v-2cd6b0/a3580af31b73460c8ff714361cee5468/?mime_type=image_jpeg\n",
      "团购一批问题集中解决 246.74 249.51 https://v26-vvecloud.yangyi08.com/6a0063014c0ac72fb2bdb3ae5639b1a1/63560e74/video/tos/cn/tos-cn-v-2cd6b0/419127ed857548318ba0150861050bf5/?mime_type=image_jpeg\n",
      "在当时给德国工程师开出的时薪 249.51 253.07 https://v6-vvecloud.yangyi08.com/f7bb523cad9ea79cfbb58eb5669f9edb/63560e75/video/tos/cn/tos-cn-v-2cd6b0/ce779fc5785a4c19862ebe5b046c2ffb/?mime_type=image_jpeg\n",
      "是每小时800美元 修理费用另算 就可以想到 253.07 257.82 https://v26-vvecloud.yangyi08.com/5b14d32c8b4c918ab4a7986fec397a90/63560e75/video/tos/cn/tos-cn-v-2cd6b0/3caa9e602abc4914ab79fdf440883bb0/?mime_type=image_jpeg\n",
      "德国厂家靠这台盾构机天就能挣多少钱 257.82 261.85 https://v9-vvecloud.yangyi08.com/ace56b95ed5695426f28ada3cf68b3e1/63560e75/video/tos/cn/tos-cn-v-2cd6b0/58f7d072106a4707a8b876b31bc50599/?mime_type=image_jpeg\n",
      "更让我们感到憋屈的是 261.85 264.26 https://v3-vvecloud.yangyi08.com/450324e5931d0f2d2b17b7ae89524e4e/63560e74/video/tos/cn/tos-cn-v-2cd6b0/dc890a97b804408cbdde115dfd57558a/?mime_type=image_jpeg\n",
      "德国工程师在工作的时候 施工现场必须要清场 264.26 269.26 https://v26-vvecloud.yangyi08.com/c14781072394d93efd9c835d5587f033/63560e75/video/tos/cn/tos-cn-v-2cd6b0/9537a634f91547c9999aea2d98b6c7e0/?mime_type=image_jpeg\n",
      "有专门的保安人员在四周拉警戒线 269.26 272.75 https://v26-vvecloud.yangyi08.com/7b3cddf318b003ff43ab81245e36c0ee/63560e74/video/tos/cn/tos-cn-v-2cd6b0/5401d5801c644589b3b3d3b87ac6a79b/?mime_type=image_jpeg\n",
      "中国人不得入内 272.75 274.77 https://v9-vvecloud.yangyi08.com/486248a5a0a82a60570dc04f6741f9ce/63560e75/video/tos/cn/tos-cn-v-2cd6b0/da4d9165878c432aaa77000501b164a7/?mime_type=image_jpeg\n",
      "所以这件事深深是刺痛了我们科研人员的心 274.77 279.09 https://v3-vvecloud.yangyi08.com/0478b786ec4a12b097c9721e9157bc5e/63560e75/video/tos/cn/tos-cn-v-2cd6b0/00318617b99644599b4599c6ac082b3b/?mime_type=image_jpeg\n",
      "因为我国当时造不出盾构机 279.09 282.11 https://v3-vvecloud.yangyi08.com/0478b786ec4a12b097c9721e9157bc5e/63560e75/video/tos/cn/tos-cn-v-2cd6b0/00318617b99644599b4599c6ac082b3b/?mime_type=image_jpeg\n",
      "就被其他国家拿捏得死死的 282.11 284.99 https://v9-vvecloud.yangyi08.com/6b31ea44aa683c3f49b4902804b6ce09/63560e75/video/tos/cn/tos-cn-v-2cd6b0/769e659b89e44d03aebc8a0b702b09af/?mime_type=image_jpeg\n",
      "于是当时就把盾构机国产化 284.99 288.12 https://v9-vvecloud.yangyi08.com/6b31ea44aa683c3f49b4902804b6ce09/63560e75/video/tos/cn/tos-cn-v-2cd6b0/769e659b89e44d03aebc8a0b702b09af/?mime_type=image_jpeg\n",
      "定为了国家目标 说什么也得造出国产盾构机 288.12 292.62 https://v9-vvecloud.yangyi08.com/6b31ea44aa683c3f49b4902804b6ce09/63560e75/video/tos/cn/tos-cn-v-2cd6b0/769e659b89e44d03aebc8a0b702b09af/?mime_type=image_jpeg\n",
      "如今20多年过去了 再和大伙说一组数据: 292.62 296.9 https://v9-vvecloud.yangyi08.com/6b31ea44aa683c3f49b4902804b6ce09/63560e75/video/tos/cn/tos-cn-v-2cd6b0/769e659b89e44d03aebc8a0b702b09af/?mime_type=image_jpeg\n",
      "2019年2月 296.9 298.92 https://v9-vvecloud.yangyi08.com/6b31ea44aa683c3f49b4902804b6ce09/63560e75/video/tos/cn/tos-cn-v-2cd6b0/769e659b89e44d03aebc8a0b702b09af/?mime_type=image_jpeg\n",
      "盾构机大国日本从咱们这采购了两台盾构机 298.92 303.35 https://v9-vvecloud.yangyi08.com/6b31ea44aa683c3f49b4902804b6ce09/63560e75/video/tos/cn/tos-cn-v-2cd6b0/769e659b89e44d03aebc8a0b702b09af/?mime_type=image_jpeg\n",
      "买回家修地铁 303.35 305.26 https://v9-vvecloud.yangyi08.com/828d42569be31e2aace526f0ffe9e212/63560e75/video/tos/cn/tos-cn-v-2cd6b0/00e8db1bf5624c1bb867c55468262148/?mime_type=image_jpeg\n",
      "2019年12月 法国从中国订购了两台大型盾构机 305.26 310.55 https://v9-vvecloud.yangyi08.com/828d42569be31e2aace526f0ffe9e212/63560e75/video/tos/cn/tos-cn-v-2cd6b0/00e8db1bf5624c1bb867c55468262148/?mime_type=image_jpeg\n",
      "为法国巴黎建设地铁贡献力量 310.55 313.9 https://v26-vvecloud.yangyi08.com/948cf8075412b95065b154f4267b30d9/63560e76/video/tos/cn/tos-cn-v-2cd6b0/a8bff9c9561f4cb585053cf05bb9d3aa/?mime_type=image_jpeg\n",
      "目前国产盾构机占据了国内9成以上和国际市场 313.9 319.05 https://v26-vvecloud.yangyi08.com/948cf8075412b95065b154f4267b30d9/63560e76/video/tos/cn/tos-cn-v-2cd6b0/a8bff9c9561f4cb585053cf05bb9d3aa/?mime_type=image_jpeg\n",
      "上2/3的市场份额 319.05 321.75 https://v26-vvecloud.yangyi08.com/9e2a8dae482b2aea8acc76ff1b8b9fc9/63560e75/video/tos/cn/tos-cn-v-2cd6b0/254aa2d22f564f9eac8c1c8d8bea1ad6/?mime_type=image_jpeg\n"
     ]
    },
    {
     "name": "stdout",
     "output_type": "stream",
     "text": [
      "国产盾构机的出现 还让价格下降了4成多 321.75 325.75 https://v26-vvecloud.yangyi08.com/9e2a8dae482b2aea8acc76ff1b8b9fc9/63560e75/video/tos/cn/tos-cn-v-2cd6b0/254aa2d22f564f9eac8c1c8d8bea1ad6/?mime_type=image_jpeg\n",
      "比之前几乎便宜了一半 325.75 328.23 https://v26-vvecloud.yangyi08.com/9e2a8dae482b2aea8acc76ff1b8b9fc9/63560e75/video/tos/cn/tos-cn-v-2cd6b0/254aa2d22f564f9eac8c1c8d8bea1ad6/?mime_type=image_jpeg\n",
      "中国人在国际上素有基建狂魔之称 328.23 332.01 https://v3-vvecloud.yangyi08.com/8fdf1849633a21ca45b6d34a5e19a84b/63560e75/video/tos/cn/tos-cn-v-2cd6b0/0b514574d8f84543a76d66b70907d2c4/?mime_type=image_jpeg\n",
      "只要中国人想干 没有干不成 我们用了20多年 332.01 336.73 https://v26-vvecloud.yangyi08.com/a5fa3b1ca24f3b908d4f51a8cc33e8ad/63560e75/video/tos/cn/tos-cn-v-2cd6b0/fbae23d900734e03bd9af406029250a7/?mime_type=image_jpeg\n",
      "从没有图纸变成了盾构机产销第一大国 336.73 340.76 https://v9-vvecloud.yangyi08.com/655dc64d7b0173694b1c6a008ace29bc/63560e75/video/tos/cn/tos-cn-v-2cd6b0/1e78ae8b92e84f7ebb57e307679020c7/?mime_type=image_jpeg\n",
      "在盾构机领域 340.76 342.67 https://v9-vvecloud.yangyi08.com/655dc64d7b0173694b1c6a008ace29bc/63560e75/video/tos/cn/tos-cn-v-2cd6b0/1e78ae8b92e84f7ebb57e307679020c7/?mime_type=image_jpeg\n",
      "中国人更是把天价盾构机干成了白菜价 342.67 346.85 https://v3-vvecloud.yangyi08.com/ffd2770a205bafb8c189fd8ce9560e51/63560e75/video/tos/cn/tos-cn-v-2cd6b0/7ee8484420c946bc9352e1daeefc9e51/?mime_type=image_jpeg\n",
      "在中国企业没有杀入盾构机市场之前 346.85 350.74 https://v9-vvecloud.yangyi08.com/7573daa8342eb93862f3a0f9e63f7386/63560e75/video/tos/cn/tos-cn-v-2cd6b0/ece8571a9e9c4dd7ab753e7715cc7793/?mime_type=image_jpeg\n",
      "全球市场被美国德国日本垄断 350.74 354.45 https://v9-vvecloud.yangyi08.com/7573daa8342eb93862f3a0f9e63f7386/63560e75/video/tos/cn/tos-cn-v-2cd6b0/ece8571a9e9c4dd7ab753e7715cc7793/?mime_type=image_jpeg\n",
      "三个国家分别代表三个流派: 354.45 357.51 https://v6-vvecloud.yangyi08.com/315ceea8f11bdb095ee137f14fcd5ba3/63560e75/video/tos/cn/tos-cn-v-2cd6b0/df6111f0322e4dae9fce0a79b8e6db26/?mime_type=image_jpeg\n",
      "美国的盾构机擅长硬岩石的挖掘 357.51 360.82 https://v6-vvecloud.yangyi08.com/315ceea8f11bdb095ee137f14fcd5ba3/63560e75/video/tos/cn/tos-cn-v-2cd6b0/df6111f0322e4dae9fce0a79b8e6db26/?mime_type=image_jpeg\n",
      "德国的盾构机综合性能比较好 360.82 363.99 https://v6-vvecloud.yangyi08.com/315ceea8f11bdb095ee137f14fcd5ba3/63560e75/video/tos/cn/tos-cn-v-2cd6b0/df6111f0322e4dae9fce0a79b8e6db26/?mime_type=image_jpeg\n",
      "日本的盾构机质量比较好不爱出毛病 363.99 367.59 https://v6-vvecloud.yangyi08.com/315ceea8f11bdb095ee137f14fcd5ba3/63560e75/video/tos/cn/tos-cn-v-2cd6b0/df6111f0322e4dae9fce0a79b8e6db26/?mime_type=image_jpeg\n",
      "反过来 美国的盾构机遇上软的含水量比较大 367.59 371.98 https://v6-vvecloud.yangyi08.com/315ceea8f11bdb095ee137f14fcd5ba3/63560e75/video/tos/cn/tos-cn-v-2cd6b0/df6111f0322e4dae9fce0a79b8e6db26/?mime_type=image_jpeg\n",
      "的土质不太好使 371.98 374.21 https://v6-vvecloud.yangyi08.com/ea74a830b320410d45cb6758291cfe8f/63560e76/video/tos/cn/tos-cn-v-2cd6b0/ac44a3eefaa74cd19a66f9165d0b7f08/?mime_type=image_jpeg\n",
      "德国盾构机太硬的太软的都挖不了 374.21 377.88 https://v6-vvecloud.yangyi08.com/1822273b8da942c2b1121bf1f6a008cb/63560e77/video/tos/cn/tos-cn-v-2cd6b0/bc4c12b06f844832abc6a5434d24a137/?mime_type=image_jpeg\n",
      "那作为后起之秀的中国盾构机集三大流派之大成 377.88 382.7 https://v6-vvecloud.yangyi08.com/0e941359d6bac4d520998b66ea8ae842/63560e75/video/tos/cn/tos-cn-v-2cd6b0/7266f4df0532482982fe30d18b77200f/?mime_type=image_jpeg\n",
      "把三家的长处都学到 而且价格还便宜 382.7 386.8 https://v9-vvecloud.yangyi08.com/a13a1a2459f89ed0873e479799519e71/63560e75/video/tos/cn/tos-cn-v-2cd6b0/4e91f57198da4413a81a69dfce65227a/?mime_type=image_jpeg\n",
      "凭着这样的实力占据全球2/3以上的份额 386.8 391.19 https://v9-vvecloud.yangyi08.com/fe47259571bbb94e6a7bff00e5314b2a/63560e76/video/tos/cn/tos-cn-v-2cd6b0/58de4dfc305c4034a8d8d3b081ab83cc/?mime_type=image_jpeg\n",
      "当初日本从中国订购大型盾构机的消息一经放出 391.19 396.27 https://v9-vvecloud.yangyi08.com/fe47259571bbb94e6a7bff00e5314b2a/63560e76/video/tos/cn/tos-cn-v-2cd6b0/58de4dfc305c4034a8d8d3b081ab83cc/?mime_type=image_jpeg\n",
      "日本人民都坐不住了 396.27 398.68 https://v9-vvecloud.yangyi08.com/42b293de3565a2cea36254cd8ef368bd/63560e76/video/tos/cn/tos-cn-v-2cd6b0/b05c5f7fcee0436da809fc10ed7aa409/?mime_type=image_jpeg\n",
      "毕竟日本也是盾构机制造大国 398.68 401.96 https://v9-vvecloud.yangyi08.com/42b293de3565a2cea36254cd8ef368bd/63560e76/video/tos/cn/tos-cn-v-2cd6b0/b05c5f7fcee0436da809fc10ed7aa409/?mime_type=image_jpeg\n",
      "怎么沦落到得从中国进口盾构机的地步呢? 401.96 405.67 https://v9-vvecloud.yangyi08.com/42b293de3565a2cea36254cd8ef368bd/63560e76/video/tos/cn/tos-cn-v-2cd6b0/b05c5f7fcee0436da809fc10ed7aa409/?mime_type=image_jpeg\n",
      "日本施工方出来解释 405.67 408.19 https://v3-vvecloud.yangyi08.com/a9b59c0256246a69b3596c193ec61aa8/63560e77/video/tos/cn/tos-cn-v-2cd6b0/e539252cd7d9471c9650453882d14085/?mime_type=image_jpeg\n",
      "因为施工地土质软含水量大 408.19 411.43 https://v6-vvecloud.yangyi08.com/03902c999348b0c9378d0827c922522c/63560e76/video/tos/cn/tos-cn-v-2cd6b0/f839f70ebea84df0ba43192e8c619904/?mime_type=image_jpeg\n",
      "日本本土盾构机不适合这种土质 411.43 414.78 https://v3-vvecloud.yangyi08.com/772e079dae42587aaa9ddd0ed3a3be89/63560e77/video/tos/cn/tos-cn-v-2cd6b0/e5dc605a3d8445acb4c253fea0377063/?mime_type=image_jpeg\n",
      "但若是针对这种土质再去研发成本又很高 414.78 419.1 https://v3-vvecloud.yangyi08.com/cdfda3d1a5ec9f0a246ab6bee524fb14/63560e76/video/tos/cn/tos-cn-v-2cd6b0/bb6abe4cd44a45f0a995413d969d2ca9/?mime_type=image_jpeg\n",
      "索性从中国购买 还便宜 419.1 422.23 https://v26-vvecloud.yangyi08.com/d07da2fe350a8c5b09a198eeaf59fca7/63560e76/video/tos/cn/tos-cn-v-2cd6b0/5df8e68d09fc472a94d66b6fbf61d83b/?mime_type=image_jpeg\n",
      "有数据显示 中国盾构机制造行业六大巨头当中 422.23 427.09 https://v3-vvecloud.yangyi08.com/cb7e57afa5a1832ab561f538a3984142/63560e76/video/tos/cn/tos-cn-v-2cd6b0/aa4fe513ea054f5398acd0d6e4da843f/?mime_type=image_jpeg\n",
      "仅中铁装备一家盾构机的订单就有868台 427.09 431.55 https://v3-vvecloud.yangyi08.com/cb7e57afa5a1832ab561f538a3984142/63560e76/video/tos/cn/tos-cn-v-2cd6b0/aa4fe513ea054f5398acd0d6e4da843f/?mime_type=image_jpeg\n",
      "2017年和2018年中铁装备的盾构机 431.55 435.65 https://v3-vvecloud.yangyi08.com/141229c5b9566ec3f28527be0dc3be87/63560e77/video/tos/cn/tos-cn-v-2cd6b0/69b736a07e944c7cabc47f086f28ebb3/?mime_type=image_jpeg\n",
      "产销量都是世界第一 435.65 438.1 https://v6-vvecloud.yangyi08.com/afd56ac8f5373f9847876fb033c5ede7/63560e77/video/tos/cn/tos-cn-v-2cd6b0/172ae3e90cb34283b70b847664a833bd/?mime_type=image_jpeg\n",
      "此外先进的技术和产品都是来自于中国 438.1 442.17 https://v3-vvecloud.yangyi08.com/0c31459f2932e04cf6ef322271d92fe6/63560e76/video/tos/cn/tos-cn-v-2cd6b0/5cfbd145de3c40dd92e0ddd7e7236c73/?mime_type=image_jpeg\n",
      "我们只用了20多年就从0到全球领先了 442.17 446.17 https://v6-vvecloud.yangyi08.com/edd651cc719cba3d815deed37c6a19b9/63560e76/video/tos/cn/tos-cn-v-2cd6b0/26495cd08213494f887b00faa05bc0fe/?mime_type=image_jpeg\n",
      "之前央视还播出一个纪录片叫超级工程 446.17 450.17 https://v3-vvecloud.yangyi08.com/b067b361e95cde9ada53844acdea4466/63560e76/video/tos/cn/tos-cn-v-2cd6b0/13e88815beaa4694affb7f2d93f744a4/?mime_type=image_jpeg\n",
      "里面就讲过盾构机的重要性 除了能挖洞 450.17 454.42 https://v3-vvecloud.yangyi08.com/b067b361e95cde9ada53844acdea4466/63560e76/video/tos/cn/tos-cn-v-2cd6b0/13e88815beaa4694affb7f2d93f744a4/?mime_type=image_jpeg\n",
      "还有可能会泄露国家敏感的地理信息 454.42 457.95 https://v3-vvecloud.yangyi08.com/b067b361e95cde9ada53844acdea4466/63560e76/video/tos/cn/tos-cn-v-2cd6b0/13e88815beaa4694affb7f2d93f744a4/?mime_type=image_jpeg\n",
      "特别是国防工程 只要用国外的盾构机 457.95 461.73 https://v3-vvecloud.yangyi08.com/b067b361e95cde9ada53844acdea4466/63560e76/video/tos/cn/tos-cn-v-2cd6b0/13e88815beaa4694affb7f2d93f744a4/?mime_type=image_jpeg\n",
      "各种综合数据都掌握在人家的手里 461.73 465.15 https://v9-vvecloud.yangyi08.com/f769c7aaddd143a1bd36fc3053d2ce6a/63560e77/video/tos/cn/tos-cn-v-2cd6b0/f924a1df7d7b43218dd93aa7030460a1/?mime_type=image_jpeg\n",
      "国产盾构机咱们就不用担心这块 465.15 468.43 https://v26-vvecloud.yangyi08.com/8afcb66e278eba85314a3ad3184b89f9/63560e76/video/tos/cn/tos-cn-v-2cd6b0/838f97d52544455fb7201e453269ab88/?mime_type=image_jpeg\n",
      "国产盾构机1997年立项 468.43 471.63 https://v26-vvecloud.yangyi08.com/8afcb66e278eba85314a3ad3184b89f9/63560e76/video/tos/cn/tos-cn-v-2cd6b0/838f97d52544455fb7201e453269ab88/?mime_type=image_jpeg\n",
      "2004年国产地铁盾构机先行者号问世 471.63 475.84 https://v26-vvecloud.yangyi08.com/8afcb66e278eba85314a3ad3184b89f9/63560e76/video/tos/cn/tos-cn-v-2cd6b0/838f97d52544455fb7201e453269ab88/?mime_type=image_jpeg\n",
      "2006年先行者2号下线 开始批量生产 475.84 480.63 https://v6-vvecloud.yangyi08.com/0fcacdea1c2d96c0e815a8f47563b398/63560e77/video/tos/cn/tos-cn-v-2cd6b0/486bcb2603814ff382d2caa0aff1da2d/?mime_type=image_jpeg\n",
      "2009年 国产11.22米直径的晋越号盾构机 480.63 485.53 https://v6-vvecloud.yangyi08.com/6d4090301db3b164246a223a867e63db/63560e77/video/tos/cn/tos-cn-v-2cd6b0/079d186e3e784b7d994f8b9f57625437/?mime_type=image_jpeg\n"
     ]
    },
    {
     "name": "stdout",
     "output_type": "stream",
     "text": [
      "完成了水下隧道的开通 485.53 488.19 https://v6-vvecloud.yangyi08.com/3ec0bedcea1197f7a7596911906d267d/63560e76/video/tos/cn/tos-cn-v-2cd6b0/09cd7f205ba442e481b9205eab72eb94/?mime_type=image_jpeg\n",
      "这标志着我们不光能够在陆地和水下干活 488.19 492.4 https://v26-vvecloud.yangyi08.com/d857a4e4da06aba693eade187bb46195/63560e77/video/tos/cn/tos-cn-v-2cd6b0/5fab79e4781d492a98ccf1a921e6e7fe/?mime_type=image_jpeg\n",
      "2009年是国内盾构机领域的一道分水岭 492.4 496.9 https://v6-vvecloud.yangyi08.com/08b2d0120800f73dcde291a56439768a/63560e76/video/tos/cn/tos-cn-v-2cd6b0/173fb42eef2d4955b1fe11f818ff0738/?mime_type=image_jpeg\n",
      "这之后国内市场上基本已经没有纯进口的盾构机 496.9 501.76 https://v6-vvecloud.yangyi08.com/08b2d0120800f73dcde291a56439768a/63560e76/video/tos/cn/tos-cn-v-2cd6b0/173fb42eef2d4955b1fe11f818ff0738/?mime_type=image_jpeg\n",
      "都是国产盾构机的天下 501.76 504.28 https://v26-vvecloud.yangyi08.com/57bc01356b0308055e1ce5920e9ab499/63560e76/video/tos/cn/tos-cn-v-2cd6b0/6dda7541c7594bba9ee857b8094ac33d/?mime_type=image_jpeg\n",
      "国产盾构机之所以能够迅速地占领市场 504.28 508.28 https://v26-vvecloud.yangyi08.com/57bc01356b0308055e1ce5920e9ab499/63560e76/video/tos/cn/tos-cn-v-2cd6b0/6dda7541c7594bba9ee857b8094ac33d/?mime_type=image_jpeg\n",
      "是因为咱们走的是一条完全有别于国外 508.28 512.13 https://v3-vvecloud.yangyi08.com/8bd2ab9251e0f6a5de6ea668faecfd4e/63560e77/video/tos/cn/tos-cn-v-2cd6b0/d01b9fdbd410407fbc822502d0a51b50/?mime_type=image_jpeg\n",
      "企业的研发道路 512.13 514.4 https://v3-vvecloud.yangyi08.com/4e40064f5653c00c45928a53b528eeb8/63560e76/video/tos/cn/tos-cn-v-2cd6b0/e0121895025c42f2b058f267cbe6e605/?mime_type=image_jpeg\n",
      "国外的盾构机企业生产 施工单位使用 514.4 518.4 https://v3-vvecloud.yangyi08.com/f3049ae1bacb8335716afeb77890a86a/63560e76/video/tos/cn/tos-cn-v-2cd6b0/1cf506507b3847dea31a917d489cba82/?mime_type=image_jpeg\n"
     ]
    }
   ],
   "source": [
    "# 手动复制数据文件\n",
    "# https://mp.toutiao.com/xg-editor-api/ttv/query?task_id=xxxxxxx\n",
    "with open(\"data.txt\",encoding=\"utf8\") as f:\n",
    "    data = json.loads(f.read())\n",
    "\n",
    "data_list = data[\"data\"][\"text_2_video_resp\"][\"sect_infos\"]\n",
    "\n",
    "# 下载图片和整合文字信息\n",
    "df_list = []\n",
    "for i in range(len(data_list)):\n",
    "    id_ = str(i) + \".jpg\"\n",
    "    txt = data_list[i][\"text\"]\n",
    "    time_start = data_list[i][\"elems\"][0][\"time\"][\"start_offset\"]\n",
    "    time_end = data_list[i][\"elems\"][0][\"time\"][\"end_offset\"]\n",
    "    image_url = data_list[i][\"elems\"][0][\"cover_url\"]\n",
    "\n",
    "#     print(txt,time_start,time_end,image_url)\n",
    "    html = requests.get(image_url)\n",
    "    with open(\"image/{}\".format(id_),\"wb\") as f:\n",
    "        f.write(html.content)\n",
    "    df_list.append((id_,txt,time_start,time_end,image_url))\n",
    "        \n",
    "df = pd.DataFrame(df_list,columns=[\"jpg\",\"text\",\"start\",\"end\",\"url\"])\n",
    "\n",
    "df"
   ]
  },
  {
   "cell_type": "code",
   "execution_count": null,
   "id": "382dda90",
   "metadata": {},
   "outputs": [],
   "source": []
  },
  {
   "cell_type": "markdown",
   "id": "d48af1ec",
   "metadata": {},
   "source": [
    "# 配合剪映文档制作数据文件"
   ]
  },
  {
   "cell_type": "code",
   "execution_count": 15,
   "id": "04f9c8ae",
   "metadata": {},
   "outputs": [],
   "source": [
    "with open(\"_draft_content.json\",encoding=\"utf8\") as f:\n",
    "    data = json.loads(f.read())\n",
    "    \n",
    "n = df.index.max() + 1\n",
    "\n",
    "df[\"duration\"] = df[\"end\"] - df[\"start\"]"
   ]
  },
  {
   "cell_type": "markdown",
   "id": "0dde838a",
   "metadata": {},
   "source": [
    "## 生成画布的 canvases"
   ]
  },
  {
   "cell_type": "code",
   "execution_count": 16,
   "id": "b26d9d12",
   "metadata": {
    "code_folding": [
     2
    ]
   },
   "outputs": [],
   "source": [
    "# 这里的数据结构 每次更换的是id\n",
    "canvases = []\n",
    "for i in range(n):\n",
    "    canvases_dict = {\n",
    "        'album_image': '',\n",
    "        'blur': 0.0,\n",
    "        'color': '',\n",
    "        'id': '{}'.format(\"canvases-\" + str(i)),\n",
    "        'image': '',\n",
    "        'image_id': '',\n",
    "        'image_name': '',\n",
    "        'type': 'canvas_color'\n",
    "    }\n",
    "    canvases.append(canvases_dict)\n",
    "# canvases"
   ]
  },
  {
   "cell_type": "code",
   "execution_count": 17,
   "id": "abe4f703",
   "metadata": {},
   "outputs": [],
   "source": [
    "data[\"materials\"][\"canvases\"] = canvases"
   ]
  },
  {
   "cell_type": "markdown",
   "id": "801d0be9",
   "metadata": {},
   "source": [
    "## 生成画布动画 material_animations"
   ]
  },
  {
   "cell_type": "code",
   "execution_count": 18,
   "id": "1eb43d79",
   "metadata": {
    "code_folding": [
     1
    ]
   },
   "outputs": [],
   "source": [
    "material_animations = []\n",
    "for i in range(n):\n",
    "    material_animations_dict = {\n",
    "        'animations': [], \n",
    "        'id': '{}'.format(\"material_animations-\" + str(i)),\n",
    "        'type': \n",
    "        'sticker_animation'\n",
    "    }\n",
    "    material_animations.append(material_animations_dict)\n",
    "# material_animations"
   ]
  },
  {
   "cell_type": "code",
   "execution_count": 19,
   "id": "84d43392",
   "metadata": {},
   "outputs": [],
   "source": [
    "data[\"materials\"][\"material_animations\"] = material_animations"
   ]
  },
  {
   "cell_type": "markdown",
   "id": "ff2e5149",
   "metadata": {},
   "source": [
    "## 生成 速度配置 speeds "
   ]
  },
  {
   "cell_type": "code",
   "execution_count": 20,
   "id": "8d825bbc",
   "metadata": {
    "code_folding": [
     1
    ]
   },
   "outputs": [],
   "source": [
    "speeds = []\n",
    "for i in range(n):\n",
    "    speeds_dict = {\n",
    "        'curve_speed': None,\n",
    "        'id': '{}'.format(\"speeds-\" + str(i)),\n",
    "        'mode': 0,\n",
    "        'speed': 1.0,\n",
    "        'type': 'speed'\n",
    "    }\n",
    "    speeds.append(speeds_dict)\n",
    "# speeds"
   ]
  },
  {
   "cell_type": "code",
   "execution_count": 21,
   "id": "13c18dae",
   "metadata": {},
   "outputs": [],
   "source": [
    "data[\"materials\"][\"speeds\"] = speeds"
   ]
  },
  {
   "cell_type": "markdown",
   "id": "46d42c11",
   "metadata": {},
   "source": [
    "## 生成文本texts"
   ]
  },
  {
   "cell_type": "code",
   "execution_count": 22,
   "id": "811e4346",
   "metadata": {
    "code_folding": [
     2,
     3
    ]
   },
   "outputs": [],
   "source": [
    "# 备注：字符串暂时没弄\n",
    "texts = []\n",
    "for i in range(n):\n",
    "    texts_dict = {\n",
    "        'add_type': 0,\n",
    "        'alignment': 1,\n",
    "        'background_alpha': 1.0,\n",
    "        'background_color': '',\n",
    "        'background_height': 1.0,\n",
    "        'background_horizontal_offset': 0.0,\n",
    "        'background_round_radius': 0.0,\n",
    "        'background_vertical_offset': 0.0,\n",
    "        'background_width': 1.0,\n",
    "        'bold_width': 0.0,\n",
    "        'border_color': '#ffffff',\n",
    "        'border_width': 0.08,\n",
    "        'check_flag': 15,\n",
    "        'content': '<outline color=(1,1,1,1) width=0.08><size=11><color=(0,0,0,1)><font id=\"\" path=\"D:/MyTools/JianyingPro/3.4.1.9179/Resources/Font/SystemFont/zh-hans.ttf\">[{}]</font></color></size></outline>'.format(df[\"text\"][i]),\n",
    "        'font_category_id': '',\n",
    "        'font_category_name': '',\n",
    "        'font_id': '',\n",
    "        'font_name': '',\n",
    "        'font_path': 'D:/MyTools/JianyingPro/3.4.1.9179/Resources/Font/SystemFont/zh-hans.ttf',\n",
    "        'font_resource_id': '',\n",
    "        'font_size': 11.0,\n",
    "        'font_title': 'none',\n",
    "        'font_url': '',\n",
    "        'fonts': [],\n",
    "        'global_alpha': 1.0,\n",
    "        'has_shadow': False,\n",
    "        'id': '{}'.format(\"texts-\" + str(i)),\n",
    "        'initial_scale': 1.0,\n",
    "        'is_rich_text': False,\n",
    "        'italic_degree': 0,\n",
    "        'ktv_color': '',\n",
    "        'layer_weight': 1,\n",
    "        'letter_spacing': 0.0,\n",
    "        'line_spacing': 0.02,\n",
    "        'recognize_type': 0,\n",
    "        'shadow_alpha': 0.0,\n",
    "        'shadow_angle': -45.0,\n",
    "        'shadow_color': '#000000',\n",
    "        'shadow_distance': 8.0,\n",
    "        'shadow_point': {'x': 1.0182337649086284, 'y': -1.0182337649086284},\n",
    "        'shadow_smoothing': 0.99,\n",
    "        'shape_clip_x': False,\n",
    "        'shape_clip_y': False,\n",
    "        'style_name': '黑字白边',\n",
    "        'sub_type': 0,\n",
    "        'text_alpha': 1.0,\n",
    "        'text_color': '#000000',\n",
    "        'text_size': 30,\n",
    "        'text_to_audio_ids': [],\n",
    "        'type': 'text',\n",
    "        'typesetting': 0,\n",
    "        'underline': False,\n",
    "        'underline_offset': 0.22,\n",
    "        'underline_width': 0.05,\n",
    "        'use_effect_default_color': False\n",
    "    }\n",
    "    texts.append(texts_dict)\n",
    "# texts"
   ]
  },
  {
   "cell_type": "code",
   "execution_count": 23,
   "id": "464f62cc",
   "metadata": {},
   "outputs": [],
   "source": [
    "data[\"materials\"][\"texts\"] = texts"
   ]
  },
  {
   "cell_type": "markdown",
   "id": "06caf955",
   "metadata": {},
   "source": [
    "## 视频轨道video_trackings"
   ]
  },
  {
   "cell_type": "code",
   "execution_count": 24,
   "id": "1e7ed018",
   "metadata": {
    "code_folding": [
     1
    ]
   },
   "outputs": [],
   "source": [
    "video_trackings = []\n",
    "for i in range(n):\n",
    "    video_trackings_dict = {\n",
    "        'config': {'center_x': 0.0,\n",
    "        'center_y': 0.0,\n",
    "        'height': 0.0,\n",
    "        'rotation': 0.0,\n",
    "        'width': 0.0},\n",
    "        'enable_scale': False,\n",
    "        'enable_video_tracking': True,\n",
    "        'id': '{}'.format(\"video_trackings-\" + str(i)),\n",
    "        'map_path': '',\n",
    "        'result_path': '',\n",
    "        'tracker_type': 0,\n",
    "        'trackers': [],\n",
    "        'tracking_time_range': 0,\n",
    "        'type': 'video_tracking',\n",
    "        'version': ''\n",
    "    }\n",
    "    video_trackings.append(video_trackings_dict)\n",
    "# video_trackings"
   ]
  },
  {
   "cell_type": "code",
   "execution_count": 25,
   "id": "bd377a51",
   "metadata": {},
   "outputs": [],
   "source": [
    "data[\"materials\"][\"video_trackings\"] = video_trackings"
   ]
  },
  {
   "cell_type": "markdown",
   "id": "397edb96",
   "metadata": {},
   "source": [
    "## 视频 videos"
   ]
  },
  {
   "cell_type": "code",
   "execution_count": 26,
   "id": "74b55dd2",
   "metadata": {
    "code_folding": [
     1
    ]
   },
   "outputs": [],
   "source": [
    "videos = []\n",
    "for i in range(n):\n",
    "    videos_dict = {\n",
    "        'audio_fade': None,\n",
    "        'cartoon_path': '',\n",
    "        'category_id': '',\n",
    "        'category_name': 'local',\n",
    "        'check_flag': 30719,\n",
    "        'crop': {'lower_left_x': 0.0,\n",
    "        'lower_left_y': 1.0,\n",
    "        'lower_right_x': 1.0,\n",
    "        'lower_right_y': 1.0,\n",
    "        'upper_left_x': 0.0,\n",
    "        'upper_left_y': 0.0,\n",
    "        'upper_right_x': 1.0,\n",
    "        'upper_right_y': 0.0},\n",
    "        'crop_ratio': 'free',\n",
    "        'crop_scale': 1.0,\n",
    "        'duration': 10800000000,\n",
    "        'extra_type_option': 0,\n",
    "        'formula_id': '',\n",
    "        'gameplay': None,\n",
    "        'has_audio': False,\n",
    "        'height': 1080,\n",
    "        'id': '{}'.format(\"videos-\" + str(i)),\n",
    "        'intensifies_audio_path': '',\n",
    "        'intensifies_path': '',\n",
    "        'is_unified_beauty_mode': False,\n",
    "        'material_id': '',\n",
    "        'material_name': '{}.jpg'.format(i),\n",
    "        'material_url': '',\n",
    "        'matting': {'flag': 0, 'interactiveTime': [], 'path': ''},\n",
    "        'path': 'F:/PythonWorkProject/07.新媒体内容创作/02.AI视频创作/（横版）头条图文转视频转换/image/{}.jpg'.format(i),\n",
    "        'reverse_intensifies_path': '',\n",
    "        'reverse_path': '',\n",
    "        'source_platform': 0,\n",
    "        'stable': None,\n",
    "        'type': 'photo',\n",
    "        'video_algorithm': {'algorithms': [], 'path': '', 'time_range': None},\n",
    "        'width': 1920\n",
    "    }\n",
    "    videos.append(videos_dict)\n",
    "# videos"
   ]
  },
  {
   "cell_type": "code",
   "execution_count": 27,
   "id": "ccb28706",
   "metadata": {},
   "outputs": [],
   "source": [
    "data[\"materials\"][\"videos\"] = videos"
   ]
  },
  {
   "cell_type": "markdown",
   "id": "fc7453f6",
   "metadata": {},
   "source": [
    "## tracks 轨道主线"
   ]
  },
  {
   "cell_type": "code",
   "execution_count": 28,
   "id": "8cdc7207",
   "metadata": {},
   "outputs": [],
   "source": [
    "false = False\n",
    "true = True\n",
    "null = None\n",
    "\n",
    "# source_timerange,target_timerange 需要再定义"
   ]
  },
  {
   "cell_type": "code",
   "execution_count": 29,
   "id": "a14cad2a",
   "metadata": {
    "code_folding": [
     1
    ]
   },
   "outputs": [],
   "source": [
    "tracks_0_segments = []\n",
    "for i in range(n):\n",
    "    tracks_0_segments_dict = {\n",
    "          \"cartoon\": false,\n",
    "          \"clip\": {\n",
    "            \"alpha\": 1.0,\n",
    "            \"flip\": {\n",
    "              \"horizontal\": false,\n",
    "              \"vertical\": false\n",
    "            },\n",
    "            \"rotation\": 0.0,\n",
    "            \"scale\": {\n",
    "              \"x\": 1.0,\n",
    "              \"y\": 1.0\n",
    "            },\n",
    "            \"transform\": {\n",
    "              \"x\": 0.0,\n",
    "              \"y\": 0.0\n",
    "            }\n",
    "          },\n",
    "          \"enable_adjust\": true,\n",
    "          \"enable_color_curves\": true,\n",
    "          \"enable_color_wheels\": true,\n",
    "          \"enable_lut\": true,\n",
    "          \"extra_material_refs\": [\n",
    "            \"speeds-{}\".format(i),\n",
    "            \"canvases-{}\".format(i),\n",
    "            \"video_trackings-{}\".format(i)\n",
    "          ],\n",
    "          \"group_id\": \"\",\n",
    "          \"hdr_settings\": {\n",
    "            \"intensity\": 1.0,\n",
    "            \"mode\": 1,\n",
    "            \"nits\": 1000\n",
    "          },\n",
    "          'id': '{}'.format(\"tracks_0_segments-\" + str(i)),\n",
    "          \"intensifies_audio\": false,\n",
    "          \"is_tone_modify\": false,\n",
    "          \"keyframe_refs\": [],\n",
    "          \"last_nonzero_volume\": 1.0,\n",
    "          \"material_id\": \"videos-{}\".format(i),\n",
    "          \"render_index\": 0,\n",
    "          \"reverse\": false,\n",
    "          \"source_timerange\": {\n",
    "            \"duration\": int(df[\"duration\"][i] * 1000000),\n",
    "            \"start\": 0\n",
    "          },\n",
    "          \"speed\": 1.0,\n",
    "          \"target_timerange\": {\n",
    "            \"duration\": int(df[\"duration\"][i] * 1000000),\n",
    "            \"start\": int(df[\"start\"][i] * 1000000)\n",
    "          },\n",
    "          \"track_attribute\": 0,\n",
    "          \"track_render_index\": 0,\n",
    "          \"visible\": true,\n",
    "          \"volume\": 1.0\n",
    "        }\n",
    "    tracks_0_segments.append(tracks_0_segments_dict)\n",
    "# tracks_0_segments"
   ]
  },
  {
   "cell_type": "code",
   "execution_count": 30,
   "id": "d23ff218",
   "metadata": {},
   "outputs": [],
   "source": [
    "data[\"tracks\"][0][\"segments\"] = tracks_0_segments"
   ]
  },
  {
   "cell_type": "code",
   "execution_count": 31,
   "id": "dc33f8d1",
   "metadata": {
    "code_folding": [
     1
    ]
   },
   "outputs": [],
   "source": [
    "tracks_1_segments = []\n",
    "for i in range(n):\n",
    "    tracks_1_segments_dict = {\n",
    "          \"cartoon\": false,\n",
    "          \"clip\": {\n",
    "            \"alpha\": 1.0,\n",
    "            \"flip\": {\n",
    "              \"horizontal\": false,\n",
    "              \"vertical\": false\n",
    "            },\n",
    "            \"rotation\": 0.0,\n",
    "            \"scale\": {\n",
    "              \"x\": 0.7322295026571091,\n",
    "              \"y\": 0.7322295026571091\n",
    "            },\n",
    "            \"transform\": {\n",
    "              \"x\": 0.0,\n",
    "              \"y\": -0.8020681595802306\n",
    "            }\n",
    "          },\n",
    "          \"enable_adjust\": false,\n",
    "          \"enable_color_curves\": true,\n",
    "          \"enable_color_wheels\": true,\n",
    "          \"enable_lut\": false,\n",
    "          \"extra_material_refs\": [\n",
    "            \"material_animations-{}\".format(i)\n",
    "          ],\n",
    "          \"group_id\": \"\",\n",
    "          \"hdr_settings\": null,\n",
    "          'id': '{}'.format(\"tracks_1_segments-\" + str(i)),\n",
    "          \"intensifies_audio\": false,\n",
    "          \"is_tone_modify\": false,\n",
    "          \"keyframe_refs\": [],\n",
    "          \"last_nonzero_volume\": 1.0,\n",
    "          \"material_id\": \"texts-{}\".format(i),\n",
    "          \"render_index\": 14000,\n",
    "          \"reverse\": false,\n",
    "          \"source_timerange\": null,\n",
    "          \"speed\": 1.0,\n",
    "          \"target_timerange\": {\n",
    "            \"duration\": int(df[\"duration\"][i]*1000000),\n",
    "            \"start\": int(df[\"start\"][i]*1000000)\n",
    "          },\n",
    "          \"track_attribute\": 0,\n",
    "          \"track_render_index\": 0,\n",
    "          \"visible\": true,\n",
    "          \"volume\": 1.0\n",
    "        }\n",
    "    tracks_1_segments.append(tracks_1_segments_dict)\n",
    "# tracks_1_segments"
   ]
  },
  {
   "cell_type": "code",
   "execution_count": 32,
   "id": "638c800e",
   "metadata": {},
   "outputs": [],
   "source": [
    "data[\"tracks\"][1][\"segments\"] = tracks_1_segments"
   ]
  },
  {
   "cell_type": "markdown",
   "id": "27aa0b8f",
   "metadata": {},
   "source": [
    "## 保存结果文件"
   ]
  },
  {
   "cell_type": "code",
   "execution_count": 33,
   "id": "13897d80",
   "metadata": {},
   "outputs": [],
   "source": [
    "result_txt = json.dumps(data)\n",
    "# result_txt = result_txt.replace()\n",
    "\n",
    "with open(\"draft_content.json\",'w+',encoding=\"utf8\") as f:\n",
    "    f.write(result_txt)"
   ]
  },
  {
   "cell_type": "markdown",
   "id": "707f415f",
   "metadata": {},
   "source": [
    "# Debug"
   ]
  },
  {
   "cell_type": "markdown",
   "id": "bd21a024",
   "metadata": {},
   "source": [
    "## 生成画布的 canvases"
   ]
  },
  {
   "cell_type": "code",
   "execution_count": null,
   "id": "7aac77c3",
   "metadata": {
    "code_folding": [
     4
    ]
   },
   "outputs": [],
   "source": [
    "data[\"materials\"][\"canvases\"]\n",
    "\n",
    "# 这里的数据结构 每次更换的是id\n",
    "canvases = []\n",
    "for i in range(n):\n",
    "    canvases_dict = {\n",
    "        'album_image': '',\n",
    "        'blur': 0.0,\n",
    "        'color': '',\n",
    "        'id': '{}'.format(\"canvases-\" + str(i)),\n",
    "        'image': '',\n",
    "        'image_id': '',\n",
    "        'image_name': '',\n",
    "        'type': 'canvas_color'\n",
    "    }\n",
    "    canvases.append(canvases_dict)\n",
    "canvases"
   ]
  },
  {
   "cell_type": "markdown",
   "id": "0eba9238",
   "metadata": {},
   "source": [
    "## 生成画布动画 material_animations"
   ]
  },
  {
   "cell_type": "code",
   "execution_count": null,
   "id": "122cecfa",
   "metadata": {
    "code_folding": [
     3
    ]
   },
   "outputs": [],
   "source": [
    "data[\"materials\"][\"material_animations\"]\n",
    "\n",
    "material_animations = []\n",
    "for i in range(n):\n",
    "    material_animations_dict = {\n",
    "        'animations': [], \n",
    "        'id': '{}'.format(\"material_animations-\" + str(i)),\n",
    "        'type': \n",
    "        'sticker_animation'\n",
    "    }\n",
    "    material_animations.append(material_animations_dict)\n",
    "material_animations"
   ]
  },
  {
   "cell_type": "markdown",
   "id": "f1422f26",
   "metadata": {},
   "source": [
    "## 生成 速度配置 speeds"
   ]
  },
  {
   "cell_type": "code",
   "execution_count": null,
   "id": "cae615e1",
   "metadata": {
    "code_folding": [
     1
    ]
   },
   "outputs": [],
   "source": [
    "speeds = []\n",
    "for i in range(n):\n",
    "    speeds_dict = {\n",
    "        'curve_speed': None,\n",
    "        'id': '{}'.format(\"speeds-\" + str(i)),\n",
    "        'mode': 0,\n",
    "        'speed': 1.0,\n",
    "        'type': 'speed'\n",
    "    }\n",
    "    speeds.append(speeds_dict)\n",
    "speeds"
   ]
  },
  {
   "cell_type": "markdown",
   "id": "9924b894",
   "metadata": {},
   "source": [
    "## 生成文本texts"
   ]
  },
  {
   "cell_type": "code",
   "execution_count": null,
   "id": "f5a70cd5",
   "metadata": {
    "code_folding": [
     4
    ]
   },
   "outputs": [],
   "source": [
    "data[\"materials\"][\"texts\"]\n",
    "\n",
    "# 备注：字符串暂时没弄\n",
    "texts = []\n",
    "for i in range(n):\n",
    "    texts_dict = {\n",
    "        'add_type': 0,\n",
    "        'alignment': 1,\n",
    "        'background_alpha': 1.0,\n",
    "        'background_color': '',\n",
    "        'background_height': 1.0,\n",
    "        'background_horizontal_offset': 0.0,\n",
    "        'background_round_radius': 0.0,\n",
    "        'background_vertical_offset': 0.0,\n",
    "        'background_width': 1.0,\n",
    "        'bold_width': 0.0,\n",
    "        'border_color': '#ffffff',\n",
    "        'border_width': 0.08,\n",
    "        'check_flag': 15,\n",
    "        'content': '<outline color=(1,1,1,1) width=0.08><size=11><color=(0,0,0,1)><font id=\"\" path=\"D:/MyTools/JianyingPro/3.4.1.9179/Resources/Font/SystemFont/zh-hans.ttf\">[俄乌战争 西方对莫斯科的制裁 克里姆林宫切断]</font></color></size></outline>',\n",
    "        'font_category_id': '',\n",
    "        'font_category_name': '',\n",
    "        'font_id': '',\n",
    "        'font_name': '',\n",
    "        'font_path': 'D:/MyTools/JianyingPro/3.4.1.9179/Resources/Font/SystemFont/zh-hans.ttf',\n",
    "        'font_resource_id': '',\n",
    "        'font_size': 11.0,\n",
    "        'font_title': 'none',\n",
    "        'font_url': '',\n",
    "        'fonts': [],\n",
    "        'global_alpha': 1.0,\n",
    "        'has_shadow': False,\n",
    "        'id': '{}'.format(\"texts-\" + str(i)),\n",
    "        'initial_scale': 1.0,\n",
    "        'is_rich_text': False,\n",
    "        'italic_degree': 0,\n",
    "        'ktv_color': '',\n",
    "        'layer_weight': 1,\n",
    "        'letter_spacing': 0.0,\n",
    "        'line_spacing': 0.02,\n",
    "        'recognize_type': 0,\n",
    "        'shadow_alpha': 0.0,\n",
    "        'shadow_angle': -45.0,\n",
    "        'shadow_color': '#000000',\n",
    "        'shadow_distance': 8.0,\n",
    "        'shadow_point': {'x': 1.0182337649086284, 'y': -1.0182337649086284},\n",
    "        'shadow_smoothing': 0.99,\n",
    "        'shape_clip_x': False,\n",
    "        'shape_clip_y': False,\n",
    "        'style_name': '黑字白边',\n",
    "        'sub_type': 0,\n",
    "        'text_alpha': 1.0,\n",
    "        'text_color': '#000000',\n",
    "        'text_size': 30,\n",
    "        'text_to_audio_ids': [],\n",
    "        'type': 'text',\n",
    "        'typesetting': 0,\n",
    "        'underline': False,\n",
    "        'underline_offset': 0.22,\n",
    "        'underline_width': 0.05,\n",
    "        'use_effect_default_color': False\n",
    "    }\n",
    "    texts.append(texts_dict)\n",
    "texts"
   ]
  },
  {
   "cell_type": "markdown",
   "id": "c9a5808f",
   "metadata": {},
   "source": [
    "## 视频轨道video_trackings"
   ]
  },
  {
   "cell_type": "code",
   "execution_count": null,
   "id": "8a3ea475",
   "metadata": {
    "code_folding": [
     3
    ]
   },
   "outputs": [],
   "source": [
    "data[\"materials\"][\"video_trackings\"]\n",
    "\n",
    "video_trackings = []\n",
    "for i in range(n):\n",
    "    video_trackings_dict = {\n",
    "        'config': {'center_x': 0.0,\n",
    "        'center_y': 0.0,\n",
    "        'height': 0.0,\n",
    "        'rotation': 0.0,\n",
    "        'width': 0.0},\n",
    "        'enable_scale': False,\n",
    "        'enable_video_tracking': True,\n",
    "        'id': '{}'.format(\"video_trackings-\" + str(i)),\n",
    "        'map_path': '',\n",
    "        'result_path': '',\n",
    "        'tracker_type': 0,\n",
    "        'trackers': [],\n",
    "        'tracking_time_range': 0,\n",
    "        'type': 'video_tracking',\n",
    "        'version': ''\n",
    "    }\n",
    "    video_trackings.append(video_trackings_dict)\n",
    "video_trackings"
   ]
  },
  {
   "cell_type": "markdown",
   "id": "6d7d734e",
   "metadata": {},
   "source": [
    "## 视频 videos"
   ]
  },
  {
   "cell_type": "code",
   "execution_count": null,
   "id": "50368f97",
   "metadata": {
    "code_folding": [
     3
    ]
   },
   "outputs": [],
   "source": [
    "data[\"materials\"][\"videos\"]\n",
    "\n",
    "videos = []\n",
    "for i in range(n):\n",
    "    videos_dict = {\n",
    "        'audio_fade': None,\n",
    "        'cartoon_path': '',\n",
    "        'category_id': '',\n",
    "        'category_name': 'local',\n",
    "        'check_flag': 30719,\n",
    "        'crop': {'lower_left_x': 0.0,\n",
    "        'lower_left_y': 1.0,\n",
    "        'lower_right_x': 1.0,\n",
    "        'lower_right_y': 1.0,\n",
    "        'upper_left_x': 0.0,\n",
    "        'upper_left_y': 0.0,\n",
    "        'upper_right_x': 1.0,\n",
    "        'upper_right_y': 0.0},\n",
    "        'crop_ratio': 'free',\n",
    "        'crop_scale': 1.0,\n",
    "        'duration': 10800000000,\n",
    "        'extra_type_option': 0,\n",
    "        'formula_id': '',\n",
    "        'gameplay': None,\n",
    "        'has_audio': False,\n",
    "        'height': 1080,\n",
    "        'id': '{}'.format(\"videos-\" + str(i)),\n",
    "        'intensifies_audio_path': '',\n",
    "        'intensifies_path': '',\n",
    "        'is_unified_beauty_mode': False,\n",
    "        'material_id': '',\n",
    "        'material_name': '{}.jpg'.format(i),\n",
    "        'material_url': '',\n",
    "        'matting': {'flag': 0, 'interactiveTime': [], 'path': ''},\n",
    "        'path': 'F:/PythonWorkProject/07.新媒体内容创作/02.AI视频创作/（横版）头条图文转视频转换/image/{}.jpg'.format(i),\n",
    "        'reverse_intensifies_path': '',\n",
    "        'reverse_path': '',\n",
    "        'source_platform': 0,\n",
    "        'stable': None,\n",
    "        'type': 'photo',\n",
    "        'video_algorithm': {'algorithms': [], 'path': '', 'time_range': None},\n",
    "        'width': 1920\n",
    "    }\n",
    "    videos.append(videos_dict)\n",
    "videos"
   ]
  },
  {
   "cell_type": "markdown",
   "id": "658d6ba1",
   "metadata": {},
   "source": [
    "## tracks 轨道主线"
   ]
  },
  {
   "cell_type": "code",
   "execution_count": null,
   "id": "413a0a28",
   "metadata": {
    "code_folding": [
     3
    ]
   },
   "outputs": [],
   "source": [
    "tracks_0_segments = data[\"tracks\"][0][\"segments\"]\n",
    "\n",
    "tracks_0_segments = []\n",
    "for i in range(n):\n",
    "    tracks_0_segments_dict = {\n",
    "          \"cartoon\": false,\n",
    "          \"clip\": {\n",
    "            \"alpha\": 1.0,\n",
    "            \"flip\": {\n",
    "              \"horizontal\": false,\n",
    "              \"vertical\": false\n",
    "            },\n",
    "            \"rotation\": 0.0,\n",
    "            \"scale\": {\n",
    "              \"x\": 1.0,\n",
    "              \"y\": 1.0\n",
    "            },\n",
    "            \"transform\": {\n",
    "              \"x\": 0.0,\n",
    "              \"y\": 0.0\n",
    "            }\n",
    "          },\n",
    "          \"enable_adjust\": true,\n",
    "          \"enable_color_curves\": true,\n",
    "          \"enable_color_wheels\": true,\n",
    "          \"enable_lut\": true,\n",
    "          \"extra_material_refs\": [\n",
    "            \"speeds-{}\".format(i),\n",
    "            \"canvases-{}\".format(i),\n",
    "            \"video_trackings-{}\".format(i)\n",
    "          ],\n",
    "          \"group_id\": \"\",\n",
    "          \"hdr_settings\": {\n",
    "            \"intensity\": 1.0,\n",
    "            \"mode\": 1,\n",
    "            \"nits\": 1000\n",
    "          },\n",
    "          'id': '{}'.format(\"tracks_0_segments-\" + str(i)),\n",
    "          \"intensifies_audio\": false,\n",
    "          \"is_tone_modify\": false,\n",
    "          \"keyframe_refs\": [],\n",
    "          \"last_nonzero_volume\": 1.0,\n",
    "          \"material_id\": \"videos-{}\".format(i),\n",
    "          \"render_index\": 0,\n",
    "          \"reverse\": false,\n",
    "          \"source_timerange\": {\n",
    "            \"duration\": int(df[\"duration\"][i] * 1000000),\n",
    "            \"start\": 0\n",
    "          },\n",
    "          \"speed\": 1.0,\n",
    "          \"target_timerange\": {\n",
    "            \"duration\": int(df[\"duration\"][i] * 1000000),\n",
    "            \"start\": int(df[\"start\"][i] * 1000000)\n",
    "          },\n",
    "          \"track_attribute\": 0,\n",
    "          \"track_render_index\": 0,\n",
    "          \"visible\": true,\n",
    "          \"volume\": 1.0\n",
    "        }\n",
    "    tracks_0_segments.append(tracks_0_segments_dict)\n",
    "tracks_0_segments"
   ]
  },
  {
   "cell_type": "code",
   "execution_count": null,
   "id": "49b37d59",
   "metadata": {
    "code_folding": [
     3
    ]
   },
   "outputs": [],
   "source": [
    "tracks_1_segments = data[\"tracks\"][1][\"segments\"]\n",
    "\n",
    "tracks_1_segments = []\n",
    "for i in range(n):\n",
    "    tracks_1_segments_dict = {\n",
    "          \"cartoon\": false,\n",
    "          \"clip\": {\n",
    "            \"alpha\": 1.0,\n",
    "            \"flip\": {\n",
    "              \"horizontal\": false,\n",
    "              \"vertical\": false\n",
    "            },\n",
    "            \"rotation\": 0.0,\n",
    "            \"scale\": {\n",
    "              \"x\": 0.7322295026571091,\n",
    "              \"y\": 0.7322295026571091\n",
    "            },\n",
    "            \"transform\": {\n",
    "              \"x\": 0.0,\n",
    "              \"y\": -0.8020681595802306\n",
    "            }\n",
    "          },\n",
    "          \"enable_adjust\": false,\n",
    "          \"enable_color_curves\": true,\n",
    "          \"enable_color_wheels\": true,\n",
    "          \"enable_lut\": false,\n",
    "          \"extra_material_refs\": [\n",
    "            \"material_animations-{}\".format(i)\n",
    "          ],\n",
    "          \"group_id\": \"\",\n",
    "          \"hdr_settings\": null,\n",
    "          'id': '{}'.format(\"tracks_1_segments-\" + str(i)),\n",
    "          \"intensifies_audio\": false,\n",
    "          \"is_tone_modify\": false,\n",
    "          \"keyframe_refs\": [],\n",
    "          \"last_nonzero_volume\": 1.0,\n",
    "          \"material_id\": \"texts-{}\".format(i),\n",
    "          \"render_index\": 14000,\n",
    "          \"reverse\": false,\n",
    "          \"source_timerange\": null,\n",
    "          \"speed\": 1.0,\n",
    "          \"target_timerange\": {\n",
    "            \"duration\": 4166666,\n",
    "            \"start\": 0\n",
    "          },\n",
    "          \"track_attribute\": 0,\n",
    "          \"track_render_index\": 0,\n",
    "          \"visible\": true,\n",
    "          \"volume\": 1.0\n",
    "        }\n",
    "    tracks_1_segments.append(tracks_1_segments_dict)\n",
    "tracks_1_segments"
   ]
  },
  {
   "cell_type": "code",
   "execution_count": null,
   "id": "bb72093f",
   "metadata": {},
   "outputs": [],
   "source": []
  },
  {
   "cell_type": "code",
   "execution_count": null,
   "id": "8de4bc1a",
   "metadata": {},
   "outputs": [],
   "source": []
  },
  {
   "cell_type": "code",
   "execution_count": null,
   "id": "df9d7af3",
   "metadata": {},
   "outputs": [],
   "source": []
  },
  {
   "cell_type": "code",
   "execution_count": null,
   "id": "64a6f314",
   "metadata": {},
   "outputs": [],
   "source": []
  },
  {
   "cell_type": "code",
   "execution_count": 13,
   "id": "731cbaf1",
   "metadata": {},
   "outputs": [],
   "source": [
    "with open(\"data.txt\",encoding=\"utf8\") as f:\n",
    "    data = json.loads(f.read())\n",
    "    title = data[\"data\"][\"text_2_video_resp\"][\"video_title\"]\n",
    "    \n",
    "# 桌面创建文件夹\n",
    "dir_name = r'C:\\Users\\pc\\Desktop\\{}'.format(title)\n",
    "os.mkdir(dir_name)\n",
    "\n",
    "# 移动制作好的draft_content.json和image到创建的文件夹下\n",
    "shutil.copy(\"draft_content.json\",dir_name)  \n",
    "\n",
    "# 创建image文件夹\n",
    "dir_name = r'C:\\Users\\pc\\Desktop\\{}\\image'.format(title)\n",
    "os.mkdir(dir_name)\n",
    "\n",
    "# 移动image下面的文件夹\n",
    "for i in os.listdir(\"image/\"):\n",
    "    shutil.copy(\"image/\"+i ,dir_name)  "
   ]
  },
  {
   "cell_type": "code",
   "execution_count": 17,
   "id": "ade65684",
   "metadata": {},
   "outputs": [
    {
     "data": {
      "text/plain": [
       "'520万人冲进考研大军：这届年轻人的出路究竟在哪里？'"
      ]
     },
     "execution_count": 17,
     "metadata": {},
     "output_type": "execute_result"
    }
   ],
   "source": [
    "title"
   ]
  },
  {
   "cell_type": "code",
   "execution_count": 36,
   "id": "bc36ec80",
   "metadata": {},
   "outputs": [],
   "source": []
  },
  {
   "cell_type": "code",
   "execution_count": null,
   "id": "c50e528b",
   "metadata": {},
   "outputs": [],
   "source": []
  },
  {
   "cell_type": "code",
   "execution_count": null,
   "id": "c454e583",
   "metadata": {},
   "outputs": [],
   "source": []
  },
  {
   "cell_type": "code",
   "execution_count": null,
   "id": "c1e08531",
   "metadata": {},
   "outputs": [],
   "source": []
  },
  {
   "cell_type": "code",
   "execution_count": 38,
   "id": "4f96058c",
   "metadata": {},
   "outputs": [],
   "source": []
  },
  {
   "cell_type": "code",
   "execution_count": null,
   "id": "2be9f250",
   "metadata": {},
   "outputs": [],
   "source": []
  },
  {
   "cell_type": "code",
   "execution_count": null,
   "id": "95718ca7",
   "metadata": {},
   "outputs": [],
   "source": []
  },
  {
   "cell_type": "code",
   "execution_count": null,
   "id": "53d1b455",
   "metadata": {},
   "outputs": [],
   "source": []
  },
  {
   "cell_type": "code",
   "execution_count": null,
   "id": "56de3c43",
   "metadata": {},
   "outputs": [],
   "source": []
  },
  {
   "cell_type": "code",
   "execution_count": null,
   "id": "3368d43c",
   "metadata": {},
   "outputs": [],
   "source": []
  },
  {
   "cell_type": "code",
   "execution_count": null,
   "id": "2d2958cd",
   "metadata": {},
   "outputs": [],
   "source": []
  },
  {
   "cell_type": "code",
   "execution_count": null,
   "id": "b2a02354",
   "metadata": {},
   "outputs": [],
   "source": []
  }
 ],
 "metadata": {
  "kernelspec": {
   "display_name": "Python 3 (ipykernel)",
   "language": "python",
   "name": "python3"
  },
  "language_info": {
   "codemirror_mode": {
    "name": "ipython",
    "version": 3
   },
   "file_extension": ".py",
   "mimetype": "text/x-python",
   "name": "python",
   "nbconvert_exporter": "python",
   "pygments_lexer": "ipython3",
   "version": "3.10.9"
  },
  "toc": {
   "base_numbering": 1,
   "nav_menu": {},
   "number_sections": true,
   "sideBar": true,
   "skip_h1_title": false,
   "title_cell": "Table of Contents",
   "title_sidebar": "Contents",
   "toc_cell": false,
   "toc_position": {
    "height": "calc(100% - 180px)",
    "left": "10px",
    "top": "150px",
    "width": "384px"
   },
   "toc_section_display": true,
   "toc_window_display": true
  }
 },
 "nbformat": 4,
 "nbformat_minor": 5
}
