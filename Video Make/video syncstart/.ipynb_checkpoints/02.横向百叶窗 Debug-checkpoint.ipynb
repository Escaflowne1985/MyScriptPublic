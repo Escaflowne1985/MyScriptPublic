{
 "cells": [
  {
   "cell_type": "code",
   "execution_count": 2,
   "id": "f5531562",
   "metadata": {},
   "outputs": [],
   "source": [
    "from moviepy.editor import *\n",
    "import os\n",
    "from PIL import Image\n",
    "import glob\n",
    "import librosa\n",
    "import random\n",
    "import re\n",
    "import pandas as pd\n",
    "import requests\n",
    "from urllib import parse\n",
    "from bs4 import BeautifulSoup\n",
    "import time\n",
    "from pychorus import find_and_output_chorus\n",
    "import shutil\n",
    "import subprocess"
   ]
  },
  {
   "cell_type": "markdown",
   "id": "6b67c81e",
   "metadata": {},
   "source": [
    "# 全局设置"
   ]
  },
  {
   "cell_type": "code",
   "execution_count": 3,
   "id": "c9f8f488",
   "metadata": {},
   "outputs": [],
   "source": [
    "# 设置素材关键词\n",
    "word_list = [\"风景\",\"山水\"]\n",
    "# 整体分辨率设置\n",
    "full_screen = (1920,1080)\n",
    "re_full_screen = (1080,1920)\n",
    "# 音乐路径\n",
    "mp3_path = \"mp3_data/\"\n",
    "# 图片保存地址\n",
    "image_path = \"image/\"\n",
    "# 图片列表路径\n",
    "image_cut_list_path = \"image_list/\"\n",
    "# 生成素材图片目录\n",
    "result_data = \"result_data/\"\n",
    "# 设置单张图片最大的画面切分数\n",
    "image_cut_num = 10\n",
    "# 音乐高潮自动截取时间s\n",
    "high_second = 62\n",
    "# 字体文件路径\n",
    "font_path = \"font/kaiti.ttf\"\n",
    "# 制作视频目录\n",
    "make_movie= \"make_movie/\"\n",
    "\n",
    "# 边框设置\n",
    "mar = 10 # 外边框的宽度像素，mar指定了有效值，left、right、top、bottom设定不起作用\n",
    "opacity = 0.5 # 边框透明度，0完全透明，1完全不透明"
   ]
  },
  {
   "cell_type": "markdown",
   "id": "2ba0548c",
   "metadata": {},
   "source": [
    "# 清空无用素材"
   ]
  },
  {
   "cell_type": "code",
   "execution_count": 3,
   "id": "dfba37d5",
   "metadata": {},
   "outputs": [],
   "source": [
    "shutil.rmtree(image_path)\n",
    "os.mkdir(image_path)\n",
    "shutil.rmtree(image_cut_list_path)\n",
    "os.mkdir(image_cut_list_path)\n",
    "shutil.rmtree(result_data)\n",
    "os.mkdir(result_data)\n",
    "for infile in glob.glob(os.path.join(mp3_path, '*.wav')):\n",
    "    os.remove(infile)\n",
    "for infile in glob.glob(os.path.join(mp3_path, '*.mp4')):\n",
    "    os.remove(infile)"
   ]
  },
  {
   "cell_type": "markdown",
   "id": "b647bd74",
   "metadata": {},
   "source": [
    "# 音频处理"
   ]
  },
  {
   "cell_type": "markdown",
   "id": "4e5ac000",
   "metadata": {},
   "source": [
    "## 提取音乐中的高潮部分"
   ]
  },
  {
   "cell_type": "code",
   "execution_count": 4,
   "id": "9ee444d6",
   "metadata": {},
   "outputs": [
    {
     "name": "stderr",
     "output_type": "stream",
     "text": [
      "C:\\Users\\pc\\AppData\\Roaming\\Python\\Python39\\site-packages\\librosa\\util\\decorators.py:88: UserWarning: PySoundFile failed. Trying audioread instead.\n",
      "  return f(*args, **kwargs)\n"
     ]
    },
    {
     "name": "stdout",
     "output_type": "stream",
     "text": [
      "Best chorus found at 1 min 23.34 sec\n"
     ]
    }
   ],
   "source": [
    "chorus_start_sec = find_and_output_chorus(mp3_path + os.listdir(mp3_path)[0], \"wav_plot/high.wav\", high_second)"
   ]
  },
  {
   "cell_type": "markdown",
   "id": "f3871682",
   "metadata": {},
   "source": [
    "## 获取音乐节拍列表"
   ]
  },
  {
   "cell_type": "code",
   "execution_count": 6,
   "id": "c7b41003",
   "metadata": {},
   "outputs": [
    {
     "name": "stderr",
     "output_type": "stream",
     "text": [
      "C:\\Users\\pc\\AppData\\Local\\Temp\\ipykernel_36328\\262497375.py:6: FutureWarning: Pass y=[ 0.02215576  0.00210571 -0.21618652 ... -0.35894775 -0.27694702\n",
      " -0.08673096] as keyword args. From version 0.10 passing these as positional arguments will result in an error\n",
      "  onset_frames = librosa.onset.onset_detect(x, sr=sr)\n"
     ]
    }
   ],
   "source": [
    "# 读取音频文件\n",
    "audio = AudioFileClip(\"wav_plot/high.wav\")\n",
    "# 获取音乐节拍\n",
    "x, sr = librosa.load(\"wav_plot/high.wav\")\n",
    "# 构建节拍fram\n",
    "onset_frames = librosa.onset.onset_detect(x, sr=sr)\n",
    "# 转换音乐节拍切换成秒数\n",
    "onset_times = librosa.frames_to_time(onset_frames)\n",
    "# 将秒数时间保留两位小暑\n",
    "onset_times = [round(i,2) for i in onset_times]\n",
    "# onset_times"
   ]
  },
  {
   "cell_type": "markdown",
   "id": "963cc5d6",
   "metadata": {},
   "source": [
    "## 音乐节拍递归分组"
   ]
  },
  {
   "cell_type": "code",
   "execution_count": 7,
   "id": "31e48316",
   "metadata": {
    "code_folding": [
     1
    ],
    "scrolled": true
   },
   "outputs": [],
   "source": [
    "# 音乐节拍递归切分\n",
    "def func(listTemp, n):\n",
    "    for i in range(0, len(listTemp), n):\n",
    "        yield listTemp[i:i + n]\n",
    "        \n",
    "temp = func(onset_times,image_cut_num)\n",
    "\n",
    "time_cut_list = [i for i in temp]\n",
    "\n",
    "# 时间列表追加结束时间\n",
    "time_cut_list[-1].append(audio.duration)\n",
    "# time_cut_list"
   ]
  },
  {
   "cell_type": "markdown",
   "id": "621ae6e7",
   "metadata": {},
   "source": [
    "## 生成音乐节拍卡点波形视频"
   ]
  },
  {
   "cell_type": "code",
   "execution_count": 8,
   "id": "7f91d5cd",
   "metadata": {},
   "outputs": [],
   "source": [
    "cmd = \"python .\\main.py high -m bars --output\"\n",
    "p = subprocess.call(cmd,cwd=\"./wav_plot\")"
   ]
  },
  {
   "cell_type": "markdown",
   "id": "fbd22a68",
   "metadata": {},
   "source": [
    "## 获取分组数对照图片素材"
   ]
  },
  {
   "cell_type": "code",
   "execution_count": 9,
   "id": "22a8bd69",
   "metadata": {},
   "outputs": [
    {
     "data": {
      "text/plain": [
       "22"
      ]
     },
     "execution_count": 9,
     "metadata": {},
     "output_type": "execute_result"
    }
   ],
   "source": [
    "# 最少要有11张素材图片才能完成视频\n",
    "len(time_cut_list)"
   ]
  },
  {
   "cell_type": "markdown",
   "id": "1bd34811",
   "metadata": {},
   "source": [
    "# 图片数据下载"
   ]
  },
  {
   "cell_type": "markdown",
   "id": "23afbabe",
   "metadata": {},
   "source": [
    "## 百度通过关键字爬素材"
   ]
  },
  {
   "cell_type": "code",
   "execution_count": 9,
   "id": "ef7e5879",
   "metadata": {},
   "outputs": [],
   "source": [
    "if word_list is not None:\n",
    "    # 设置图片搜索关键字\n",
    "    for pic_name in word_list:\n",
    "        # 设置搜索url\n",
    "        name_code = parse.quote(pic_name)\n",
    "        url = \"https://image.baidu.com/search/index?ct=201326592&z=&tn=baiduimage&ipn=r&word={}&pn=&spn=&istype=2&ie=utf-8&oe=utf-8&cl=2&lm=-1&st=-1&fr=&fmq=1661475165369_R&ic=&se=&sme=&width=1920&height=1080&face=0&hd=1&latest=0&copyright=0&cs=&os=&objurl=&di=&gsm=5a&dyTabStr=MCwyLDMsNiw1LDEsNCw4LDcsOQ%3D%3D\".format(\n",
    "            pic_name)\n",
    "        # 添加浏览器header 为了省事部改代码cookie手动复制\n",
    "        headers = {\n",
    "            'user-Agent': 'Mozilla/5.0 (Windows NT 10.0; Win64; x64) AppleWebKit/537.36 (KHTML, like Gecko) Chrome/104.0.0.0 Safari/537.36',\n",
    "            'cookie': \"BDqhfp=%E7%BB%B4%E4%B9%9F%E7%BA%B3%26%2619201080-10-1undefined%26%260%26%261; winWH=%5E6_1535x722; BDIMGISLOGIN=0; BIDUPSID=5C0E2C65602B6F0BD63D59645FD1DFD7; PSTM=1650591244; BAIDUID=5C0E2C65602B6F0BC07F935D43829E5A:FG=1; BDUSS=y1WNmV5M2x6TnFVdnZSVE9GSE9QdDVzakFNa0pwSVl1ZWRzeWVDWGVRd1cxUjFqRUFBQUFBJCQAAAAAAAAAAAEAAADRkZcEy77C7eVr4oAAAAAAAAAAAAAAAAAAAAAAAAAAAAAAAAAAAAAAAAAAAAAAAAAAAAAAAAAAAAAAAAAAAAAAAAAAABZI9mIWSPZiS; BDUSS_BFESS=y1WNmV5M2x6TnFVdnZSVE9GSE9QdDVzakFNa0pwSVl1ZWRzeWVDWGVRd1cxUjFqRUFBQUFBJCQAAAAAAAAAAAEAAADRkZcEy77C7eVr4oAAAAAAAAAAAAAAAAAAAAAAAAAAAAAAAAAAAAAAAAAAAAAAAAAAAAAAAAAAAAAAAAAAAAAAAAAAABZI9mIWSPZiS; BDORZ=B490B5EBF6F3CD402E515D22BCDA1598; BDSFRCVID=jJ4OJeC627qj1E7jW5Xs-5LL1evNIK7TH6aopE2tRs2Trywsj14bEG0Pjf8g0Kubqm_IogKK02OTHz-F_2uxOjjg8UtVJeC6EG0Ptf8g0M5; H_BDCLCKID_SF=tJ4DoD-hJKK3MCIwK-rjq4tehHRBBj39WDTm_D_5-RFasD3F3ToiKIr0X-kDKR5wWm0f-pPKKR72sDom0R-K3bD-5pbBJ63a3mkjbncDfn02OP5PKtcryt4syP4jJfRnWTLLKfA-b4ncjRcTehoM3xI8LNj405OTbIFO0KJzJCcjqR8ZDT-KD5bP; H_PS_PSSID=37154_36561_37112_36884_37003_37137_26350_36863_37202_37234; delPer=0; PSINO=2; BAIDUID_BFESS=5C0E2C65602B6F0BC07F935D43829E5A:FG=1; BDSFRCVID_BFESS=jJ4OJeC627qj1E7jW5Xs-5LL1evNIK7TH6aopE2tRs2Trywsj14bEG0Pjf8g0Kubqm_IogKK02OTHz-F_2uxOjjg8UtVJeC6EG0Ptf8g0M5; H_BDCLCKID_SF_BFESS=tJ4DoD-hJKK3MCIwK-rjq4tehHRBBj39WDTm_D_5-RFasD3F3ToiKIr0X-kDKR5wWm0f-pPKKR72sDom0R-K3bD-5pbBJ63a3mkjbncDfn02OP5PKtcryt4syP4jJfRnWTLLKfA-b4ncjRcTehoM3xI8LNj405OTbIFO0KJzJCcjqR8ZDT-KD5bP; BDRCVFR[dG2JNJb_ajR]=mk3SLVN4HKm; userFrom=www.baidu.com; BDRCVFR[-pGxjrCMryR]=mk3SLVN4HKm; cleanHistoryStatus=0; BDRCVFR[Txj84yDU4nc]=mk3SLVN4HKm; indexPageSugList=%5B%22%E7%BB%B4%E4%B9%9F%E7%BA%B3%22%2C%22%E8%B4%9D%E5%A4%9A%E8%8A%AC%22%2C%22%E6%9F%8F%E6%8B%89%E5%9B%BE%20%E6%95%B0%E6%8D%AE%E5%88%86%E6%9E%90%22%2C%22%E7%BE%8E%E5%B0%91%E5%A5%B3%E6%88%98%E5%A3%AB%20%E5%A3%81%E7%BA%B8%22%2C%22%E7%BE%8E%E5%B0%91%E5%A5%B3%E6%88%98%E5%A3%AB%20%E6%9C%A8%E6%98%9F%22%2C%22%E7%BE%8E%E5%B0%91%E5%A5%B3%E6%88%98%E5%A3%AB%22%2C%22%E7%BE%8E%E5%B0%91%E5%A5%B3%E5%B1%95%E7%A4%BA%22%2C%22%E6%98%8E%E6%97%A5%E8%8A%B1%E7%BB%AE%E7%BD%97%22%5D; BDRCVFR[tox4WRQ4-Km]=mk3SLVN4HKm; ab_sr=1.0.1_ZjE0NmM5OTc0ZjU0M2RiZDUyZTU4NWQ3MTYzMmQwZjRhM2Y4OGQ5MDRlYmVjYWRkZmMyY2Y2NTYzMzBjZGEyNGRhNDQ2YTVlYzI0YTQyZWI0MzhjMmQ0NTA0MGY5MDZiZjg1YjFiMDUxNTg3Y2NiZDU5M2UwNWI4OGVkYjQyNWI3Zjk1MWY1OWI5ZDk4YWEzYWVjZWZiMjViZTNlOGI0N\"\n",
    "        }\n",
    "        html = requests.get(url, headers=headers)\n",
    "        html.encoding = \"utf8\"\n",
    "        soup = BeautifulSoup(html.text, 'lxml')\n",
    "\n",
    "        reg = 'https://img2.(?:[a-zA-Z]|[0-9]|[$-_@.&+]|[!*\\(\\),]|(?:%[0-9a-fA-F][0-9a-fA-F]))+'\n",
    "        img_down_list = re.findall(reg, soup.find_all(\"script\")[-1].text)\n",
    "\n",
    "        for jpg_url in img_down_list:\n",
    "            html = requests.get(jpg_url)\n",
    "            #     print(jpg_url)\n",
    "            with open(image_path + str(int(time.time())) + \".jpg\", 'wb') as file:\n",
    "                file.write(html.content)\n",
    "            time.sleep(0.1)"
   ]
  },
  {
   "cell_type": "markdown",
   "id": "e7ef3bdd",
   "metadata": {},
   "source": [
    "## 手动选取一些素材"
   ]
  },
  {
   "cell_type": "code",
   "execution_count": 10,
   "id": "b13331cf",
   "metadata": {},
   "outputs": [],
   "source": [
    "# 未来补充下载地址"
   ]
  },
  {
   "cell_type": "markdown",
   "id": "a3152cbf",
   "metadata": {},
   "source": [
    "## 统一修改下载图片尺寸"
   ]
  },
  {
   "cell_type": "code",
   "execution_count": 10,
   "id": "296c363a",
   "metadata": {
    "code_folding": [
     8
    ]
   },
   "outputs": [],
   "source": [
    "image_dir_list=os.listdir(image_path)\n",
    "random.shuffle(image_dir_list)\n",
    "\n",
    "# 设置图片时间轴2个,2用于覆盖1\n",
    "image_dir_list_1 = image_dir_list[:len(time_cut_list)]\n",
    "image_dir_list_2 = image_dir_list[1:len(time_cut_list)+1]\n",
    "\n",
    "# 将所有图片统一尺寸为 full_screen\n",
    "for i in image_dir_list_1+image_dir_list_2:\n",
    "    img_path = Image.open(image_path+i)\n",
    "    img_size = img_path.resize(full_screen)\n",
    "    img_size.save(image_path+i, 'JPEG')"
   ]
  },
  {
   "cell_type": "markdown",
   "id": "6f9a5b14",
   "metadata": {},
   "source": [
    "## 使用图像制作视频底板"
   ]
  },
  {
   "cell_type": "code",
   "execution_count": 11,
   "id": "a11dae57",
   "metadata": {
    "code_folding": [
     3
    ]
   },
   "outputs": [
    {
     "name": "stderr",
     "output_type": "stream",
     "text": [
      "chunk:   4%|██▎                                                           | 51/1368 [00:00<00:02, 506.30it/s, now=None]"
     ]
    },
    {
     "name": "stdout",
     "output_type": "stream",
     "text": [
      "Moviepy - Building video result_data/base.mp4.\n",
      "MoviePy - Writing audio in baseTEMP_MPY_wvf_snd.mp3\n"
     ]
    },
    {
     "name": "stderr",
     "output_type": "stream",
     "text": [
      "t:   0%|▏                                                                 | 11/3379 [00:00<00:31, 107.08it/s, now=None]"
     ]
    },
    {
     "name": "stdout",
     "output_type": "stream",
     "text": [
      "MoviePy - Done.\n",
      "Moviepy - Writing video result_data/base.mp4\n",
      "\n"
     ]
    },
    {
     "name": "stderr",
     "output_type": "stream",
     "text": [
      "                                                                                                                       \r"
     ]
    },
    {
     "name": "stdout",
     "output_type": "stream",
     "text": [
      "Moviepy - Done !\n",
      "Moviepy - video ready result_data/base.mp4\n"
     ]
    }
   ],
   "source": [
    "start_time = 0\n",
    "n = 1 # 创建动态变量计数\n",
    "image_clip_list = [] # 动态变量列表\n",
    "for jpg,t in zip(image_dir_list_1,range(len(time_cut_list))):\n",
    "    image_clip = (\n",
    "        ImageClip(image_path+jpg)\n",
    "            .set_duration(max(time_cut_list[t])-start_time)\n",
    "            .set_start(start_time)\n",
    "    )\n",
    "    start_time = max(time_cut_list[t])\n",
    "    \n",
    "    # 动态变量设置\n",
    "    locals()[\"image_clip\"+str(n)] = image_clip\n",
    "    image_clip_list.append(locals()[\"image_clip\"+str(n)])\n",
    "    n = n + 1\n",
    "\n",
    "    \n",
    "cvc = concatenate_videoclips(image_clip_list)\n",
    "# 将背景音乐合成到mp4中\n",
    "audio = AudioFileClip('wav_plot/high.wav')\n",
    "cvc = cvc.set_audio(audio)\n",
    "cvc.write_videofile(result_data+\"base.mp4\", fps=60)"
   ]
  },
  {
   "cell_type": "markdown",
   "id": "2c28f49c",
   "metadata": {},
   "source": [
    "# 制作切分片段"
   ]
  },
  {
   "cell_type": "markdown",
   "id": "f2fc745b",
   "metadata": {},
   "source": [
    "## 横板百叶窗切分办法"
   ]
  },
  {
   "cell_type": "code",
   "execution_count": 12,
   "id": "83b9dd50",
   "metadata": {
    "code_folding": [
     2,
     11
    ]
   },
   "outputs": [],
   "source": [
    "# 根据切分的时间计算窗口的大小\n",
    "box_list = []\n",
    "for i in range(image_cut_num):\n",
    "    x1 = 0\n",
    "    y1 = full_screen[1]/len(time_cut_list[0])*i\n",
    "    x2 = full_screen[0]\n",
    "    y2 = full_screen[1]/len(time_cut_list[0])*(i+1)\n",
    "    box_list.append((round(x1,2),round(y1,2),round(x2,2),round(y2,2)))\n",
    "# box_list\n",
    "# 获取全部节拍点切分图片的box像素点\n",
    "all_box_list = []\n",
    "for n in range(len(time_cut_list)):\n",
    "    # 设置图片切分的图片大小\n",
    "    box_list = []\n",
    "    for i in range(len(time_cut_list[n])):\n",
    "        x1 = 0\n",
    "        y1 = full_screen[1]/len(time_cut_list[0])*i\n",
    "        x2 = full_screen[0]\n",
    "        y2 = full_screen[1]/len(time_cut_list[0])*(i+1)\n",
    "        box_list.append((round(x1,2),round(y1,2),round(x2,2),round(y2,2)))\n",
    "    # 获得切分的图像的像素列表\n",
    "    all_box_list.append(box_list)"
   ]
  },
  {
   "cell_type": "markdown",
   "id": "d6b833e2",
   "metadata": {},
   "source": [
    "## 构建图像数据切分字典"
   ]
  },
  {
   "cell_type": "code",
   "execution_count": 13,
   "id": "69d5d044",
   "metadata": {
    "code_folding": [
     2
    ],
    "collapsed": true
   },
   "outputs": [
    {
     "ename": "IndexError",
     "evalue": "list index out of range",
     "output_type": "error",
     "traceback": [
      "\u001b[1;31m---------------------------------------------------------------------------\u001b[0m",
      "\u001b[1;31mIndexError\u001b[0m                                Traceback (most recent call last)",
      "Input \u001b[1;32mIn [13]\u001b[0m, in \u001b[0;36m<cell line: 3>\u001b[1;34m()\u001b[0m\n\u001b[0;32m      2\u001b[0m data_list \u001b[38;5;241m=\u001b[39m []\n\u001b[0;32m      3\u001b[0m \u001b[38;5;28;01mfor\u001b[39;00m n \u001b[38;5;129;01min\u001b[39;00m \u001b[38;5;28mrange\u001b[39m(\u001b[38;5;28mlen\u001b[39m(all_box_list)):\n\u001b[1;32m----> 4\u001b[0m     image \u001b[38;5;241m=\u001b[39m \u001b[43mimage_dir_list_2\u001b[49m\u001b[43m[\u001b[49m\u001b[43mn\u001b[49m\u001b[43m]\u001b[49m\n\u001b[0;32m      5\u001b[0m     list_ \u001b[38;5;241m=\u001b[39m []\n\u001b[0;32m      6\u001b[0m     \u001b[38;5;28;01mfor\u001b[39;00m i \u001b[38;5;129;01min\u001b[39;00m \u001b[38;5;28mrange\u001b[39m(\u001b[38;5;28mlen\u001b[39m(all_box_list[n])):\n",
      "\u001b[1;31mIndexError\u001b[0m: list index out of range"
     ]
    }
   ],
   "source": [
    "data_dict = {}\n",
    "data_list = []\n",
    "for n in range(len(all_box_list)):\n",
    "    image = image_dir_list_2[n]\n",
    "    list_ = []\n",
    "    for i in range(len(all_box_list[n])):\n",
    "        list_.append((all_box_list[n][i],time_cut_list[n][i],max(time_cut_list[n]))) # box \n",
    "    data_dict[image] = list_ # 列表数据应该是box time\n",
    "    data_list = data_list +list_"
   ]
  },
  {
   "cell_type": "markdown",
   "id": "60d07e7d",
   "metadata": {},
   "source": [
    "## 素材图像切分并排序"
   ]
  },
  {
   "cell_type": "code",
   "execution_count": 14,
   "id": "ed078edb",
   "metadata": {
    "code_folding": [
     2
    ]
   },
   "outputs": [],
   "source": [
    "n = 1\n",
    "# 将图片列表按照像素点切割\n",
    "for image_name in image_dir_list_2:\n",
    "    for k in data_dict[image_name]:\n",
    "        img = Image.open(image_path+image_name)\n",
    "        crop_img = img.crop(k[0])\n",
    "        crop_img.save(image_cut_list_path+str(n)+\".jpg\")  \n",
    "        n = n + 1\n",
    "        \n",
    "# 照片排序顺序\n",
    "image_cut_list_ = sorted(os.listdir(image_cut_list_path),key = lambda i:int(re.match(r'(\\d+)',i).group()))"
   ]
  },
  {
   "cell_type": "markdown",
   "id": "c5a6ef10",
   "metadata": {},
   "source": [
    "## 素材数据排列"
   ]
  },
  {
   "cell_type": "code",
   "execution_count": 15,
   "id": "ccf4db52",
   "metadata": {},
   "outputs": [],
   "source": [
    "df = pd.DataFrame(data_list,columns=[\"pos\",\"start\",\"end\"])\n",
    "df[\"jpg\"] = image_cut_list_\n",
    "# df.head(8)\n",
    "\n",
    "# 已经按照递归的方式打乱每张图的起始时间\n",
    "temp = func(df[\"start\"].to_list(),image_cut_num)\n",
    "time_cut_list = [i for i in temp]\n",
    "\n",
    "# 打乱每个组的时间顺序\n",
    "for i in time_cut_list:\n",
    "    random.shuffle(i)\n",
    "\n",
    "shffle_list = []\n",
    "for i in time_cut_list:\n",
    "    for j in i:\n",
    "        shffle_list.append(j)\n",
    "\n",
    "df[\"start\"] = list(shffle_list)"
   ]
  },
  {
   "cell_type": "markdown",
   "id": "b52c2616",
   "metadata": {},
   "source": [
    "# 视频生成"
   ]
  },
  {
   "cell_type": "markdown",
   "id": "898d44d6",
   "metadata": {},
   "source": [
    "## 整理队列数据添加视频片段和效果"
   ]
  },
  {
   "cell_type": "code",
   "execution_count": 16,
   "id": "5ccccc12",
   "metadata": {
    "code_folding": []
   },
   "outputs": [],
   "source": [
    "# 全局变量计数使用\n",
    "n = 1\n",
    "image_clip_list = []\n",
    "for i in range(len(df)):\n",
    "    image_clip = (\n",
    "        ImageClip(image_cut_list_path+df[\"jpg\"][i])\n",
    "        .set_start(df[\"start\"][i])\n",
    "        .set_duration((df[\"end\"][i]-df[\"start\"][i]))\n",
    "        .set_position((df[\"pos\"][i][0],df[\"pos\"][i][1]))\n",
    "#         .set_position((\"center\",\"center\"))\n",
    "        .fadein(0.1)\n",
    "        .fx(vfx.margin, mar, color=(random.randint(0,255),random.randint(0,255),random.randint(0,255)), opacity=0.5)\n",
    "    )\n",
    "#     print(image_cut_list_path+df[\"jpg\"][i],df[\"end\"][i]-df[\"start\"][i],df[\"start\"][i],(df[\"pos\"][i][0],df[\"pos\"][i][1]))\n",
    "    # 动态变量设置\n",
    "    locals()[\"image_clip\"+str(n)] = image_clip\n",
    "    image_clip_list.append((locals()[\"image_clip\"+str(n)]))\n",
    "#     print(locals()[\"image_clip\"+str(n)].duration,locals()[\"image_clip\"+str(n)].start)\n",
    "    \n",
    "    n = n + 1"
   ]
  },
  {
   "cell_type": "markdown",
   "id": "6f12960e",
   "metadata": {},
   "source": [
    "## 素材按照数据队列生成视频"
   ]
  },
  {
   "cell_type": "code",
   "execution_count": 17,
   "id": "5738fa2e",
   "metadata": {
    "code_folding": []
   },
   "outputs": [
    {
     "name": "stderr",
     "output_type": "stream",
     "text": [
      "chunk:   7%|████▏                                                         | 92/1368 [00:00<00:01, 913.33it/s, now=None]"
     ]
    },
    {
     "name": "stdout",
     "output_type": "stream",
     "text": [
      "Moviepy - Building video result_data/result.mp4.\n",
      "MoviePy - Writing audio in resultTEMP_MPY_wvf_snd.mp3\n"
     ]
    },
    {
     "name": "stderr",
     "output_type": "stream",
     "text": [
      "t:   0%|▏                                                                   | 4/1861 [00:00<01:03, 29.28it/s, now=None]"
     ]
    },
    {
     "name": "stdout",
     "output_type": "stream",
     "text": [
      "MoviePy - Done.\n",
      "Moviepy - Writing video result_data/result.mp4\n",
      "\n"
     ]
    },
    {
     "name": "stderr",
     "output_type": "stream",
     "text": [
      "t:  91%|███████████████████████████████████████████████████████████      | 1691/1861 [03:51<00:06, 26.82it/s, now=None]D:\\MyTools\\Anaconda3\\lib\\site-packages\\moviepy\\video\\io\\ffmpeg_reader.py:154: UserWarning: In file result_data/base.mp4, 6220800 bytes wanted but 0 bytes read,at frame index 3380 (out of a total 3722 frames), at time 56.33/62.04 sec. Using the last valid frame instead.\n",
      "  warnings.warn(\n",
      "D:\\MyTools\\Anaconda3\\lib\\site-packages\\moviepy\\video\\io\\ffmpeg_reader.py:154: UserWarning: In file result_data/base.mp4, 6220800 bytes wanted but 0 bytes read,at frame index 3382 (out of a total 3722 frames), at time 56.37/62.04 sec. Using the last valid frame instead.\n",
      "  warnings.warn(\n",
      "D:\\MyTools\\Anaconda3\\lib\\site-packages\\moviepy\\video\\io\\ffmpeg_reader.py:154: UserWarning: In file result_data/base.mp4, 6220800 bytes wanted but 0 bytes read,at frame index 3384 (out of a total 3722 frames), at time 56.40/62.04 sec. Using the last valid frame instead.\n",
      "  warnings.warn(\n",
      "D:\\MyTools\\Anaconda3\\lib\\site-packages\\moviepy\\video\\io\\ffmpeg_reader.py:154: UserWarning: In file result_data/base.mp4, 6220800 bytes wanted but 0 bytes read,at frame index 3386 (out of a total 3722 frames), at time 56.43/62.04 sec. Using the last valid frame instead.\n",
      "  warnings.warn(\n",
      "D:\\MyTools\\Anaconda3\\lib\\site-packages\\moviepy\\video\\io\\ffmpeg_reader.py:154: UserWarning: In file result_data/base.mp4, 6220800 bytes wanted but 0 bytes read,at frame index 3388 (out of a total 3722 frames), at time 56.47/62.04 sec. Using the last valid frame instead.\n",
      "  warnings.warn(\n",
      "t:  91%|███████████████████████████████████████████████████████████▏     | 1696/1861 [03:52<00:05, 30.32it/s, now=None]D:\\MyTools\\Anaconda3\\lib\\site-packages\\moviepy\\video\\io\\ffmpeg_reader.py:154: UserWarning: In file result_data/base.mp4, 6220800 bytes wanted but 0 bytes read,at frame index 3390 (out of a total 3722 frames), at time 56.50/62.04 sec. Using the last valid frame instead.\n",
      "  warnings.warn(\n",
      "D:\\MyTools\\Anaconda3\\lib\\site-packages\\moviepy\\video\\io\\ffmpeg_reader.py:154: UserWarning: In file result_data/base.mp4, 6220800 bytes wanted but 0 bytes read,at frame index 3392 (out of a total 3722 frames), at time 56.53/62.04 sec. Using the last valid frame instead.\n",
      "  warnings.warn(\n",
      "D:\\MyTools\\Anaconda3\\lib\\site-packages\\moviepy\\video\\io\\ffmpeg_reader.py:154: UserWarning: In file result_data/base.mp4, 6220800 bytes wanted but 0 bytes read,at frame index 3394 (out of a total 3722 frames), at time 56.57/62.04 sec. Using the last valid frame instead.\n",
      "  warnings.warn(\n",
      "D:\\MyTools\\Anaconda3\\lib\\site-packages\\moviepy\\video\\io\\ffmpeg_reader.py:154: UserWarning: In file result_data/base.mp4, 6220800 bytes wanted but 0 bytes read,at frame index 3396 (out of a total 3722 frames), at time 56.60/62.04 sec. Using the last valid frame instead.\n",
      "  warnings.warn(\n",
      "D:\\MyTools\\Anaconda3\\lib\\site-packages\\moviepy\\video\\io\\ffmpeg_reader.py:154: UserWarning: In file result_data/base.mp4, 6220800 bytes wanted but 0 bytes read,at frame index 3398 (out of a total 3722 frames), at time 56.63/62.04 sec. Using the last valid frame instead.\n",
      "  warnings.warn(\n",
      "t:  91%|███████████████████████████████████████████████████████████▍     | 1701/1861 [03:52<00:04, 33.07it/s, now=None]D:\\MyTools\\Anaconda3\\lib\\site-packages\\moviepy\\video\\io\\ffmpeg_reader.py:154: UserWarning: In file result_data/base.mp4, 6220800 bytes wanted but 0 bytes read,at frame index 3400 (out of a total 3722 frames), at time 56.67/62.04 sec. Using the last valid frame instead.\n",
      "  warnings.warn(\n",
      "D:\\MyTools\\Anaconda3\\lib\\site-packages\\moviepy\\video\\io\\ffmpeg_reader.py:154: UserWarning: In file result_data/base.mp4, 6220800 bytes wanted but 0 bytes read,at frame index 3402 (out of a total 3722 frames), at time 56.70/62.04 sec. Using the last valid frame instead.\n",
      "  warnings.warn(\n",
      "D:\\MyTools\\Anaconda3\\lib\\site-packages\\moviepy\\video\\io\\ffmpeg_reader.py:154: UserWarning: In file result_data/base.mp4, 6220800 bytes wanted but 0 bytes read,at frame index 3404 (out of a total 3722 frames), at time 56.73/62.04 sec. Using the last valid frame instead.\n",
      "  warnings.warn(\n",
      "D:\\MyTools\\Anaconda3\\lib\\site-packages\\moviepy\\video\\io\\ffmpeg_reader.py:154: UserWarning: In file result_data/base.mp4, 6220800 bytes wanted but 0 bytes read,at frame index 3406 (out of a total 3722 frames), at time 56.77/62.04 sec. Using the last valid frame instead.\n",
      "  warnings.warn(\n",
      "D:\\MyTools\\Anaconda3\\lib\\site-packages\\moviepy\\video\\io\\ffmpeg_reader.py:154: UserWarning: In file result_data/base.mp4, 6220800 bytes wanted but 0 bytes read,at frame index 3408 (out of a total 3722 frames), at time 56.80/62.04 sec. Using the last valid frame instead.\n",
      "  warnings.warn(\n",
      "t:  92%|███████████████████████████████████████████████████████████▌     | 1706/1861 [03:52<00:04, 34.76it/s, now=None]D:\\MyTools\\Anaconda3\\lib\\site-packages\\moviepy\\video\\io\\ffmpeg_reader.py:154: UserWarning: In file result_data/base.mp4, 6220800 bytes wanted but 0 bytes read,at frame index 3410 (out of a total 3722 frames), at time 56.83/62.04 sec. Using the last valid frame instead.\n",
      "  warnings.warn(\n",
      "D:\\MyTools\\Anaconda3\\lib\\site-packages\\moviepy\\video\\io\\ffmpeg_reader.py:154: UserWarning: In file result_data/base.mp4, 6220800 bytes wanted but 0 bytes read,at frame index 3412 (out of a total 3722 frames), at time 56.87/62.04 sec. Using the last valid frame instead.\n",
      "  warnings.warn(\n",
      "D:\\MyTools\\Anaconda3\\lib\\site-packages\\moviepy\\video\\io\\ffmpeg_reader.py:154: UserWarning: In file result_data/base.mp4, 6220800 bytes wanted but 0 bytes read,at frame index 3414 (out of a total 3722 frames), at time 56.90/62.04 sec. Using the last valid frame instead.\n",
      "  warnings.warn(\n",
      "D:\\MyTools\\Anaconda3\\lib\\site-packages\\moviepy\\video\\io\\ffmpeg_reader.py:154: UserWarning: In file result_data/base.mp4, 6220800 bytes wanted but 0 bytes read,at frame index 3416 (out of a total 3722 frames), at time 56.93/62.04 sec. Using the last valid frame instead.\n",
      "  warnings.warn(\n",
      "D:\\MyTools\\Anaconda3\\lib\\site-packages\\moviepy\\video\\io\\ffmpeg_reader.py:154: UserWarning: In file result_data/base.mp4, 6220800 bytes wanted but 0 bytes read,at frame index 3418 (out of a total 3722 frames), at time 56.97/62.04 sec. Using the last valid frame instead.\n",
      "  warnings.warn(\n",
      "t:  92%|███████████████████████████████████████████████████████████▊     | 1711/1861 [03:52<00:04, 36.37it/s, now=None]D:\\MyTools\\Anaconda3\\lib\\site-packages\\moviepy\\video\\io\\ffmpeg_reader.py:154: UserWarning: In file result_data/base.mp4, 6220800 bytes wanted but 0 bytes read,at frame index 3420 (out of a total 3722 frames), at time 57.00/62.04 sec. Using the last valid frame instead.\n",
      "  warnings.warn(\n",
      "D:\\MyTools\\Anaconda3\\lib\\site-packages\\moviepy\\video\\io\\ffmpeg_reader.py:154: UserWarning: In file result_data/base.mp4, 6220800 bytes wanted but 0 bytes read,at frame index 3422 (out of a total 3722 frames), at time 57.03/62.04 sec. Using the last valid frame instead.\n",
      "  warnings.warn(\n",
      "D:\\MyTools\\Anaconda3\\lib\\site-packages\\moviepy\\video\\io\\ffmpeg_reader.py:154: UserWarning: In file result_data/base.mp4, 6220800 bytes wanted but 0 bytes read,at frame index 3424 (out of a total 3722 frames), at time 57.07/62.04 sec. Using the last valid frame instead.\n",
      "  warnings.warn(\n",
      "D:\\MyTools\\Anaconda3\\lib\\site-packages\\moviepy\\video\\io\\ffmpeg_reader.py:154: UserWarning: In file result_data/base.mp4, 6220800 bytes wanted but 0 bytes read,at frame index 3426 (out of a total 3722 frames), at time 57.10/62.04 sec. Using the last valid frame instead.\n",
      "  warnings.warn(\n",
      "t:  92%|███████████████████████████████████████████████████████████▉     | 1715/1861 [03:52<00:04, 36.19it/s, now=None]D:\\MyTools\\Anaconda3\\lib\\site-packages\\moviepy\\video\\io\\ffmpeg_reader.py:154: UserWarning: In file result_data/base.mp4, 6220800 bytes wanted but 0 bytes read,at frame index 3428 (out of a total 3722 frames), at time 57.13/62.04 sec. Using the last valid frame instead.\n",
      "  warnings.warn(\n",
      "D:\\MyTools\\Anaconda3\\lib\\site-packages\\moviepy\\video\\io\\ffmpeg_reader.py:154: UserWarning: In file result_data/base.mp4, 6220800 bytes wanted but 0 bytes read,at frame index 3430 (out of a total 3722 frames), at time 57.17/62.04 sec. Using the last valid frame instead.\n",
      "  warnings.warn(\n",
      "D:\\MyTools\\Anaconda3\\lib\\site-packages\\moviepy\\video\\io\\ffmpeg_reader.py:154: UserWarning: In file result_data/base.mp4, 6220800 bytes wanted but 0 bytes read,at frame index 3432 (out of a total 3722 frames), at time 57.20/62.04 sec. Using the last valid frame instead.\n",
      "  warnings.warn(\n"
     ]
    },
    {
     "name": "stderr",
     "output_type": "stream",
     "text": [
      "D:\\MyTools\\Anaconda3\\lib\\site-packages\\moviepy\\video\\io\\ffmpeg_reader.py:154: UserWarning: In file result_data/base.mp4, 6220800 bytes wanted but 0 bytes read,at frame index 3434 (out of a total 3722 frames), at time 57.23/62.04 sec. Using the last valid frame instead.\n",
      "  warnings.warn(\n",
      "t:  92%|████████████████████████████████████████████████████████████     | 1719/1861 [03:52<00:03, 36.71it/s, now=None]D:\\MyTools\\Anaconda3\\lib\\site-packages\\moviepy\\video\\io\\ffmpeg_reader.py:154: UserWarning: In file result_data/base.mp4, 6220800 bytes wanted but 0 bytes read,at frame index 3436 (out of a total 3722 frames), at time 57.27/62.04 sec. Using the last valid frame instead.\n",
      "  warnings.warn(\n",
      "D:\\MyTools\\Anaconda3\\lib\\site-packages\\moviepy\\video\\io\\ffmpeg_reader.py:154: UserWarning: In file result_data/base.mp4, 6220800 bytes wanted but 0 bytes read,at frame index 3438 (out of a total 3722 frames), at time 57.30/62.04 sec. Using the last valid frame instead.\n",
      "  warnings.warn(\n",
      "D:\\MyTools\\Anaconda3\\lib\\site-packages\\moviepy\\video\\io\\ffmpeg_reader.py:154: UserWarning: In file result_data/base.mp4, 6220800 bytes wanted but 0 bytes read,at frame index 3440 (out of a total 3722 frames), at time 57.33/62.04 sec. Using the last valid frame instead.\n",
      "  warnings.warn(\n",
      "D:\\MyTools\\Anaconda3\\lib\\site-packages\\moviepy\\video\\io\\ffmpeg_reader.py:154: UserWarning: In file result_data/base.mp4, 6220800 bytes wanted but 0 bytes read,at frame index 3442 (out of a total 3722 frames), at time 57.37/62.04 sec. Using the last valid frame instead.\n",
      "  warnings.warn(\n",
      "D:\\MyTools\\Anaconda3\\lib\\site-packages\\moviepy\\video\\io\\ffmpeg_reader.py:154: UserWarning: In file result_data/base.mp4, 6220800 bytes wanted but 0 bytes read,at frame index 3444 (out of a total 3722 frames), at time 57.40/62.04 sec. Using the last valid frame instead.\n",
      "  warnings.warn(\n",
      "t:  93%|████████████████████████████████████████████████████████████▏    | 1724/1861 [03:52<00:03, 38.81it/s, now=None]D:\\MyTools\\Anaconda3\\lib\\site-packages\\moviepy\\video\\io\\ffmpeg_reader.py:154: UserWarning: In file result_data/base.mp4, 6220800 bytes wanted but 0 bytes read,at frame index 3446 (out of a total 3722 frames), at time 57.43/62.04 sec. Using the last valid frame instead.\n",
      "  warnings.warn(\n",
      "D:\\MyTools\\Anaconda3\\lib\\site-packages\\moviepy\\video\\io\\ffmpeg_reader.py:154: UserWarning: In file result_data/base.mp4, 6220800 bytes wanted but 0 bytes read,at frame index 3448 (out of a total 3722 frames), at time 57.47/62.04 sec. Using the last valid frame instead.\n",
      "  warnings.warn(\n",
      "D:\\MyTools\\Anaconda3\\lib\\site-packages\\moviepy\\video\\io\\ffmpeg_reader.py:154: UserWarning: In file result_data/base.mp4, 6220800 bytes wanted but 0 bytes read,at frame index 3450 (out of a total 3722 frames), at time 57.50/62.04 sec. Using the last valid frame instead.\n",
      "  warnings.warn(\n",
      "D:\\MyTools\\Anaconda3\\lib\\site-packages\\moviepy\\video\\io\\ffmpeg_reader.py:154: UserWarning: In file result_data/base.mp4, 6220800 bytes wanted but 0 bytes read,at frame index 3452 (out of a total 3722 frames), at time 57.53/62.04 sec. Using the last valid frame instead.\n",
      "  warnings.warn(\n",
      "D:\\MyTools\\Anaconda3\\lib\\site-packages\\moviepy\\video\\io\\ffmpeg_reader.py:154: UserWarning: In file result_data/base.mp4, 6220800 bytes wanted but 0 bytes read,at frame index 3454 (out of a total 3722 frames), at time 57.57/62.04 sec. Using the last valid frame instead.\n",
      "  warnings.warn(\n",
      "t:  93%|████████████████████████████████████████████████████████████▍    | 1729/1861 [03:52<00:03, 39.97it/s, now=None]D:\\MyTools\\Anaconda3\\lib\\site-packages\\moviepy\\video\\io\\ffmpeg_reader.py:154: UserWarning: In file result_data/base.mp4, 6220800 bytes wanted but 0 bytes read,at frame index 3456 (out of a total 3722 frames), at time 57.60/62.04 sec. Using the last valid frame instead.\n",
      "  warnings.warn(\n",
      "D:\\MyTools\\Anaconda3\\lib\\site-packages\\moviepy\\video\\io\\ffmpeg_reader.py:154: UserWarning: In file result_data/base.mp4, 6220800 bytes wanted but 0 bytes read,at frame index 3458 (out of a total 3722 frames), at time 57.63/62.04 sec. Using the last valid frame instead.\n",
      "  warnings.warn(\n",
      "D:\\MyTools\\Anaconda3\\lib\\site-packages\\moviepy\\video\\io\\ffmpeg_reader.py:154: UserWarning: In file result_data/base.mp4, 6220800 bytes wanted but 0 bytes read,at frame index 3460 (out of a total 3722 frames), at time 57.67/62.04 sec. Using the last valid frame instead.\n",
      "  warnings.warn(\n",
      "D:\\MyTools\\Anaconda3\\lib\\site-packages\\moviepy\\video\\io\\ffmpeg_reader.py:154: UserWarning: In file result_data/base.mp4, 6220800 bytes wanted but 0 bytes read,at frame index 3462 (out of a total 3722 frames), at time 57.70/62.04 sec. Using the last valid frame instead.\n",
      "  warnings.warn(\n",
      "D:\\MyTools\\Anaconda3\\lib\\site-packages\\moviepy\\video\\io\\ffmpeg_reader.py:154: UserWarning: In file result_data/base.mp4, 6220800 bytes wanted but 0 bytes read,at frame index 3464 (out of a total 3722 frames), at time 57.73/62.04 sec. Using the last valid frame instead.\n",
      "  warnings.warn(\n",
      "t:  93%|████████████████████████████████████████████████████████████▌    | 1734/1861 [03:53<00:03, 39.73it/s, now=None]D:\\MyTools\\Anaconda3\\lib\\site-packages\\moviepy\\video\\io\\ffmpeg_reader.py:154: UserWarning: In file result_data/base.mp4, 6220800 bytes wanted but 0 bytes read,at frame index 3466 (out of a total 3722 frames), at time 57.77/62.04 sec. Using the last valid frame instead.\n",
      "  warnings.warn(\n",
      "D:\\MyTools\\Anaconda3\\lib\\site-packages\\moviepy\\video\\io\\ffmpeg_reader.py:154: UserWarning: In file result_data/base.mp4, 6220800 bytes wanted but 0 bytes read,at frame index 3468 (out of a total 3722 frames), at time 57.80/62.04 sec. Using the last valid frame instead.\n",
      "  warnings.warn(\n",
      "D:\\MyTools\\Anaconda3\\lib\\site-packages\\moviepy\\video\\io\\ffmpeg_reader.py:154: UserWarning: In file result_data/base.mp4, 6220800 bytes wanted but 0 bytes read,at frame index 3470 (out of a total 3722 frames), at time 57.83/62.04 sec. Using the last valid frame instead.\n",
      "  warnings.warn(\n",
      "D:\\MyTools\\Anaconda3\\lib\\site-packages\\moviepy\\video\\io\\ffmpeg_reader.py:154: UserWarning: In file result_data/base.mp4, 6220800 bytes wanted but 0 bytes read,at frame index 3472 (out of a total 3722 frames), at time 57.87/62.04 sec. Using the last valid frame instead.\n",
      "  warnings.warn(\n",
      "D:\\MyTools\\Anaconda3\\lib\\site-packages\\moviepy\\video\\io\\ffmpeg_reader.py:154: UserWarning: In file result_data/base.mp4, 6220800 bytes wanted but 0 bytes read,at frame index 3474 (out of a total 3722 frames), at time 57.90/62.04 sec. Using the last valid frame instead.\n",
      "  warnings.warn(\n",
      "t:  93%|████████████████████████████████████████████████████████████▋    | 1739/1861 [03:53<00:02, 40.91it/s, now=None]D:\\MyTools\\Anaconda3\\lib\\site-packages\\moviepy\\video\\io\\ffmpeg_reader.py:154: UserWarning: In file result_data/base.mp4, 6220800 bytes wanted but 0 bytes read,at frame index 3476 (out of a total 3722 frames), at time 57.93/62.04 sec. Using the last valid frame instead.\n",
      "  warnings.warn(\n",
      "D:\\MyTools\\Anaconda3\\lib\\site-packages\\moviepy\\video\\io\\ffmpeg_reader.py:154: UserWarning: In file result_data/base.mp4, 6220800 bytes wanted but 0 bytes read,at frame index 3478 (out of a total 3722 frames), at time 57.97/62.04 sec. Using the last valid frame instead.\n",
      "  warnings.warn(\n",
      "D:\\MyTools\\Anaconda3\\lib\\site-packages\\moviepy\\video\\io\\ffmpeg_reader.py:154: UserWarning: In file result_data/base.mp4, 6220800 bytes wanted but 0 bytes read,at frame index 3480 (out of a total 3722 frames), at time 58.00/62.04 sec. Using the last valid frame instead.\n",
      "  warnings.warn(\n",
      "D:\\MyTools\\Anaconda3\\lib\\site-packages\\moviepy\\video\\io\\ffmpeg_reader.py:154: UserWarning: In file result_data/base.mp4, 6220800 bytes wanted but 0 bytes read,at frame index 3482 (out of a total 3722 frames), at time 58.03/62.04 sec. Using the last valid frame instead.\n",
      "  warnings.warn(\n",
      "D:\\MyTools\\Anaconda3\\lib\\site-packages\\moviepy\\video\\io\\ffmpeg_reader.py:154: UserWarning: In file result_data/base.mp4, 6220800 bytes wanted but 0 bytes read,at frame index 3484 (out of a total 3722 frames), at time 58.07/62.04 sec. Using the last valid frame instead.\n",
      "  warnings.warn(\n",
      "t:  94%|████████████████████████████████████████████████████████████▉    | 1744/1861 [03:53<00:02, 40.87it/s, now=None]D:\\MyTools\\Anaconda3\\lib\\site-packages\\moviepy\\video\\io\\ffmpeg_reader.py:154: UserWarning: In file result_data/base.mp4, 6220800 bytes wanted but 0 bytes read,at frame index 3486 (out of a total 3722 frames), at time 58.10/62.04 sec. Using the last valid frame instead.\n",
      "  warnings.warn(\n",
      "D:\\MyTools\\Anaconda3\\lib\\site-packages\\moviepy\\video\\io\\ffmpeg_reader.py:154: UserWarning: In file result_data/base.mp4, 6220800 bytes wanted but 0 bytes read,at frame index 3488 (out of a total 3722 frames), at time 58.13/62.04 sec. Using the last valid frame instead.\n",
      "  warnings.warn(\n",
      "D:\\MyTools\\Anaconda3\\lib\\site-packages\\moviepy\\video\\io\\ffmpeg_reader.py:154: UserWarning: In file result_data/base.mp4, 6220800 bytes wanted but 0 bytes read,at frame index 3490 (out of a total 3722 frames), at time 58.17/62.04 sec. Using the last valid frame instead.\n",
      "  warnings.warn(\n"
     ]
    },
    {
     "name": "stderr",
     "output_type": "stream",
     "text": [
      "D:\\MyTools\\Anaconda3\\lib\\site-packages\\moviepy\\video\\io\\ffmpeg_reader.py:154: UserWarning: In file result_data/base.mp4, 6220800 bytes wanted but 0 bytes read,at frame index 3492 (out of a total 3722 frames), at time 58.20/62.04 sec. Using the last valid frame instead.\n",
      "  warnings.warn(\n",
      "D:\\MyTools\\Anaconda3\\lib\\site-packages\\moviepy\\video\\io\\ffmpeg_reader.py:154: UserWarning: In file result_data/base.mp4, 6220800 bytes wanted but 0 bytes read,at frame index 3494 (out of a total 3722 frames), at time 58.23/62.04 sec. Using the last valid frame instead.\n",
      "  warnings.warn(\n",
      "t:  94%|█████████████████████████████████████████████████████████████    | 1749/1861 [03:53<00:02, 41.96it/s, now=None]D:\\MyTools\\Anaconda3\\lib\\site-packages\\moviepy\\video\\io\\ffmpeg_reader.py:154: UserWarning: In file result_data/base.mp4, 6220800 bytes wanted but 0 bytes read,at frame index 3496 (out of a total 3722 frames), at time 58.27/62.04 sec. Using the last valid frame instead.\n",
      "  warnings.warn(\n",
      "D:\\MyTools\\Anaconda3\\lib\\site-packages\\moviepy\\video\\io\\ffmpeg_reader.py:154: UserWarning: In file result_data/base.mp4, 6220800 bytes wanted but 0 bytes read,at frame index 3498 (out of a total 3722 frames), at time 58.30/62.04 sec. Using the last valid frame instead.\n",
      "  warnings.warn(\n",
      "D:\\MyTools\\Anaconda3\\lib\\site-packages\\moviepy\\video\\io\\ffmpeg_reader.py:154: UserWarning: In file result_data/base.mp4, 6220800 bytes wanted but 0 bytes read,at frame index 3500 (out of a total 3722 frames), at time 58.33/62.04 sec. Using the last valid frame instead.\n",
      "  warnings.warn(\n",
      "D:\\MyTools\\Anaconda3\\lib\\site-packages\\moviepy\\video\\io\\ffmpeg_reader.py:154: UserWarning: In file result_data/base.mp4, 6220800 bytes wanted but 0 bytes read,at frame index 3502 (out of a total 3722 frames), at time 58.37/62.04 sec. Using the last valid frame instead.\n",
      "  warnings.warn(\n",
      "D:\\MyTools\\Anaconda3\\lib\\site-packages\\moviepy\\video\\io\\ffmpeg_reader.py:154: UserWarning: In file result_data/base.mp4, 6220800 bytes wanted but 0 bytes read,at frame index 3504 (out of a total 3722 frames), at time 58.40/62.04 sec. Using the last valid frame instead.\n",
      "  warnings.warn(\n",
      "t:  94%|█████████████████████████████████████████████████████████████▎   | 1754/1861 [03:53<00:02, 42.86it/s, now=None]D:\\MyTools\\Anaconda3\\lib\\site-packages\\moviepy\\video\\io\\ffmpeg_reader.py:154: UserWarning: In file result_data/base.mp4, 6220800 bytes wanted but 0 bytes read,at frame index 3506 (out of a total 3722 frames), at time 58.43/62.04 sec. Using the last valid frame instead.\n",
      "  warnings.warn(\n",
      "D:\\MyTools\\Anaconda3\\lib\\site-packages\\moviepy\\video\\io\\ffmpeg_reader.py:154: UserWarning: In file result_data/base.mp4, 6220800 bytes wanted but 0 bytes read,at frame index 3508 (out of a total 3722 frames), at time 58.47/62.04 sec. Using the last valid frame instead.\n",
      "  warnings.warn(\n",
      "D:\\MyTools\\Anaconda3\\lib\\site-packages\\moviepy\\video\\io\\ffmpeg_reader.py:154: UserWarning: In file result_data/base.mp4, 6220800 bytes wanted but 0 bytes read,at frame index 3510 (out of a total 3722 frames), at time 58.50/62.04 sec. Using the last valid frame instead.\n",
      "  warnings.warn(\n",
      "D:\\MyTools\\Anaconda3\\lib\\site-packages\\moviepy\\video\\io\\ffmpeg_reader.py:154: UserWarning: In file result_data/base.mp4, 6220800 bytes wanted but 0 bytes read,at frame index 3512 (out of a total 3722 frames), at time 58.53/62.04 sec. Using the last valid frame instead.\n",
      "  warnings.warn(\n",
      "D:\\MyTools\\Anaconda3\\lib\\site-packages\\moviepy\\video\\io\\ffmpeg_reader.py:154: UserWarning: In file result_data/base.mp4, 6220800 bytes wanted but 0 bytes read,at frame index 3514 (out of a total 3722 frames), at time 58.57/62.04 sec. Using the last valid frame instead.\n",
      "  warnings.warn(\n",
      "t:  95%|█████████████████████████████████████████████████████████████▍   | 1759/1861 [03:53<00:02, 42.18it/s, now=None]D:\\MyTools\\Anaconda3\\lib\\site-packages\\moviepy\\video\\io\\ffmpeg_reader.py:154: UserWarning: In file result_data/base.mp4, 6220800 bytes wanted but 0 bytes read,at frame index 3516 (out of a total 3722 frames), at time 58.60/62.04 sec. Using the last valid frame instead.\n",
      "  warnings.warn(\n",
      "D:\\MyTools\\Anaconda3\\lib\\site-packages\\moviepy\\video\\io\\ffmpeg_reader.py:154: UserWarning: In file result_data/base.mp4, 6220800 bytes wanted but 0 bytes read,at frame index 3518 (out of a total 3722 frames), at time 58.63/62.04 sec. Using the last valid frame instead.\n",
      "  warnings.warn(\n",
      "D:\\MyTools\\Anaconda3\\lib\\site-packages\\moviepy\\video\\io\\ffmpeg_reader.py:154: UserWarning: In file result_data/base.mp4, 6220800 bytes wanted but 0 bytes read,at frame index 3520 (out of a total 3722 frames), at time 58.67/62.04 sec. Using the last valid frame instead.\n",
      "  warnings.warn(\n",
      "D:\\MyTools\\Anaconda3\\lib\\site-packages\\moviepy\\video\\io\\ffmpeg_reader.py:154: UserWarning: In file result_data/base.mp4, 6220800 bytes wanted but 0 bytes read,at frame index 3522 (out of a total 3722 frames), at time 58.70/62.04 sec. Using the last valid frame instead.\n",
      "  warnings.warn(\n",
      "D:\\MyTools\\Anaconda3\\lib\\site-packages\\moviepy\\video\\io\\ffmpeg_reader.py:154: UserWarning: In file result_data/base.mp4, 6220800 bytes wanted but 0 bytes read,at frame index 3524 (out of a total 3722 frames), at time 58.73/62.04 sec. Using the last valid frame instead.\n",
      "  warnings.warn(\n",
      "t:  95%|█████████████████████████████████████████████████████████████▌   | 1764/1861 [03:53<00:02, 40.62it/s, now=None]D:\\MyTools\\Anaconda3\\lib\\site-packages\\moviepy\\video\\io\\ffmpeg_reader.py:154: UserWarning: In file result_data/base.mp4, 6220800 bytes wanted but 0 bytes read,at frame index 3526 (out of a total 3722 frames), at time 58.77/62.04 sec. Using the last valid frame instead.\n",
      "  warnings.warn(\n",
      "D:\\MyTools\\Anaconda3\\lib\\site-packages\\moviepy\\video\\io\\ffmpeg_reader.py:154: UserWarning: In file result_data/base.mp4, 6220800 bytes wanted but 0 bytes read,at frame index 3528 (out of a total 3722 frames), at time 58.80/62.04 sec. Using the last valid frame instead.\n",
      "  warnings.warn(\n",
      "D:\\MyTools\\Anaconda3\\lib\\site-packages\\moviepy\\video\\io\\ffmpeg_reader.py:154: UserWarning: In file result_data/base.mp4, 6220800 bytes wanted but 0 bytes read,at frame index 3530 (out of a total 3722 frames), at time 58.83/62.04 sec. Using the last valid frame instead.\n",
      "  warnings.warn(\n",
      "D:\\MyTools\\Anaconda3\\lib\\site-packages\\moviepy\\video\\io\\ffmpeg_reader.py:154: UserWarning: In file result_data/base.mp4, 6220800 bytes wanted but 0 bytes read,at frame index 3532 (out of a total 3722 frames), at time 58.87/62.04 sec. Using the last valid frame instead.\n",
      "  warnings.warn(\n",
      "D:\\MyTools\\Anaconda3\\lib\\site-packages\\moviepy\\video\\io\\ffmpeg_reader.py:154: UserWarning: In file result_data/base.mp4, 6220800 bytes wanted but 0 bytes read,at frame index 3534 (out of a total 3722 frames), at time 58.90/62.04 sec. Using the last valid frame instead.\n",
      "  warnings.warn(\n",
      "t:  95%|█████████████████████████████████████████████████████████████▊   | 1769/1861 [03:53<00:02, 41.67it/s, now=None]D:\\MyTools\\Anaconda3\\lib\\site-packages\\moviepy\\video\\io\\ffmpeg_reader.py:154: UserWarning: In file result_data/base.mp4, 6220800 bytes wanted but 0 bytes read,at frame index 3536 (out of a total 3722 frames), at time 58.93/62.04 sec. Using the last valid frame instead.\n",
      "  warnings.warn(\n",
      "D:\\MyTools\\Anaconda3\\lib\\site-packages\\moviepy\\video\\io\\ffmpeg_reader.py:154: UserWarning: In file result_data/base.mp4, 6220800 bytes wanted but 0 bytes read,at frame index 3538 (out of a total 3722 frames), at time 58.97/62.04 sec. Using the last valid frame instead.\n",
      "  warnings.warn(\n",
      "D:\\MyTools\\Anaconda3\\lib\\site-packages\\moviepy\\video\\io\\ffmpeg_reader.py:154: UserWarning: In file result_data/base.mp4, 6220800 bytes wanted but 0 bytes read,at frame index 3540 (out of a total 3722 frames), at time 59.00/62.04 sec. Using the last valid frame instead.\n",
      "  warnings.warn(\n",
      "D:\\MyTools\\Anaconda3\\lib\\site-packages\\moviepy\\video\\io\\ffmpeg_reader.py:154: UserWarning: In file result_data/base.mp4, 6220800 bytes wanted but 0 bytes read,at frame index 3542 (out of a total 3722 frames), at time 59.03/62.04 sec. Using the last valid frame instead.\n",
      "  warnings.warn(\n",
      "D:\\MyTools\\Anaconda3\\lib\\site-packages\\moviepy\\video\\io\\ffmpeg_reader.py:154: UserWarning: In file result_data/base.mp4, 6220800 bytes wanted but 0 bytes read,at frame index 3544 (out of a total 3722 frames), at time 59.07/62.04 sec. Using the last valid frame instead.\n",
      "  warnings.warn(\n"
     ]
    },
    {
     "name": "stderr",
     "output_type": "stream",
     "text": [
      "t:  95%|█████████████████████████████████████████████████████████████▉   | 1774/1861 [03:53<00:02, 41.81it/s, now=None]D:\\MyTools\\Anaconda3\\lib\\site-packages\\moviepy\\video\\io\\ffmpeg_reader.py:154: UserWarning: In file result_data/base.mp4, 6220800 bytes wanted but 0 bytes read,at frame index 3546 (out of a total 3722 frames), at time 59.10/62.04 sec. Using the last valid frame instead.\n",
      "  warnings.warn(\n",
      "D:\\MyTools\\Anaconda3\\lib\\site-packages\\moviepy\\video\\io\\ffmpeg_reader.py:154: UserWarning: In file result_data/base.mp4, 6220800 bytes wanted but 0 bytes read,at frame index 3548 (out of a total 3722 frames), at time 59.13/62.04 sec. Using the last valid frame instead.\n",
      "  warnings.warn(\n",
      "D:\\MyTools\\Anaconda3\\lib\\site-packages\\moviepy\\video\\io\\ffmpeg_reader.py:154: UserWarning: In file result_data/base.mp4, 6220800 bytes wanted but 0 bytes read,at frame index 3550 (out of a total 3722 frames), at time 59.17/62.04 sec. Using the last valid frame instead.\n",
      "  warnings.warn(\n",
      "D:\\MyTools\\Anaconda3\\lib\\site-packages\\moviepy\\video\\io\\ffmpeg_reader.py:154: UserWarning: In file result_data/base.mp4, 6220800 bytes wanted but 0 bytes read,at frame index 3552 (out of a total 3722 frames), at time 59.20/62.04 sec. Using the last valid frame instead.\n",
      "  warnings.warn(\n",
      "D:\\MyTools\\Anaconda3\\lib\\site-packages\\moviepy\\video\\io\\ffmpeg_reader.py:154: UserWarning: In file result_data/base.mp4, 6220800 bytes wanted but 0 bytes read,at frame index 3554 (out of a total 3722 frames), at time 59.23/62.04 sec. Using the last valid frame instead.\n",
      "  warnings.warn(\n",
      "t:  96%|██████████████████████████████████████████████████████████████▏  | 1779/1861 [03:54<00:01, 41.49it/s, now=None]D:\\MyTools\\Anaconda3\\lib\\site-packages\\moviepy\\video\\io\\ffmpeg_reader.py:154: UserWarning: In file result_data/base.mp4, 6220800 bytes wanted but 0 bytes read,at frame index 3556 (out of a total 3722 frames), at time 59.27/62.04 sec. Using the last valid frame instead.\n",
      "  warnings.warn(\n",
      "D:\\MyTools\\Anaconda3\\lib\\site-packages\\moviepy\\video\\io\\ffmpeg_reader.py:154: UserWarning: In file result_data/base.mp4, 6220800 bytes wanted but 0 bytes read,at frame index 3558 (out of a total 3722 frames), at time 59.30/62.04 sec. Using the last valid frame instead.\n",
      "  warnings.warn(\n",
      "D:\\MyTools\\Anaconda3\\lib\\site-packages\\moviepy\\video\\io\\ffmpeg_reader.py:154: UserWarning: In file result_data/base.mp4, 6220800 bytes wanted but 0 bytes read,at frame index 3560 (out of a total 3722 frames), at time 59.33/62.04 sec. Using the last valid frame instead.\n",
      "  warnings.warn(\n",
      "D:\\MyTools\\Anaconda3\\lib\\site-packages\\moviepy\\video\\io\\ffmpeg_reader.py:154: UserWarning: In file result_data/base.mp4, 6220800 bytes wanted but 0 bytes read,at frame index 3562 (out of a total 3722 frames), at time 59.37/62.04 sec. Using the last valid frame instead.\n",
      "  warnings.warn(\n",
      "D:\\MyTools\\Anaconda3\\lib\\site-packages\\moviepy\\video\\io\\ffmpeg_reader.py:154: UserWarning: In file result_data/base.mp4, 6220800 bytes wanted but 0 bytes read,at frame index 3564 (out of a total 3722 frames), at time 59.40/62.04 sec. Using the last valid frame instead.\n",
      "  warnings.warn(\n",
      "t:  96%|██████████████████████████████████████████████████████████████▎  | 1784/1861 [03:54<00:01, 38.51it/s, now=None]D:\\MyTools\\Anaconda3\\lib\\site-packages\\moviepy\\video\\io\\ffmpeg_reader.py:154: UserWarning: In file result_data/base.mp4, 6220800 bytes wanted but 0 bytes read,at frame index 3566 (out of a total 3722 frames), at time 59.43/62.04 sec. Using the last valid frame instead.\n",
      "  warnings.warn(\n",
      "D:\\MyTools\\Anaconda3\\lib\\site-packages\\moviepy\\video\\io\\ffmpeg_reader.py:154: UserWarning: In file result_data/base.mp4, 6220800 bytes wanted but 0 bytes read,at frame index 3568 (out of a total 3722 frames), at time 59.47/62.04 sec. Using the last valid frame instead.\n",
      "  warnings.warn(\n",
      "D:\\MyTools\\Anaconda3\\lib\\site-packages\\moviepy\\video\\io\\ffmpeg_reader.py:154: UserWarning: In file result_data/base.mp4, 6220800 bytes wanted but 0 bytes read,at frame index 3570 (out of a total 3722 frames), at time 59.50/62.04 sec. Using the last valid frame instead.\n",
      "  warnings.warn(\n",
      "D:\\MyTools\\Anaconda3\\lib\\site-packages\\moviepy\\video\\io\\ffmpeg_reader.py:154: UserWarning: In file result_data/base.mp4, 6220800 bytes wanted but 0 bytes read,at frame index 3572 (out of a total 3722 frames), at time 59.53/62.04 sec. Using the last valid frame instead.\n",
      "  warnings.warn(\n",
      "t:  96%|██████████████████████████████████████████████████████████████▍  | 1788/1861 [03:54<00:01, 37.87it/s, now=None]D:\\MyTools\\Anaconda3\\lib\\site-packages\\moviepy\\video\\io\\ffmpeg_reader.py:154: UserWarning: In file result_data/base.mp4, 6220800 bytes wanted but 0 bytes read,at frame index 3574 (out of a total 3722 frames), at time 59.57/62.04 sec. Using the last valid frame instead.\n",
      "  warnings.warn(\n",
      "D:\\MyTools\\Anaconda3\\lib\\site-packages\\moviepy\\video\\io\\ffmpeg_reader.py:154: UserWarning: In file result_data/base.mp4, 6220800 bytes wanted but 0 bytes read,at frame index 3576 (out of a total 3722 frames), at time 59.60/62.04 sec. Using the last valid frame instead.\n",
      "  warnings.warn(\n",
      "D:\\MyTools\\Anaconda3\\lib\\site-packages\\moviepy\\video\\io\\ffmpeg_reader.py:154: UserWarning: In file result_data/base.mp4, 6220800 bytes wanted but 0 bytes read,at frame index 3578 (out of a total 3722 frames), at time 59.63/62.04 sec. Using the last valid frame instead.\n",
      "  warnings.warn(\n",
      "D:\\MyTools\\Anaconda3\\lib\\site-packages\\moviepy\\video\\io\\ffmpeg_reader.py:154: UserWarning: In file result_data/base.mp4, 6220800 bytes wanted but 0 bytes read,at frame index 3580 (out of a total 3722 frames), at time 59.67/62.04 sec. Using the last valid frame instead.\n",
      "  warnings.warn(\n",
      "D:\\MyTools\\Anaconda3\\lib\\site-packages\\moviepy\\video\\io\\ffmpeg_reader.py:154: UserWarning: In file result_data/base.mp4, 6220800 bytes wanted but 0 bytes read,at frame index 3582 (out of a total 3722 frames), at time 59.70/62.04 sec. Using the last valid frame instead.\n",
      "  warnings.warn(\n",
      "t:  96%|██████████████████████████████████████████████████████████████▌  | 1793/1861 [03:54<00:01, 39.91it/s, now=None]D:\\MyTools\\Anaconda3\\lib\\site-packages\\moviepy\\video\\io\\ffmpeg_reader.py:154: UserWarning: In file result_data/base.mp4, 6220800 bytes wanted but 0 bytes read,at frame index 3584 (out of a total 3722 frames), at time 59.73/62.04 sec. Using the last valid frame instead.\n",
      "  warnings.warn(\n",
      "D:\\MyTools\\Anaconda3\\lib\\site-packages\\moviepy\\video\\io\\ffmpeg_reader.py:154: UserWarning: In file result_data/base.mp4, 6220800 bytes wanted but 0 bytes read,at frame index 3586 (out of a total 3722 frames), at time 59.77/62.04 sec. Using the last valid frame instead.\n",
      "  warnings.warn(\n",
      "D:\\MyTools\\Anaconda3\\lib\\site-packages\\moviepy\\video\\io\\ffmpeg_reader.py:154: UserWarning: In file result_data/base.mp4, 6220800 bytes wanted but 0 bytes read,at frame index 3588 (out of a total 3722 frames), at time 59.80/62.04 sec. Using the last valid frame instead.\n",
      "  warnings.warn(\n",
      "D:\\MyTools\\Anaconda3\\lib\\site-packages\\moviepy\\video\\io\\ffmpeg_reader.py:154: UserWarning: In file result_data/base.mp4, 6220800 bytes wanted but 0 bytes read,at frame index 3590 (out of a total 3722 frames), at time 59.83/62.04 sec. Using the last valid frame instead.\n",
      "  warnings.warn(\n",
      "D:\\MyTools\\Anaconda3\\lib\\site-packages\\moviepy\\video\\io\\ffmpeg_reader.py:154: UserWarning: In file result_data/base.mp4, 6220800 bytes wanted but 0 bytes read,at frame index 3592 (out of a total 3722 frames), at time 59.87/62.04 sec. Using the last valid frame instead.\n",
      "  warnings.warn(\n",
      "t:  97%|██████████████████████████████████████████████████████████████▊  | 1798/1861 [03:54<00:01, 40.68it/s, now=None]D:\\MyTools\\Anaconda3\\lib\\site-packages\\moviepy\\video\\io\\ffmpeg_reader.py:154: UserWarning: In file result_data/base.mp4, 6220800 bytes wanted but 0 bytes read,at frame index 3594 (out of a total 3722 frames), at time 59.90/62.04 sec. Using the last valid frame instead.\n",
      "  warnings.warn(\n",
      "D:\\MyTools\\Anaconda3\\lib\\site-packages\\moviepy\\video\\io\\ffmpeg_reader.py:154: UserWarning: In file result_data/base.mp4, 6220800 bytes wanted but 0 bytes read,at frame index 3596 (out of a total 3722 frames), at time 59.93/62.04 sec. Using the last valid frame instead.\n",
      "  warnings.warn(\n",
      "D:\\MyTools\\Anaconda3\\lib\\site-packages\\moviepy\\video\\io\\ffmpeg_reader.py:154: UserWarning: In file result_data/base.mp4, 6220800 bytes wanted but 0 bytes read,at frame index 3598 (out of a total 3722 frames), at time 59.97/62.04 sec. Using the last valid frame instead.\n",
      "  warnings.warn(\n",
      "D:\\MyTools\\Anaconda3\\lib\\site-packages\\moviepy\\video\\io\\ffmpeg_reader.py:154: UserWarning: In file result_data/base.mp4, 6220800 bytes wanted but 0 bytes read,at frame index 3600 (out of a total 3722 frames), at time 60.00/62.04 sec. Using the last valid frame instead.\n",
      "  warnings.warn(\n"
     ]
    },
    {
     "name": "stderr",
     "output_type": "stream",
     "text": [
      "D:\\MyTools\\Anaconda3\\lib\\site-packages\\moviepy\\video\\io\\ffmpeg_reader.py:154: UserWarning: In file result_data/base.mp4, 6220800 bytes wanted but 0 bytes read,at frame index 3602 (out of a total 3722 frames), at time 60.03/62.04 sec. Using the last valid frame instead.\n",
      "  warnings.warn(\n",
      "t:  97%|██████████████████████████████████████████████████████████████▉  | 1803/1861 [03:54<00:01, 39.06it/s, now=None]D:\\MyTools\\Anaconda3\\lib\\site-packages\\moviepy\\video\\io\\ffmpeg_reader.py:154: UserWarning: In file result_data/base.mp4, 6220800 bytes wanted but 0 bytes read,at frame index 3604 (out of a total 3722 frames), at time 60.07/62.04 sec. Using the last valid frame instead.\n",
      "  warnings.warn(\n",
      "D:\\MyTools\\Anaconda3\\lib\\site-packages\\moviepy\\video\\io\\ffmpeg_reader.py:154: UserWarning: In file result_data/base.mp4, 6220800 bytes wanted but 0 bytes read,at frame index 3606 (out of a total 3722 frames), at time 60.10/62.04 sec. Using the last valid frame instead.\n",
      "  warnings.warn(\n",
      "D:\\MyTools\\Anaconda3\\lib\\site-packages\\moviepy\\video\\io\\ffmpeg_reader.py:154: UserWarning: In file result_data/base.mp4, 6220800 bytes wanted but 0 bytes read,at frame index 3608 (out of a total 3722 frames), at time 60.13/62.04 sec. Using the last valid frame instead.\n",
      "  warnings.warn(\n",
      "D:\\MyTools\\Anaconda3\\lib\\site-packages\\moviepy\\video\\io\\ffmpeg_reader.py:154: UserWarning: In file result_data/base.mp4, 6220800 bytes wanted but 0 bytes read,at frame index 3610 (out of a total 3722 frames), at time 60.17/62.04 sec. Using the last valid frame instead.\n",
      "  warnings.warn(\n",
      "t:  97%|███████████████████████████████████████████████████████████████  | 1807/1861 [03:54<00:01, 38.47it/s, now=None]D:\\MyTools\\Anaconda3\\lib\\site-packages\\moviepy\\video\\io\\ffmpeg_reader.py:154: UserWarning: In file result_data/base.mp4, 6220800 bytes wanted but 0 bytes read,at frame index 3612 (out of a total 3722 frames), at time 60.20/62.04 sec. Using the last valid frame instead.\n",
      "  warnings.warn(\n",
      "D:\\MyTools\\Anaconda3\\lib\\site-packages\\moviepy\\video\\io\\ffmpeg_reader.py:154: UserWarning: In file result_data/base.mp4, 6220800 bytes wanted but 0 bytes read,at frame index 3614 (out of a total 3722 frames), at time 60.23/62.04 sec. Using the last valid frame instead.\n",
      "  warnings.warn(\n",
      "D:\\MyTools\\Anaconda3\\lib\\site-packages\\moviepy\\video\\io\\ffmpeg_reader.py:154: UserWarning: In file result_data/base.mp4, 6220800 bytes wanted but 0 bytes read,at frame index 3616 (out of a total 3722 frames), at time 60.27/62.04 sec. Using the last valid frame instead.\n",
      "  warnings.warn(\n",
      "D:\\MyTools\\Anaconda3\\lib\\site-packages\\moviepy\\video\\io\\ffmpeg_reader.py:154: UserWarning: In file result_data/base.mp4, 6220800 bytes wanted but 0 bytes read,at frame index 3618 (out of a total 3722 frames), at time 60.30/62.04 sec. Using the last valid frame instead.\n",
      "  warnings.warn(\n",
      "D:\\MyTools\\Anaconda3\\lib\\site-packages\\moviepy\\video\\io\\ffmpeg_reader.py:154: UserWarning: In file result_data/base.mp4, 6220800 bytes wanted but 0 bytes read,at frame index 3620 (out of a total 3722 frames), at time 60.33/62.04 sec. Using the last valid frame instead.\n",
      "  warnings.warn(\n",
      "t:  97%|███████████████████████████████████████████████████████████████▎ | 1812/1861 [03:54<00:01, 38.82it/s, now=None]D:\\MyTools\\Anaconda3\\lib\\site-packages\\moviepy\\video\\io\\ffmpeg_reader.py:154: UserWarning: In file result_data/base.mp4, 6220800 bytes wanted but 0 bytes read,at frame index 3622 (out of a total 3722 frames), at time 60.37/62.04 sec. Using the last valid frame instead.\n",
      "  warnings.warn(\n",
      "D:\\MyTools\\Anaconda3\\lib\\site-packages\\moviepy\\video\\io\\ffmpeg_reader.py:154: UserWarning: In file result_data/base.mp4, 6220800 bytes wanted but 0 bytes read,at frame index 3624 (out of a total 3722 frames), at time 60.40/62.04 sec. Using the last valid frame instead.\n",
      "  warnings.warn(\n",
      "D:\\MyTools\\Anaconda3\\lib\\site-packages\\moviepy\\video\\io\\ffmpeg_reader.py:154: UserWarning: In file result_data/base.mp4, 6220800 bytes wanted but 0 bytes read,at frame index 3626 (out of a total 3722 frames), at time 60.43/62.04 sec. Using the last valid frame instead.\n",
      "  warnings.warn(\n",
      "D:\\MyTools\\Anaconda3\\lib\\site-packages\\moviepy\\video\\io\\ffmpeg_reader.py:154: UserWarning: In file result_data/base.mp4, 6220800 bytes wanted but 0 bytes read,at frame index 3628 (out of a total 3722 frames), at time 60.47/62.04 sec. Using the last valid frame instead.\n",
      "  warnings.warn(\n",
      "D:\\MyTools\\Anaconda3\\lib\\site-packages\\moviepy\\video\\io\\ffmpeg_reader.py:154: UserWarning: In file result_data/base.mp4, 6220800 bytes wanted but 0 bytes read,at frame index 3630 (out of a total 3722 frames), at time 60.50/62.04 sec. Using the last valid frame instead.\n",
      "  warnings.warn(\n",
      "t:  98%|███████████████████████████████████████████████████████████████▍ | 1817/1861 [03:55<00:01, 40.14it/s, now=None]D:\\MyTools\\Anaconda3\\lib\\site-packages\\moviepy\\video\\io\\ffmpeg_reader.py:154: UserWarning: In file result_data/base.mp4, 6220800 bytes wanted but 0 bytes read,at frame index 3632 (out of a total 3722 frames), at time 60.53/62.04 sec. Using the last valid frame instead.\n",
      "  warnings.warn(\n",
      "D:\\MyTools\\Anaconda3\\lib\\site-packages\\moviepy\\video\\io\\ffmpeg_reader.py:154: UserWarning: In file result_data/base.mp4, 6220800 bytes wanted but 0 bytes read,at frame index 3634 (out of a total 3722 frames), at time 60.57/62.04 sec. Using the last valid frame instead.\n",
      "  warnings.warn(\n",
      "D:\\MyTools\\Anaconda3\\lib\\site-packages\\moviepy\\video\\io\\ffmpeg_reader.py:154: UserWarning: In file result_data/base.mp4, 6220800 bytes wanted but 0 bytes read,at frame index 3636 (out of a total 3722 frames), at time 60.60/62.04 sec. Using the last valid frame instead.\n",
      "  warnings.warn(\n",
      "D:\\MyTools\\Anaconda3\\lib\\site-packages\\moviepy\\video\\io\\ffmpeg_reader.py:154: UserWarning: In file result_data/base.mp4, 6220800 bytes wanted but 0 bytes read,at frame index 3638 (out of a total 3722 frames), at time 60.63/62.04 sec. Using the last valid frame instead.\n",
      "  warnings.warn(\n",
      "D:\\MyTools\\Anaconda3\\lib\\site-packages\\moviepy\\video\\io\\ffmpeg_reader.py:154: UserWarning: In file result_data/base.mp4, 6220800 bytes wanted but 0 bytes read,at frame index 3640 (out of a total 3722 frames), at time 60.67/62.04 sec. Using the last valid frame instead.\n",
      "  warnings.warn(\n",
      "t:  98%|███████████████████████████████████████████████████████████████▋ | 1822/1861 [03:55<00:00, 39.19it/s, now=None]D:\\MyTools\\Anaconda3\\lib\\site-packages\\moviepy\\video\\io\\ffmpeg_reader.py:154: UserWarning: In file result_data/base.mp4, 6220800 bytes wanted but 0 bytes read,at frame index 3642 (out of a total 3722 frames), at time 60.70/62.04 sec. Using the last valid frame instead.\n",
      "  warnings.warn(\n",
      "D:\\MyTools\\Anaconda3\\lib\\site-packages\\moviepy\\video\\io\\ffmpeg_reader.py:154: UserWarning: In file result_data/base.mp4, 6220800 bytes wanted but 0 bytes read,at frame index 3644 (out of a total 3722 frames), at time 60.73/62.04 sec. Using the last valid frame instead.\n",
      "  warnings.warn(\n",
      "D:\\MyTools\\Anaconda3\\lib\\site-packages\\moviepy\\video\\io\\ffmpeg_reader.py:154: UserWarning: In file result_data/base.mp4, 6220800 bytes wanted but 0 bytes read,at frame index 3646 (out of a total 3722 frames), at time 60.77/62.04 sec. Using the last valid frame instead.\n",
      "  warnings.warn(\n",
      "D:\\MyTools\\Anaconda3\\lib\\site-packages\\moviepy\\video\\io\\ffmpeg_reader.py:154: UserWarning: In file result_data/base.mp4, 6220800 bytes wanted but 0 bytes read,at frame index 3648 (out of a total 3722 frames), at time 60.80/62.04 sec. Using the last valid frame instead.\n",
      "  warnings.warn(\n",
      "D:\\MyTools\\Anaconda3\\lib\\site-packages\\moviepy\\video\\io\\ffmpeg_reader.py:154: UserWarning: In file result_data/base.mp4, 6220800 bytes wanted but 0 bytes read,at frame index 3650 (out of a total 3722 frames), at time 60.83/62.04 sec. Using the last valid frame instead.\n",
      "  warnings.warn(\n",
      "t:  98%|███████████████████████████████████████████████████████████████▊ | 1827/1861 [03:55<00:00, 39.84it/s, now=None]D:\\MyTools\\Anaconda3\\lib\\site-packages\\moviepy\\video\\io\\ffmpeg_reader.py:154: UserWarning: In file result_data/base.mp4, 6220800 bytes wanted but 0 bytes read,at frame index 3652 (out of a total 3722 frames), at time 60.87/62.04 sec. Using the last valid frame instead.\n",
      "  warnings.warn(\n",
      "D:\\MyTools\\Anaconda3\\lib\\site-packages\\moviepy\\video\\io\\ffmpeg_reader.py:154: UserWarning: In file result_data/base.mp4, 6220800 bytes wanted but 0 bytes read,at frame index 3654 (out of a total 3722 frames), at time 60.90/62.04 sec. Using the last valid frame instead.\n",
      "  warnings.warn(\n"
     ]
    },
    {
     "name": "stderr",
     "output_type": "stream",
     "text": [
      "D:\\MyTools\\Anaconda3\\lib\\site-packages\\moviepy\\video\\io\\ffmpeg_reader.py:154: UserWarning: In file result_data/base.mp4, 6220800 bytes wanted but 0 bytes read,at frame index 3656 (out of a total 3722 frames), at time 60.93/62.04 sec. Using the last valid frame instead.\n",
      "  warnings.warn(\n",
      "D:\\MyTools\\Anaconda3\\lib\\site-packages\\moviepy\\video\\io\\ffmpeg_reader.py:154: UserWarning: In file result_data/base.mp4, 6220800 bytes wanted but 0 bytes read,at frame index 3658 (out of a total 3722 frames), at time 60.97/62.04 sec. Using the last valid frame instead.\n",
      "  warnings.warn(\n",
      "D:\\MyTools\\Anaconda3\\lib\\site-packages\\moviepy\\video\\io\\ffmpeg_reader.py:154: UserWarning: In file result_data/base.mp4, 6220800 bytes wanted but 0 bytes read,at frame index 3660 (out of a total 3722 frames), at time 61.00/62.04 sec. Using the last valid frame instead.\n",
      "  warnings.warn(\n",
      "t:  98%|███████████████████████████████████████████████████████████████▉ | 1832/1861 [03:55<00:00, 39.51it/s, now=None]D:\\MyTools\\Anaconda3\\lib\\site-packages\\moviepy\\video\\io\\ffmpeg_reader.py:154: UserWarning: In file result_data/base.mp4, 6220800 bytes wanted but 0 bytes read,at frame index 3662 (out of a total 3722 frames), at time 61.03/62.04 sec. Using the last valid frame instead.\n",
      "  warnings.warn(\n",
      "D:\\MyTools\\Anaconda3\\lib\\site-packages\\moviepy\\video\\io\\ffmpeg_reader.py:154: UserWarning: In file result_data/base.mp4, 6220800 bytes wanted but 0 bytes read,at frame index 3664 (out of a total 3722 frames), at time 61.07/62.04 sec. Using the last valid frame instead.\n",
      "  warnings.warn(\n",
      "D:\\MyTools\\Anaconda3\\lib\\site-packages\\moviepy\\video\\io\\ffmpeg_reader.py:154: UserWarning: In file result_data/base.mp4, 6220800 bytes wanted but 0 bytes read,at frame index 3666 (out of a total 3722 frames), at time 61.10/62.04 sec. Using the last valid frame instead.\n",
      "  warnings.warn(\n",
      "D:\\MyTools\\Anaconda3\\lib\\site-packages\\moviepy\\video\\io\\ffmpeg_reader.py:154: UserWarning: In file result_data/base.mp4, 6220800 bytes wanted but 0 bytes read,at frame index 3668 (out of a total 3722 frames), at time 61.13/62.04 sec. Using the last valid frame instead.\n",
      "  warnings.warn(\n",
      "D:\\MyTools\\Anaconda3\\lib\\site-packages\\moviepy\\video\\io\\ffmpeg_reader.py:154: UserWarning: In file result_data/base.mp4, 6220800 bytes wanted but 0 bytes read,at frame index 3670 (out of a total 3722 frames), at time 61.17/62.04 sec. Using the last valid frame instead.\n",
      "  warnings.warn(\n",
      "t:  99%|████████████████████████████████████████████████████████████████▏| 1837/1861 [03:55<00:00, 40.63it/s, now=None]D:\\MyTools\\Anaconda3\\lib\\site-packages\\moviepy\\video\\io\\ffmpeg_reader.py:154: UserWarning: In file result_data/base.mp4, 6220800 bytes wanted but 0 bytes read,at frame index 3672 (out of a total 3722 frames), at time 61.20/62.04 sec. Using the last valid frame instead.\n",
      "  warnings.warn(\n",
      "D:\\MyTools\\Anaconda3\\lib\\site-packages\\moviepy\\video\\io\\ffmpeg_reader.py:154: UserWarning: In file result_data/base.mp4, 6220800 bytes wanted but 0 bytes read,at frame index 3674 (out of a total 3722 frames), at time 61.23/62.04 sec. Using the last valid frame instead.\n",
      "  warnings.warn(\n",
      "D:\\MyTools\\Anaconda3\\lib\\site-packages\\moviepy\\video\\io\\ffmpeg_reader.py:154: UserWarning: In file result_data/base.mp4, 6220800 bytes wanted but 0 bytes read,at frame index 3676 (out of a total 3722 frames), at time 61.27/62.04 sec. Using the last valid frame instead.\n",
      "  warnings.warn(\n",
      "D:\\MyTools\\Anaconda3\\lib\\site-packages\\moviepy\\video\\io\\ffmpeg_reader.py:154: UserWarning: In file result_data/base.mp4, 6220800 bytes wanted but 0 bytes read,at frame index 3678 (out of a total 3722 frames), at time 61.30/62.04 sec. Using the last valid frame instead.\n",
      "  warnings.warn(\n",
      "D:\\MyTools\\Anaconda3\\lib\\site-packages\\moviepy\\video\\io\\ffmpeg_reader.py:154: UserWarning: In file result_data/base.mp4, 6220800 bytes wanted but 0 bytes read,at frame index 3680 (out of a total 3722 frames), at time 61.33/62.04 sec. Using the last valid frame instead.\n",
      "  warnings.warn(\n",
      "t:  99%|████████████████████████████████████████████████████████████████▎| 1842/1861 [03:55<00:00, 42.40it/s, now=None]D:\\MyTools\\Anaconda3\\lib\\site-packages\\moviepy\\video\\io\\ffmpeg_reader.py:154: UserWarning: In file result_data/base.mp4, 6220800 bytes wanted but 0 bytes read,at frame index 3682 (out of a total 3722 frames), at time 61.37/62.04 sec. Using the last valid frame instead.\n",
      "  warnings.warn(\n",
      "D:\\MyTools\\Anaconda3\\lib\\site-packages\\moviepy\\video\\io\\ffmpeg_reader.py:154: UserWarning: In file result_data/base.mp4, 6220800 bytes wanted but 0 bytes read,at frame index 3684 (out of a total 3722 frames), at time 61.40/62.04 sec. Using the last valid frame instead.\n",
      "  warnings.warn(\n",
      "D:\\MyTools\\Anaconda3\\lib\\site-packages\\moviepy\\video\\io\\ffmpeg_reader.py:154: UserWarning: In file result_data/base.mp4, 6220800 bytes wanted but 0 bytes read,at frame index 3686 (out of a total 3722 frames), at time 61.43/62.04 sec. Using the last valid frame instead.\n",
      "  warnings.warn(\n",
      "D:\\MyTools\\Anaconda3\\lib\\site-packages\\moviepy\\video\\io\\ffmpeg_reader.py:154: UserWarning: In file result_data/base.mp4, 6220800 bytes wanted but 0 bytes read,at frame index 3688 (out of a total 3722 frames), at time 61.47/62.04 sec. Using the last valid frame instead.\n",
      "  warnings.warn(\n",
      "D:\\MyTools\\Anaconda3\\lib\\site-packages\\moviepy\\video\\io\\ffmpeg_reader.py:154: UserWarning: In file result_data/base.mp4, 6220800 bytes wanted but 0 bytes read,at frame index 3690 (out of a total 3722 frames), at time 61.50/62.04 sec. Using the last valid frame instead.\n",
      "  warnings.warn(\n",
      "t:  99%|████████████████████████████████████████████████████████████████▌| 1847/1861 [03:55<00:00, 42.97it/s, now=None]D:\\MyTools\\Anaconda3\\lib\\site-packages\\moviepy\\video\\io\\ffmpeg_reader.py:154: UserWarning: In file result_data/base.mp4, 6220800 bytes wanted but 0 bytes read,at frame index 3692 (out of a total 3722 frames), at time 61.53/62.04 sec. Using the last valid frame instead.\n",
      "  warnings.warn(\n",
      "D:\\MyTools\\Anaconda3\\lib\\site-packages\\moviepy\\video\\io\\ffmpeg_reader.py:154: UserWarning: In file result_data/base.mp4, 6220800 bytes wanted but 0 bytes read,at frame index 3694 (out of a total 3722 frames), at time 61.57/62.04 sec. Using the last valid frame instead.\n",
      "  warnings.warn(\n",
      "D:\\MyTools\\Anaconda3\\lib\\site-packages\\moviepy\\video\\io\\ffmpeg_reader.py:154: UserWarning: In file result_data/base.mp4, 6220800 bytes wanted but 0 bytes read,at frame index 3696 (out of a total 3722 frames), at time 61.60/62.04 sec. Using the last valid frame instead.\n",
      "  warnings.warn(\n",
      "D:\\MyTools\\Anaconda3\\lib\\site-packages\\moviepy\\video\\io\\ffmpeg_reader.py:154: UserWarning: In file result_data/base.mp4, 6220800 bytes wanted but 0 bytes read,at frame index 3698 (out of a total 3722 frames), at time 61.63/62.04 sec. Using the last valid frame instead.\n",
      "  warnings.warn(\n",
      "D:\\MyTools\\Anaconda3\\lib\\site-packages\\moviepy\\video\\io\\ffmpeg_reader.py:154: UserWarning: In file result_data/base.mp4, 6220800 bytes wanted but 0 bytes read,at frame index 3700 (out of a total 3722 frames), at time 61.67/62.04 sec. Using the last valid frame instead.\n",
      "  warnings.warn(\n",
      "t: 100%|████████████████████████████████████████████████████████████████▋| 1852/1861 [03:55<00:00, 42.94it/s, now=None]D:\\MyTools\\Anaconda3\\lib\\site-packages\\moviepy\\video\\io\\ffmpeg_reader.py:154: UserWarning: In file result_data/base.mp4, 6220800 bytes wanted but 0 bytes read,at frame index 3702 (out of a total 3722 frames), at time 61.70/62.04 sec. Using the last valid frame instead.\n",
      "  warnings.warn(\n",
      "D:\\MyTools\\Anaconda3\\lib\\site-packages\\moviepy\\video\\io\\ffmpeg_reader.py:154: UserWarning: In file result_data/base.mp4, 6220800 bytes wanted but 0 bytes read,at frame index 3704 (out of a total 3722 frames), at time 61.73/62.04 sec. Using the last valid frame instead.\n",
      "  warnings.warn(\n",
      "D:\\MyTools\\Anaconda3\\lib\\site-packages\\moviepy\\video\\io\\ffmpeg_reader.py:154: UserWarning: In file result_data/base.mp4, 6220800 bytes wanted but 0 bytes read,at frame index 3706 (out of a total 3722 frames), at time 61.77/62.04 sec. Using the last valid frame instead.\n",
      "  warnings.warn(\n",
      "D:\\MyTools\\Anaconda3\\lib\\site-packages\\moviepy\\video\\io\\ffmpeg_reader.py:154: UserWarning: In file result_data/base.mp4, 6220800 bytes wanted but 0 bytes read,at frame index 3708 (out of a total 3722 frames), at time 61.80/62.04 sec. Using the last valid frame instead.\n",
      "  warnings.warn(\n"
     ]
    },
    {
     "name": "stderr",
     "output_type": "stream",
     "text": [
      "D:\\MyTools\\Anaconda3\\lib\\site-packages\\moviepy\\video\\io\\ffmpeg_reader.py:154: UserWarning: In file result_data/base.mp4, 6220800 bytes wanted but 0 bytes read,at frame index 3710 (out of a total 3722 frames), at time 61.83/62.04 sec. Using the last valid frame instead.\n",
      "  warnings.warn(\n",
      "t: 100%|████████████████████████████████████████████████████████████████▊| 1857/1861 [03:56<00:00, 41.52it/s, now=None]D:\\MyTools\\Anaconda3\\lib\\site-packages\\moviepy\\video\\io\\ffmpeg_reader.py:154: UserWarning: In file result_data/base.mp4, 6220800 bytes wanted but 0 bytes read,at frame index 3712 (out of a total 3722 frames), at time 61.87/62.04 sec. Using the last valid frame instead.\n",
      "  warnings.warn(\n",
      "D:\\MyTools\\Anaconda3\\lib\\site-packages\\moviepy\\video\\io\\ffmpeg_reader.py:154: UserWarning: In file result_data/base.mp4, 6220800 bytes wanted but 0 bytes read,at frame index 3714 (out of a total 3722 frames), at time 61.90/62.04 sec. Using the last valid frame instead.\n",
      "  warnings.warn(\n",
      "D:\\MyTools\\Anaconda3\\lib\\site-packages\\moviepy\\video\\io\\ffmpeg_reader.py:154: UserWarning: In file result_data/base.mp4, 6220800 bytes wanted but 0 bytes read,at frame index 3716 (out of a total 3722 frames), at time 61.93/62.04 sec. Using the last valid frame instead.\n",
      "  warnings.warn(\n",
      "D:\\MyTools\\Anaconda3\\lib\\site-packages\\moviepy\\video\\io\\ffmpeg_reader.py:154: UserWarning: In file result_data/base.mp4, 6220800 bytes wanted but 0 bytes read,at frame index 3718 (out of a total 3722 frames), at time 61.97/62.04 sec. Using the last valid frame instead.\n",
      "  warnings.warn(\n",
      "D:\\MyTools\\Anaconda3\\lib\\site-packages\\moviepy\\video\\io\\ffmpeg_reader.py:154: UserWarning: In file result_data/base.mp4, 6220800 bytes wanted but 0 bytes read,at frame index 3720 (out of a total 3722 frames), at time 62.00/62.04 sec. Using the last valid frame instead.\n",
      "  warnings.warn(\n",
      "                                                                                                                       \r"
     ]
    },
    {
     "name": "stdout",
     "output_type": "stream",
     "text": [
      "Moviepy - Done !\n",
      "Moviepy - video ready result_data/result.mp4\n"
     ]
    }
   ],
   "source": [
    "video_base = VideoFileClip(result_data+\"base.mp4\")\n",
    "cvc = CompositeVideoClip([video_base]+image_clip_list)\n",
    "cvc.write_videofile(result_data+\"result.mp4\",fps=30)"
   ]
  },
  {
   "cell_type": "code",
   "execution_count": null,
   "id": "7653ed2f",
   "metadata": {},
   "outputs": [],
   "source": []
  }
 ],
 "metadata": {
  "kernelspec": {
   "display_name": "Python 3 (ipykernel)",
   "language": "python",
   "name": "python3"
  },
  "language_info": {
   "codemirror_mode": {
    "name": "ipython",
    "version": 3
   },
   "file_extension": ".py",
   "mimetype": "text/x-python",
   "name": "python",
   "nbconvert_exporter": "python",
   "pygments_lexer": "ipython3",
   "version": "3.9.12"
  },
  "toc": {
   "base_numbering": 1,
   "nav_menu": {},
   "number_sections": true,
   "sideBar": true,
   "skip_h1_title": false,
   "title_cell": "Table of Contents",
   "title_sidebar": "Contents",
   "toc_cell": false,
   "toc_position": {
    "height": "calc(100% - 180px)",
    "left": "10px",
    "top": "150px",
    "width": "252.675px"
   },
   "toc_section_display": true,
   "toc_window_display": true
  }
 },
 "nbformat": 4,
 "nbformat_minor": 5
}
