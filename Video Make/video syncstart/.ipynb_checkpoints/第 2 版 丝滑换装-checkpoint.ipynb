{
 "cells": [
  {
   "cell_type": "markdown",
   "metadata": {},
   "source": [
    "# 基础数据应用部分"
   ]
  },
  {
   "cell_type": "code",
   "execution_count": 1,
   "metadata": {},
   "outputs": [],
   "source": [
    "import os\n",
    "from moviepy.editor import *\n",
    "import time\n",
    "import re\n",
    "import pandas as pd\n",
    "import json\n",
    "import random\n",
    "import glob\n",
    "\n",
    "# 字符串时、分、秒转换成秒函数\n",
    "def str2sec(x):\n",
    "    h, m, s = x.strip().split(':')\n",
    "    return int(h)*3600 + int(m)*60 + int(s) \n",
    "\n",
    "# 字符串时、分、秒、毫秒转换成秒函数\n",
    "def str2sec_(x):\n",
    "    if x != \"-\":\n",
    "        h, m, s = x.strip().split(':')\n",
    "        return str(int(h)*3600 + int(m)*60 + int(s))\n",
    "    else:\n",
    "        return x\n",
    "\n",
    "# 避免出错生成新的拼接素材清空前面的内容\n",
    "path = \"temp_video/\"\n",
    "for infile in glob.glob(os.path.join(path, '*.mp4')):\n",
    "    os.remove(infile)\n",
    "\n",
    "# 将所有需要剪辑放到 source_video 文件夹下\n",
    "video_list = os.listdir(\"source_video/\")\n",
    "video_list = [i for i in video_list if 'txt' not in i]\n",
    "video_list = [i for i in video_list if 'xlsx' not in i]"
   ]
  },
  {
   "cell_type": "markdown",
   "metadata": {},
   "source": [
    "# 必须手动的部分"
   ]
  },
  {
   "cell_type": "markdown",
   "metadata": {},
   "source": [
    "## 视频有效数据的处理"
   ]
  },
  {
   "cell_type": "code",
   "execution_count": 2,
   "metadata": {},
   "outputs": [],
   "source": [
    "# 生成所有视频的表格列表\n",
    "df = pd.DataFrame(video_list,columns=[\"file_name\"])\n",
    "df[\"start\"] = \"-\"\n",
    "df[\"end\"] = \"-\"\n",
    "df.to_excel(\"source_video/data.xlsx\",index=False)"
   ]
  },
  {
   "cell_type": "code",
   "execution_count": 3,
   "metadata": {},
   "outputs": [],
   "source": [
    "# 读取数据的excel表格\n",
    "data_list = pd.read_excel(\"temp_data/data.xlsx\")\n",
    "data_list[\"start\"] = data_list[\"start\"].astype(\"str\")\n",
    "data_list[\"end\"] = data_list[\"end\"].astype(\"str\")\n",
    "data_list[\"start\"] = data_list[\"start\"].apply(str2sec_)\n",
    "data_list[\"end\"] = data_list[\"end\"].apply(str2sec_)"
   ]
  },
  {
   "cell_type": "markdown",
   "metadata": {},
   "source": [
    "## 选择一条数据进行处理"
   ]
  },
  {
   "cell_type": "code",
   "execution_count": 4,
   "metadata": {},
   "outputs": [],
   "source": [
    "# 数据df转换成 列表嵌套字典格式\n",
    "data_list = data_list.to_dict('records')\n",
    "\n",
    "# 选择一个视频进行处理\n",
    "video_name = video_list[0]\n",
    "\n",
    "# 视频名称 起始 和截至时间的数据字典\n",
    "\"\"\"\n",
    "{'file_name': '(ENG SUB) T-ARA - DAY BY DAY, 티아라 - 데이 바이 데이,Beautiful Concert 20120821.webm',\n",
    " 'start': '-',\n",
    " 'end': '-'}\n",
    "\"\"\"\n",
    "video_dict = [i for i in data_list if i[\"file_name\"] == video_name][0]"
   ]
  },
  {
   "cell_type": "markdown",
   "metadata": {},
   "source": [
    "# 测试剪辑"
   ]
  },
  {
   "cell_type": "code",
   "execution_count": 5,
   "metadata": {},
   "outputs": [],
   "source": [
    "# 读取视频，生成视频中的有效部分\n",
    "video_base = VideoFileClip(\"source_video/\"+ video_dict[\"file_name\"])\n",
    "\n",
    "# 重置视频分辨率\n",
    "video_base = video_base.resize((1920, 1080))\n",
    "\n",
    "# 按照字典的起止时间裁剪\n",
    "start_time = 0 if video_dict[\"start\"] == \"-\" else video_dict[\"start\"]\n",
    "end_time = video_base.duration if video_dict[\"end\"] == \"-\" else video_dict[\"end\"]\n",
    "\n",
    "# 视频重新进行拆分生成新的内容\n",
    "video_base = video_base.subclip(start_time,end_time)"
   ]
  },
  {
   "cell_type": "markdown",
   "metadata": {},
   "source": [
    "## 测试部分只处理10-30秒之间的内容"
   ]
  },
  {
   "cell_type": "code",
   "execution_count": 6,
   "metadata": {},
   "outputs": [],
   "source": [
    "start_time = 10\n",
    "end_time = 20\n",
    "video_base = video_base.subclip(start_time,end_time)"
   ]
  },
  {
   "cell_type": "code",
   "execution_count": 7,
   "metadata": {},
   "outputs": [],
   "source": [
    "# 方法\n",
    "# moviepy.video.fx.all.mask_color"
   ]
  },
  {
   "cell_type": "code",
   "execution_count": 8,
   "metadata": {},
   "outputs": [],
   "source": []
  },
  {
   "cell_type": "code",
   "execution_count": 15,
   "metadata": {},
   "outputs": [],
   "source": [
    "import cv2 as cv\n",
    "import numpy as np\n",
    "\n",
    "def extrace_object_demo():\n",
    "    capture = cv.VideoCapture(\"test.mp4\")\n",
    "\n",
    "    while(True):\n",
    "        ret, frame = capture.read()\n",
    "        if ret == False:\n",
    "            break;\n",
    "        hsv = cv.cvtColor(frame, cv.COLOR_BGR2HSV)\n",
    "        # #hsv绿色 min max:\n",
    "        # lower_hsv = np.array([37, 43, 46])\n",
    "        # upper_hsv = np.array([77, 255, 255])\n",
    "\n",
    "        #hsv红色 min max:\n",
    "        lower_hsv = np.array([0, 43, 46])\n",
    "        upper_hsv = np.array([10, 255, 255])\n",
    "\n",
    "        mask = cv.inRange(hsv, lowerb=lower_hsv, upperb=upper_hsv)\n",
    "        dst = cv.bitwise_and(frame, frame, mask=mask)\n",
    "        cv.imshow(\"video\", frame)\n",
    "        cv.imshow(\"mask\", dst)\n",
    "        c = cv.waitKey(40)\n",
    "        if c == 27:#esc\n",
    "            break\n",
    "\n",
    "src = cv.imread(\"temp_jpg/test[00-00-03][20220401-085837746].jpg\")\n",
    "cv.namedWindow(\"input image\", cv.WINDOW_AUTOSIZE)\n",
    "# cv.imshow(\"input image\", src)\n",
    "\n",
    "b, g, r = cv.split(src)\n",
    "# cv.imshow(\"blue\", b)\n",
    "# cv.imshow(\"green\", g)\n",
    "# cv.imshow(\"red\", r)\n",
    "\n",
    "src = cv.merge([b, g, r])#通道合并\n",
    "src[:, :, 0] = 0\n",
    "# cv.imshow(\"changed image\", src)\n",
    "\n",
    "extrace_object_demo()\n",
    "\n",
    "cv.waitKey(0)\n",
    "cv.destroyAllWindows()"
   ]
  },
  {
   "cell_type": "code",
   "execution_count": null,
   "metadata": {},
   "outputs": [],
   "source": [
    "https://stackoverflow.com/questions/58498862/issue-of-the-recognize-people-by-their-clothes-color-with-not-severe-illuminatio\n",
    "https://python-colormath.readthedocs.io/en/latest/installation.html\n",
    "    https://github.com/hkchengrex/MiVOS"
   ]
  },
  {
   "cell_type": "code",
   "execution_count": null,
   "metadata": {},
   "outputs": [],
   "source": []
  },
  {
   "cell_type": "code",
   "execution_count": null,
   "metadata": {},
   "outputs": [],
   "source": []
  },
  {
   "cell_type": "code",
   "execution_count": 12,
   "metadata": {
    "scrolled": true
   },
   "outputs": [
    {
     "name": "stdout",
     "output_type": "stream",
     "text": [
      "Moviepy - Building video test.mp4.\n",
      "MoviePy - Writing audio in testTEMP_MPY_wvf_snd.mp3\n"
     ]
    },
    {
     "name": "stderr",
     "output_type": "stream",
     "text": [
      "                                                                                                                       \r"
     ]
    },
    {
     "name": "stdout",
     "output_type": "stream",
     "text": [
      "MoviePy - Done.\n",
      "Moviepy - Writing video test.mp4\n",
      "\n"
     ]
    },
    {
     "name": "stderr",
     "output_type": "stream",
     "text": [
      "                                                                                                                       \r"
     ]
    },
    {
     "name": "stdout",
     "output_type": "stream",
     "text": [
      "Moviepy - Done !\n",
      "Moviepy - video ready test.mp4\n"
     ]
    }
   ],
   "source": [
    "# 衣服的粉色\n",
    "[211,157,157]\n",
    "\n",
    "\n",
    "clip = video_base.subclip(start_time,end_time)\n",
    "masked_clip = clip.fx(vfx.mask_color, color=[255,255,255], s=1)\n",
    "final_clip = CompositeVideoClip([\n",
    "    clip,\n",
    "    masked_clip\n",
    "]).set_duration(clip.duration)\n",
    "masked_clip.write_videofile('test.mp4')"
   ]
  },
  {
   "cell_type": "code",
   "execution_count": null,
   "metadata": {},
   "outputs": [],
   "source": []
  },
  {
   "cell_type": "code",
   "execution_count": 32,
   "metadata": {
    "code_folding": [
     2
    ]
   },
   "outputs": [],
   "source": [
    "import numpy as np\n",
    "\n",
    "def mask_color(clip, color=None, threshold=0, stiffness=1):\n",
    "    \"\"\"Returns a new clip with a mask for transparency where the original\n",
    "    clip is of the given color.\n",
    "\n",
    "    You can also have a \"progressive\" mask by specifying a non-null distance\n",
    "    threshold ``threshold``. In this case, if the distance between a pixel and\n",
    "    the given color is d, the transparency will be\n",
    "\n",
    "    d**stiffness / (threshold**stiffness + d**stiffness)\n",
    "\n",
    "    which is 1 when d>>threshold and 0 for d<<threshold, the stiffness of the\n",
    "    effect being parametrized by ``stiffness``\n",
    "    \"\"\"\n",
    "    if color is None:\n",
    "        color = [0, 0, 0]\n",
    "\n",
    "    color = np.array(color)\n",
    "\n",
    "    def hill(x):\n",
    "        if threshold:\n",
    "            return x**stiffness / (threshold**stiffness + x**stiffness)\n",
    "        else:\n",
    "            return 1.0 * (x != 0)\n",
    "\n",
    "    def flim(im):\n",
    "        return hill(np.sqrt(((im - color) ** 2).sum(axis=2)))\n",
    "\n",
    "    mask = clip.image_transform(flim)\n",
    "    mask.is_mask = True\n",
    "    new_clip = clip.with_mask(mask)\n",
    "    return new_clip"
   ]
  },
  {
   "cell_type": "code",
   "execution_count": null,
   "metadata": {},
   "outputs": [],
   "source": []
  },
  {
   "cell_type": "code",
   "execution_count": null,
   "metadata": {},
   "outputs": [],
   "source": []
  },
  {
   "cell_type": "code",
   "execution_count": null,
   "metadata": {},
   "outputs": [],
   "source": []
  },
  {
   "cell_type": "code",
   "execution_count": null,
   "metadata": {},
   "outputs": [],
   "source": []
  },
  {
   "cell_type": "code",
   "execution_count": 40,
   "metadata": {
    "scrolled": true
   },
   "outputs": [
    {
     "data": {
      "text/plain": [
       "206.22"
      ]
     },
     "execution_count": 40,
     "metadata": {},
     "output_type": "execute_result"
    }
   ],
   "source": [
    "video_base.duration"
   ]
  },
  {
   "cell_type": "code",
   "execution_count": 37,
   "metadata": {},
   "outputs": [
    {
     "data": {
      "text/plain": [
       "<moviepy.video.io.VideoFileClip.VideoFileClip at 0x2041f48fa90>"
      ]
     },
     "execution_count": 37,
     "metadata": {},
     "output_type": "execute_result"
    }
   ],
   "source": [
    "video_base"
   ]
  },
  {
   "cell_type": "code",
   "execution_count": null,
   "metadata": {},
   "outputs": [],
   "source": []
  },
  {
   "cell_type": "code",
   "execution_count": null,
   "metadata": {},
   "outputs": [],
   "source": []
  },
  {
   "cell_type": "code",
   "execution_count": 26,
   "metadata": {},
   "outputs": [],
   "source": []
  },
  {
   "cell_type": "code",
   "execution_count": 2,
   "metadata": {},
   "outputs": [],
   "source": []
  },
  {
   "cell_type": "markdown",
   "metadata": {},
   "source": [
    "# 正式开始剪辑"
   ]
  },
  {
   "cell_type": "markdown",
   "metadata": {},
   "source": [
    "## 读取已经处理好的数据"
   ]
  },
  {
   "cell_type": "code",
   "execution_count": 3,
   "metadata": {},
   "outputs": [],
   "source": [
    "# 设定分辨率\n",
    "resolution_ratio = (1920,1080) \n",
    "\n"
   ]
  },
  {
   "cell_type": "markdown",
   "metadata": {},
   "source": [
    "## 循环创建变量、裁剪、重置分辨率"
   ]
  },
  {
   "cell_type": "code",
   "execution_count": 4,
   "metadata": {},
   "outputs": [],
   "source": [
    "num_list = list(range(len(data_list)))\n",
    "video_dict = data_list.to_dict('records')\n",
    "\n",
    "# 构建变量名称，调用使用 locals()[xxxx]方法\n",
    "video_list = []\n",
    "\n",
    "for num,data in zip(num_list,video_dict):\n",
    "    locals()[\"video_temp_\"+str(num)] = VideoFileClip(\"source_video/\"+ data[\"file_name\"])\n",
    "    # 对裁剪视频进行简介操作\n",
    "    # 统一分辨率\n",
    "    locals()[\"video_temp_\"+str(num)] = locals()[\"video_temp_\"+str(num)].resize((1920, 1080))\n",
    "    # 按照字典的起止时间裁剪\n",
    "    start_time = 0 if data[\"start\"] == \"-\" else data[\"start\"]\n",
    "    end_time = locals()[\"video_temp_\"+str(num)].duration if data[\"end\"] == \"-\" else data[\"end\"]\n",
    "    # 视频按照裁剪时间重新定义变量\n",
    "    locals()[\"video_temp_\"+str(num)] = locals()[\"video_temp_\"+str(num)].subclip(start_time,end_time)\n",
    "    video_list.append(\"video_temp_\"+str(num))"
   ]
  },
  {
   "cell_type": "code",
   "execution_count": 5,
   "metadata": {},
   "outputs": [
    {
     "data": {
      "text/plain": [
       "['video_temp_0',\n",
       " 'video_temp_1',\n",
       " 'video_temp_2',\n",
       " 'video_temp_3',\n",
       " 'video_temp_4',\n",
       " 'video_temp_5',\n",
       " 'video_temp_6',\n",
       " 'video_temp_7',\n",
       " 'video_temp_8',\n",
       " 'video_temp_9',\n",
       " 'video_temp_10',\n",
       " 'video_temp_11',\n",
       " 'video_temp_12',\n",
       " 'video_temp_13',\n",
       " 'video_temp_14',\n",
       " 'video_temp_15']"
      ]
     },
     "execution_count": 5,
     "metadata": {},
     "output_type": "execute_result"
    }
   ],
   "source": [
    "# 通过 list 调用 处理好的变量\n",
    "video_list"
   ]
  },
  {
   "cell_type": "code",
   "execution_count": 6,
   "metadata": {},
   "outputs": [],
   "source": [
    "# 随机选择一个作为基础base\n",
    "video_base = random.choice(video_list)\n",
    "# 在原有的 video_list 剔除 video_base\n",
    "video_list.remove(video_base)\n",
    "\n",
    "# 按照 video_base 的时间统一处理其他视频，将时间进行对等\n",
    "base_duration = locals()[video_base].duration\n",
    "\n",
    "for each in video_list:\n",
    "    # 计算每个视频的时长\n",
    "    each_duration = locals()[each].duration\n",
    "    # 倍速播放倍数,视频时间/音频时间就是视频加速的时间\n",
    "    factor = each_duration/base_duration\n",
    "    # 倍速播放持续时间 ，可以为空表使全部\n",
    "    final_duration = None \n",
    "    locals()[each] = locals()[each].fx(vfx.speedx,factor,final_duration)"
   ]
  },
  {
   "cell_type": "markdown",
   "metadata": {},
   "source": [
    "## 随机开始进行裁剪"
   ]
  },
  {
   "cell_type": "code",
   "execution_count": 7,
   "metadata": {},
   "outputs": [],
   "source": [
    "# 设置一个随机秒数的因子变量\n",
    "cut_time = random.randint(10,20)\n",
    "# 设置视频随机抽取\n",
    "cut_video = random.choice(video_list)\n",
    "# 设置视频最大时间 \n",
    "stop_time = base_duration"
   ]
  },
  {
   "cell_type": "code",
   "execution_count": 8,
   "metadata": {},
   "outputs": [],
   "source": [
    "time_ = 0\n",
    "start_time = 0\n",
    "\n",
    "time_list = [0]\n",
    "# 判断时间永远小于要做的视频\n",
    "while time_ <= stop_time:\n",
    "    # 视频随机切割点\n",
    "    cut_time = random.randint(5,15)\n",
    "    start_time = start_time + cut_time\n",
    "    time_list.append(start_time)\n",
    "    # 最终计算变量\n",
    "    time_ = time_ + cut_time\n",
    "    \n",
    "# 剔除超出的部分时间\n",
    "time_list = time_list[:-2]\n",
    "\n",
    "\n",
    "# 时间两两组合成需要拆的部分视频\n",
    "time_list = [time_list[i:i+2] for i in range(0, len(time_list), 1)]\n",
    "# 为最后一个元素添加 结束时间 stop_time\n",
    "time_list[-1] = [time_list[-1][0],stop_time]\n",
    "\n",
    "# 将之前剔除的视频重新添加回来\n",
    "video_list.append(video_base)"
   ]
  },
  {
   "cell_type": "code",
   "execution_count": 9,
   "metadata": {
    "scrolled": true
   },
   "outputs": [
    {
     "name": "stdout",
     "output_type": "stream",
     "text": [
      "Moviepy - Building video temp_video/1.mp4.\n",
      "MoviePy - Writing audio in 1TEMP_MPY_wvf_snd.mp3\n"
     ]
    },
    {
     "name": "stderr",
     "output_type": "stream",
     "text": [
      "                                                                                                                       \r"
     ]
    },
    {
     "name": "stdout",
     "output_type": "stream",
     "text": [
      "MoviePy - Done.\n",
      "Moviepy - Writing video temp_video/1.mp4\n",
      "\n"
     ]
    },
    {
     "name": "stderr",
     "output_type": "stream",
     "text": [
      "                                                                                                                       \r"
     ]
    },
    {
     "name": "stdout",
     "output_type": "stream",
     "text": [
      "Moviepy - Done !\n",
      "Moviepy - video ready temp_video/1.mp4\n",
      "Moviepy - Building video temp_video/2.mp4.\n",
      "MoviePy - Writing audio in 2TEMP_MPY_wvf_snd.mp3\n"
     ]
    },
    {
     "name": "stderr",
     "output_type": "stream",
     "text": [
      "                                                                                                                       \r"
     ]
    },
    {
     "name": "stdout",
     "output_type": "stream",
     "text": [
      "MoviePy - Done.\n",
      "Moviepy - Writing video temp_video/2.mp4\n",
      "\n"
     ]
    },
    {
     "name": "stderr",
     "output_type": "stream",
     "text": [
      "                                                                                                                       \r"
     ]
    },
    {
     "name": "stdout",
     "output_type": "stream",
     "text": [
      "Moviepy - Done !\n",
      "Moviepy - video ready temp_video/2.mp4\n",
      "Moviepy - Building video temp_video/3.mp4.\n",
      "MoviePy - Writing audio in 3TEMP_MPY_wvf_snd.mp3\n"
     ]
    },
    {
     "name": "stderr",
     "output_type": "stream",
     "text": [
      "                                                                                                                       \r"
     ]
    },
    {
     "name": "stdout",
     "output_type": "stream",
     "text": [
      "MoviePy - Done.\n",
      "Moviepy - Writing video temp_video/3.mp4\n",
      "\n"
     ]
    },
    {
     "name": "stderr",
     "output_type": "stream",
     "text": [
      "                                                                                                                       \r"
     ]
    },
    {
     "name": "stdout",
     "output_type": "stream",
     "text": [
      "Moviepy - Done !\n",
      "Moviepy - video ready temp_video/3.mp4\n",
      "Moviepy - Building video temp_video/4.mp4.\n",
      "MoviePy - Writing audio in 4TEMP_MPY_wvf_snd.mp3\n"
     ]
    },
    {
     "name": "stderr",
     "output_type": "stream",
     "text": [
      "                                                                                                                       \r"
     ]
    },
    {
     "name": "stdout",
     "output_type": "stream",
     "text": [
      "MoviePy - Done.\n",
      "Moviepy - Writing video temp_video/4.mp4\n",
      "\n"
     ]
    },
    {
     "name": "stderr",
     "output_type": "stream",
     "text": [
      "                                                                                                                       \r"
     ]
    },
    {
     "name": "stdout",
     "output_type": "stream",
     "text": [
      "Moviepy - Done !\n",
      "Moviepy - video ready temp_video/4.mp4\n",
      "Moviepy - Building video temp_video/5.mp4.\n",
      "MoviePy - Writing audio in 5TEMP_MPY_wvf_snd.mp3\n"
     ]
    },
    {
     "name": "stderr",
     "output_type": "stream",
     "text": [
      "                                                                                                                       \r"
     ]
    },
    {
     "name": "stdout",
     "output_type": "stream",
     "text": [
      "MoviePy - Done.\n",
      "Moviepy - Writing video temp_video/5.mp4\n",
      "\n"
     ]
    },
    {
     "name": "stderr",
     "output_type": "stream",
     "text": [
      "                                                                                                                       \r"
     ]
    },
    {
     "name": "stdout",
     "output_type": "stream",
     "text": [
      "Moviepy - Done !\n",
      "Moviepy - video ready temp_video/5.mp4\n",
      "Moviepy - Building video temp_video/6.mp4.\n",
      "MoviePy - Writing audio in 6TEMP_MPY_wvf_snd.mp3\n"
     ]
    },
    {
     "name": "stderr",
     "output_type": "stream",
     "text": [
      "                                                                                                                       \r"
     ]
    },
    {
     "name": "stdout",
     "output_type": "stream",
     "text": [
      "MoviePy - Done.\n",
      "Moviepy - Writing video temp_video/6.mp4\n",
      "\n"
     ]
    },
    {
     "name": "stderr",
     "output_type": "stream",
     "text": [
      "                                                                                                                       \r"
     ]
    },
    {
     "name": "stdout",
     "output_type": "stream",
     "text": [
      "Moviepy - Done !\n",
      "Moviepy - video ready temp_video/6.mp4\n",
      "Moviepy - Building video temp_video/7.mp4.\n",
      "MoviePy - Writing audio in 7TEMP_MPY_wvf_snd.mp3\n"
     ]
    },
    {
     "name": "stderr",
     "output_type": "stream",
     "text": [
      "                                                                                                                       \r"
     ]
    },
    {
     "name": "stdout",
     "output_type": "stream",
     "text": [
      "MoviePy - Done.\n",
      "Moviepy - Writing video temp_video/7.mp4\n",
      "\n"
     ]
    },
    {
     "name": "stderr",
     "output_type": "stream",
     "text": [
      "                                                                                                                       \r"
     ]
    },
    {
     "name": "stdout",
     "output_type": "stream",
     "text": [
      "Moviepy - Done !\n",
      "Moviepy - video ready temp_video/7.mp4\n",
      "Moviepy - Building video temp_video/8.mp4.\n",
      "MoviePy - Writing audio in 8TEMP_MPY_wvf_snd.mp3\n"
     ]
    },
    {
     "name": "stderr",
     "output_type": "stream",
     "text": [
      "                                                                                                                       \r"
     ]
    },
    {
     "name": "stdout",
     "output_type": "stream",
     "text": [
      "MoviePy - Done.\n",
      "Moviepy - Writing video temp_video/8.mp4\n",
      "\n"
     ]
    },
    {
     "name": "stderr",
     "output_type": "stream",
     "text": [
      "                                                                                                                       \r"
     ]
    },
    {
     "name": "stdout",
     "output_type": "stream",
     "text": [
      "Moviepy - Done !\n",
      "Moviepy - video ready temp_video/8.mp4\n",
      "Moviepy - Building video temp_video/9.mp4.\n",
      "MoviePy - Writing audio in 9TEMP_MPY_wvf_snd.mp3\n"
     ]
    },
    {
     "name": "stderr",
     "output_type": "stream",
     "text": [
      "                                                                                                                       \r"
     ]
    },
    {
     "name": "stdout",
     "output_type": "stream",
     "text": [
      "MoviePy - Done.\n",
      "Moviepy - Writing video temp_video/9.mp4\n",
      "\n"
     ]
    },
    {
     "name": "stderr",
     "output_type": "stream",
     "text": [
      "                                                                                                                       \r"
     ]
    },
    {
     "name": "stdout",
     "output_type": "stream",
     "text": [
      "Moviepy - Done !\n",
      "Moviepy - video ready temp_video/9.mp4\n",
      "Moviepy - Building video temp_video/10.mp4.\n",
      "MoviePy - Writing audio in 10TEMP_MPY_wvf_snd.mp3\n"
     ]
    },
    {
     "name": "stderr",
     "output_type": "stream",
     "text": [
      "                                                                                                                       \r"
     ]
    },
    {
     "name": "stdout",
     "output_type": "stream",
     "text": [
      "MoviePy - Done.\n",
      "Moviepy - Writing video temp_video/10.mp4\n",
      "\n"
     ]
    },
    {
     "name": "stderr",
     "output_type": "stream",
     "text": [
      "                                                                                                                       \r"
     ]
    },
    {
     "name": "stdout",
     "output_type": "stream",
     "text": [
      "Moviepy - Done !\n",
      "Moviepy - video ready temp_video/10.mp4\n",
      "Moviepy - Building video temp_video/11.mp4.\n",
      "MoviePy - Writing audio in 11TEMP_MPY_wvf_snd.mp3\n"
     ]
    },
    {
     "name": "stderr",
     "output_type": "stream",
     "text": [
      "                                                                                                                       \r"
     ]
    },
    {
     "name": "stdout",
     "output_type": "stream",
     "text": [
      "MoviePy - Done.\n",
      "Moviepy - Writing video temp_video/11.mp4\n",
      "\n"
     ]
    },
    {
     "name": "stderr",
     "output_type": "stream",
     "text": [
      "                                                                                                                       \r"
     ]
    },
    {
     "name": "stdout",
     "output_type": "stream",
     "text": [
      "Moviepy - Done !\n",
      "Moviepy - video ready temp_video/11.mp4\n",
      "Moviepy - Building video temp_video/12.mp4.\n",
      "MoviePy - Writing audio in 12TEMP_MPY_wvf_snd.mp3\n"
     ]
    },
    {
     "name": "stderr",
     "output_type": "stream",
     "text": [
      "                                                                                                                       \r"
     ]
    },
    {
     "name": "stdout",
     "output_type": "stream",
     "text": [
      "MoviePy - Done.\n",
      "Moviepy - Writing video temp_video/12.mp4\n",
      "\n"
     ]
    },
    {
     "name": "stderr",
     "output_type": "stream",
     "text": [
      "                                                                                                                       \r"
     ]
    },
    {
     "name": "stdout",
     "output_type": "stream",
     "text": [
      "Moviepy - Done !\n",
      "Moviepy - video ready temp_video/12.mp4\n",
      "Moviepy - Building video temp_video/13.mp4.\n",
      "MoviePy - Writing audio in 13TEMP_MPY_wvf_snd.mp3\n"
     ]
    },
    {
     "name": "stderr",
     "output_type": "stream",
     "text": [
      "                                                                                                                       \r"
     ]
    },
    {
     "name": "stdout",
     "output_type": "stream",
     "text": [
      "MoviePy - Done.\n",
      "Moviepy - Writing video temp_video/13.mp4\n",
      "\n"
     ]
    },
    {
     "name": "stderr",
     "output_type": "stream",
     "text": [
      "                                                                                                                       \r"
     ]
    },
    {
     "name": "stdout",
     "output_type": "stream",
     "text": [
      "Moviepy - Done !\n",
      "Moviepy - video ready temp_video/13.mp4\n",
      "Moviepy - Building video temp_video/14.mp4.\n",
      "MoviePy - Writing audio in 14TEMP_MPY_wvf_snd.mp3\n"
     ]
    },
    {
     "name": "stderr",
     "output_type": "stream",
     "text": [
      "                                                                                                                       \r"
     ]
    },
    {
     "name": "stdout",
     "output_type": "stream",
     "text": [
      "MoviePy - Done.\n",
      "Moviepy - Writing video temp_video/14.mp4\n",
      "\n"
     ]
    },
    {
     "name": "stderr",
     "output_type": "stream",
     "text": [
      "                                                                                                                       \r"
     ]
    },
    {
     "name": "stdout",
     "output_type": "stream",
     "text": [
      "Moviepy - Done !\n",
      "Moviepy - video ready temp_video/14.mp4\n",
      "Moviepy - Building video temp_video/15.mp4.\n",
      "MoviePy - Writing audio in 15TEMP_MPY_wvf_snd.mp3\n"
     ]
    },
    {
     "name": "stderr",
     "output_type": "stream",
     "text": [
      "                                                                                                                       \r"
     ]
    },
    {
     "name": "stdout",
     "output_type": "stream",
     "text": [
      "MoviePy - Done.\n",
      "Moviepy - Writing video temp_video/15.mp4\n",
      "\n"
     ]
    },
    {
     "name": "stderr",
     "output_type": "stream",
     "text": [
      "                                                                                                                       \r"
     ]
    },
    {
     "name": "stdout",
     "output_type": "stream",
     "text": [
      "Moviepy - Done !\n",
      "Moviepy - video ready temp_video/15.mp4\n",
      "Moviepy - Building video temp_video/16.mp4.\n",
      "MoviePy - Writing audio in 16TEMP_MPY_wvf_snd.mp3\n"
     ]
    },
    {
     "name": "stderr",
     "output_type": "stream",
     "text": [
      "                                                                                                                       \r"
     ]
    },
    {
     "name": "stdout",
     "output_type": "stream",
     "text": [
      "MoviePy - Done.\n",
      "Moviepy - Writing video temp_video/16.mp4\n",
      "\n"
     ]
    },
    {
     "name": "stderr",
     "output_type": "stream",
     "text": [
      "                                                                                                                       \r"
     ]
    },
    {
     "name": "stdout",
     "output_type": "stream",
     "text": [
      "Moviepy - Done !\n",
      "Moviepy - video ready temp_video/16.mp4\n",
      "Moviepy - Building video temp_video/17.mp4.\n",
      "MoviePy - Writing audio in 17TEMP_MPY_wvf_snd.mp3\n"
     ]
    },
    {
     "name": "stderr",
     "output_type": "stream",
     "text": [
      "                                                                                                                       \r"
     ]
    },
    {
     "name": "stdout",
     "output_type": "stream",
     "text": [
      "MoviePy - Done.\n",
      "Moviepy - Writing video temp_video/17.mp4\n",
      "\n"
     ]
    },
    {
     "name": "stderr",
     "output_type": "stream",
     "text": [
      "                                                                                                                       \r"
     ]
    },
    {
     "name": "stdout",
     "output_type": "stream",
     "text": [
      "Moviepy - Done !\n",
      "Moviepy - video ready temp_video/17.mp4\n",
      "Moviepy - Building video temp_video/18.mp4.\n",
      "MoviePy - Writing audio in 18TEMP_MPY_wvf_snd.mp3\n"
     ]
    },
    {
     "name": "stderr",
     "output_type": "stream",
     "text": [
      "                                                                                                                       \r"
     ]
    },
    {
     "name": "stdout",
     "output_type": "stream",
     "text": [
      "MoviePy - Done.\n",
      "Moviepy - Writing video temp_video/18.mp4\n",
      "\n"
     ]
    },
    {
     "name": "stderr",
     "output_type": "stream",
     "text": [
      "                                                                                                                       \r"
     ]
    },
    {
     "name": "stdout",
     "output_type": "stream",
     "text": [
      "Moviepy - Done !\n",
      "Moviepy - video ready temp_video/18.mp4\n",
      "Moviepy - Building video temp_video/19.mp4.\n",
      "MoviePy - Writing audio in 19TEMP_MPY_wvf_snd.mp3\n"
     ]
    },
    {
     "name": "stderr",
     "output_type": "stream",
     "text": [
      "                                                                                                                       \r"
     ]
    },
    {
     "name": "stdout",
     "output_type": "stream",
     "text": [
      "MoviePy - Done.\n",
      "Moviepy - Writing video temp_video/19.mp4\n",
      "\n"
     ]
    },
    {
     "name": "stderr",
     "output_type": "stream",
     "text": [
      "                                                                                                                       \r"
     ]
    },
    {
     "name": "stdout",
     "output_type": "stream",
     "text": [
      "Moviepy - Done !\n",
      "Moviepy - video ready temp_video/19.mp4\n",
      "Moviepy - Building video temp_video/20.mp4.\n",
      "MoviePy - Writing audio in 20TEMP_MPY_wvf_snd.mp3\n"
     ]
    },
    {
     "name": "stderr",
     "output_type": "stream",
     "text": [
      "                                                                                                                       \r"
     ]
    },
    {
     "name": "stdout",
     "output_type": "stream",
     "text": [
      "MoviePy - Done.\n",
      "Moviepy - Writing video temp_video/20.mp4\n",
      "\n"
     ]
    },
    {
     "name": "stderr",
     "output_type": "stream",
     "text": [
      "                                                                                                                       \r"
     ]
    },
    {
     "name": "stdout",
     "output_type": "stream",
     "text": [
      "Moviepy - Done !\n",
      "Moviepy - video ready temp_video/20.mp4\n",
      "Moviepy - Building video temp_video/21.mp4.\n",
      "MoviePy - Writing audio in 21TEMP_MPY_wvf_snd.mp3\n"
     ]
    },
    {
     "name": "stderr",
     "output_type": "stream",
     "text": [
      "                                                                                                                       \r"
     ]
    },
    {
     "name": "stdout",
     "output_type": "stream",
     "text": [
      "MoviePy - Done.\n",
      "Moviepy - Writing video temp_video/21.mp4\n",
      "\n"
     ]
    },
    {
     "name": "stderr",
     "output_type": "stream",
     "text": [
      "                                                                                                                       \r"
     ]
    },
    {
     "name": "stdout",
     "output_type": "stream",
     "text": [
      "Moviepy - Done !\n",
      "Moviepy - video ready temp_video/21.mp4\n",
      "Moviepy - Building video temp_video/22.mp4.\n",
      "MoviePy - Writing audio in 22TEMP_MPY_wvf_snd.mp3\n"
     ]
    },
    {
     "name": "stderr",
     "output_type": "stream",
     "text": [
      "                                                                                                                       \r"
     ]
    },
    {
     "name": "stdout",
     "output_type": "stream",
     "text": [
      "MoviePy - Done.\n",
      "Moviepy - Writing video temp_video/22.mp4\n",
      "\n"
     ]
    },
    {
     "name": "stderr",
     "output_type": "stream",
     "text": [
      "                                                                                                                       \r"
     ]
    },
    {
     "name": "stdout",
     "output_type": "stream",
     "text": [
      "Moviepy - Done !\n",
      "Moviepy - video ready temp_video/22.mp4\n"
     ]
    }
   ],
   "source": [
    "# 将所有片段进行拆分\n",
    "n = 1\n",
    "for time_ in time_list:\n",
    "    # cut_video 是视频名称 使用 locals()[cut_video] 调用\n",
    "    cut_video = locals()[random.choice(video_list)]\n",
    "    cut_video = cut_video.subclip(time_[0],time_[1])\n",
    "    # 静音操作\n",
    "    cut_video = cut_video.fx(afx.volumex, 0)\n",
    "    cut_video = cut_video.write_videofile(\"temp_video/{}.mp4\".format(n))\n",
    "    n = n + 1"
   ]
  },
  {
   "cell_type": "code",
   "execution_count": 10,
   "metadata": {},
   "outputs": [
    {
     "name": "stdout",
     "output_type": "stream",
     "text": [
      "MoviePy - Writing audio in temp_data/audio.mp3\n"
     ]
    },
    {
     "name": "stderr",
     "output_type": "stream",
     "text": [
      "                                                                                                                       \r"
     ]
    },
    {
     "name": "stdout",
     "output_type": "stream",
     "text": [
      "MoviePy - Done.\n"
     ]
    }
   ],
   "source": [
    "# 提取音频\n",
    "audio = locals()[video_base].audio\n",
    "audio.write_audiofile('temp_data/audio.mp3')"
   ]
  },
  {
   "cell_type": "markdown",
   "metadata": {},
   "source": [
    "# 视频合成"
   ]
  },
  {
   "cell_type": "code",
   "execution_count": 11,
   "metadata": {},
   "outputs": [
    {
     "name": "stdout",
     "output_type": "stream",
     "text": [
      "Moviepy - Building video 1648528407.mp4.\n",
      "MoviePy - Writing audio in 1648528407TEMP_MPY_wvf_snd.mp3\n"
     ]
    },
    {
     "name": "stderr",
     "output_type": "stream",
     "text": [
      "                                                                                                                       \r"
     ]
    },
    {
     "name": "stdout",
     "output_type": "stream",
     "text": [
      "MoviePy - Done.\n",
      "Moviepy - Writing video 1648528407.mp4\n",
      "\n"
     ]
    },
    {
     "name": "stderr",
     "output_type": "stream",
     "text": [
      "                                                                                                                       \r"
     ]
    },
    {
     "name": "stdout",
     "output_type": "stream",
     "text": [
      "Moviepy - Done !\n",
      "Moviepy - video ready 1648528407.mp4\n"
     ]
    }
   ],
   "source": [
    "# 对文件进行数字排序避免 1 10 23456789的情况发生顺序错误\n",
    "each_dir = \"temp_video/\"\n",
    "cut_list = sorted(os.listdir(each_dir),key = lambda i:int(re.match(r'(\\d+)',i).group()))\n",
    "\n",
    "# 视频合成 cvc_video\n",
    "L = []\n",
    "for i in cut_list:\n",
    "    cut_video = VideoFileClip(\"temp_video/\" + i)\n",
    "    L.append(cut_video)\n",
    "    \n",
    "cvc_video = concatenate_videoclips(L)\n",
    "\n",
    "# 视频中添加水印\n",
    "logo = (\n",
    "    ImageClip(\"./base_data/水印1.png\")\n",
    "        .set_duration(cut_video.duration)  # 水印持续时间\n",
    "        .resize(height=200)  # 水印的高度，会等比缩放\n",
    "        .set_pos((\"left\", \"top\"))  # 水印的位置\n",
    ")\n",
    "\n",
    "# 文件进行保存到结果文件中\n",
    "cvc = CompositeVideoClip([cvc_video,logo])\n",
    "\n",
    "# 视频和音频合成在一起\n",
    "audio = AudioFileClip('temp_data/audio.mp3')\n",
    "video_result = cvc.set_audio(audio)\n",
    "\n",
    "video_result.write_videofile(\"{}.mp4\".format(str(int(time.time()))))"
   ]
  },
  {
   "cell_type": "code",
   "execution_count": null,
   "metadata": {},
   "outputs": [],
   "source": []
  },
  {
   "cell_type": "code",
   "execution_count": null,
   "metadata": {},
   "outputs": [],
   "source": []
  },
  {
   "cell_type": "code",
   "execution_count": null,
   "metadata": {},
   "outputs": [],
   "source": []
  },
  {
   "cell_type": "code",
   "execution_count": null,
   "metadata": {},
   "outputs": [],
   "source": []
  }
 ],
 "metadata": {
  "kernelspec": {
   "display_name": "Python 3",
   "language": "python",
   "name": "python3"
  },
  "language_info": {
   "codemirror_mode": {
    "name": "ipython",
    "version": 3
   },
   "file_extension": ".py",
   "mimetype": "text/x-python",
   "name": "python",
   "nbconvert_exporter": "python",
   "pygments_lexer": "ipython3",
   "version": "3.6.5"
  },
  "toc": {
   "base_numbering": 1,
   "nav_menu": {},
   "number_sections": true,
   "sideBar": true,
   "skip_h1_title": false,
   "title_cell": "Table of Contents",
   "title_sidebar": "Contents",
   "toc_cell": false,
   "toc_position": {
    "height": "calc(100% - 180px)",
    "left": "10px",
    "top": "150px",
    "width": "165px"
   },
   "toc_section_display": true,
   "toc_window_display": true
  }
 },
 "nbformat": 4,
 "nbformat_minor": 2
}
