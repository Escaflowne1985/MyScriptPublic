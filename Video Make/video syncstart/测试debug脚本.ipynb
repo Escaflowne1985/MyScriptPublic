{
 "cells": [
  {
   "cell_type": "code",
   "execution_count": 2,
   "metadata": {
    "code_folding": []
   },
   "outputs": [],
   "source": [
    "import os\n",
    "from moviepy.editor import *\n",
    "import time\n",
    "import re\n",
    "import pandas as pd\n",
    "import json\n",
    "import random\n",
    "import librosa\n",
    "\n",
    "base_name = 'T-ara - Number 9, 티아라 - 넘버나인 Music Core 20131019.mp4'\n",
    "resize_num = (1920,1080)\n",
    "\n",
    "# 数据处理好的表单数据\n",
    "df = pd.read_excel(\"syncstart_result/{}.xlsx\".format(base_name))\n",
    "# 提出异常的数据\n",
    "df = df[df['start'] < 30]"
   ]
  },
  {
   "cell_type": "markdown",
   "metadata": {},
   "source": [
    "# （横）4画面同框版"
   ]
  },
  {
   "cell_type": "code",
   "execution_count": 2,
   "metadata": {
    "code_folding": []
   },
   "outputs": [
    {
     "data": {
      "text/plain": [
       "[{'file_name': '2017 Korea & Vietnam Friendship KPOP Concert (T-ARA - No.9).mp4',\n",
       "  'start': 1.409546485260771},\n",
       " {'file_name': '티아라_NO.9 (NO.9 by T-ara@Mcountdown 2013.10.10).mp4',\n",
       "  'start': 1.585374149659864},\n",
       " {'file_name': '티아라_NO.9 (NO.9 by T-ara of Mcountdown 2013.10.17).mp4',\n",
       "  'start': 0.849092970521542}]"
      ]
     },
     "execution_count": 2,
     "metadata": {},
     "output_type": "execute_result"
    }
   ],
   "source": [
    "# 提取需要的数据\n",
    "data = df.sample(3)\n",
    "data_list = data.to_dict(\"records\")\n",
    "data_list"
   ]
  },
  {
   "cell_type": "code",
   "execution_count": 3,
   "metadata": {
    "code_folding": [],
    "scrolled": false
   },
   "outputs": [
    {
     "name": "stderr",
     "output_type": "stream",
     "text": [
      "chunk:   1%|▋                                                             | 61/5181 [00:00<00:08, 606.32it/s, now=None]"
     ]
    },
    {
     "name": "stdout",
     "output_type": "stream",
     "text": [
      "Moviepy - Building video result_video/stack_4.mp4.\n",
      "MoviePy - Writing audio in stack_4TEMP_MPY_wvf_snd.mp3\n"
     ]
    },
    {
     "name": "stderr",
     "output_type": "stream",
     "text": [
      "t:   0%|                                                                   | 4/14082 [00:00<06:52, 34.10it/s, now=None]"
     ]
    },
    {
     "name": "stdout",
     "output_type": "stream",
     "text": [
      "MoviePy - Done.\n",
      "Moviepy - Writing video result_video/stack_4.mp4\n",
      "\n"
     ]
    },
    {
     "name": "stderr",
     "output_type": "stream",
     "text": [
      "                                                                                                                       \r"
     ]
    },
    {
     "name": "stdout",
     "output_type": "stream",
     "text": [
      "Moviepy - Done !\n",
      "Moviepy - video ready result_video/stack_4.mp4\n"
     ]
    }
   ],
   "source": [
    "# 提取需要的数据\n",
    "data = df.sample(3)\n",
    "data_list = data.to_dict(\"records\")\n",
    "data_list\n",
    "\n",
    "resize_num = (1920/2,1080/2)\n",
    "\n",
    "# 读取base视频\n",
    "video_base = VideoFileClip('source_video/{}'.format(base_name))\n",
    "video_base = video_base.resize(resize_num)\n",
    "# 获取base视频的时长\n",
    "video_base_duration = video_base.duration\n",
    "\n",
    "\n",
    "# 读取随机生成的3个视频\n",
    "video1 = VideoFileClip('source_video/{}'.format(data_list[0][\"file_name\"]))\n",
    "video1_duration = video_base_duration if video1.duration > video_base_duration else video1.duration\n",
    "subclip_1 = video1.subclip(0, video1_duration)\n",
    "subclip_1 = subclip_1.set_start(data_list[0][\"start\"])\n",
    "subclip_1 = subclip_1.resize(resize_num)\n",
    "\n",
    "video2 = VideoFileClip('source_video/{}'.format(data_list[1][\"file_name\"]))\n",
    "video2_duration = video_base_duration if video2.duration > video_base_duration else video2.duration\n",
    "subclip_2 = video2.subclip(0, video2_duration)\n",
    "subclip_2 = subclip_2.set_start(data_list[1][\"start\"])\n",
    "subclip_2 = subclip_2.resize(resize_num)\n",
    "\n",
    "video3 = VideoFileClip('source_video/{}'.format(data_list[2][\"file_name\"]))\n",
    "video3_duration = video_base_duration if video3.duration > video_base_duration else video3.duration\n",
    "subclip_3 = video3.subclip(0, video3_duration)\n",
    "subclip_3 = subclip_3.set_start(data_list[2][\"start\"])\n",
    "subclip_3 = subclip_3.resize(resize_num)\n",
    "\n",
    "final_clip = clips_array([[video_base, subclip_1],\n",
    "                          [subclip_2, subclip_3]])\n",
    "\n",
    "final_clip.write_videofile(\"result_video/stack_4.mp4\")"
   ]
  },
  {
   "cell_type": "markdown",
   "metadata": {},
   "source": [
    "# （横）6画面同框版"
   ]
  },
  {
   "cell_type": "code",
   "execution_count": 4,
   "metadata": {
    "code_folding": [
     0
    ]
   },
   "outputs": [
    {
     "name": "stderr",
     "output_type": "stream",
     "text": [
      "chunk:   1%|▋                                                             | 62/5382 [00:00<00:08, 617.29it/s, now=None]"
     ]
    },
    {
     "name": "stdout",
     "output_type": "stream",
     "text": [
      "Moviepy - Building video result_video/stack_6.mp4.\n",
      "MoviePy - Writing audio in stack_6TEMP_MPY_wvf_snd.mp3\n"
     ]
    },
    {
     "name": "stderr",
     "output_type": "stream",
     "text": [
      "t:   0%|                                                                   | 4/14630 [00:00<07:43, 31.54it/s, now=None]"
     ]
    },
    {
     "name": "stdout",
     "output_type": "stream",
     "text": [
      "MoviePy - Done.\n",
      "Moviepy - Writing video result_video/stack_6.mp4\n",
      "\n"
     ]
    },
    {
     "name": "stderr",
     "output_type": "stream",
     "text": [
      "t:   5%|███                                                              | 689/14630 [00:37<15:01, 15.47it/s, now=None]"
     ]
    },
    {
     "ename": "KeyboardInterrupt",
     "evalue": "",
     "output_type": "error",
     "traceback": [
      "\u001b[1;31m---------------------------------------------------------------------------\u001b[0m",
      "\u001b[1;31mKeyboardInterrupt\u001b[0m                         Traceback (most recent call last)",
      "Input \u001b[1;32mIn [4]\u001b[0m, in \u001b[0;36m<cell line: 49>\u001b[1;34m()\u001b[0m\n\u001b[0;32m     44\u001b[0m subclip_5 \u001b[38;5;241m=\u001b[39m subclip_5\u001b[38;5;241m.\u001b[39mresize(resize_num)\n\u001b[0;32m     46\u001b[0m final_clip \u001b[38;5;241m=\u001b[39m clips_array([[video_base, subclip_1,subclip_2],\n\u001b[0;32m     47\u001b[0m                           [subclip_3, subclip_4,subclip_5]])\n\u001b[1;32m---> 49\u001b[0m \u001b[43mfinal_clip\u001b[49m\u001b[38;5;241;43m.\u001b[39;49m\u001b[43mwrite_videofile\u001b[49m\u001b[43m(\u001b[49m\u001b[38;5;124;43m\"\u001b[39;49m\u001b[38;5;124;43mresult_video/stack_6.mp4\u001b[39;49m\u001b[38;5;124;43m\"\u001b[39;49m\u001b[43m)\u001b[49m\n",
      "File \u001b[1;32m<decorator-gen-72>:2\u001b[0m, in \u001b[0;36mwrite_videofile\u001b[1;34m(self, filename, fps, codec, bitrate, audio, audio_fps, preset, audio_nbytes, audio_codec, audio_bitrate, audio_bufsize, temp_audiofile, rewrite_audio, remove_temp, write_logfile, verbose, threads, ffmpeg_params, logger)\u001b[0m\n",
      "File \u001b[1;32mD:\\MyTools\\Anaconda3\\lib\\site-packages\\moviepy\\decorators.py:54\u001b[0m, in \u001b[0;36mrequires_duration\u001b[1;34m(f, clip, *a, **k)\u001b[0m\n\u001b[0;32m     52\u001b[0m     \u001b[38;5;28;01mraise\u001b[39;00m \u001b[38;5;167;01mValueError\u001b[39;00m(\u001b[38;5;124m\"\u001b[39m\u001b[38;5;124mAttribute \u001b[39m\u001b[38;5;124m'\u001b[39m\u001b[38;5;124mduration\u001b[39m\u001b[38;5;124m'\u001b[39m\u001b[38;5;124m not set\u001b[39m\u001b[38;5;124m\"\u001b[39m)\n\u001b[0;32m     53\u001b[0m \u001b[38;5;28;01melse\u001b[39;00m:\n\u001b[1;32m---> 54\u001b[0m     \u001b[38;5;28;01mreturn\u001b[39;00m f(clip, \u001b[38;5;241m*\u001b[39ma, \u001b[38;5;241m*\u001b[39m\u001b[38;5;241m*\u001b[39mk)\n",
      "File \u001b[1;32m<decorator-gen-71>:2\u001b[0m, in \u001b[0;36mwrite_videofile\u001b[1;34m(self, filename, fps, codec, bitrate, audio, audio_fps, preset, audio_nbytes, audio_codec, audio_bitrate, audio_bufsize, temp_audiofile, rewrite_audio, remove_temp, write_logfile, verbose, threads, ffmpeg_params, logger)\u001b[0m\n",
      "File \u001b[1;32mD:\\MyTools\\Anaconda3\\lib\\site-packages\\moviepy\\decorators.py:135\u001b[0m, in \u001b[0;36muse_clip_fps_by_default\u001b[1;34m(f, clip, *a, **k)\u001b[0m\n\u001b[0;32m    130\u001b[0m new_a \u001b[38;5;241m=\u001b[39m [fun(arg) \u001b[38;5;28;01mif\u001b[39;00m (name\u001b[38;5;241m==\u001b[39m\u001b[38;5;124m'\u001b[39m\u001b[38;5;124mfps\u001b[39m\u001b[38;5;124m'\u001b[39m) \u001b[38;5;28;01melse\u001b[39;00m arg\n\u001b[0;32m    131\u001b[0m          \u001b[38;5;28;01mfor\u001b[39;00m (arg, name) \u001b[38;5;129;01min\u001b[39;00m \u001b[38;5;28mzip\u001b[39m(a, names)]\n\u001b[0;32m    132\u001b[0m new_kw \u001b[38;5;241m=\u001b[39m {k: fun(v) \u001b[38;5;28;01mif\u001b[39;00m k\u001b[38;5;241m==\u001b[39m\u001b[38;5;124m'\u001b[39m\u001b[38;5;124mfps\u001b[39m\u001b[38;5;124m'\u001b[39m \u001b[38;5;28;01melse\u001b[39;00m v\n\u001b[0;32m    133\u001b[0m          \u001b[38;5;28;01mfor\u001b[39;00m (k,v) \u001b[38;5;129;01min\u001b[39;00m k\u001b[38;5;241m.\u001b[39mitems()}\n\u001b[1;32m--> 135\u001b[0m \u001b[38;5;28;01mreturn\u001b[39;00m f(clip, \u001b[38;5;241m*\u001b[39mnew_a, \u001b[38;5;241m*\u001b[39m\u001b[38;5;241m*\u001b[39mnew_kw)\n",
      "File \u001b[1;32m<decorator-gen-70>:2\u001b[0m, in \u001b[0;36mwrite_videofile\u001b[1;34m(self, filename, fps, codec, bitrate, audio, audio_fps, preset, audio_nbytes, audio_codec, audio_bitrate, audio_bufsize, temp_audiofile, rewrite_audio, remove_temp, write_logfile, verbose, threads, ffmpeg_params, logger)\u001b[0m\n",
      "File \u001b[1;32mD:\\MyTools\\Anaconda3\\lib\\site-packages\\moviepy\\decorators.py:22\u001b[0m, in \u001b[0;36mconvert_masks_to_RGB\u001b[1;34m(f, clip, *a, **k)\u001b[0m\n\u001b[0;32m     20\u001b[0m \u001b[38;5;28;01mif\u001b[39;00m clip\u001b[38;5;241m.\u001b[39mismask:\n\u001b[0;32m     21\u001b[0m     clip \u001b[38;5;241m=\u001b[39m clip\u001b[38;5;241m.\u001b[39mto_RGB()\n\u001b[1;32m---> 22\u001b[0m \u001b[38;5;28;01mreturn\u001b[39;00m f(clip, \u001b[38;5;241m*\u001b[39ma, \u001b[38;5;241m*\u001b[39m\u001b[38;5;241m*\u001b[39mk)\n",
      "File \u001b[1;32mD:\\MyTools\\Anaconda3\\lib\\site-packages\\moviepy\\video\\VideoClip.py:300\u001b[0m, in \u001b[0;36mVideoClip.write_videofile\u001b[1;34m(self, filename, fps, codec, bitrate, audio, audio_fps, preset, audio_nbytes, audio_codec, audio_bitrate, audio_bufsize, temp_audiofile, rewrite_audio, remove_temp, write_logfile, verbose, threads, ffmpeg_params, logger)\u001b[0m\n\u001b[0;32m    292\u001b[0m \u001b[38;5;28;01mif\u001b[39;00m make_audio:\n\u001b[0;32m    293\u001b[0m     \u001b[38;5;28mself\u001b[39m\u001b[38;5;241m.\u001b[39maudio\u001b[38;5;241m.\u001b[39mwrite_audiofile(audiofile, audio_fps,\n\u001b[0;32m    294\u001b[0m                                audio_nbytes, audio_bufsize,\n\u001b[0;32m    295\u001b[0m                                audio_codec, bitrate\u001b[38;5;241m=\u001b[39maudio_bitrate,\n\u001b[0;32m    296\u001b[0m                                write_logfile\u001b[38;5;241m=\u001b[39mwrite_logfile,\n\u001b[0;32m    297\u001b[0m                                verbose\u001b[38;5;241m=\u001b[39mverbose,\n\u001b[0;32m    298\u001b[0m                                logger\u001b[38;5;241m=\u001b[39mlogger)\n\u001b[1;32m--> 300\u001b[0m \u001b[43mffmpeg_write_video\u001b[49m\u001b[43m(\u001b[49m\u001b[38;5;28;43mself\u001b[39;49m\u001b[43m,\u001b[49m\u001b[43m \u001b[49m\u001b[43mfilename\u001b[49m\u001b[43m,\u001b[49m\u001b[43m \u001b[49m\u001b[43mfps\u001b[49m\u001b[43m,\u001b[49m\u001b[43m \u001b[49m\u001b[43mcodec\u001b[49m\u001b[43m,\u001b[49m\n\u001b[0;32m    301\u001b[0m \u001b[43m                   \u001b[49m\u001b[43mbitrate\u001b[49m\u001b[38;5;241;43m=\u001b[39;49m\u001b[43mbitrate\u001b[49m\u001b[43m,\u001b[49m\n\u001b[0;32m    302\u001b[0m \u001b[43m                   \u001b[49m\u001b[43mpreset\u001b[49m\u001b[38;5;241;43m=\u001b[39;49m\u001b[43mpreset\u001b[49m\u001b[43m,\u001b[49m\n\u001b[0;32m    303\u001b[0m \u001b[43m                   \u001b[49m\u001b[43mwrite_logfile\u001b[49m\u001b[38;5;241;43m=\u001b[39;49m\u001b[43mwrite_logfile\u001b[49m\u001b[43m,\u001b[49m\n\u001b[0;32m    304\u001b[0m \u001b[43m                   \u001b[49m\u001b[43maudiofile\u001b[49m\u001b[38;5;241;43m=\u001b[39;49m\u001b[43maudiofile\u001b[49m\u001b[43m,\u001b[49m\n\u001b[0;32m    305\u001b[0m \u001b[43m                   \u001b[49m\u001b[43mverbose\u001b[49m\u001b[38;5;241;43m=\u001b[39;49m\u001b[43mverbose\u001b[49m\u001b[43m,\u001b[49m\u001b[43m \u001b[49m\u001b[43mthreads\u001b[49m\u001b[38;5;241;43m=\u001b[39;49m\u001b[43mthreads\u001b[49m\u001b[43m,\u001b[49m\n\u001b[0;32m    306\u001b[0m \u001b[43m                   \u001b[49m\u001b[43mffmpeg_params\u001b[49m\u001b[38;5;241;43m=\u001b[39;49m\u001b[43mffmpeg_params\u001b[49m\u001b[43m,\u001b[49m\n\u001b[0;32m    307\u001b[0m \u001b[43m                   \u001b[49m\u001b[43mlogger\u001b[49m\u001b[38;5;241;43m=\u001b[39;49m\u001b[43mlogger\u001b[49m\u001b[43m)\u001b[49m\n\u001b[0;32m    309\u001b[0m \u001b[38;5;28;01mif\u001b[39;00m remove_temp \u001b[38;5;129;01mand\u001b[39;00m make_audio:\n\u001b[0;32m    310\u001b[0m     \u001b[38;5;28;01mif\u001b[39;00m os\u001b[38;5;241m.\u001b[39mpath\u001b[38;5;241m.\u001b[39mexists(audiofile):\n",
      "File \u001b[1;32mD:\\MyTools\\Anaconda3\\lib\\site-packages\\moviepy\\video\\io\\ffmpeg_writer.py:220\u001b[0m, in \u001b[0;36mffmpeg_write_video\u001b[1;34m(clip, filename, fps, codec, bitrate, preset, withmask, write_logfile, audiofile, verbose, threads, ffmpeg_params, logger)\u001b[0m\n\u001b[0;32m    213\u001b[0m \u001b[38;5;28;01mwith\u001b[39;00m FFMPEG_VideoWriter(filename, clip\u001b[38;5;241m.\u001b[39msize, fps, codec \u001b[38;5;241m=\u001b[39m codec,\n\u001b[0;32m    214\u001b[0m                             preset\u001b[38;5;241m=\u001b[39mpreset, bitrate\u001b[38;5;241m=\u001b[39mbitrate, logfile\u001b[38;5;241m=\u001b[39mlogfile,\n\u001b[0;32m    215\u001b[0m                             audiofile\u001b[38;5;241m=\u001b[39maudiofile, threads\u001b[38;5;241m=\u001b[39mthreads,\n\u001b[0;32m    216\u001b[0m                             ffmpeg_params\u001b[38;5;241m=\u001b[39mffmpeg_params) \u001b[38;5;28;01mas\u001b[39;00m writer:\n\u001b[0;32m    218\u001b[0m     nframes \u001b[38;5;241m=\u001b[39m \u001b[38;5;28mint\u001b[39m(clip\u001b[38;5;241m.\u001b[39mduration\u001b[38;5;241m*\u001b[39mfps)\n\u001b[1;32m--> 220\u001b[0m     \u001b[38;5;28;01mfor\u001b[39;00m t,frame \u001b[38;5;129;01min\u001b[39;00m clip\u001b[38;5;241m.\u001b[39miter_frames(logger\u001b[38;5;241m=\u001b[39mlogger, with_times\u001b[38;5;241m=\u001b[39m\u001b[38;5;28;01mTrue\u001b[39;00m,\n\u001b[0;32m    221\u001b[0m                                     fps\u001b[38;5;241m=\u001b[39mfps, dtype\u001b[38;5;241m=\u001b[39m\u001b[38;5;124m\"\u001b[39m\u001b[38;5;124muint8\u001b[39m\u001b[38;5;124m\"\u001b[39m):\n\u001b[0;32m    222\u001b[0m         \u001b[38;5;28;01mif\u001b[39;00m withmask:\n\u001b[0;32m    223\u001b[0m             mask \u001b[38;5;241m=\u001b[39m (\u001b[38;5;241m255\u001b[39m\u001b[38;5;241m*\u001b[39mclip\u001b[38;5;241m.\u001b[39mmask\u001b[38;5;241m.\u001b[39mget_frame(t))\n",
      "File \u001b[1;32mD:\\MyTools\\Anaconda3\\lib\\site-packages\\moviepy\\Clip.py:472\u001b[0m, in \u001b[0;36mClip.iter_frames\u001b[1;34m(self, fps, with_times, logger, dtype)\u001b[0m\n\u001b[0;32m    470\u001b[0m logger \u001b[38;5;241m=\u001b[39m proglog\u001b[38;5;241m.\u001b[39mdefault_bar_logger(logger)\n\u001b[0;32m    471\u001b[0m \u001b[38;5;28;01mfor\u001b[39;00m t \u001b[38;5;129;01min\u001b[39;00m logger\u001b[38;5;241m.\u001b[39miter_bar(t\u001b[38;5;241m=\u001b[39mnp\u001b[38;5;241m.\u001b[39marange(\u001b[38;5;241m0\u001b[39m, \u001b[38;5;28mself\u001b[39m\u001b[38;5;241m.\u001b[39mduration, \u001b[38;5;241m1.0\u001b[39m\u001b[38;5;241m/\u001b[39mfps)):\n\u001b[1;32m--> 472\u001b[0m     frame \u001b[38;5;241m=\u001b[39m \u001b[38;5;28;43mself\u001b[39;49m\u001b[38;5;241;43m.\u001b[39;49m\u001b[43mget_frame\u001b[49m\u001b[43m(\u001b[49m\u001b[43mt\u001b[49m\u001b[43m)\u001b[49m\n\u001b[0;32m    473\u001b[0m     \u001b[38;5;28;01mif\u001b[39;00m (dtype \u001b[38;5;129;01mis\u001b[39;00m \u001b[38;5;129;01mnot\u001b[39;00m \u001b[38;5;28;01mNone\u001b[39;00m) \u001b[38;5;129;01mand\u001b[39;00m (frame\u001b[38;5;241m.\u001b[39mdtype \u001b[38;5;241m!=\u001b[39m dtype):\n\u001b[0;32m    474\u001b[0m         frame \u001b[38;5;241m=\u001b[39m frame\u001b[38;5;241m.\u001b[39mastype(dtype)\n",
      "File \u001b[1;32m<decorator-gen-28>:2\u001b[0m, in \u001b[0;36mget_frame\u001b[1;34m(self, t)\u001b[0m\n",
      "File \u001b[1;32mD:\\MyTools\\Anaconda3\\lib\\site-packages\\moviepy\\decorators.py:89\u001b[0m, in \u001b[0;36mpreprocess_args.<locals>.wrapper\u001b[1;34m(f, *a, **kw)\u001b[0m\n\u001b[0;32m     85\u001b[0m new_a \u001b[38;5;241m=\u001b[39m [fun(arg) \u001b[38;5;28;01mif\u001b[39;00m (name \u001b[38;5;129;01min\u001b[39;00m varnames) \u001b[38;5;28;01melse\u001b[39;00m arg\n\u001b[0;32m     86\u001b[0m          \u001b[38;5;28;01mfor\u001b[39;00m (arg, name) \u001b[38;5;129;01min\u001b[39;00m \u001b[38;5;28mzip\u001b[39m(a, names)]\n\u001b[0;32m     87\u001b[0m new_kw \u001b[38;5;241m=\u001b[39m {k: fun(v) \u001b[38;5;28;01mif\u001b[39;00m k \u001b[38;5;129;01min\u001b[39;00m varnames \u001b[38;5;28;01melse\u001b[39;00m v\n\u001b[0;32m     88\u001b[0m          \u001b[38;5;28;01mfor\u001b[39;00m (k,v) \u001b[38;5;129;01min\u001b[39;00m kw\u001b[38;5;241m.\u001b[39mitems()}\n\u001b[1;32m---> 89\u001b[0m \u001b[38;5;28;01mreturn\u001b[39;00m f(\u001b[38;5;241m*\u001b[39mnew_a, \u001b[38;5;241m*\u001b[39m\u001b[38;5;241m*\u001b[39mnew_kw)\n",
      "File \u001b[1;32mD:\\MyTools\\Anaconda3\\lib\\site-packages\\moviepy\\Clip.py:93\u001b[0m, in \u001b[0;36mClip.get_frame\u001b[1;34m(self, t)\u001b[0m\n\u001b[0;32m     91\u001b[0m         \u001b[38;5;28;01mreturn\u001b[39;00m frame\n\u001b[0;32m     92\u001b[0m \u001b[38;5;28;01melse\u001b[39;00m:\n\u001b[1;32m---> 93\u001b[0m     \u001b[38;5;28;01mreturn\u001b[39;00m \u001b[38;5;28;43mself\u001b[39;49m\u001b[38;5;241;43m.\u001b[39;49m\u001b[43mmake_frame\u001b[49m\u001b[43m(\u001b[49m\u001b[43mt\u001b[49m\u001b[43m)\u001b[49m\n",
      "File \u001b[1;32mD:\\MyTools\\Anaconda3\\lib\\site-packages\\moviepy\\video\\compositing\\CompositeVideoClip.py:111\u001b[0m, in \u001b[0;36mCompositeVideoClip.__init__.<locals>.make_frame\u001b[1;34m(t)\u001b[0m\n\u001b[0;32m    109\u001b[0m f \u001b[38;5;241m=\u001b[39m \u001b[38;5;28mself\u001b[39m\u001b[38;5;241m.\u001b[39mbg\u001b[38;5;241m.\u001b[39mget_frame(t)\n\u001b[0;32m    110\u001b[0m \u001b[38;5;28;01mfor\u001b[39;00m c \u001b[38;5;129;01min\u001b[39;00m \u001b[38;5;28mself\u001b[39m\u001b[38;5;241m.\u001b[39mplaying_clips(t):\n\u001b[1;32m--> 111\u001b[0m         f \u001b[38;5;241m=\u001b[39m \u001b[43mc\u001b[49m\u001b[38;5;241;43m.\u001b[39;49m\u001b[43mblit_on\u001b[49m\u001b[43m(\u001b[49m\u001b[43mf\u001b[49m\u001b[43m,\u001b[49m\u001b[43m \u001b[49m\u001b[43mt\u001b[49m\u001b[43m)\u001b[49m\n\u001b[0;32m    112\u001b[0m \u001b[38;5;28;01mreturn\u001b[39;00m f\n",
      "File \u001b[1;32mD:\\MyTools\\Anaconda3\\lib\\site-packages\\moviepy\\video\\VideoClip.py:527\u001b[0m, in \u001b[0;36mVideoClip.blit_on\u001b[1;34m(self, picture, t)\u001b[0m\n\u001b[0;32m    523\u001b[0m ct \u001b[38;5;241m=\u001b[39m t \u001b[38;5;241m-\u001b[39m \u001b[38;5;28mself\u001b[39m\u001b[38;5;241m.\u001b[39mstart  \u001b[38;5;66;03m# clip time\u001b[39;00m\n\u001b[0;32m    525\u001b[0m \u001b[38;5;66;03m# GET IMAGE AND MASK IF ANY\u001b[39;00m\n\u001b[1;32m--> 527\u001b[0m img \u001b[38;5;241m=\u001b[39m \u001b[38;5;28;43mself\u001b[39;49m\u001b[38;5;241;43m.\u001b[39;49m\u001b[43mget_frame\u001b[49m\u001b[43m(\u001b[49m\u001b[43mct\u001b[49m\u001b[43m)\u001b[49m\n\u001b[0;32m    528\u001b[0m mask \u001b[38;5;241m=\u001b[39m \u001b[38;5;28mself\u001b[39m\u001b[38;5;241m.\u001b[39mmask\u001b[38;5;241m.\u001b[39mget_frame(ct) \u001b[38;5;28;01mif\u001b[39;00m \u001b[38;5;28mself\u001b[39m\u001b[38;5;241m.\u001b[39mmask \u001b[38;5;28;01melse\u001b[39;00m \u001b[38;5;28;01mNone\u001b[39;00m                \n\u001b[0;32m    530\u001b[0m \u001b[38;5;28;01mif\u001b[39;00m mask \u001b[38;5;129;01mis\u001b[39;00m \u001b[38;5;129;01mnot\u001b[39;00m \u001b[38;5;28;01mNone\u001b[39;00m \u001b[38;5;129;01mand\u001b[39;00m ((img\u001b[38;5;241m.\u001b[39mshape[\u001b[38;5;241m0\u001b[39m] \u001b[38;5;241m!=\u001b[39m mask\u001b[38;5;241m.\u001b[39mshape[\u001b[38;5;241m0\u001b[39m]) \u001b[38;5;129;01mor\u001b[39;00m (img\u001b[38;5;241m.\u001b[39mshape[\u001b[38;5;241m1\u001b[39m] \u001b[38;5;241m!=\u001b[39m mask\u001b[38;5;241m.\u001b[39mshape[\u001b[38;5;241m1\u001b[39m])):\n",
      "File \u001b[1;32m<decorator-gen-28>:2\u001b[0m, in \u001b[0;36mget_frame\u001b[1;34m(self, t)\u001b[0m\n",
      "File \u001b[1;32mD:\\MyTools\\Anaconda3\\lib\\site-packages\\moviepy\\decorators.py:89\u001b[0m, in \u001b[0;36mpreprocess_args.<locals>.wrapper\u001b[1;34m(f, *a, **kw)\u001b[0m\n\u001b[0;32m     85\u001b[0m new_a \u001b[38;5;241m=\u001b[39m [fun(arg) \u001b[38;5;28;01mif\u001b[39;00m (name \u001b[38;5;129;01min\u001b[39;00m varnames) \u001b[38;5;28;01melse\u001b[39;00m arg\n\u001b[0;32m     86\u001b[0m          \u001b[38;5;28;01mfor\u001b[39;00m (arg, name) \u001b[38;5;129;01min\u001b[39;00m \u001b[38;5;28mzip\u001b[39m(a, names)]\n\u001b[0;32m     87\u001b[0m new_kw \u001b[38;5;241m=\u001b[39m {k: fun(v) \u001b[38;5;28;01mif\u001b[39;00m k \u001b[38;5;129;01min\u001b[39;00m varnames \u001b[38;5;28;01melse\u001b[39;00m v\n\u001b[0;32m     88\u001b[0m          \u001b[38;5;28;01mfor\u001b[39;00m (k,v) \u001b[38;5;129;01min\u001b[39;00m kw\u001b[38;5;241m.\u001b[39mitems()}\n\u001b[1;32m---> 89\u001b[0m \u001b[38;5;28;01mreturn\u001b[39;00m f(\u001b[38;5;241m*\u001b[39mnew_a, \u001b[38;5;241m*\u001b[39m\u001b[38;5;241m*\u001b[39mnew_kw)\n",
      "File \u001b[1;32mD:\\MyTools\\Anaconda3\\lib\\site-packages\\moviepy\\Clip.py:93\u001b[0m, in \u001b[0;36mClip.get_frame\u001b[1;34m(self, t)\u001b[0m\n\u001b[0;32m     91\u001b[0m         \u001b[38;5;28;01mreturn\u001b[39;00m frame\n\u001b[0;32m     92\u001b[0m \u001b[38;5;28;01melse\u001b[39;00m:\n\u001b[1;32m---> 93\u001b[0m     \u001b[38;5;28;01mreturn\u001b[39;00m \u001b[38;5;28;43mself\u001b[39;49m\u001b[38;5;241;43m.\u001b[39;49m\u001b[43mmake_frame\u001b[49m\u001b[43m(\u001b[49m\u001b[43mt\u001b[49m\u001b[43m)\u001b[49m\n",
      "File \u001b[1;32mD:\\MyTools\\Anaconda3\\lib\\site-packages\\moviepy\\Clip.py:136\u001b[0m, in \u001b[0;36mClip.fl.<locals>.<lambda>\u001b[1;34m(t)\u001b[0m\n\u001b[0;32m    133\u001b[0m     apply_to \u001b[38;5;241m=\u001b[39m []\n\u001b[0;32m    135\u001b[0m \u001b[38;5;66;03m#mf = copy(self.make_frame)\u001b[39;00m\n\u001b[1;32m--> 136\u001b[0m newclip \u001b[38;5;241m=\u001b[39m \u001b[38;5;28mself\u001b[39m\u001b[38;5;241m.\u001b[39mset_make_frame(\u001b[38;5;28;01mlambda\u001b[39;00m t: \u001b[43mfun\u001b[49m\u001b[43m(\u001b[49m\u001b[38;5;28;43mself\u001b[39;49m\u001b[38;5;241;43m.\u001b[39;49m\u001b[43mget_frame\u001b[49m\u001b[43m,\u001b[49m\u001b[43m \u001b[49m\u001b[43mt\u001b[49m\u001b[43m)\u001b[49m)\n\u001b[0;32m    138\u001b[0m \u001b[38;5;28;01mif\u001b[39;00m \u001b[38;5;129;01mnot\u001b[39;00m keep_duration:\n\u001b[0;32m    139\u001b[0m     newclip\u001b[38;5;241m.\u001b[39mduration \u001b[38;5;241m=\u001b[39m \u001b[38;5;28;01mNone\u001b[39;00m\n",
      "File \u001b[1;32mD:\\MyTools\\Anaconda3\\lib\\site-packages\\moviepy\\video\\VideoClip.py:490\u001b[0m, in \u001b[0;36mVideoClip.fl_image.<locals>.<lambda>\u001b[1;34m(gf, t)\u001b[0m\n\u001b[0;32m    485\u001b[0m \u001b[38;5;124;03m\"\"\"\u001b[39;00m\n\u001b[0;32m    486\u001b[0m \u001b[38;5;124;03mModifies the images of a clip by replacing the frame\u001b[39;00m\n\u001b[0;32m    487\u001b[0m \u001b[38;5;124;03m`get_frame(t)` by another frame,  `image_func(get_frame(t))`\u001b[39;00m\n\u001b[0;32m    488\u001b[0m \u001b[38;5;124;03m\"\"\"\u001b[39;00m\n\u001b[0;32m    489\u001b[0m apply_to \u001b[38;5;241m=\u001b[39m apply_to \u001b[38;5;129;01mor\u001b[39;00m []\n\u001b[1;32m--> 490\u001b[0m \u001b[38;5;28;01mreturn\u001b[39;00m \u001b[38;5;28mself\u001b[39m\u001b[38;5;241m.\u001b[39mfl(\u001b[38;5;28;01mlambda\u001b[39;00m gf, t: \u001b[43mimage_func\u001b[49m\u001b[43m(\u001b[49m\u001b[43mgf\u001b[49m\u001b[43m(\u001b[49m\u001b[43mt\u001b[49m\u001b[43m)\u001b[49m\u001b[43m)\u001b[49m, apply_to)\n",
      "File \u001b[1;32mD:\\MyTools\\Anaconda3\\lib\\site-packages\\moviepy\\video\\fx\\resize.py:150\u001b[0m, in \u001b[0;36mresize.<locals>.<lambda>\u001b[1;34m(pic)\u001b[0m\n\u001b[0;32m    147\u001b[0m     fl \u001b[38;5;241m=\u001b[39m \u001b[38;5;28;01mlambda\u001b[39;00m pic: \u001b[38;5;241m1.0\u001b[39m\u001b[38;5;241m*\u001b[39mresizer((\u001b[38;5;241m255\u001b[39m \u001b[38;5;241m*\u001b[39m pic)\u001b[38;5;241m.\u001b[39mastype(\u001b[38;5;124m'\u001b[39m\u001b[38;5;124muint8\u001b[39m\u001b[38;5;124m'\u001b[39m), newsize)\u001b[38;5;241m/\u001b[39m\u001b[38;5;241m255.0\u001b[39m\n\u001b[0;32m    149\u001b[0m \u001b[38;5;28;01melse\u001b[39;00m:\n\u001b[1;32m--> 150\u001b[0m     fl \u001b[38;5;241m=\u001b[39m \u001b[38;5;28;01mlambda\u001b[39;00m pic: \u001b[43mresizer\u001b[49m\u001b[43m(\u001b[49m\u001b[43mpic\u001b[49m\u001b[38;5;241;43m.\u001b[39;49m\u001b[43mastype\u001b[49m\u001b[43m(\u001b[49m\u001b[38;5;124;43m'\u001b[39;49m\u001b[38;5;124;43muint8\u001b[39;49m\u001b[38;5;124;43m'\u001b[39;49m\u001b[43m)\u001b[49m\u001b[43m,\u001b[49m\u001b[43m \u001b[49m\u001b[43mnewsize\u001b[49m\u001b[43m)\u001b[49m\n\u001b[0;32m    152\u001b[0m newclip \u001b[38;5;241m=\u001b[39m clip\u001b[38;5;241m.\u001b[39mfl_image(fl)\n\u001b[0;32m    154\u001b[0m \u001b[38;5;28;01mif\u001b[39;00m apply_to_mask \u001b[38;5;129;01mand\u001b[39;00m clip\u001b[38;5;241m.\u001b[39mmask \u001b[38;5;129;01mis\u001b[39;00m \u001b[38;5;129;01mnot\u001b[39;00m \u001b[38;5;28;01mNone\u001b[39;00m:\n",
      "File \u001b[1;32mD:\\MyTools\\Anaconda3\\lib\\site-packages\\moviepy\\video\\fx\\resize.py:16\u001b[0m, in \u001b[0;36mresizer\u001b[1;34m(pic, newsize)\u001b[0m\n\u001b[0;32m     13\u001b[0m \u001b[38;5;28;01melse\u001b[39;00m:\n\u001b[0;32m     14\u001b[0m     \u001b[38;5;66;03m# For dowsizing use area to prevent aliasing\u001b[39;00m\n\u001b[0;32m     15\u001b[0m     interpolation \u001b[38;5;241m=\u001b[39m cv2\u001b[38;5;241m.\u001b[39mINTER_AREA\n\u001b[1;32m---> 16\u001b[0m \u001b[38;5;28;01mreturn\u001b[39;00m cv2\u001b[38;5;241m.\u001b[39mresize(\u001b[38;5;241;43m+\u001b[39;49m\u001b[43mpic\u001b[49m\u001b[38;5;241;43m.\u001b[39;49m\u001b[43mastype\u001b[49m\u001b[43m(\u001b[49m\u001b[38;5;124;43m'\u001b[39;49m\u001b[38;5;124;43muint8\u001b[39;49m\u001b[38;5;124;43m'\u001b[39;49m\u001b[43m)\u001b[49m, (lx, ly),\n\u001b[0;32m     17\u001b[0m                   interpolation\u001b[38;5;241m=\u001b[39minterpolation)\n",
      "\u001b[1;31mKeyboardInterrupt\u001b[0m: "
     ]
    }
   ],
   "source": [
    "# 提取需要的数据\n",
    "data = df.sample(5)\n",
    "data_list = data.to_dict(\"records\")\n",
    "data_list\n",
    "\n",
    "resize_num = (1920/3,1080/2)\n",
    "\n",
    "# 读取base视频\n",
    "video_base = VideoFileClip('source_video/{}'.format(base_name))\n",
    "video_base = video_base.resize(resize_num)\n",
    "# 获取base视频的时长\n",
    "video_base_duration = video_base.duration\n",
    "\n",
    "\n",
    "# 读取随机生成的5个视频\n",
    "video1 = VideoFileClip('source_video/{}'.format(data_list[0][\"file_name\"]))\n",
    "video1_duration = video_base_duration if video1.duration > video_base_duration else video1.duration\n",
    "subclip_1 = video1.subclip(0, video1_duration)\n",
    "subclip_1 = subclip_1.set_start(data_list[0][\"start\"])\n",
    "subclip_1 = subclip_1.resize(resize_num)\n",
    "\n",
    "video2 = VideoFileClip('source_video/{}'.format(data_list[1][\"file_name\"]))\n",
    "video2_duration = video_base_duration if video2.duration > video_base_duration else video2.duration\n",
    "subclip_2 = video2.subclip(0, video2_duration)\n",
    "subclip_2 = subclip_2.set_start(data_list[1][\"start\"])\n",
    "subclip_2 = subclip_2.resize(resize_num)\n",
    "\n",
    "video3 = VideoFileClip('source_video/{}'.format(data_list[2][\"file_name\"]))\n",
    "video3_duration = video_base_duration if video3.duration > video_base_duration else video3.duration\n",
    "subclip_3 = video3.subclip(0, video3_duration)\n",
    "subclip_3 = subclip_3.set_start(data_list[2][\"start\"])\n",
    "subclip_3 = subclip_3.resize(resize_num)\n",
    "\n",
    "video4 = VideoFileClip('source_video/{}'.format(data_list[3][\"file_name\"]))\n",
    "video4_duration = video_base_duration if video4.duration > video_base_duration else video4.duration\n",
    "subclip_4 = video4.subclip(0, video4_duration)\n",
    "subclip_4 = subclip_4.set_start(data_list[3][\"start\"])\n",
    "subclip_4 = subclip_4.resize(resize_num)\n",
    "\n",
    "video5 = VideoFileClip('source_video/{}'.format(data_list[4][\"file_name\"]))\n",
    "video5_duration = video_base_duration if video5.duration > video_base_duration else video5.duration\n",
    "subclip_5 = video5.subclip(0, video5_duration)\n",
    "subclip_5 = subclip_5.set_start(data_list[4][\"start\"])\n",
    "subclip_5 = subclip_5.resize(resize_num)\n",
    "\n",
    "final_clip = clips_array([[video_base, subclip_1,subclip_2],\n",
    "                          [subclip_3, subclip_4,subclip_5]])\n",
    "\n",
    "final_clip.write_videofile(\"result_video/stack_6.mp4\")"
   ]
  },
  {
   "cell_type": "markdown",
   "metadata": {},
   "source": [
    "# （横）9画面同框版"
   ]
  },
  {
   "cell_type": "code",
   "execution_count": 7,
   "metadata": {
    "code_folding": [
     0
    ]
   },
   "outputs": [
    {
     "name": "stderr",
     "output_type": "stream",
     "text": [
      "chunk:   1%|▋                                                             | 53/4779 [00:00<00:08, 528.48it/s, now=None]"
     ]
    },
    {
     "name": "stdout",
     "output_type": "stream",
     "text": [
      "Moviepy - Building video result_video/my_stack_9.mp4.\n",
      "MoviePy - Writing audio in my_stack_9TEMP_MPY_wvf_snd.mp3\n"
     ]
    },
    {
     "name": "stderr",
     "output_type": "stream",
     "text": [
      "t:   0%|                                                                    | 4/6495 [00:00<03:12, 33.70it/s, now=None]"
     ]
    },
    {
     "name": "stdout",
     "output_type": "stream",
     "text": [
      "MoviePy - Done.\n",
      "Moviepy - Writing video result_video/my_stack_9.mp4\n",
      "\n"
     ]
    },
    {
     "name": "stderr",
     "output_type": "stream",
     "text": [
      "                                                                                                                       \r"
     ]
    },
    {
     "name": "stdout",
     "output_type": "stream",
     "text": [
      "Moviepy - Done !\n",
      "Moviepy - video ready result_video/my_stack_9.mp4\n"
     ]
    }
   ],
   "source": [
    "# 提取需要的数据\n",
    "data = df.sample(6)\n",
    "data_list = data.to_dict(\"records\")\n",
    "data_list\n",
    "\n",
    "resize_num = (1920/3,1080/3)\n",
    "\n",
    "# 读取base视频\n",
    "video_base = VideoFileClip('source_video/{}'.format(base_name))\n",
    "video_base = video_base.resize(resize_num)\n",
    "# 获取base视频的时长\n",
    "video_base_duration = video_base.duration\n",
    "\n",
    "\n",
    "# 读取随机生成的5个视频\n",
    "video1 = VideoFileClip('source_video/{}'.format(data_list[0][\"file_name\"]))\n",
    "video1_duration = video_base_duration if video1.duration > video_base_duration else video1.duration\n",
    "subclip_1 = video1.subclip(0, video1_duration)\n",
    "subclip_1 = subclip_1.set_start(data_list[0][\"start\"])\n",
    "subclip_1 = subclip_1.resize(resize_num)\n",
    "\n",
    "video2 = VideoFileClip('source_video/{}'.format(data_list[1][\"file_name\"]))\n",
    "video2_duration = video_base_duration if video2.duration > video_base_duration else video2.duration\n",
    "subclip_2 = video2.subclip(0, video2_duration)\n",
    "subclip_2 = subclip_2.set_start(data_list[1][\"start\"])\n",
    "subclip_2 = subclip_2.resize(resize_num)\n",
    "\n",
    "video3 = VideoFileClip('source_video/{}'.format(data_list[2][\"file_name\"]))\n",
    "video3_duration = video_base_duration if video3.duration > video_base_duration else video3.duration\n",
    "subclip_3 = video3.subclip(0, video3_duration)\n",
    "subclip_3 = subclip_3.set_start(data_list[2][\"start\"])\n",
    "subclip_3 = subclip_3.resize(resize_num)\n",
    "\n",
    "video4 = VideoFileClip('source_video/{}'.format(data_list[3][\"file_name\"]))\n",
    "video4_duration = video_base_duration if video4.duration > video_base_duration else video4.duration\n",
    "subclip_4 = video4.subclip(0, video4_duration)\n",
    "subclip_4 = subclip_4.set_start(data_list[3][\"start\"])\n",
    "subclip_4 = subclip_4.resize(resize_num)\n",
    "\n",
    "video5 = VideoFileClip('source_video/{}'.format(data_list[4][\"file_name\"]))\n",
    "video5_duration = video_base_duration if video5.duration > video_base_duration else video5.duration\n",
    "subclip_5 = video5.subclip(0, video5_duration)\n",
    "subclip_5 = subclip_5.set_start(data_list[4][\"start\"])\n",
    "subclip_5 = subclip_5.resize(resize_num)\n",
    "\n",
    "# video6 = VideoFileClip('source_video/{}'.format(data_list[5][\"file_name\"]))\n",
    "# video6_duration = video_base_duration if video6.duration > video_base_duration else video6.duration\n",
    "# subclip_6 = video6.subclip(0, video6_duration)\n",
    "# subclip_6 = subclip_6.set_start(data_list[5][\"start\"])\n",
    "# subclip_6 = subclip_6.resize(resize_num)\n",
    "\n",
    "# video7 = VideoFileClip('source_video/{}'.format(data_list[6][\"file_name\"]))\n",
    "# video7_duration = video_base_duration if video7.duration > video_base_duration else video7.duration\n",
    "# subclip_7 = video7.subclip(0, video7_duration)\n",
    "# subclip_7 = subclip_7.set_start(data_list[6][\"start\"])\n",
    "# subclip_7 = subclip_7.resize(resize_num)\n",
    "\n",
    "# video8 = VideoFileClip('source_video/{}'.format(data_list[7][\"file_name\"]))\n",
    "# video8_duration = video_base_duration if video8.duration > video_base_duration else video8.duration\n",
    "# subclip_8 = video8.subclip(0, video8_duration)\n",
    "# subclip_8 = subclip_8.set_start(data_list[7][\"start\"])\n",
    "# subclip_8 = subclip_8.resize(resize_num)\n",
    "\n",
    "final_clip = clips_array([[video_base, subclip_4,subclip_5],\n",
    "                          [subclip_1, subclip_2,subclip_3],\n",
    "                          [subclip_5, subclip_4,video_base],])\n",
    "\n",
    "final_clip.write_videofile(\"result_video/stack_9.mp4\")"
   ]
  },
  {
   "cell_type": "markdown",
   "metadata": {},
   "source": [
    "# 横版画面随机混剪"
   ]
  },
  {
   "cell_type": "code",
   "execution_count": 3,
   "metadata": {},
   "outputs": [],
   "source": [
    "# 读取base视频\n",
    "video_base = VideoFileClip('source_video/{}'.format(base_name))\n",
    "video_base = video_base.resize(resize_num)\n",
    "# 获取base视频的时长\n",
    "video_base_duration = video_base.duration\n",
    "# 设置视频最大时间 \n",
    "stop_time = video_base_duration\n",
    "\n",
    "\n",
    "# 循环创建变量、裁剪、重置分辨率\n",
    "num_list = list(range(len(df)))\n",
    "video_list = df.to_dict('records')\n",
    "\n",
    "\n",
    "# 读取base视频\n",
    "video_base = VideoFileClip('source_video/{}'.format(base_name))\n",
    "video_base = video_base.resize(resize_num)\n",
    "# 获取base视频的时长\n",
    "video_base_duration = video_base.duration\n",
    "\n",
    "# 随机生成每次切割的时间点\n",
    "time_ = 0\n",
    "start_time = 0\n",
    "\n",
    "time_list = [0]\n",
    "# 判断时间永远小于要做的视频\n",
    "while time_ <= stop_time:\n",
    "    # 视频随机切割点\n",
    "    # 设置一个随机秒数的因子变量\n",
    "    cut_time = random.randint(5,10)\n",
    "    start_time = start_time + cut_time\n",
    "    time_list.append(start_time)\n",
    "    # 最终计算变量\n",
    "    time_ = time_ + cut_time\n",
    "    \n",
    "# 剔除超出的部分时间,多处理一个防止放生意外\n",
    "time_list = time_list[:-2]\n",
    "\n",
    "# 时间两两组合成需要拆的部分视频\n",
    "time_list = [time_list[i:i+2] for i in range(0, len(time_list), 1)]\n",
    "\n",
    "# 为最后一个元素添加 结束时间 stop_time\n",
    "time_list[-1] = [time_list[-1][0],stop_time]\n",
    "# 生成需要开始替换的视频片段时间列表\n",
    "time_list_cut = time_list[1:-1]\n",
    "\n",
    "# 读取base视频\n",
    "video_base = VideoFileClip('source_video/{}'.format(base_name))\n",
    "video_base = video_base.resize(resize_num)\n",
    "# 获取base视频的时长\n",
    "video_base_duration = video_base.duration\n",
    "# 设置视频最大时间 \n",
    "stop_time = video_base_duration\n",
    "\n",
    "\n",
    "# 循环创建变量、裁剪、重置分辨率\n",
    "num_list = list(range(len(df)))\n",
    "video_dict = df.to_dict('records')\n",
    "video_dict.append({'file_name': '{}'.format(base_name), 'start': 0})\n",
    "\n",
    "# 构建变量名称，调用使用 locals()[xxxx]方法\n",
    "video_list = []\n",
    "end_list = []\n",
    "for num,data in zip(num_list,video_dict):\n",
    "    locals()[\"video_temp_\"+str(num)] = VideoFileClip(\"source_video/\"+ data[\"file_name\"])\n",
    "    # 统一分辨率\n",
    "    locals()[\"video_temp_\"+str(num)] = locals()[\"video_temp_\"+str(num)].resize(resize_num)\n",
    "    # 计算每个视频的最大时间\n",
    "    end_time =  video_base_duration if locals()[\"video_temp_\"+str(num)].duration  > video_base_duration else locals()[\"video_temp_\"+str(num)].duration \n",
    "#     print(end_time)\n",
    "    # 对视频的结束时间进行计算统一≤base视频时间\n",
    "    locals()[\"video_temp_\"+str(num)] = locals()[\"video_temp_\"+str(num)].subclip(0, end_time)\n",
    "    # 设置每个同步视频的开始时间\n",
    "#     locals()[\"video_temp_\"+str(num)] = locals()[\"video_temp_\"+str(num)].set_start(video_dict[num][\"start\"])\n",
    "#        # 视频按照裁剪时间重新定义变量\n",
    "#     locals()[\"video_temp_\"+str(num)] = locals()[\"video_temp_\"+str(num)].subclip(start_time,end_time)\n",
    "    video_list.append((video_dict[num],\"video_temp_\"+str(num)))\n",
    "    end_list.append(locals()[\"video_temp_\"+str(num)].duration)"
   ]
  },
  {
   "cell_type": "code",
   "execution_count": null,
   "metadata": {},
   "outputs": [],
   "source": []
  },
  {
   "cell_type": "code",
   "execution_count": 72,
   "metadata": {},
   "outputs": [],
   "source": [
    "# 读取音频文件\n",
    "# audio = AudioFileClip(\"wav_plot/high.wav\")\n",
    "# 获取音乐节拍\n",
    "x, sr = librosa.load('source_video/{}'.format(base_name))\n",
    "# 构建节拍fram\n",
    "onset_frames = librosa.onset.onset_detect(x, sr=sr)\n",
    "# 转换音乐节拍切换成秒数\n",
    "onset_times = librosa.frames_to_time(onset_frames)\n",
    "# 将秒数时间保留两位小暑\n",
    "onset_times = [round(i,2) for i in onset_times]\n",
    "# 防止音乐节奏太快降低转换频率\n",
    "for n in range(30):\n",
    "    try:\n",
    "        for i in range(len(onset_times)):\n",
    "            if onset_times[i+1] - onset_times[i] <= 1:\n",
    "                onset_times.remove(onset_times[i])\n",
    "    except:\n",
    "        pass\n",
    "# 取切换素材第一个点为起始点\n",
    "start_time = min(df[\"start\"])+1\n",
    "# 去切换素材结束的时间最小为终点\n",
    "end_time = min(end_list)\n",
    "# 提取 onset_times 范围内的节点作为切换节点\n",
    "onset_times_ = [x for x in onset_times if start_time < x < end_time]\n",
    "# 列表数据首位追加整个视频的开始和终点\n",
    "onset_times_.append(video_base_duration)\n",
    "onset_times_.append(0)\n",
    "onset_times_.sort()\n",
    "# 时间两两组合成需要拆的部分视频\n",
    "time_list = [onset_times_[i:i+2] for i in range(0, len(onset_times_), 1)]\n",
    "# 剔除无用末尾元素\n",
    "if time_list[-1][0] == time_list[-2][1]:\n",
    "    time_list.pop()\n",
    "\n",
    "# 删除无素材的末尾元素以防出错\n",
    "for i in time_list:\n",
    "    if i[1] >= end_time:\n",
    "        time_list.pop()\n",
    "time_list_cut = time_list"
   ]
  },
  {
   "cell_type": "code",
   "execution_count": 74,
   "metadata": {
    "scrolled": true
   },
   "outputs": [
    {
     "name": "stderr",
     "output_type": "stream",
     "text": [
      "chunk:   1%|▋                                                             | 61/5043 [00:00<00:08, 606.26it/s, now=None]"
     ]
    },
    {
     "name": "stdout",
     "output_type": "stream",
     "text": [
      "Moviepy - Building video result_video/music_point_mixed.mp4.\n",
      "MoviePy - Writing audio in music_point_mixedTEMP_MPY_wvf_snd.mp3\n"
     ]
    },
    {
     "name": "stderr",
     "output_type": "stream",
     "text": [
      "t:   0%|                                                                    | 3/6861 [00:00<05:03, 22.62it/s, now=None]"
     ]
    },
    {
     "name": "stdout",
     "output_type": "stream",
     "text": [
      "MoviePy - Done.\n",
      "Moviepy - Writing video result_video/music_point_mixed.mp4\n",
      "\n"
     ]
    },
    {
     "name": "stderr",
     "output_type": "stream",
     "text": [
      "t:  50%|████████████████████████████████▍                                | 3418/6861 [05:19<05:06, 11.23it/s, now=None]"
     ]
    },
    {
     "ename": "KeyboardInterrupt",
     "evalue": "",
     "output_type": "error",
     "traceback": [
      "\u001b[1;31m---------------------------------------------------------------------------\u001b[0m",
      "\u001b[1;31mKeyboardInterrupt\u001b[0m                         Traceback (most recent call last)",
      "File \u001b[1;32mD:\\MyTools\\Anaconda3\\lib\\site-packages\\moviepy\\video\\io\\ffmpeg_writer.py:220\u001b[0m, in \u001b[0;36mffmpeg_write_video\u001b[1;34m(clip, filename, fps, codec, bitrate, preset, withmask, write_logfile, audiofile, verbose, threads, ffmpeg_params, logger)\u001b[0m\n\u001b[0;32m    218\u001b[0m nframes \u001b[38;5;241m=\u001b[39m \u001b[38;5;28mint\u001b[39m(clip\u001b[38;5;241m.\u001b[39mduration\u001b[38;5;241m*\u001b[39mfps)\n\u001b[1;32m--> 220\u001b[0m \u001b[38;5;28;01mfor\u001b[39;00m t,frame \u001b[38;5;129;01min\u001b[39;00m clip\u001b[38;5;241m.\u001b[39miter_frames(logger\u001b[38;5;241m=\u001b[39mlogger, with_times\u001b[38;5;241m=\u001b[39m\u001b[38;5;28;01mTrue\u001b[39;00m,\n\u001b[0;32m    221\u001b[0m                                 fps\u001b[38;5;241m=\u001b[39mfps, dtype\u001b[38;5;241m=\u001b[39m\u001b[38;5;124m\"\u001b[39m\u001b[38;5;124muint8\u001b[39m\u001b[38;5;124m\"\u001b[39m):\n\u001b[0;32m    222\u001b[0m     \u001b[38;5;28;01mif\u001b[39;00m withmask:\n",
      "File \u001b[1;32mD:\\MyTools\\Anaconda3\\lib\\site-packages\\moviepy\\Clip.py:472\u001b[0m, in \u001b[0;36mClip.iter_frames\u001b[1;34m(self, fps, with_times, logger, dtype)\u001b[0m\n\u001b[0;32m    471\u001b[0m \u001b[38;5;28;01mfor\u001b[39;00m t \u001b[38;5;129;01min\u001b[39;00m logger\u001b[38;5;241m.\u001b[39miter_bar(t\u001b[38;5;241m=\u001b[39mnp\u001b[38;5;241m.\u001b[39marange(\u001b[38;5;241m0\u001b[39m, \u001b[38;5;28mself\u001b[39m\u001b[38;5;241m.\u001b[39mduration, \u001b[38;5;241m1.0\u001b[39m\u001b[38;5;241m/\u001b[39mfps)):\n\u001b[1;32m--> 472\u001b[0m     frame \u001b[38;5;241m=\u001b[39m \u001b[38;5;28;43mself\u001b[39;49m\u001b[38;5;241;43m.\u001b[39;49m\u001b[43mget_frame\u001b[49m\u001b[43m(\u001b[49m\u001b[43mt\u001b[49m\u001b[43m)\u001b[49m\n\u001b[0;32m    473\u001b[0m     \u001b[38;5;28;01mif\u001b[39;00m (dtype \u001b[38;5;129;01mis\u001b[39;00m \u001b[38;5;129;01mnot\u001b[39;00m \u001b[38;5;28;01mNone\u001b[39;00m) \u001b[38;5;129;01mand\u001b[39;00m (frame\u001b[38;5;241m.\u001b[39mdtype \u001b[38;5;241m!=\u001b[39m dtype):\n",
      "File \u001b[1;32m<decorator-gen-28>:2\u001b[0m, in \u001b[0;36mget_frame\u001b[1;34m(self, t)\u001b[0m\n",
      "File \u001b[1;32mD:\\MyTools\\Anaconda3\\lib\\site-packages\\moviepy\\decorators.py:89\u001b[0m, in \u001b[0;36mpreprocess_args.<locals>.wrapper\u001b[1;34m(f, *a, **kw)\u001b[0m\n\u001b[0;32m     87\u001b[0m new_kw \u001b[38;5;241m=\u001b[39m {k: fun(v) \u001b[38;5;28;01mif\u001b[39;00m k \u001b[38;5;129;01min\u001b[39;00m varnames \u001b[38;5;28;01melse\u001b[39;00m v\n\u001b[0;32m     88\u001b[0m          \u001b[38;5;28;01mfor\u001b[39;00m (k,v) \u001b[38;5;129;01min\u001b[39;00m kw\u001b[38;5;241m.\u001b[39mitems()}\n\u001b[1;32m---> 89\u001b[0m \u001b[38;5;28;01mreturn\u001b[39;00m f(\u001b[38;5;241m*\u001b[39mnew_a, \u001b[38;5;241m*\u001b[39m\u001b[38;5;241m*\u001b[39mnew_kw)\n",
      "File \u001b[1;32mD:\\MyTools\\Anaconda3\\lib\\site-packages\\moviepy\\Clip.py:93\u001b[0m, in \u001b[0;36mClip.get_frame\u001b[1;34m(self, t)\u001b[0m\n\u001b[0;32m     92\u001b[0m \u001b[38;5;28;01melse\u001b[39;00m:\n\u001b[1;32m---> 93\u001b[0m     \u001b[38;5;28;01mreturn\u001b[39;00m \u001b[38;5;28;43mself\u001b[39;49m\u001b[38;5;241;43m.\u001b[39;49m\u001b[43mmake_frame\u001b[49m\u001b[43m(\u001b[49m\u001b[43mt\u001b[49m\u001b[43m)\u001b[49m\n",
      "File \u001b[1;32mD:\\MyTools\\Anaconda3\\lib\\site-packages\\moviepy\\video\\compositing\\CompositeVideoClip.py:111\u001b[0m, in \u001b[0;36mCompositeVideoClip.__init__.<locals>.make_frame\u001b[1;34m(t)\u001b[0m\n\u001b[0;32m    110\u001b[0m \u001b[38;5;28;01mfor\u001b[39;00m c \u001b[38;5;129;01min\u001b[39;00m \u001b[38;5;28mself\u001b[39m\u001b[38;5;241m.\u001b[39mplaying_clips(t):\n\u001b[1;32m--> 111\u001b[0m         f \u001b[38;5;241m=\u001b[39m \u001b[43mc\u001b[49m\u001b[38;5;241;43m.\u001b[39;49m\u001b[43mblit_on\u001b[49m\u001b[43m(\u001b[49m\u001b[43mf\u001b[49m\u001b[43m,\u001b[49m\u001b[43m \u001b[49m\u001b[43mt\u001b[49m\u001b[43m)\u001b[49m\n\u001b[0;32m    112\u001b[0m \u001b[38;5;28;01mreturn\u001b[39;00m f\n",
      "File \u001b[1;32mD:\\MyTools\\Anaconda3\\lib\\site-packages\\moviepy\\video\\VideoClip.py:564\u001b[0m, in \u001b[0;36mVideoClip.blit_on\u001b[1;34m(self, picture, t)\u001b[0m\n\u001b[0;32m    562\u001b[0m pos \u001b[38;5;241m=\u001b[39m \u001b[38;5;28mmap\u001b[39m(\u001b[38;5;28mint\u001b[39m, pos)\n\u001b[1;32m--> 564\u001b[0m \u001b[38;5;28;01mreturn\u001b[39;00m \u001b[43mblit\u001b[49m\u001b[43m(\u001b[49m\u001b[43mimg\u001b[49m\u001b[43m,\u001b[49m\u001b[43m \u001b[49m\u001b[43mpicture\u001b[49m\u001b[43m,\u001b[49m\u001b[43m \u001b[49m\u001b[43mpos\u001b[49m\u001b[43m,\u001b[49m\u001b[43m \u001b[49m\u001b[43mmask\u001b[49m\u001b[38;5;241;43m=\u001b[39;49m\u001b[43mmask\u001b[49m\u001b[43m,\u001b[49m\u001b[43m \u001b[49m\u001b[43mismask\u001b[49m\u001b[38;5;241;43m=\u001b[39;49m\u001b[38;5;28;43mself\u001b[39;49m\u001b[38;5;241;43m.\u001b[39;49m\u001b[43mismask\u001b[49m\u001b[43m)\u001b[49m\n",
      "File \u001b[1;32mD:\\MyTools\\Anaconda3\\lib\\site-packages\\moviepy\\video\\tools\\drawing.py:38\u001b[0m, in \u001b[0;36mblit\u001b[1;34m(im1, im2, pos, mask, ismask)\u001b[0m\n\u001b[0;32m     36\u001b[0m blitted \u001b[38;5;241m=\u001b[39m im1[y1:y2, x1:x2]\n\u001b[1;32m---> 38\u001b[0m new_im2 \u001b[38;5;241m=\u001b[39m \u001b[38;5;241;43m+\u001b[39;49m\u001b[43mim2\u001b[49m\n\u001b[0;32m     40\u001b[0m \u001b[38;5;28;01mif\u001b[39;00m mask \u001b[38;5;129;01mis\u001b[39;00m \u001b[38;5;28;01mNone\u001b[39;00m:\n",
      "\u001b[1;31mKeyboardInterrupt\u001b[0m: ",
      "\nDuring handling of the above exception, another exception occurred:\n",
      "\u001b[1;31mKeyboardInterrupt\u001b[0m                         Traceback (most recent call last)",
      "Input \u001b[1;32mIn [74]\u001b[0m, in \u001b[0;36m<cell line: 24>\u001b[1;34m()\u001b[0m\n\u001b[0;32m     22\u001b[0m cvc \u001b[38;5;241m=\u001b[39m cvc\u001b[38;5;241m.\u001b[39mset_audio(\u001b[38;5;28;01mNone\u001b[39;00m)\n\u001b[0;32m     23\u001b[0m cvc \u001b[38;5;241m=\u001b[39m cvc\u001b[38;5;241m.\u001b[39mset_audio(video_base\u001b[38;5;241m.\u001b[39maudio)\n\u001b[1;32m---> 24\u001b[0m \u001b[43mcvc\u001b[49m\u001b[38;5;241;43m.\u001b[39;49m\u001b[43mwrite_videofile\u001b[49m\u001b[43m(\u001b[49m\u001b[38;5;124;43m\"\u001b[39;49m\u001b[38;5;124;43mresult_video/music_point_mixed.mp4\u001b[39;49m\u001b[38;5;124;43m\"\u001b[39;49m\u001b[43m,\u001b[49m\u001b[43mfps\u001b[49m\u001b[38;5;241;43m=\u001b[39;49m\u001b[38;5;241;43m30\u001b[39;49m\u001b[43m)\u001b[49m\n",
      "File \u001b[1;32m<decorator-gen-72>:2\u001b[0m, in \u001b[0;36mwrite_videofile\u001b[1;34m(self, filename, fps, codec, bitrate, audio, audio_fps, preset, audio_nbytes, audio_codec, audio_bitrate, audio_bufsize, temp_audiofile, rewrite_audio, remove_temp, write_logfile, verbose, threads, ffmpeg_params, logger)\u001b[0m\n",
      "File \u001b[1;32mD:\\MyTools\\Anaconda3\\lib\\site-packages\\moviepy\\decorators.py:54\u001b[0m, in \u001b[0;36mrequires_duration\u001b[1;34m(f, clip, *a, **k)\u001b[0m\n\u001b[0;32m     52\u001b[0m     \u001b[38;5;28;01mraise\u001b[39;00m \u001b[38;5;167;01mValueError\u001b[39;00m(\u001b[38;5;124m\"\u001b[39m\u001b[38;5;124mAttribute \u001b[39m\u001b[38;5;124m'\u001b[39m\u001b[38;5;124mduration\u001b[39m\u001b[38;5;124m'\u001b[39m\u001b[38;5;124m not set\u001b[39m\u001b[38;5;124m\"\u001b[39m)\n\u001b[0;32m     53\u001b[0m \u001b[38;5;28;01melse\u001b[39;00m:\n\u001b[1;32m---> 54\u001b[0m     \u001b[38;5;28;01mreturn\u001b[39;00m f(clip, \u001b[38;5;241m*\u001b[39ma, \u001b[38;5;241m*\u001b[39m\u001b[38;5;241m*\u001b[39mk)\n",
      "File \u001b[1;32m<decorator-gen-71>:2\u001b[0m, in \u001b[0;36mwrite_videofile\u001b[1;34m(self, filename, fps, codec, bitrate, audio, audio_fps, preset, audio_nbytes, audio_codec, audio_bitrate, audio_bufsize, temp_audiofile, rewrite_audio, remove_temp, write_logfile, verbose, threads, ffmpeg_params, logger)\u001b[0m\n",
      "File \u001b[1;32mD:\\MyTools\\Anaconda3\\lib\\site-packages\\moviepy\\decorators.py:135\u001b[0m, in \u001b[0;36muse_clip_fps_by_default\u001b[1;34m(f, clip, *a, **k)\u001b[0m\n\u001b[0;32m    130\u001b[0m new_a \u001b[38;5;241m=\u001b[39m [fun(arg) \u001b[38;5;28;01mif\u001b[39;00m (name\u001b[38;5;241m==\u001b[39m\u001b[38;5;124m'\u001b[39m\u001b[38;5;124mfps\u001b[39m\u001b[38;5;124m'\u001b[39m) \u001b[38;5;28;01melse\u001b[39;00m arg\n\u001b[0;32m    131\u001b[0m          \u001b[38;5;28;01mfor\u001b[39;00m (arg, name) \u001b[38;5;129;01min\u001b[39;00m \u001b[38;5;28mzip\u001b[39m(a, names)]\n\u001b[0;32m    132\u001b[0m new_kw \u001b[38;5;241m=\u001b[39m {k: fun(v) \u001b[38;5;28;01mif\u001b[39;00m k\u001b[38;5;241m==\u001b[39m\u001b[38;5;124m'\u001b[39m\u001b[38;5;124mfps\u001b[39m\u001b[38;5;124m'\u001b[39m \u001b[38;5;28;01melse\u001b[39;00m v\n\u001b[0;32m    133\u001b[0m          \u001b[38;5;28;01mfor\u001b[39;00m (k,v) \u001b[38;5;129;01min\u001b[39;00m k\u001b[38;5;241m.\u001b[39mitems()}\n\u001b[1;32m--> 135\u001b[0m \u001b[38;5;28;01mreturn\u001b[39;00m f(clip, \u001b[38;5;241m*\u001b[39mnew_a, \u001b[38;5;241m*\u001b[39m\u001b[38;5;241m*\u001b[39mnew_kw)\n",
      "File \u001b[1;32m<decorator-gen-70>:2\u001b[0m, in \u001b[0;36mwrite_videofile\u001b[1;34m(self, filename, fps, codec, bitrate, audio, audio_fps, preset, audio_nbytes, audio_codec, audio_bitrate, audio_bufsize, temp_audiofile, rewrite_audio, remove_temp, write_logfile, verbose, threads, ffmpeg_params, logger)\u001b[0m\n",
      "File \u001b[1;32mD:\\MyTools\\Anaconda3\\lib\\site-packages\\moviepy\\decorators.py:22\u001b[0m, in \u001b[0;36mconvert_masks_to_RGB\u001b[1;34m(f, clip, *a, **k)\u001b[0m\n\u001b[0;32m     20\u001b[0m \u001b[38;5;28;01mif\u001b[39;00m clip\u001b[38;5;241m.\u001b[39mismask:\n\u001b[0;32m     21\u001b[0m     clip \u001b[38;5;241m=\u001b[39m clip\u001b[38;5;241m.\u001b[39mto_RGB()\n\u001b[1;32m---> 22\u001b[0m \u001b[38;5;28;01mreturn\u001b[39;00m f(clip, \u001b[38;5;241m*\u001b[39ma, \u001b[38;5;241m*\u001b[39m\u001b[38;5;241m*\u001b[39mk)\n",
      "File \u001b[1;32mD:\\MyTools\\Anaconda3\\lib\\site-packages\\moviepy\\video\\VideoClip.py:300\u001b[0m, in \u001b[0;36mVideoClip.write_videofile\u001b[1;34m(self, filename, fps, codec, bitrate, audio, audio_fps, preset, audio_nbytes, audio_codec, audio_bitrate, audio_bufsize, temp_audiofile, rewrite_audio, remove_temp, write_logfile, verbose, threads, ffmpeg_params, logger)\u001b[0m\n\u001b[0;32m    292\u001b[0m \u001b[38;5;28;01mif\u001b[39;00m make_audio:\n\u001b[0;32m    293\u001b[0m     \u001b[38;5;28mself\u001b[39m\u001b[38;5;241m.\u001b[39maudio\u001b[38;5;241m.\u001b[39mwrite_audiofile(audiofile, audio_fps,\n\u001b[0;32m    294\u001b[0m                                audio_nbytes, audio_bufsize,\n\u001b[0;32m    295\u001b[0m                                audio_codec, bitrate\u001b[38;5;241m=\u001b[39maudio_bitrate,\n\u001b[0;32m    296\u001b[0m                                write_logfile\u001b[38;5;241m=\u001b[39mwrite_logfile,\n\u001b[0;32m    297\u001b[0m                                verbose\u001b[38;5;241m=\u001b[39mverbose,\n\u001b[0;32m    298\u001b[0m                                logger\u001b[38;5;241m=\u001b[39mlogger)\n\u001b[1;32m--> 300\u001b[0m \u001b[43mffmpeg_write_video\u001b[49m\u001b[43m(\u001b[49m\u001b[38;5;28;43mself\u001b[39;49m\u001b[43m,\u001b[49m\u001b[43m \u001b[49m\u001b[43mfilename\u001b[49m\u001b[43m,\u001b[49m\u001b[43m \u001b[49m\u001b[43mfps\u001b[49m\u001b[43m,\u001b[49m\u001b[43m \u001b[49m\u001b[43mcodec\u001b[49m\u001b[43m,\u001b[49m\n\u001b[0;32m    301\u001b[0m \u001b[43m                   \u001b[49m\u001b[43mbitrate\u001b[49m\u001b[38;5;241;43m=\u001b[39;49m\u001b[43mbitrate\u001b[49m\u001b[43m,\u001b[49m\n\u001b[0;32m    302\u001b[0m \u001b[43m                   \u001b[49m\u001b[43mpreset\u001b[49m\u001b[38;5;241;43m=\u001b[39;49m\u001b[43mpreset\u001b[49m\u001b[43m,\u001b[49m\n\u001b[0;32m    303\u001b[0m \u001b[43m                   \u001b[49m\u001b[43mwrite_logfile\u001b[49m\u001b[38;5;241;43m=\u001b[39;49m\u001b[43mwrite_logfile\u001b[49m\u001b[43m,\u001b[49m\n\u001b[0;32m    304\u001b[0m \u001b[43m                   \u001b[49m\u001b[43maudiofile\u001b[49m\u001b[38;5;241;43m=\u001b[39;49m\u001b[43maudiofile\u001b[49m\u001b[43m,\u001b[49m\n\u001b[0;32m    305\u001b[0m \u001b[43m                   \u001b[49m\u001b[43mverbose\u001b[49m\u001b[38;5;241;43m=\u001b[39;49m\u001b[43mverbose\u001b[49m\u001b[43m,\u001b[49m\u001b[43m \u001b[49m\u001b[43mthreads\u001b[49m\u001b[38;5;241;43m=\u001b[39;49m\u001b[43mthreads\u001b[49m\u001b[43m,\u001b[49m\n\u001b[0;32m    306\u001b[0m \u001b[43m                   \u001b[49m\u001b[43mffmpeg_params\u001b[49m\u001b[38;5;241;43m=\u001b[39;49m\u001b[43mffmpeg_params\u001b[49m\u001b[43m,\u001b[49m\n\u001b[0;32m    307\u001b[0m \u001b[43m                   \u001b[49m\u001b[43mlogger\u001b[49m\u001b[38;5;241;43m=\u001b[39;49m\u001b[43mlogger\u001b[49m\u001b[43m)\u001b[49m\n\u001b[0;32m    309\u001b[0m \u001b[38;5;28;01mif\u001b[39;00m remove_temp \u001b[38;5;129;01mand\u001b[39;00m make_audio:\n\u001b[0;32m    310\u001b[0m     \u001b[38;5;28;01mif\u001b[39;00m os\u001b[38;5;241m.\u001b[39mpath\u001b[38;5;241m.\u001b[39mexists(audiofile):\n",
      "File \u001b[1;32mD:\\MyTools\\Anaconda3\\lib\\site-packages\\moviepy\\video\\io\\ffmpeg_writer.py:228\u001b[0m, in \u001b[0;36mffmpeg_write_video\u001b[1;34m(clip, filename, fps, codec, bitrate, preset, withmask, write_logfile, audiofile, verbose, threads, ffmpeg_params, logger)\u001b[0m\n\u001b[0;32m    225\u001b[0m                 mask \u001b[38;5;241m=\u001b[39m mask\u001b[38;5;241m.\u001b[39mastype(\u001b[38;5;124m\"\u001b[39m\u001b[38;5;124muint8\u001b[39m\u001b[38;5;124m\"\u001b[39m)\n\u001b[0;32m    226\u001b[0m             frame \u001b[38;5;241m=\u001b[39m np\u001b[38;5;241m.\u001b[39mdstack([frame,mask])\n\u001b[1;32m--> 228\u001b[0m         writer\u001b[38;5;241m.\u001b[39mwrite_frame(frame)\n\u001b[0;32m    230\u001b[0m \u001b[38;5;28;01mif\u001b[39;00m write_logfile:\n\u001b[0;32m    231\u001b[0m     logfile\u001b[38;5;241m.\u001b[39mclose()\n",
      "File \u001b[1;32mD:\\MyTools\\Anaconda3\\lib\\site-packages\\moviepy\\video\\io\\ffmpeg_writer.py:197\u001b[0m, in \u001b[0;36mFFMPEG_VideoWriter.__exit__\u001b[1;34m(self, exc_type, exc_value, traceback)\u001b[0m\n\u001b[0;32m    196\u001b[0m \u001b[38;5;28;01mdef\u001b[39;00m \u001b[38;5;21m__exit__\u001b[39m(\u001b[38;5;28mself\u001b[39m, exc_type, exc_value, traceback):\n\u001b[1;32m--> 197\u001b[0m     \u001b[38;5;28;43mself\u001b[39;49m\u001b[38;5;241;43m.\u001b[39;49m\u001b[43mclose\u001b[49m\u001b[43m(\u001b[49m\u001b[43m)\u001b[49m\n",
      "File \u001b[1;32mD:\\MyTools\\Anaconda3\\lib\\site-packages\\moviepy\\video\\io\\ffmpeg_writer.py:187\u001b[0m, in \u001b[0;36mFFMPEG_VideoWriter.close\u001b[1;34m(self)\u001b[0m\n\u001b[0;32m    185\u001b[0m     \u001b[38;5;28;01mif\u001b[39;00m \u001b[38;5;28mself\u001b[39m\u001b[38;5;241m.\u001b[39mproc\u001b[38;5;241m.\u001b[39mstderr \u001b[38;5;129;01mis\u001b[39;00m \u001b[38;5;129;01mnot\u001b[39;00m \u001b[38;5;28;01mNone\u001b[39;00m:\n\u001b[0;32m    186\u001b[0m         \u001b[38;5;28mself\u001b[39m\u001b[38;5;241m.\u001b[39mproc\u001b[38;5;241m.\u001b[39mstderr\u001b[38;5;241m.\u001b[39mclose()\n\u001b[1;32m--> 187\u001b[0m     \u001b[38;5;28;43mself\u001b[39;49m\u001b[38;5;241;43m.\u001b[39;49m\u001b[43mproc\u001b[49m\u001b[38;5;241;43m.\u001b[39;49m\u001b[43mwait\u001b[49m\u001b[43m(\u001b[49m\u001b[43m)\u001b[49m\n\u001b[0;32m    189\u001b[0m \u001b[38;5;28mself\u001b[39m\u001b[38;5;241m.\u001b[39mproc \u001b[38;5;241m=\u001b[39m \u001b[38;5;28;01mNone\u001b[39;00m\n",
      "File \u001b[1;32mD:\\MyTools\\Anaconda3\\lib\\subprocess.py:1189\u001b[0m, in \u001b[0;36mPopen.wait\u001b[1;34m(self, timeout)\u001b[0m\n\u001b[0;32m   1187\u001b[0m     endtime \u001b[38;5;241m=\u001b[39m _time() \u001b[38;5;241m+\u001b[39m timeout\n\u001b[0;32m   1188\u001b[0m \u001b[38;5;28;01mtry\u001b[39;00m:\n\u001b[1;32m-> 1189\u001b[0m     \u001b[38;5;28;01mreturn\u001b[39;00m \u001b[38;5;28;43mself\u001b[39;49m\u001b[38;5;241;43m.\u001b[39;49m\u001b[43m_wait\u001b[49m\u001b[43m(\u001b[49m\u001b[43mtimeout\u001b[49m\u001b[38;5;241;43m=\u001b[39;49m\u001b[43mtimeout\u001b[49m\u001b[43m)\u001b[49m\n\u001b[0;32m   1190\u001b[0m \u001b[38;5;28;01mexcept\u001b[39;00m \u001b[38;5;167;01mKeyboardInterrupt\u001b[39;00m:\n\u001b[0;32m   1191\u001b[0m     \u001b[38;5;66;03m# https://bugs.python.org/issue25942\u001b[39;00m\n\u001b[0;32m   1192\u001b[0m     \u001b[38;5;66;03m# The first keyboard interrupt waits briefly for the child to\u001b[39;00m\n\u001b[0;32m   1193\u001b[0m     \u001b[38;5;66;03m# exit under the common assumption that it also received the ^C\u001b[39;00m\n\u001b[0;32m   1194\u001b[0m     \u001b[38;5;66;03m# generated SIGINT and will exit rapidly.\u001b[39;00m\n\u001b[0;32m   1195\u001b[0m     \u001b[38;5;28;01mif\u001b[39;00m timeout \u001b[38;5;129;01mis\u001b[39;00m \u001b[38;5;129;01mnot\u001b[39;00m \u001b[38;5;28;01mNone\u001b[39;00m:\n",
      "File \u001b[1;32mD:\\MyTools\\Anaconda3\\lib\\subprocess.py:1470\u001b[0m, in \u001b[0;36mPopen._wait\u001b[1;34m(self, timeout)\u001b[0m\n\u001b[0;32m   1467\u001b[0m     timeout_millis \u001b[38;5;241m=\u001b[39m \u001b[38;5;28mint\u001b[39m(timeout \u001b[38;5;241m*\u001b[39m \u001b[38;5;241m1000\u001b[39m)\n\u001b[0;32m   1468\u001b[0m \u001b[38;5;28;01mif\u001b[39;00m \u001b[38;5;28mself\u001b[39m\u001b[38;5;241m.\u001b[39mreturncode \u001b[38;5;129;01mis\u001b[39;00m \u001b[38;5;28;01mNone\u001b[39;00m:\n\u001b[0;32m   1469\u001b[0m     \u001b[38;5;66;03m# API note: Returns immediately if timeout_millis == 0.\u001b[39;00m\n\u001b[1;32m-> 1470\u001b[0m     result \u001b[38;5;241m=\u001b[39m \u001b[43m_winapi\u001b[49m\u001b[38;5;241;43m.\u001b[39;49m\u001b[43mWaitForSingleObject\u001b[49m\u001b[43m(\u001b[49m\u001b[38;5;28;43mself\u001b[39;49m\u001b[38;5;241;43m.\u001b[39;49m\u001b[43m_handle\u001b[49m\u001b[43m,\u001b[49m\n\u001b[0;32m   1471\u001b[0m \u001b[43m                                         \u001b[49m\u001b[43mtimeout_millis\u001b[49m\u001b[43m)\u001b[49m\n\u001b[0;32m   1472\u001b[0m     \u001b[38;5;28;01mif\u001b[39;00m result \u001b[38;5;241m==\u001b[39m _winapi\u001b[38;5;241m.\u001b[39mWAIT_TIMEOUT:\n\u001b[0;32m   1473\u001b[0m         \u001b[38;5;28;01mraise\u001b[39;00m TimeoutExpired(\u001b[38;5;28mself\u001b[39m\u001b[38;5;241m.\u001b[39margs, timeout)\n",
      "\u001b[1;31mKeyboardInterrupt\u001b[0m: "
     ]
    }
   ],
   "source": [
    "L = []\n",
    "n = 1\n",
    "\n",
    "for time_ in time_list_cut:\n",
    "#     print(time_)\n",
    "    temp_ = random.choice(video_list) # ({'file_name': '7.mp4', 'start': 9.199909297052153}, 'video_temp_4')\n",
    "    video = locals()[temp_[1]].set_start(temp_[0][\"start\"])# .subclip(time_[0]+temp_[0][\"start\"],time_[1]+temp_[0][\"start\"]) # <moviepy.video.io.VideoFileClip.VideoFileClip at 0x210b5d97df0>\n",
    "    video = video.subclip(time_[0],time_[1])\n",
    "    \n",
    "    video = video.resize(resize_num)\n",
    "    video_clip = (\n",
    "        video\n",
    "        .set_start(time_[0]+temp_[0][\"start\"])\n",
    "        .set_duration((time_[1]-time_[0]))\n",
    "        .set_position((\"center\",\"center\"))\n",
    "    )\n",
    "    locals()[\"video_clip\"+str(n)] = video_clip\n",
    "    L.append(locals()[\"video_clip\"+str(n)] )\n",
    "    n = n + 1\n",
    "    \n",
    "cvc = CompositeVideoClip([video_base]+L)\n",
    "cvc = cvc.set_audio(None)\n",
    "cvc = cvc.set_audio(video_base.audio)\n",
    "cvc.write_videofile(\"result_video/music_point_mixed.mp4\",fps=30)"
   ]
  },
  {
   "cell_type": "code",
   "execution_count": null,
   "metadata": {},
   "outputs": [],
   "source": []
  },
  {
   "cell_type": "code",
   "execution_count": null,
   "metadata": {},
   "outputs": [],
   "source": []
  }
 ],
 "metadata": {
  "kernelspec": {
   "display_name": "Python 3 (ipykernel)",
   "language": "python",
   "name": "python3"
  },
  "language_info": {
   "codemirror_mode": {
    "name": "ipython",
    "version": 3
   },
   "file_extension": ".py",
   "mimetype": "text/x-python",
   "name": "python",
   "nbconvert_exporter": "python",
   "pygments_lexer": "ipython3",
   "version": "3.9.12"
  },
  "toc": {
   "base_numbering": 1,
   "nav_menu": {},
   "number_sections": true,
   "sideBar": true,
   "skip_h1_title": false,
   "title_cell": "Table of Contents",
   "title_sidebar": "Contents",
   "toc_cell": false,
   "toc_position": {
    "height": "644.2px",
    "left": "60px",
    "top": "110.8px",
    "width": "182px"
   },
   "toc_section_display": true,
   "toc_window_display": true
  }
 },
 "nbformat": 4,
 "nbformat_minor": 2
}
