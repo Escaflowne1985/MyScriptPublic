{
 "cells": [
  {
   "cell_type": "code",
   "execution_count": 1,
   "metadata": {},
   "outputs": [],
   "source": [
    "# -*- coding: utf-8 -*-\n",
    "import librosa\n",
    "import requests\n",
    "from gerapy_auto_extractor.extractors import *\n",
    "import os\n",
    "import csv\n",
    "import glob\n",
    "import urllib.parse\n",
    "import numpy as np\n",
    "# from skimage import transform as tf\n",
    "from moviepy.editor import *\n",
    "from moviepy.video.tools.drawing import color_gradient\n",
    "from random import choice\n",
    "\n",
    "font_path = './font/kaiti.ttf' # 加载字体配置文件\n",
    "log_path  = \"logs/生成过内容的记录表单.csv\" # 文件保存路径\n",
    "\n",
    "# 自定义处理数据函数\n",
    "from EveryWebsitFuction import *\n",
    "from WordProcess import *\n",
    "from AudioProcess import *\n",
    "from ImageProcess import * \n",
    "from VideoProcess import *\n",
    "from FileProcess import  *"
   ]
  },
  {
   "cell_type": "markdown",
   "metadata": {},
   "source": [
    "# 抓取文章基本信息记录"
   ]
  },
  {
   "cell_type": "code",
   "execution_count": 2,
   "metadata": {},
   "outputs": [],
   "source": [
    "# 需要一键转换的文章链接\n",
    "Url = \"https://haopinang.com/27793.html\"\n",
    "# 提取站点信息用于爬虫脚本\n",
    "WebSite = urllib.parse.urlsplit(Url).netloc\n",
    "# 用爬虫extract_detail提取文章的标题\n",
    "Title = extract_detail(requests.get(Url,headers=headers,proxies=proxies,verify=False).text)[\"title\"]\n",
    "# 构建文章制作信息日志\n",
    "data_row = [WebSite,Title,Url]\n",
    "write_csv(log_path, data_row)"
   ]
  },
  {
   "cell_type": "markdown",
   "metadata": {},
   "source": [
    "# 抓取文章的正文、标题、图片"
   ]
  },
  {
   "cell_type": "code",
   "execution_count": 3,
   "metadata": {},
   "outputs": [],
   "source": [
    "# 访问该页面\n",
    "response = requests.get(Url,headers=headers,proxies=proxies,verify=False)\n",
    "# 根据固定的方法获取标题、正文、图片link\n",
    "if WebSite == \"haopinang.com\":\n",
    "    title,content,imglist = haopinang(response)"
   ]
  },
  {
   "cell_type": "markdown",
   "metadata": {},
   "source": [
    "# 这里文字需要自己处理一下，避免敏感词汇"
   ]
  },
  {
   "cell_type": "code",
   "execution_count": 5,
   "metadata": {},
   "outputs": [
    {
     "data": {
      "text/plain": [
       "'台下观众晃到嗨翻,Ant”爆乳弹跳打节拍,性感DJ“张蚂蚁,S2O最动感'"
      ]
     },
     "execution_count": 5,
     "metadata": {},
     "output_type": "execute_result"
    }
   ],
   "source": [
    "title"
   ]
  },
  {
   "cell_type": "code",
   "execution_count": 40,
   "metadata": {},
   "outputs": [],
   "source": [
    "title = \"台下观众晃到嗨翻,Ant”弹跳打节拍,性感DJ“张蚂蚁,S2O最动感\""
   ]
  },
  {
   "cell_type": "code",
   "execution_count": 6,
   "metadata": {},
   "outputs": [
    {
     "data": {
      "text/plain": [
       "'好皮囊：将来或许容颜会消逝，但照片的你永远不会老去“2020 S2O Taiwan Mix Edition 泰国泼水音乐节”当天除了国际知名DJ外，在“WaterBOOM湿身电音派对”区域里也有许多正妹DJ轮番上阵，这次JKF女郎张蚂蚁 Ant也上台一起嗨啦！当天张蚂蚁 Ant穿着桃红色比基尼展现好身材，和帅气的短发造型成反差，是S2O最动感！张蚂蚁 Ant当天在台上刷碟时，随着节奏摇摆身体，胸前的美乳也跟着弹跳打节拍，这样的爆乳派对也难怪台下观众都一起晃到头晕了，其他JKF女郎也上台一起同乐，乳力满点的画面可以说是S2O最值得看的一部分。张蚂蚁 Ant现在转型成专业DJ后，也不吝啬分享火辣身材，Instagram内一样满满的爆乳美照，只是好怀念舞后张蚂蚁 Ant的电臀啊！希望哪天还有机会看到她再摇起来。IG：dj_ant_tw好了，美图时刻开始：未经允许不得转载：好皮囊 » 台下观众晃到嗨翻,Ant”爆乳弹跳打节拍,性感DJ“张蚂蚁,S2O最动感'"
      ]
     },
     "execution_count": 6,
     "metadata": {},
     "output_type": "execute_result"
    }
   ],
   "source": [
    "content"
   ]
  },
  {
   "cell_type": "code",
   "execution_count": 42,
   "metadata": {},
   "outputs": [],
   "source": [
    "content = \"“2020 S2O Taiwan Mix Edition 泰国泼水音乐节”当天除了国际知名DJ外，在“WaterBOOM湿身电音派对”区域里也有许多正妹DJ轮番上阵，这次JKF女郎张蚂蚁 Ant也上台一起嗨啦！当天张蚂蚁 Ant穿着桃红色比基尼展现好身材，和帅气的短发造型成反差，是S2O最动感！张蚂蚁 Ant当天在台上刷碟时，随着节奏摇摆身体，胸前的美乳也跟着弹跳打节拍，这样的爆乳派对也难怪台下观众都一起晃到头晕了，其他JKF女郎也上台一起同乐，乳力满点的画面可以说是S2O最值得看的一部分。张蚂蚁 Ant现在转型成专业DJ后，也不吝啬分享火辣身材，Instagram内一样满满的爆乳美照，只是好怀念舞后张蚂蚁 Ant的电臀啊！希望哪天还有机会看到她再摇起来。\""
   ]
  },
  {
   "cell_type": "code",
   "execution_count": 43,
   "metadata": {},
   "outputs": [
    {
     "data": {
      "text/plain": [
       "'“2020 S2O Taiwan Mix Edition 泰国泼水音乐节”当天除了国际知名DJ外，在“WaterBOOM湿身电音派对”区域里也有许多正妹DJ轮番上阵，这次JKF女郎张蚂蚁 Ant也上台一起嗨啦！当天张蚂蚁 Ant穿着桃红色比基尼展现好身材，和帅气的短发造型成反差，是S2O最动感！张蚂蚁 Ant当天在台上刷碟时，随着节奏摇摆身体，胸前的美乳也跟着弹跳打节拍，这样的爆乳派对也难怪台下观众都一起晃到头晕了，其他JKF女郎也上台一起同乐，乳力满点的画面可以说是S2O最值得看的一部分。张蚂蚁 Ant现在转型成专业DJ后，也不吝啬分享火辣身材，Instagram内一样满满的爆乳美照，只是好怀念舞后张蚂蚁 Ant的电臀啊！希望哪天还有机会看到她再摇起来。'"
      ]
     },
     "execution_count": 43,
     "metadata": {},
     "output_type": "execute_result"
    }
   ],
   "source": [
    "# 如果文稿过长可以使用百度AI提取摘要\n",
    "# https://ai.baidu.com/tech/nlp_apply/news_summary\n",
    "# content = make_summary(title,content)\n",
    "content"
   ]
  },
  {
   "cell_type": "markdown",
   "metadata": {},
   "source": [
    "# 图片裁剪处理"
   ]
  },
  {
   "cell_type": "code",
   "execution_count": 7,
   "metadata": {
    "scrolled": false
   },
   "outputs": [
    {
     "name": "stdout",
     "output_type": "stream",
     "text": [
      "按比例裁剪完毕，保存到： materials/台下观众晃到嗨翻,Ant”爆乳弹跳打节拍,性感DJ“张蚂蚁,S2O最动感/clean_jpg/\n",
      "图片按照按视频寸尺裁剪，保存到： materials/台下观众晃到嗨翻,Ant”爆乳弹跳打节拍,性感DJ“张蚂蚁,S2O最动感/clean_jpg/\n",
      "按比例裁剪完毕，保存到： materials/台下观众晃到嗨翻,Ant”爆乳弹跳打节拍,性感DJ“张蚂蚁,S2O最动感/clean_jpg/\n",
      "图片按照按视频寸尺裁剪，保存到： materials/台下观众晃到嗨翻,Ant”爆乳弹跳打节拍,性感DJ“张蚂蚁,S2O最动感/clean_jpg/\n",
      "按比例裁剪完毕，保存到： materials/台下观众晃到嗨翻,Ant”爆乳弹跳打节拍,性感DJ“张蚂蚁,S2O最动感/clean_jpg/\n",
      "图片按照按视频寸尺裁剪，保存到： materials/台下观众晃到嗨翻,Ant”爆乳弹跳打节拍,性感DJ“张蚂蚁,S2O最动感/clean_jpg/\n",
      "按比例裁剪完毕，保存到： materials/台下观众晃到嗨翻,Ant”爆乳弹跳打节拍,性感DJ“张蚂蚁,S2O最动感/clean_jpg/\n",
      "图片按照按视频寸尺裁剪，保存到： materials/台下观众晃到嗨翻,Ant”爆乳弹跳打节拍,性感DJ“张蚂蚁,S2O最动感/clean_jpg/\n",
      "按比例裁剪完毕，保存到： materials/台下观众晃到嗨翻,Ant”爆乳弹跳打节拍,性感DJ“张蚂蚁,S2O最动感/clean_jpg/\n",
      "图片按照按视频寸尺裁剪，保存到： materials/台下观众晃到嗨翻,Ant”爆乳弹跳打节拍,性感DJ“张蚂蚁,S2O最动感/clean_jpg/\n",
      "按比例裁剪完毕，保存到： materials/台下观众晃到嗨翻,Ant”爆乳弹跳打节拍,性感DJ“张蚂蚁,S2O最动感/clean_jpg/\n",
      "图片按照按视频寸尺裁剪，保存到： materials/台下观众晃到嗨翻,Ant”爆乳弹跳打节拍,性感DJ“张蚂蚁,S2O最动感/clean_jpg/\n",
      "按比例裁剪完毕，保存到： materials/台下观众晃到嗨翻,Ant”爆乳弹跳打节拍,性感DJ“张蚂蚁,S2O最动感/clean_jpg/\n",
      "图片按照按视频寸尺裁剪，保存到： materials/台下观众晃到嗨翻,Ant”爆乳弹跳打节拍,性感DJ“张蚂蚁,S2O最动感/clean_jpg/\n",
      "按比例裁剪完毕，保存到： materials/台下观众晃到嗨翻,Ant”爆乳弹跳打节拍,性感DJ“张蚂蚁,S2O最动感/clean_jpg/\n",
      "图片按照按视频寸尺裁剪，保存到： materials/台下观众晃到嗨翻,Ant”爆乳弹跳打节拍,性感DJ“张蚂蚁,S2O最动感/clean_jpg/\n",
      "按比例裁剪完毕，保存到： materials/台下观众晃到嗨翻,Ant”爆乳弹跳打节拍,性感DJ“张蚂蚁,S2O最动感/clean_jpg/\n",
      "图片按照按视频寸尺裁剪，保存到： materials/台下观众晃到嗨翻,Ant”爆乳弹跳打节拍,性感DJ“张蚂蚁,S2O最动感/clean_jpg/\n",
      "按比例裁剪完毕，保存到： materials/台下观众晃到嗨翻,Ant”爆乳弹跳打节拍,性感DJ“张蚂蚁,S2O最动感/clean_jpg/\n",
      "图片按照按视频寸尺裁剪，保存到： materials/台下观众晃到嗨翻,Ant”爆乳弹跳打节拍,性感DJ“张蚂蚁,S2O最动感/clean_jpg/\n"
     ]
    }
   ],
   "source": [
    "# 判断如果没有该数据的文件夹就创建\n",
    "dirs = 'materials/' + title + \"/web_jpg/\"\n",
    "if not os.path.exists(dirs):\n",
    "    os.makedirs(dirs)\n",
    "imglist = RequestGetImage(title) + imglist # 将浏览器百度搜索的素材和文章中的素材整理在一起\n",
    "    \n",
    "# 保存图片并按比例裁剪\n",
    "i = 1\n",
    "jpg_list = [] # 用于保存图片的文件名成\n",
    "for url in imglist:   #读取并保存到本地\n",
    "    html = requests.get(url,headers=headers,proxies=proxies,verify=False)\n",
    "    # 将抓取的图片保存到web_jpg\n",
    "    with open('materials/'+ title + \"/web_jpg/\" + str(i) + \".jpg\", 'wb') as file:\n",
    "        file.write(html.content)\n",
    "    file.close()\n",
    "    CutImage(i,title) # 裁剪 （与去水印二选一）\n",
    "#     CleanLogo(i,title,240) # 去水印\n",
    "    ChangeImage(i,title) # 裁剪图片\n",
    "    jpg_list.append(\"{}.jpg\".format(i))\n",
    "    i += 1"
   ]
  },
  {
   "cell_type": "markdown",
   "metadata": {},
   "source": [
    "# 音频和字幕处理"
   ]
  },
  {
   "cell_type": "code",
   "execution_count": 8,
   "metadata": {},
   "outputs": [
    {
     "name": "stdout",
     "output_type": "stream",
     "text": [
      "mp3文件已经生成完毕，在目录： materials/台下观众晃到嗨翻,Ant”爆乳弹跳打节拍,性感DJ“张蚂蚁,S2O最动感/data/\n"
     ]
    }
   ],
   "source": [
    "# 获取字幕行数和字幕\n",
    "word_len , strs = clean_word(title + content)\n",
    "# 去除无用的空list避免报错\n",
    "strs_list = strs.split(\"\\n\")\n",
    "strs_list = [i for i in strs_list if i != \"\"] \n",
    "#生成MP3文件\n",
    "StrToMp3(title,content)\n",
    "# 获取MP3时长\n",
    "mp3_duration = librosa.get_duration(filename='materials/'+ title + \"/data/\" +  title + '.mp3')"
   ]
  },
  {
   "cell_type": "markdown",
   "metadata": {},
   "source": [
    "# 制作"
   ]
  },
  {
   "cell_type": "markdown",
   "metadata": {},
   "source": [
    "## 删减无效图片"
   ]
  },
  {
   "cell_type": "code",
   "execution_count": 9,
   "metadata": {},
   "outputs": [],
   "source": [
    "# 图片目录中必须要有cover.jpg\n",
    "file_dir = \"materials/\" + title + \"/clean_jpg\"\n",
    "jpg_list = [files for files in os.walk(file_dir)][0][2]"
   ]
  },
  {
   "cell_type": "markdown",
   "metadata": {},
   "source": [
    "## 生成封面图片"
   ]
  },
  {
   "cell_type": "code",
   "execution_count": 10,
   "metadata": {},
   "outputs": [
    {
     "name": "stdout",
     "output_type": "stream",
     "text": [
      "封面图片制作完毕，目录： materials/台下观众晃到嗨翻,Ant”爆乳弹跳打节拍,性感DJ“张蚂蚁,S2O最动感/data/cover.jpg\n"
     ]
    }
   ],
   "source": [
    "# 这里要自己选择一张图片改名cover.jpg\n",
    "MakeCoverImage(title)"
   ]
  },
  {
   "cell_type": "markdown",
   "metadata": {},
   "source": [
    "## 生成封面视频"
   ]
  },
  {
   "cell_type": "code",
   "execution_count": 11,
   "metadata": {},
   "outputs": [
    {
     "name": "stdout",
     "output_type": "stream",
     "text": [
      "Moviepy - Building video ./materials/台下观众晃到嗨翻,Ant”爆乳弹跳打节拍,性感DJ“张蚂蚁,S2O最动感/data/cover.mp4.\n",
      "Moviepy - Writing video ./materials/台下观众晃到嗨翻,Ant”爆乳弹跳打节拍,性感DJ“张蚂蚁,S2O最动感/data/cover.mp4\n",
      "\n"
     ]
    },
    {
     "name": "stderr",
     "output_type": "stream",
     "text": [
      "                                                                                                                       \r"
     ]
    },
    {
     "name": "stdout",
     "output_type": "stream",
     "text": [
      "Moviepy - Done !\n",
      "Moviepy - video ready ./materials/台下观众晃到嗨翻,Ant”爆乳弹跳打节拍,性感DJ“张蚂蚁,S2O最动感/data/cover.mp4\n"
     ]
    }
   ],
   "source": [
    "# 根据制作好的cover.jpg生成封面视频,并添加文章标题\n",
    "MakeCoverVideoAndTitle(title,font_path)"
   ]
  },
  {
   "cell_type": "markdown",
   "metadata": {},
   "source": [
    "## 合成全部视频"
   ]
  },
  {
   "cell_type": "code",
   "execution_count": 12,
   "metadata": {
    "scrolled": true
   },
   "outputs": [
    {
     "name": "stdout",
     "output_type": "stream",
     "text": [
      "图片拼接函数处理完毕！\n",
      "字幕拼接函数处理完毕！\n",
      "视频添加水印完毕！\n",
      "在背景视频中处理字幕和拼接图片完毕！\n",
      "解说音频合成在视频音轨完毕！\n",
      "视频内容拼接完毕！\n",
      "Moviepy - Building video materials/台下观众晃到嗨翻,Ant”爆乳弹跳打节拍,性感DJ“张蚂蚁,S2O最动感/data/台下观众晃到嗨翻,Ant”爆乳弹跳打节拍,性感DJ“张蚂蚁,S2O最动感.mp4.\n",
      "MoviePy - Writing audio in 台下观众晃到嗨翻,Ant”爆乳弹跳打节拍,性感DJ“张蚂蚁,S2O最动感TEMP_MPY_wvf_snd.mp3\n"
     ]
    },
    {
     "name": "stderr",
     "output_type": "stream",
     "text": [
      "                                                                                                                       \r"
     ]
    },
    {
     "name": "stdout",
     "output_type": "stream",
     "text": [
      "MoviePy - Done.\n",
      "Moviepy - Writing video materials/台下观众晃到嗨翻,Ant”爆乳弹跳打节拍,性感DJ“张蚂蚁,S2O最动感/data/台下观众晃到嗨翻,Ant”爆乳弹跳打节拍,性感DJ“张蚂蚁,S2O最动感.mp4\n",
      "\n"
     ]
    },
    {
     "name": "stderr",
     "output_type": "stream",
     "text": [
      "                                                                                                                       \r"
     ]
    },
    {
     "name": "stdout",
     "output_type": "stream",
     "text": [
      "Moviepy - Done !\n",
      "Moviepy - video ready materials/台下观众晃到嗨翻,Ant”爆乳弹跳打节拍,性感DJ“张蚂蚁,S2O最动感/data/台下观众晃到嗨翻,Ant”爆乳弹跳打节拍,性感DJ“张蚂蚁,S2O最动感.mp4\n",
      "背景视频中添加轮播图片、字幕、音频解说合成完毕，保存目录： ./materials/台下观众晃到嗨翻,Ant”爆乳弹跳打节拍,性感DJ“张蚂蚁,S2O最动感/data/\n"
     ]
    }
   ],
   "source": [
    "cover_mp4 = \"./materials/\" + title + \"/data/cover.mp4\"  # 合成的封面\n",
    "strat_mp4 = \"./materials_base/start.mp4\"  # 自制片头\n",
    "end_mp4 = \"./materials_base/end.mp4\"  # 自制片尾\n",
    "logo_path = \"materials_base/logo.png\" # 自制水印\n",
    "\n",
    "CompositeVideo(title,mp3_duration,jpg_list,font_path,strs_list,logo_path,cover_mp4,strat_mp4,end_mp4)"
   ]
  },
  {
   "cell_type": "markdown",
   "metadata": {},
   "source": [
    "# 删除多余的文件"
   ]
  },
  {
   "cell_type": "code",
   "execution_count": 18,
   "metadata": {},
   "outputs": [],
   "source": [
    "DeleteFiles()"
   ]
  },
  {
   "cell_type": "code",
   "execution_count": null,
   "metadata": {},
   "outputs": [],
   "source": []
  },
  {
   "cell_type": "code",
   "execution_count": null,
   "metadata": {},
   "outputs": [],
   "source": []
  },
  {
   "cell_type": "code",
   "execution_count": null,
   "metadata": {},
   "outputs": [],
   "source": []
  },
  {
   "cell_type": "code",
   "execution_count": null,
   "metadata": {},
   "outputs": [],
   "source": [
    "\n"
   ]
  },
  {
   "cell_type": "code",
   "execution_count": null,
   "metadata": {},
   "outputs": [],
   "source": []
  },
  {
   "cell_type": "code",
   "execution_count": null,
   "metadata": {},
   "outputs": [],
   "source": []
  },
  {
   "cell_type": "code",
   "execution_count": null,
   "metadata": {},
   "outputs": [],
   "source": []
  },
  {
   "cell_type": "code",
   "execution_count": null,
   "metadata": {},
   "outputs": [],
   "source": []
  },
  {
   "cell_type": "markdown",
   "metadata": {},
   "source": [
    "# 调试部分"
   ]
  },
  {
   "cell_type": "code",
   "execution_count": null,
   "metadata": {},
   "outputs": [],
   "source": [
    "# 纵向图片向上移动  'center','top'\n",
    "def VerticalImageUp():\n",
    "    fl = lambda gf,t:gf(t)[int(image_speed*t):int(image_speed*t)+ 720,:] \n",
    "    \n",
    "    return fl,('center','top')\n",
    "# 纵向图片向左移动  'center','top'\n",
    "def VerticalImageLeft():\n",
    "    fl = lambda gf,t:gf(t)[:,int(image_speed*t):int(image_speed*t)+ 720] \n",
    "    return fl,('center','top')\n",
    "\n",
    "\n",
    "# 横向图片向上移动  'center','top'\n",
    "def HorizontalUp():\n",
    "    fl = lambda gf,t:gf(t)[int(image_speed*t):int(image_speed*t)+ 720,:] \n",
    "    return fl,('center','top')\n",
    "# 横向图片向左移动  'center','top'\n",
    "def HorizontalLeft():\n",
    "    fl = lambda gf,t:gf(t)[:,int(image_speed*t):int(image_speed*t)+ 1280] \n",
    "    return fl,('center','top')\n",
    "\n",
    "# 创建背景视频\n",
    "bak_movei = VideoFileClip('materials_base/base1280_720.mp4')\n",
    "\n",
    "# 读取图片\n",
    "jpg_path = \"materials/45岁林志玲身体亮红灯！被曝秘密入院做手术/clean_jpg/5.jpg\"\n",
    "img = Image.open(jpg_path)\n",
    "w , h = img.size[0],img.size[1]  # 图片高度和宽度后面进行判断使用\n",
    "print( w , h )\n",
    "every_part_duration_time = 10\n",
    "start_time = 0\n",
    "clip_image = (\n",
    "            ImageClip(jpg_path)\n",
    "                .set_duration(every_part_duration_time)  # 图片持续时间\n",
    "                .set_start(start_time)\n",
    "        )\n",
    "\n",
    "# 图片移动的速度\n",
    "image_speed = 10\n",
    "# VerticalImageUp,VerticalImageLeft,HorizontalUp,HorizontalLeft\n",
    "\n",
    "list1 = [VerticalImageLeft(),VerticalImageUp()]\n",
    "list2 = [HorizontalUp(),HorizontalLeft()]\n",
    "\n",
    "list_ = list1\n",
    "for i in range(len(list_)):\n",
    "    fl,set_pos = list_[i]\n",
    "    moving_image= clip_image.fl(fl, apply_to=['mask'])\n",
    "    # 合并视频\n",
    "    final = CompositeVideoClip([\n",
    "             bak_movei,\n",
    "             moving_image.set_pos(set_pos)])\n",
    "\n",
    "    final.set_duration(5).write_videofile(\"materials/45岁林志玲身体亮红灯！被曝秘密入院做手术/clean_jpg/test{}.mp4\".format(i), fps=20)"
   ]
  },
  {
   "cell_type": "code",
   "execution_count": null,
   "metadata": {},
   "outputs": [],
   "source": []
  }
 ],
 "metadata": {
  "hide_input": false,
  "kernelspec": {
   "display_name": "Python 3",
   "language": "python",
   "name": "python3"
  },
  "language_info": {
   "codemirror_mode": {
    "name": "ipython",
    "version": 3
   },
   "file_extension": ".py",
   "mimetype": "text/x-python",
   "name": "python",
   "nbconvert_exporter": "python",
   "pygments_lexer": "ipython3",
   "version": "3.6.5"
  },
  "toc": {
   "base_numbering": 1,
   "nav_menu": {},
   "number_sections": true,
   "sideBar": true,
   "skip_h1_title": false,
   "title_cell": "Table of Contents",
   "title_sidebar": "图文生成视频通用版 V1.1",
   "toc_cell": false,
   "toc_position": {
    "height": "calc(100% - 180px)",
    "left": "10px",
    "top": "150px",
    "width": "203px"
   },
   "toc_section_display": true,
   "toc_window_display": true
  }
 },
 "nbformat": 4,
 "nbformat_minor": 2
}
