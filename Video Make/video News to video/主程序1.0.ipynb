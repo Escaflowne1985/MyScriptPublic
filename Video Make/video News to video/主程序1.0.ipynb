{
 "cells": [
  {
   "cell_type": "code",
   "execution_count": 1,
   "metadata": {},
   "outputs": [
    {
     "name": "stderr",
     "output_type": "stream",
     "text": [
      "C:\\Users\\AERO\\Anaconda3\\lib\\site-packages\\numpy\\core\\__init__.py:29: UserWarning: loaded more than 1 DLL from .libs:\n",
      "C:\\Users\\AERO\\Anaconda3\\lib\\site-packages\\numpy\\.libs\\libopenblas.IPBC74C7KURV7CB2PKT5Z5FNR3SIBV4J.gfortran-win_amd64.dll\n",
      "C:\\Users\\AERO\\Anaconda3\\lib\\site-packages\\numpy\\.libs\\libopenblas.PYQHXLVVQ7VESDPUVUADXEVJOBGHJPAY.gfortran-win_amd64.dll\n",
      "  stacklevel=1)\n"
     ]
    }
   ],
   "source": [
    "# -*- coding: utf-8 -*-\n",
    "import librosa\n",
    "import requests\n",
    "from gerapy_auto_extractor.extractors import extract_detail\n",
    "import os\n",
    "import csv\n",
    "import glob\n",
    "font_path = './font/kaiti.ttf' # 加载字体配置文件\n",
    "\n",
    "# 自定义处理数据函数\n",
    "from EveryWebsitFuction import *\n",
    "from WordProcess import *\n",
    "from AudioProcess import *\n",
    "from ImageProcess import * \n",
    "from VideoProcess import *"
   ]
  },
  {
   "cell_type": "markdown",
   "metadata": {},
   "source": [
    "# 记录抓取过的内容数据表单，填写网站主页&抓取的具体页面会自动保存"
   ]
  },
  {
   "cell_type": "code",
   "execution_count": 2,
   "metadata": {},
   "outputs": [],
   "source": [
    "path  = \"logs/生成过内容的记录表单.csv\" # 文件保存路径\n",
    "WebSite = \"sohu.com\" # 网站主页链接\n",
    "Url = \"https://www.sohu.com/a/419892530_603537\" # 具体内容链接\n",
    "Title = extract_detail(requests.get(Url).text)[\"title\"] # 文章的标题\n",
    "data_row = [WebSite,Title,Url]\n",
    "write_csv(path, data_row) # 追加写入的方法"
   ]
  },
  {
   "cell_type": "markdown",
   "metadata": {},
   "source": [
    "# 抓取文章的正文、标题、图片链接"
   ]
  },
  {
   "cell_type": "code",
   "execution_count": 3,
   "metadata": {},
   "outputs": [],
   "source": [
    "# 访问该页面\n",
    "response = requests.get(Url)\n",
    "# 根据固定的方法获取标题、正文、图片link\n",
    "if WebSite == \"177521.com\":\n",
    "    title,content,imglist = www_177521_com(response)\n",
    "if WebSite == \"sohu.com\":\n",
    "    title,content,imglist = www_sohu_com(response)"
   ]
  },
  {
   "cell_type": "markdown",
   "metadata": {},
   "source": [
    "# 这里文字需要自己处理一下，避免敏感词汇"
   ]
  },
  {
   "cell_type": "code",
   "execution_count": 4,
   "metadata": {},
   "outputs": [
    {
     "data": {
      "text/plain": [
       "'45岁林志玲身体亮红灯？被曝秘密入院做手术，因健康问题困扰5年_黑泽'"
      ]
     },
     "execution_count": 4,
     "metadata": {},
     "output_type": "execute_result"
    }
   ],
   "source": [
    "title"
   ]
  },
  {
   "cell_type": "code",
   "execution_count": 5,
   "metadata": {},
   "outputs": [],
   "source": [
    "title = \"45岁林志玲身体亮红灯！被曝秘密入院做手术\""
   ]
  },
  {
   "cell_type": "code",
   "execution_count": 6,
   "metadata": {},
   "outputs": [],
   "source": [
    "content = make_summary(title,content)"
   ]
  },
  {
   "cell_type": "code",
   "execution_count": 7,
   "metadata": {},
   "outputs": [
    {
     "data": {
      "text/plain": [
       "'被曝秘密入院做手术，因健康问题困扰5年据台媒报道，45岁的林志玲近日在台北医学院附设医院住院开刀，秘密完成手术的林志玲也引发了大众的讨论和关注。林志玲的经纪人随后也向媒体证实了这一消息，表示林志玲因长期受到过敏症状的困扰，在医生建议下就做了耳鼻喉科的小手术，目前林志玲也已经顺利出院。网友们看到报道后，纷纷嘱咐林志玲注意身体，因为林志玲之前也有过不少健康状况亮红灯的情况。2019年，林志玲宣布与黑泽良平结婚，重心逐渐转移到家庭生活上。因此有不少网友猜测林志玲是不是怀孕了，纷纷表示等待林志玲的喜讯官宣。而林志玲这次做手术，其实也让之前的猜测不攻自破。'"
      ]
     },
     "execution_count": 7,
     "metadata": {},
     "output_type": "execute_result"
    }
   ],
   "source": [
    "content"
   ]
  },
  {
   "cell_type": "code",
   "execution_count": 8,
   "metadata": {},
   "outputs": [],
   "source": [
    "content = \"被曝秘密入院做手术，因健康问题困扰5年据台媒报道，45岁的林志玲近日在台北医学院附设医院住院开刀，秘密完成手术的林志玲也引发了大众的讨论和关注。林志玲的经纪人随后也向媒体证实了这一消息，表示林志玲因长期受到过敏症状的困扰，在医生建议下就做了耳鼻喉科的小手术，目前林志玲也已经顺利出院。网友们看到报道后，纷纷嘱咐林志玲注意身体，因为林志玲之前也有过不少健康状况亮红灯的情况。2019年，林志玲宣布与黑泽良平结婚，重心逐渐转移到家庭生活上。因此有不少网友猜测林志玲是不是怀孕了，纷纷表示等待林志玲的喜讯官宣。而林志玲这次做手术，其实也让之前的猜测不攻自破。\""
   ]
  },
  {
   "cell_type": "code",
   "execution_count": 8,
   "metadata": {},
   "outputs": [
    {
     "data": {
      "text/plain": [
       "['http://p4.itc.cn/images01/20200921/cde9d3af688b424cb67fa130f6370ace.jpeg',\n",
       " 'http://p7.itc.cn/images01/20200921/b70ca96753d54f95a5fde0567a7f57cf.jpeg',\n",
       " 'http://p3.itc.cn/images01/20200921/248b2af6bcdb4de68ff8c8fd844aea6d.jpeg',\n",
       " 'http://p4.itc.cn/images01/20200921/873238854bf44b76b1e3827a0e27adc7.jpeg',\n",
       " 'http://p8.itc.cn/images01/20200921/681fc8dd95414d18a73e89d41028966c.jpeg',\n",
       " 'http://p5.itc.cn/images01/20200921/77bcb751367c43c49e3686476cc243b4.jpeg',\n",
       " 'http://p0.itc.cn/images01/20200921/69df920f869144c3a1ce9562cabcb4b9.jpeg',\n",
       " 'http://p3.itc.cn/images01/20200921/8a770b0d2df443dc83884fe6731aa716.jpeg',\n",
       " 'http://p9.itc.cn/images01/20200921/dba57a24257641c08ace5b9c089a487e.jpeg',\n",
       " 'http://p0.itc.cn/images01/20200921/84ff3891362a448eaf4e1214caa4d3e9.jpeg',\n",
       " 'http://p7.itc.cn/images01/20200921/07e12cad341e43e0ada1905a51a06bb0.jpeg']"
      ]
     },
     "execution_count": 8,
     "metadata": {},
     "output_type": "execute_result"
    }
   ],
   "source": [
    "imglist"
   ]
  },
  {
   "cell_type": "markdown",
   "metadata": {},
   "source": [
    "# 图片裁剪处理"
   ]
  },
  {
   "cell_type": "code",
   "execution_count": 12,
   "metadata": {},
   "outputs": [
    {
     "name": "stdout",
     "output_type": "stream",
     "text": [
      "图片裁剪完毕，保存到： materials/45岁林志玲身体亮红灯！被曝秘密入院做手术/web_jpg/\n",
      "图片裁剪完毕，保存到： materials/45岁林志玲身体亮红灯！被曝秘密入院做手术/web_jpg/\n",
      "图片裁剪完毕，保存到： materials/45岁林志玲身体亮红灯！被曝秘密入院做手术/web_jpg/\n",
      "图片裁剪完毕，保存到： materials/45岁林志玲身体亮红灯！被曝秘密入院做手术/web_jpg/\n",
      "图片裁剪完毕，保存到： materials/45岁林志玲身体亮红灯！被曝秘密入院做手术/web_jpg/\n",
      "图片裁剪完毕，保存到： materials/45岁林志玲身体亮红灯！被曝秘密入院做手术/web_jpg/\n",
      "图片裁剪完毕，保存到： materials/45岁林志玲身体亮红灯！被曝秘密入院做手术/web_jpg/\n",
      "图片裁剪完毕，保存到： materials/45岁林志玲身体亮红灯！被曝秘密入院做手术/web_jpg/\n",
      "图片裁剪完毕，保存到： materials/45岁林志玲身体亮红灯！被曝秘密入院做手术/web_jpg/\n",
      "图片裁剪完毕，保存到： materials/45岁林志玲身体亮红灯！被曝秘密入院做手术/web_jpg/\n",
      "图片裁剪完毕，保存到： materials/45岁林志玲身体亮红灯！被曝秘密入院做手术/web_jpg/\n"
     ]
    }
   ],
   "source": [
    "# 判断如果没有该数据的文件夹就创建\n",
    "dirs = 'materials/' + title + \"/web_jpg/\"\n",
    "if not os.path.exists(dirs):\n",
    "    os.makedirs(dirs)\n",
    "    # 保存图片并按比例裁剪\n",
    "i = 1\n",
    "jpg_list = [] # 用于保存图片的文件名成\n",
    "for url in imglist:   #读取并保存到本地\n",
    "    html = requests.get(url)\n",
    "    # 将抓取的图片保存到web_jpg\n",
    "    with open('materials/'+ title + \"/web_jpg/\" + str(i) + \".jpg\", 'wb') as file:\n",
    "        file.write(html.content)\n",
    "    file.close()\n",
    "    CutImage(i,title) # 裁剪 （与去水印二选一）\n",
    "#     CleanLogo(i,title,240) # 去水印\n",
    "    ChangeImage(i,title) # 裁剪图片\n",
    "    jpg_list.append(\"{}.jpg\".format(i))\n",
    "    i += 1"
   ]
  },
  {
   "cell_type": "markdown",
   "metadata": {},
   "source": [
    "# 音频和字幕处理"
   ]
  },
  {
   "cell_type": "code",
   "execution_count": 13,
   "metadata": {},
   "outputs": [
    {
     "name": "stdout",
     "output_type": "stream",
     "text": [
      "mp3文件已经生成完毕，在目录： materials/45岁林志玲身体亮红灯！被曝秘密入院做手术/data/\n"
     ]
    }
   ],
   "source": [
    "# 获取字幕行数和字幕\n",
    "word_len , strs = clean_word(title + content)\n",
    "# 去除无用的空list避免报错\n",
    "strs_list = strs.split(\"\\n\")\n",
    "strs_list = [i for i in strs_list if i != \"\"] \n",
    "#生成MP3文件\n",
    "StrToMp3(title,content)\n",
    "# 获取MP3时长\n",
    "mp3_duration = librosa.get_duration(filename='materials/'+ title + \"/data/\" +  title + '.mp3')"
   ]
  },
  {
   "cell_type": "markdown",
   "metadata": {},
   "source": [
    "# 选择一个抠图封面人物图像PNG\n",
    "- 目录 materials_base下\n",
    "- 手动将处理好的png文件放入pptx制作封面\n",
    "- 保存成封面jpg"
   ]
  },
  {
   "cell_type": "code",
   "execution_count": 18,
   "metadata": {},
   "outputs": [],
   "source": [
    "# 选择一张图片扣人，进入web文件夹查看\n",
    "from removebg import RemoveBg\n",
    "rmbg = RemoveBg(\"ypWN2SE5p57qKMk6jtaaSXRq\", \"logs/error.log\")  # 把你的`API Key`填进去\n",
    "rmbg.remove_background_from_img_file(\"materials/\" + title + \"/clean_jpg/12.jpg\")"
   ]
  },
  {
   "cell_type": "markdown",
   "metadata": {},
   "source": [
    "# 视频合成"
   ]
  },
  {
   "cell_type": "markdown",
   "metadata": {},
   "source": [
    "## 手动删除可能违规的照片，将图片按照顺序逐一放入movei模板中"
   ]
  },
  {
   "cell_type": "code",
   "execution_count": 19,
   "metadata": {},
   "outputs": [],
   "source": [
    "file_dir = \"materials/\" + title + \"/clean_jpg\"\n",
    "jpg_list = [files for files in os.walk(file_dir)][0][2]"
   ]
  },
  {
   "cell_type": "code",
   "execution_count": 20,
   "metadata": {},
   "outputs": [
    {
     "data": {
      "text/plain": [
       "['1.jpg',\n",
       " '11.jpg',\n",
       " '12.jpg',\n",
       " '2.jpg',\n",
       " '4.jpg',\n",
       " '5.jpg',\n",
       " '6.jpg',\n",
       " '7.jpg',\n",
       " '8.jpg',\n",
       " '9.jpg']"
      ]
     },
     "execution_count": 20,
     "metadata": {},
     "output_type": "execute_result"
    }
   ],
   "source": [
    "jpg_list"
   ]
  },
  {
   "cell_type": "code",
   "execution_count": 21,
   "metadata": {},
   "outputs": [
    {
     "name": "stdout",
     "output_type": "stream",
     "text": [
      "Moviepy - Building video ./materials/45岁林志玲身体亮红灯！被曝秘密入院做手术/data/jpg.mp4.\n",
      "Moviepy - Writing video ./materials/45岁林志玲身体亮红灯！被曝秘密入院做手术/data/jpg.mp4\n",
      "\n"
     ]
    },
    {
     "name": "stderr",
     "output_type": "stream",
     "text": [
      "                                                                                                                       \r"
     ]
    },
    {
     "name": "stdout",
     "output_type": "stream",
     "text": [
      "Moviepy - Done !\n",
      "Moviepy - video ready ./materials/45岁林志玲身体亮红灯！被曝秘密入院做手术/data/jpg.mp4\n",
      "图片和背景视频合成完毕，保存目录： ./materials/45岁林志玲身体亮红灯！被曝秘密入院做手术/data/\n"
     ]
    }
   ],
   "source": [
    "AddImageInBase(jpg_list,mp3_duration,title)"
   ]
  },
  {
   "cell_type": "markdown",
   "metadata": {},
   "source": [
    "## 将字幕按照顺序逐一放入movei模板中"
   ]
  },
  {
   "cell_type": "code",
   "execution_count": 22,
   "metadata": {},
   "outputs": [
    {
     "name": "stdout",
     "output_type": "stream",
     "text": [
      "Moviepy - Building video ./materials/45岁林志玲身体亮红灯！被曝秘密入院做手术/data/strs.mp4.\n",
      "Moviepy - Writing video ./materials/45岁林志玲身体亮红灯！被曝秘密入院做手术/data/strs.mp4\n",
      "\n"
     ]
    },
    {
     "name": "stderr",
     "output_type": "stream",
     "text": [
      "                                                                                                                       \r"
     ]
    },
    {
     "name": "stdout",
     "output_type": "stream",
     "text": [
      "Moviepy - Done !\n",
      "Moviepy - video ready ./materials/45岁林志玲身体亮红灯！被曝秘密入院做手术/data/strs.mp4\n",
      "字幕、解说和背景视频合成完毕，保存目录： ./materials/45岁林志玲身体亮红灯！被曝秘密入院做手术/data/\n"
     ]
    }
   ],
   "source": [
    "AddStrsAndMp3InBase(strs_list,mp3_duration,title,font_path)"
   ]
  },
  {
   "cell_type": "markdown",
   "metadata": {},
   "source": [
    "## 生成封面图片，记得一定要先做好封面.jpg文件"
   ]
  },
  {
   "cell_type": "code",
   "execution_count": 23,
   "metadata": {},
   "outputs": [
    {
     "name": "stdout",
     "output_type": "stream",
     "text": [
      "封面图片制作完毕，目录： materials/45岁林志玲身体亮红灯！被曝秘密入院做手术/clean_jpg/\n"
     ]
    }
   ],
   "source": [
    "# 这里要自己选择一张图片,默认第一张\n",
    "MakeCoverImage(title)"
   ]
  },
  {
   "cell_type": "markdown",
   "metadata": {},
   "source": [
    "## 根据封面图片生成不到1秒视频用于合成 "
   ]
  },
  {
   "cell_type": "code",
   "execution_count": 24,
   "metadata": {},
   "outputs": [
    {
     "name": "stdout",
     "output_type": "stream",
     "text": [
      "封面视频制作完毕，保存目录： ./materials/45岁林志玲身体亮红灯！被曝秘密入院做手术/data/\n"
     ]
    }
   ],
   "source": [
    "MakeCoverVideo(title)"
   ]
  },
  {
   "cell_type": "markdown",
   "metadata": {},
   "source": [
    "## 封面视频添加title字幕"
   ]
  },
  {
   "cell_type": "code",
   "execution_count": 25,
   "metadata": {},
   "outputs": [
    {
     "name": "stdout",
     "output_type": "stream",
     "text": [
      "Moviepy - Building video ./materials/45岁林志玲身体亮红灯！被曝秘密入院做手术/data/title.mp4.\n",
      "Moviepy - Writing video ./materials/45岁林志玲身体亮红灯！被曝秘密入院做手术/data/title.mp4\n",
      "\n"
     ]
    },
    {
     "name": "stderr",
     "output_type": "stream",
     "text": [
      "                                                                                                                       \r"
     ]
    },
    {
     "name": "stdout",
     "output_type": "stream",
     "text": [
      "Moviepy - Done !\n",
      "Moviepy - video ready ./materials/45岁林志玲身体亮红灯！被曝秘密入院做手术/data/title.mp4\n",
      "封面视频添加Title完毕\n"
     ]
    }
   ],
   "source": [
    "CoverImageAddTitle(title,font_path)"
   ]
  },
  {
   "cell_type": "markdown",
   "metadata": {},
   "source": [
    "## 拼接全部视频"
   ]
  },
  {
   "cell_type": "code",
   "execution_count": 26,
   "metadata": {},
   "outputs": [
    {
     "name": "stdout",
     "output_type": "stream",
     "text": [
      "Moviepy - Building video materials/45岁林志玲身体亮红灯！被曝秘密入院做手术/data/45岁林志玲身体亮红灯！被曝秘密入院做手术.mp4.\n",
      "MoviePy - Writing audio in 45岁林志玲身体亮红灯！被曝秘密入院做手术TEMP_MPY_wvf_snd.mp3\n"
     ]
    },
    {
     "name": "stderr",
     "output_type": "stream",
     "text": [
      "                                                                                                                       \r"
     ]
    },
    {
     "name": "stdout",
     "output_type": "stream",
     "text": [
      "MoviePy - Done.\n",
      "Moviepy - Writing video materials/45岁林志玲身体亮红灯！被曝秘密入院做手术/data/45岁林志玲身体亮红灯！被曝秘密入院做手术.mp4\n",
      "\n"
     ]
    },
    {
     "name": "stderr",
     "output_type": "stream",
     "text": [
      "                                                                                                                       \r"
     ]
    },
    {
     "name": "stdout",
     "output_type": "stream",
     "text": [
      "Moviepy - Done !\n",
      "Moviepy - video ready materials/45岁林志玲身体亮红灯！被曝秘密入院做手术/data/45岁林志玲身体亮红灯！被曝秘密入院做手术.mp4\n"
     ]
    }
   ],
   "source": [
    "path_cover = \"./materials_base/start.mp4\" # 自制片头\n",
    "path_end = \"./materials_base/end.mp4\" # 自制片尾\n",
    "title_mp4 = \"./materials/\" + title + \"/data/title.mp4\" # 合成的封面\n",
    "StitchingAllVideo(path_cover,path_end,title_mp4,title)"
   ]
  },
  {
   "cell_type": "markdown",
   "metadata": {},
   "source": [
    "## 添加水印完成合成"
   ]
  },
  {
   "cell_type": "code",
   "execution_count": 27,
   "metadata": {},
   "outputs": [
    {
     "name": "stdout",
     "output_type": "stream",
     "text": [
      "Moviepy - Building video materials/45岁林志玲身体亮红灯！被曝秘密入院做手术/45岁林志玲身体亮红灯！被曝秘密入院做手术.mp4.\n",
      "MoviePy - Writing audio in 45岁林志玲身体亮红灯！被曝秘密入院做手术TEMP_MPY_wvf_snd.mp3\n"
     ]
    },
    {
     "name": "stderr",
     "output_type": "stream",
     "text": [
      "                                                                                                                       \r"
     ]
    },
    {
     "name": "stdout",
     "output_type": "stream",
     "text": [
      "MoviePy - Done.\n",
      "Moviepy - Writing video materials/45岁林志玲身体亮红灯！被曝秘密入院做手术/45岁林志玲身体亮红灯！被曝秘密入院做手术.mp4\n",
      "\n"
     ]
    },
    {
     "name": "stderr",
     "output_type": "stream",
     "text": [
      "                                                                                                                       \r"
     ]
    },
    {
     "name": "stdout",
     "output_type": "stream",
     "text": [
      "Moviepy - Done !\n",
      "Moviepy - video ready materials/45岁林志玲身体亮红灯！被曝秘密入院做手术/45岁林志玲身体亮红灯！被曝秘密入院做手术.mp4\n",
      "全部合成完毕文件目录： materials/45岁林志玲身体亮红灯！被曝秘密入院做手术/\n"
     ]
    }
   ],
   "source": [
    "logo_path = \"materials_base/logo.png\"\n",
    "AddLogo(title,logo_path)"
   ]
  },
  {
   "cell_type": "code",
   "execution_count": 28,
   "metadata": {},
   "outputs": [],
   "source": [
    "# 删除生成的mp3文件\n",
    "path = './'\n",
    "for infile in glob.glob(os.path.join(path, '*.mp3')):\n",
    "    os.remove(infile)"
   ]
  },
  {
   "cell_type": "code",
   "execution_count": null,
   "metadata": {},
   "outputs": [],
   "source": []
  },
  {
   "cell_type": "code",
   "execution_count": null,
   "metadata": {},
   "outputs": [],
   "source": []
  },
  {
   "cell_type": "code",
   "execution_count": null,
   "metadata": {},
   "outputs": [],
   "source": [
    "\n"
   ]
  },
  {
   "cell_type": "code",
   "execution_count": null,
   "metadata": {},
   "outputs": [],
   "source": []
  },
  {
   "cell_type": "code",
   "execution_count": null,
   "metadata": {},
   "outputs": [],
   "source": []
  },
  {
   "cell_type": "code",
   "execution_count": null,
   "metadata": {},
   "outputs": [],
   "source": []
  }
 ],
 "metadata": {
  "hide_input": false,
  "kernelspec": {
   "display_name": "Python 3",
   "language": "python",
   "name": "python3"
  },
  "language_info": {
   "codemirror_mode": {
    "name": "ipython",
    "version": 3
   },
   "file_extension": ".py",
   "mimetype": "text/x-python",
   "name": "python",
   "nbconvert_exporter": "python",
   "pygments_lexer": "ipython3",
   "version": "3.6.5"
  },
  "toc": {
   "base_numbering": 1,
   "nav_menu": {},
   "number_sections": true,
   "sideBar": true,
   "skip_h1_title": false,
   "title_cell": "Table of Contents",
   "title_sidebar": "图文生成视频通用版",
   "toc_cell": false,
   "toc_position": {
    "height": "calc(100% - 180px)",
    "left": "10px",
    "top": "150px",
    "width": "331px"
   },
   "toc_section_display": true,
   "toc_window_display": true
  }
 },
 "nbformat": 4,
 "nbformat_minor": 2
}
