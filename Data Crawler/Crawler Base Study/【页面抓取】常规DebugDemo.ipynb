{
 "cells": [
  {
   "cell_type": "markdown",
   "metadata": {},
   "source": [
    "# 无需转码  \n",
    "http://www.cwestc.com 中国煤炭新闻网"
   ]
  },
  {
   "cell_type": "code",
   "execution_count": 1,
   "metadata": {},
   "outputs": [],
   "source": [
    "import requests\n",
    "from bs4 import BeautifulSoup\n",
    "url = \"http://www.cwestc.com/MroeNews.aspx?gd=1\"\n",
    "html = requests.get(url)\n",
    "soup =  BeautifulSoup(html.text,\"lxml\")\n",
    "lptable = soup.find('table',width='780')"
   ]
  },
  {
   "cell_type": "code",
   "execution_count": 9,
   "metadata": {},
   "outputs": [
    {
     "name": "stdout",
     "output_type": "stream",
     "text": [
      "http://www.cwestc.com/newshtml/2021-7-6/679769.shtml\n",
      "http://www.cwestc.com/newshtml/2021-7-6/679752.shtml\n",
      "http://www.cwestc.com/newshtml/2021-7-6/679751.shtml\n",
      "http://www.cwestc.com/newshtml/2021-7-6/679749.shtml\n",
      "http://www.cwestc.com/newshtml/2021-7-6/679748.shtml\n",
      "http://www.cwestc.com/newshtml/2021-7-6/679747.shtml\n",
      "http://www.cwestc.com/newshtml/2021-7-5/679634.shtml\n",
      "http://www.cwestc.com/newshtml/2021-7-5/679633.shtml\n",
      "http://www.cwestc.com/newshtml/2021-7-5/679615.shtml\n",
      "http://www.cwestc.com/newshtml/2021-7-5/679598.shtml\n",
      "http://www.cwestc.com/newshtml/2021-7-5/679594.shtml\n",
      "http://www.cwestc.com/newshtml/2021-7-5/679574.shtml\n",
      "http://www.cwestc.com/newshtml/2021-7-3/679396.shtml\n",
      "http://www.cwestc.com/newshtml/2021-7-3/679394.shtml\n",
      "http://www.cwestc.com/newshtml/2021-7-3/679393.shtml\n",
      "http://www.cwestc.com/newshtml/2021-7-3/679364.shtml\n",
      "http://www.cwestc.com/newshtml/2021-7-3/679363.shtml\n",
      "http://www.cwestc.com/newshtml/2021-7-3/679345.shtml\n",
      "http://www.cwestc.com/newshtml/2021-7-2/679194.shtml\n",
      "http://www.cwestc.com/newshtml/2021-7-2/679193.shtml\n",
      "http://www.cwestc.com/newshtml/2021-7-2/679192.shtml\n",
      "http://www.cwestc.com/newshtml/2021-7-2/679186.shtml\n",
      "http://www.cwestc.com/newshtml/2021-7-2/679181.shtml\n",
      "http://www.cwestc.com/newshtml/2021-7-2/679180.shtml\n",
      "http://www.cwestc.com/newshtml/2021-7-2/679179.shtml\n"
     ]
    }
   ],
   "source": [
    "for i in lptable.find_all(\"td\",width=\"680\"):\n",
    "    print(\"http://www.cwestc.com\" + i.find('a')[\"href\"])"
   ]
  },
  {
   "cell_type": "code",
   "execution_count": 11,
   "metadata": {},
   "outputs": [],
   "source": [
    "import requests\n",
    "from bs4 import BeautifulSoup\n",
    "url = \"http://www.cwestc.com/MroeNews.aspx?gd=1\"\n",
    "html = requests.get(url)\n",
    "soup =  BeautifulSoup(html.text,\"lxml\")\n",
    "lptable = soup.find('table',width='780')\n",
    "\n",
    "list_a = []\n",
    "for i in lptable.find_all(\"td\",width=\"680\"): \n",
    "\n",
    "    title = i.b.strong.a.string\n",
    "    href = \"http://www.cwestc.com\"+i.find('a')['href']\n",
    "#     date = href.split(\"/\")[4]\n",
    "    list_a.append((title,href)) \n"
   ]
  },
  {
   "cell_type": "code",
   "execution_count": 13,
   "metadata": {},
   "outputs": [],
   "source": [
    "import pandas as pd\n",
    "df = pd.DataFrame(list_a)\n",
    "df.to_excel(\"x.xlsx\")"
   ]
  },
  {
   "cell_type": "code",
   "execution_count": 21,
   "metadata": {},
   "outputs": [],
   "source": [
    "html = requests.get(href)\n",
    "html.encoding = 'utf-8'\n",
    "soup = BeautifulSoup(html.text,'lxml')\n",
    "soup.find(\"td\",class_=\"newsContent\")"
   ]
  },
  {
   "cell_type": "markdown",
   "metadata": {},
   "source": [
    "# 需转码  \n",
    "http://energy.people.com.cn/GB/71898/ 人民能源网"
   ]
  },
  {
   "cell_type": "code",
   "execution_count": 4,
   "metadata": {},
   "outputs": [
    {
     "name": "stdout",
     "output_type": "stream",
     "text": [
      "煤电装机过剩缓解 2023年亮红灯地区降至三个  & http://energy.people.com.cn/n1/2020/0227/c71661-31607025.html & 2020-02-27\n",
      "煤炭市场整体供需正逐步趋向宽松  & http://energy.people.com.cn/n1/2020/0225/c71661-31603095.html & 2020-02-25\n",
      "内蒙古煤矿有序复工复产 日销煤炭突破200万吨  & http://energy.people.com.cn/n1/2020/0220/c71661-31596709.html & 2020-02-20\n",
      "力解“燃煤”之急 转产医用物资――内蒙古企业纷纷复工保障全国能源物资供给 & http://energy.people.com.cn/n1/2020/0214/c71661-31587351.html & 2020-02-14\n",
      "安徽煤炭产能已恢复94.5% & http://energy.people.com.cn/n1/2020/0213/c71661-31585099.html & 2020-02-13\n",
      "内蒙古73处煤矿复工复产 & http://energy.people.com.cn/n1/2020/0213/c71661-31585092.html & 2020-02-13\n",
      "朔黄铁路：紧抓疫情防控 全力保障电煤运输 & http://energy.people.com.cn/n1/2020/0205/c71661-31572840.html & 2020-02-05\n",
      "三峡水库持续加大补水力度 & http://energy.people.com.cn/n1/2020/0205/c71661-31571835.html & 2020-02-05\n",
      "能源局：优先安排好疫情重点地区煤炭供应 严禁在合同约定以外随意涨价 & http://energy.people.com.cn/n1/2020/0203/c71661-31568492.html & 2020-02-03\n",
      "绿皮火车上煤工：每天拎2000多桶煤只为温暖回家路 & http://energy.people.com.cn/n1/2020/0115/c71661-31549156.html & 2020-01-15\n",
      "山西煤层气产量达71亿立方米 & http://energy.people.com.cn/n1/2020/0113/c71661-31545450.html & 2020-01-13\n",
      "严寒中守护煤运通道的“钢丝哥” & http://energy.people.com.cn/n1/2020/0103/c71661-31534223.html & 2020-01-03\n",
      "守护煤运通道 & http://energy.people.com.cn/n1/2020/0103/c71661-31534212.html & 2020-01-03\n",
      "黑炭变“白金” 这是片蓝海 & http://energy.people.com.cn/n1/2020/0103/c71661-31534211.html & 2020-01-03\n",
      "浅谈开发利用煤层气的现实意义 & http://energy.people.com.cn/n1/2019/1230/c71661-31528824.html & 2019-12-30\n"
     ]
    }
   ],
   "source": [
    "import requests\n",
    "from bs4 import BeautifulSoup\n",
    "url = \"http://energy.people.com.cn/GB/71898/\"\n",
    "html = requests.get(url)\n",
    "# 转换编码\n",
    "html.encoding='gb2312'\n",
    "soup = BeautifulSoup(html.text,\"lxml\")\n",
    "for i in soup.find_all(\"div\",class_=\"hdNews clearfix\"):\n",
    "    title = i.p.strong.a.string\n",
    "    href = \"http://energy.people.com.cn\"+i.a['href']\n",
    "    #text = i.find('p',class_=\"p2 pfir\").string\n",
    "    date=i.a[\"href\"].split(\"/\")[2]+\"-\"+i.a[\"href\"].split(\"/\")[3][0:2]+\"-\"+i.a[\"href\"].split(\"/\")[3][2:4]\n",
    "    print(title,\"&\",href,\"&\",date)"
   ]
  },
  {
   "cell_type": "code",
   "execution_count": null,
   "metadata": {},
   "outputs": [],
   "source": []
  }
 ],
 "metadata": {
  "kernelspec": {
   "display_name": "Python 3",
   "language": "python",
   "name": "python3"
  },
  "language_info": {
   "codemirror_mode": {
    "name": "ipython",
    "version": 3
   },
   "file_extension": ".py",
   "mimetype": "text/x-python",
   "name": "python",
   "nbconvert_exporter": "python",
   "pygments_lexer": "ipython3",
   "version": "3.6.5"
  },
  "toc": {
   "base_numbering": 1,
   "nav_menu": {},
   "number_sections": true,
   "sideBar": true,
   "skip_h1_title": false,
   "title_cell": "Table of Contents",
   "title_sidebar": "Contents",
   "toc_cell": false,
   "toc_position": {},
   "toc_section_display": true,
   "toc_window_display": false
  }
 },
 "nbformat": 4,
 "nbformat_minor": 2
}
