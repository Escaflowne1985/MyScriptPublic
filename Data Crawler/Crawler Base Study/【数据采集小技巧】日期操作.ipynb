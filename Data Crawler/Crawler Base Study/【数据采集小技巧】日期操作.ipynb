{
 "cells": [
  {
   "cell_type": "code",
   "execution_count": 32,
   "metadata": {},
   "outputs": [],
   "source": [
    "import time, datetime"
   ]
  },
  {
   "cell_type": "markdown",
   "metadata": {},
   "source": [
    "# datetime 处理当前日期、时间、转换"
   ]
  },
  {
   "cell_type": "code",
   "execution_count": 31,
   "metadata": {},
   "outputs": [
    {
     "name": "stdout",
     "output_type": "stream",
     "text": [
      "<class 'datetime.datetime'> 2021-02-09 16:58:20.220641\n",
      "<class 'datetime.date'> 2021-02-09\n",
      "<class 'str'> 2021-02-09 16:58:20\n",
      "<class 'datetime.datetime'> 2021-02-09 16:58:20\n",
      "<class 'datetime.date'> 2021-02-09\n"
     ]
    }
   ],
   "source": [
    "datetime_now = datetime.datetime.now()  \n",
    "print(type(datetime_now),datetime_now)\n",
    "\n",
    "date_date = datetime_now .date() \n",
    "print(type(date_date),date_date) \n",
    "\n",
    "datetime_str = datetime.datetime.strftime(datetime_now,\"%Y-%m-%d %H:%M:%S\")\n",
    "print(type(datetime_str),datetime_str) \n",
    "\n",
    "datetime_now = datetime.datetime.strptime(datetime_str,'%Y-%m-%d %H:%M:%S')\n",
    "print(type(datetime_now),datetime_now) \n",
    "\n",
    "date_date = datetime.datetime.strptime(datetime_str,'%Y-%m-%d %H:%M:%S').date()\n",
    "print(type(date_date),date_date) "
   ]
  },
  {
   "cell_type": "markdown",
   "metadata": {},
   "source": [
    "# 日期类型的加减操作"
   ]
  },
  {
   "cell_type": "code",
   "execution_count": 33,
   "metadata": {},
   "outputs": [
    {
     "name": "stdout",
     "output_type": "stream",
     "text": [
      "2021-02-09\n",
      "2021-02-08\n",
      "2021-02-10\n"
     ]
    }
   ],
   "source": [
    "today = datetime.datetime.today()\n",
    "today = datetime.datetime.today().date()\n",
    "yestoday = today + datetime.timedelta(days=-1)\n",
    "tomorrow = today + datetime.timedelta(days=1)\n",
    "print(today) \n",
    "print(yestoday)\n",
    "print(tomorrow)"
   ]
  },
  {
   "cell_type": "markdown",
   "metadata": {},
   "source": [
    "# time 当前日期数据格式化"
   ]
  },
  {
   "cell_type": "code",
   "execution_count": 35,
   "metadata": {},
   "outputs": [
    {
     "name": "stdout",
     "output_type": "stream",
     "text": [
      "2021-02-09 17:03:39\n",
      "2021-02-09 17:03:39\n",
      "2021-02-09 09:03:39\n"
     ]
    }
   ],
   "source": [
    "timeStamp = time.time()\n",
    "timeArray = time.localtime(timeStamp)\n",
    "otherStyleTime = time.strftime(\"%Y-%m-%d %H:%M:%S\", timeArray)\n",
    "print(otherStyleTime) \n",
    "\n",
    "# 使用datetime\n",
    "timeStamp = int(timeStamp)\n",
    "dateArray = datetime.datetime.fromtimestamp(timeStamp)\n",
    "otherStyleTime = dateArray.strftime(\"%Y-%m-%d %H:%M:%S\")\n",
    "print(otherStyleTime) \n",
    "\n",
    "# 使用datetime，指定utc时间，相差8小时\n",
    "timeStamp = int(timeStamp)\n",
    "dateArray = datetime.datetime.utcfromtimestamp(timeStamp)\n",
    "otherStyleTime = dateArray.strftime(\"%Y-%m-%d %H:%M:%S\")\n",
    "print(otherStyleTime)"
   ]
  },
  {
   "cell_type": "code",
   "execution_count": null,
   "metadata": {},
   "outputs": [],
   "source": []
  }
 ],
 "metadata": {
  "hide_input": false,
  "kernelspec": {
   "display_name": "Python 3",
   "language": "python",
   "name": "python3"
  },
  "language_info": {
   "codemirror_mode": {
    "name": "ipython",
    "version": 3
   },
   "file_extension": ".py",
   "mimetype": "text/x-python",
   "name": "python",
   "nbconvert_exporter": "python",
   "pygments_lexer": "ipython3",
   "version": "3.6.5"
  },
  "toc": {
   "base_numbering": 1,
   "nav_menu": {},
   "number_sections": true,
   "sideBar": true,
   "skip_h1_title": false,
   "title_cell": "Table of Contents",
   "title_sidebar": "Contents",
   "toc_cell": false,
   "toc_position": {},
   "toc_section_display": true,
   "toc_window_display": false
  }
 },
 "nbformat": 4,
 "nbformat_minor": 2
}
