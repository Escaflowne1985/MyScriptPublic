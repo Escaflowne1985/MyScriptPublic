{
 "cells": [
  {
   "cell_type": "code",
   "execution_count": 1,
   "metadata": {},
   "outputs": [],
   "source": [
    "import warnings\n",
    "warnings.filterwarnings(\"ignore\")\n",
    "import time\n",
    "import pandas as pd\n",
    "from bs4 import BeautifulSoup\n",
    "import requests\n",
    "from PIL import Image\n",
    "import matplotlib.pyplot as plt\n",
    "from selenium import webdriver#加载驱动\n",
    "from selenium.webdriver.common.keys import Keys#控制按键\n",
    "import requests\n",
    "import hashlib\n",
    "phjs=R\"G:\\Full stack algorithm_Python_project\\05.爬虫Project\\浏览器驱动\\phantomjs\\bin\\phantomjs.exe\"\n",
    "driver = webdriver.PhantomJS(phjs)#运行浏览器驱动打开浏览器\n",
    "driver.get(\"http://www.gjsy.gov.cn/cxzl/\")\n",
    "driver.switch_to_default_content()"
   ]
  },
  {
   "cell_type": "code",
   "execution_count": 2,
   "metadata": {},
   "outputs": [],
   "source": [
    "frame = driver.find_elements_by_tag_name('iframe')[0]"
   ]
  },
  {
   "cell_type": "code",
   "execution_count": 3,
   "metadata": {},
   "outputs": [],
   "source": [
    "driver.switch_to_frame(frame)"
   ]
  },
  {
   "cell_type": "code",
   "execution_count": 4,
   "metadata": {},
   "outputs": [
    {
     "data": {
      "text/plain": [
       "'<!DOCTYPE html PUBLIC \"-//W3C//DTD XHTML 1.0 Transitional//EN\" \"http://www.w3.org/TR/xhtml1/DTD/xhtml1-transitional.dtd\"><html xmlns=\"http://www.w3.org/1999/xhtml\"><head>\\n<meta http-equiv=\"Content-Type\" content=\"text/html; charset=utf-8\">\\n<title>事业单位在线</title>\\n<style type=\"text/css\">\\n<!--\\n.hui12 {\\tfont-family: \"宋体\";\\n\\tfont-size: 12px;\\n\\tline-height: 22px;\\n\\tcolor: #999999;\\n}\\n.sl14c1 {\\tfont-family: \"宋体\";\\n\\tfont-size: 14px;\\n\\tfont-weight: bold;\\n\\tcolor: #046aaf;\\n\\tline-height: 22px;\\n}\\n.hei14C {\\n\\tfont-family: \"宋体\";\\n\\tfont-size: 16px;\\n\\tline-height: 24px;\\n\\tfont-weight: bold;\\n\\tcolor: #333333;\\n}\\nbody {\\n    margin-top: 0px;\\n    margin-bottom: 0px;\\n    margin-left: 0px;\\n    margin-right: 0px;\\n    background-image: url();\\n}\\n.black12 {\\n    font-family: \"宋体\";\\n    font-size: 12px;\\n    font-weight: normal;\\n    color: #000000;\\n    line-height: 20px;\\n}\\n.sl14c {\\n    font-family: \"宋体\";\\n    font-size: 14px;\\n    font-weight: bold;\\n    color: #046aaf;\\n    line-height: 24px;\\n}\\na:link {\\n    text-decoration: none;\\n}\\na:visited {\\n    text-decoration: none;\\n}\\na:hover {\\n    text-decoration: underline;\\n}\\na:active {\\n    text-decoration: none;\\n}\\n.kuang {\\n    border-top-width: 0px;\\n    border-right-width: 1px;\\n    border-bottom-width: 1px;\\n    border-left-width: 1px;\\n    border-top-style: none;\\n    border-right-style: solid;\\n    border-bottom-style: solid;\\n    border-left-style: solid;\\n    border-right-color: #e0e0df;\\n    border-bottom-color: #e0e0df;\\n    border-left-color: #e0e0df;\\n}\\n.kuangss {\\n    border: 1px solid #819fbb;\\n    height: 15px;\\n}\\n\\n.kuang4 {\\n    border: 1px solid #e0e0df;\\n}\\n.kuang2 {\\n    border-top-width: 0px;\\n    border-right-width: 1px;\\n    border-bottom-width: 0px;\\n    border-left-width: 1px;\\n    border-top-style: none;\\n    border-right-style: solid;\\n    border-bottom-style: none;\\n    border-left-style: solid;\\n    border-right-color: #e0e0df;\\n    border-left-color: #e0e0df;\\n}\\n.w14 {\\n    font-family: \"宋体\";\\n    font-size: 14px;\\n    font-weight: normal;\\n    color: #FFFFFF;\\n    line-height: 24px;\\n}\\n.black14 {\\n    font-family: \"宋体\";\\n    font-size: 14px;\\n    font-weight: normal;\\n    color: #000000;\\n    line-height: 24px;\\n}\\n.xx {\\n    border-bottom-width: 1px;\\n    border-bottom-style: dashed;\\n    border-bottom-color: #CCCCCC;\\n}\\n.blue14 {\\n    font-family: \"宋体\";\\n    font-size: 14px;\\n    font-weight: normal;\\n    color: #074871;\\n    line-height: 24px;\\n}\\n.kuang3 {\\n    border-top-width: 0px;\\n    border-right-width: 1px;\\n    border-bottom-width: 1px;\\n    border-left-width: 1px;\\n    border-top-style: none;\\n    border-right-style: solid;\\n    border-bottom-style: solid;\\n    border-left-style: solid;\\n    border-right-color: #e0e0df;\\n    border-left-color: #e0e0df;\\n    border-bottom-color: #e0e0df;\\n}\\n.w12 {\\n    font-family: \"宋体\";\\n    font-size: 12px;\\n    font-weight: normal;\\n    color: #FFFFFF;\\n    line-height: 24px;\\n}\\n\\n.TRS_Editor TABLE{font-family:宋体;font-size:14px;}\\n.TRS_Editor{font-family:宋体;font-size:14px;}\\n.TRS_Editor P{font-family:宋体;font-size:14px;margin-top:1em;margin-bottom:1em;line-height:1.4;}\\n.TRS_Editor H1,.TRS_Editor H2,.TRS_Editor H3,.TRS_Editor H4,.TRS_Editor H5,.TRS_Editor H6,.TRS_Editor HR,.TRS_Editor BLOCKQUOTE,.TRS_Editor DL,.TRS_Editor DD,.TRS_Editor DT,.TRS_Editor OL,.TRS_Editor UL,.TRS_Editor LI,.TRS_Editor PRE,.TRS_Editor CODE,.TRS_Editor TEXTAREA,.TRS_Editor SELECT,.TRS_Editor CITE,.TRS_Editor PRE,.TRS_Editor CENTER,.TRS_Editor TABLE,.TRS_Editor DIV{margin-top:1em;margin-bottom:1em;line-height:1.4;}\\n.TRS_Editor FORM,.TRS_Editor FIELDSET,.TRS_Editor LEGEND,.TRS_Editor SELECT,.TRS_Editor TR,.TRS_Editor TD,.TRS_Editor TH{margin-top:1em;margin-bottom:1em;line-height:1.4;}\\n.TRS_Editor BUTTON,.TRS_Editor OPTION,.TRS_Editor ADDRESS,.TRS_Editor DFN,.TRS_Editor EM,.TRS_Editor VAR,.TRS_Editor KBD,.TRS_Editor INPUT,.TRS_Editor SMALL,.TRS_Editor SAMP,.TRS_Editor SUB,.TRS_Editor SUP,.TRS_Editor SPAN,.TRS_Editor A,.TRS_Editor B,.TRS_Editor I,.TRS_Editor U,.TRS_Editor S,.TRS_Editor STRONG,.TRS_Editor LABEL,.TRS_Editor IMG,.TRS_Editor BR,.TRS_Editor FONT{margin-top:0;margin-bottom:0;text-indent:0;}\\n\\nP.MsoNormal {\\n    TEXT-JUSTIFY: inter-ideograph; TEXT-ALIGN: justify; MARGIN: 0cm 0cm 0pt; FONT-FAMILY: \"Calibri\",\"sans-serif\"; FONT-SIZE: 10.5pt\\n}\\nLI.MsoNormal {\\n    TEXT-JUSTIFY: inter-ideograph; TEXT-ALIGN: justify; MARGIN: 0cm 0cm 0pt; FONT-FAMILY: \"Calibri\",\"sans-serif\"; FONT-SIZE: 10.5pt\\n}\\nDIV.MsoNormal {\\n    TEXT-JUSTIFY: inter-ideograph; TEXT-ALIGN: justify; MARGIN: 0cm 0cm 0pt; FONT-FAMILY: \"Calibri\",\"sans-serif\"; FONT-SIZE: 10.5pt\\n}\\n.TRS_PreAppend DIV.Section1 {\\n    page: Section1\\n}\\n-->\\n</style>\\n<script type=\"text/javascript\" language=\"JavaScript\"> \\n<!-- \\n\\tfunction trans(){\\n\\t\\tdocument.transform.submit();\\n\\t}\\n \\n//-->  \\n</script>\\n</head>\\n<body>\\n<table align=\"center\" width=\"100%\" border=\"0\" cellspacing=\"0\" cellpadding=\"0\">\\n  <tbody><tr>\\n    \\n    <td width=\"774\"><table width=\"100%\" border=\"0\" cellspacing=\"0\" cellpadding=\"0\">\\n      <tbody><tr>\\n        <td align=\"center\" valign=\"top\"><table width=\"90%\" border=\"0\" cellspacing=\"0\" cellpadding=\"0\">\\n          <tbody><tr>\\n            <td height=\"20\" align=\"center\"></td>\\n          </tr>\\n          <tr>\\n            <td height=\"20\" align=\"center\"></td>\\n          </tr>\\n          <tr>\\n            <td height=\"20\" align=\"center\"></td>\\n          </tr>\\n          <tr>\\n            <td height=\"20\" align=\"center\" class=\"hei14C\"><p align=\"center\"><img src=\"/pages/images/mzsm.jpg\"> </p></td>\\n          </tr>\\n          <tr>\\n            <td height=\"10\"></td>\\n          </tr>\\n          <tr>\\n            <td align=\"left\" style=\"line-height:25px\">\\n            <div class=\"TRS_Editor\">\\n<div class=\"TRS_PreAppend\" style=\"overflow-x: hidden; word-break: break-all\">\\n<p class=\"MsoNormal\"><font style=\"line-height: 180%; font-size: 14px; color: #000000; text-decoration: none; font-family: \\'宋体\\'\">&nbsp;&nbsp;&nbsp;&nbsp;本网站提供全国已登记的事业单位法人信息查询。有关信息来源于全国各级事业单位登记管理机关。查询结果仅供参考，不作为法律依据。对查询结果有异议或要了解更多信息，可联系该法人的事业单位登记管理机关。</font></p>\\n</div>\\n</div></td>\\n          </tr>\\n          <tr><td height=\"30\" align=\"center\"><form action=\"/wsss/view\" method=\"post\" name=\"transform\">\\n            <input type=\"hidden\" value=\"100000\" name=\"c\">\\n            <input type=\"hidden\" value=\"1\" name=\"t\">\\n            <input type=\"hidden\" value=\"1565432917162\" name=\"ts\">\\n          <input type=\"button\" onclick=\"trans();return false;\" value=\"知道了\"></form></td></tr>\\n        </tbody></table></td>\\n      </tr>\\n    </tbody></table></td>\\n  </tr>\\n  \\n<tr>\\n    <td height=\"10\" colspan=\"3\"></td>\\n  </tr>\\n</tbody></table>\\n\\n</body></html>'"
      ]
     },
     "execution_count": 4,
     "metadata": {},
     "output_type": "execute_result"
    }
   ],
   "source": [
    "driver.page_source"
   ]
  },
  {
   "cell_type": "code",
   "execution_count": null,
   "metadata": {},
   "outputs": [],
   "source": []
  }
 ],
 "metadata": {
  "hide_input": false,
  "kernelspec": {
   "display_name": "Python 3",
   "language": "python",
   "name": "python3"
  },
  "language_info": {
   "codemirror_mode": {
    "name": "ipython",
    "version": 3
   },
   "file_extension": ".py",
   "mimetype": "text/x-python",
   "name": "python",
   "nbconvert_exporter": "python",
   "pygments_lexer": "ipython3",
   "version": "3.6.5"
  },
  "toc": {
   "base_numbering": 1,
   "nav_menu": {},
   "number_sections": true,
   "sideBar": true,
   "skip_h1_title": false,
   "title_cell": "Table of Contents",
   "title_sidebar": "Contents",
   "toc_cell": false,
   "toc_position": {},
   "toc_section_display": true,
   "toc_window_display": false
  }
 },
 "nbformat": 4,
 "nbformat_minor": 2
}
