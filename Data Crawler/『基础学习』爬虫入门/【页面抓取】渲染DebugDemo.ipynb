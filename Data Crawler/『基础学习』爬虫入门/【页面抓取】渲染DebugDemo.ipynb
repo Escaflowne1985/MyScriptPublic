{
 "cells": [
  {
   "cell_type": "markdown",
   "metadata": {},
   "source": [
    "http://www.cqcoal.com/ 秦皇岛煤炭网"
   ]
  },
  {
   "cell_type": "code",
   "execution_count": 19,
   "metadata": {},
   "outputs": [],
   "source": [
    "#秦皇岛煤炭网微博\n",
    "import requests\n",
    "from bs4 import BeautifulSoup\n",
    "import datetime\n",
    "url = \"http://news.cqcoal.com/manage/newsaction.do?method:webListPageNewsArchivesByTypeid\"\n",
    "post_param = {'pageNum':'1','pageSize':'20','jsonStr':'{\"typeid\":\"238\"}'}\n",
    "return_data = requests.post(url,data =post_param)\n",
    "return_data = return_data.content.decode(\"utf-8\")"
   ]
  },
  {
   "cell_type": "code",
   "execution_count": 20,
   "metadata": {},
   "outputs": [
    {
     "name": "stdout",
     "output_type": "stream",
     "text": [
      "http://news.cqcoal.com/blank/nc.jsp?mid=99623 煤炭供需 疫情过后，煤炭供应过剩的压力会继续得到缓解吗？ 2020-02-28\n",
      "http://news.cqcoal.com/blank/nc.jsp?mid=99600 煤炭供需 辽宁：齐抓共管促煤矿安全复产 2020-02-27\n",
      "http://news.cqcoal.com/blank/nc.jsp?mid=99597 煤炭供需 山西省两部门联合开展煤矿“一通三防”专项监察 2020-02-27\n",
      "http://news.cqcoal.com/blank/nc.jsp?mid=99596 煤炭供需 截至2月24日毕节市累计137个煤矿复工复产 产能6957万吨 2020-02-27\n",
      "http://news.cqcoal.com/blank/nc.jsp?mid=99595 煤炭供需 1月份山东生产原煤977.7万吨 同比下降8.69% 2020-02-27\n",
      "http://news.cqcoal.com/blank/nc.jsp?mid=99594 煤炭供需 1月份河南省生产原煤814.09万吨 同比下降9.1% 2020-02-27\n",
      "http://news.cqcoal.com/blank/nc.jsp?mid=99591 煤炭供需 咸阳市13处煤矿企业已复工复产 产能5011万吨/年 2020-02-27\n",
      "http://news.cqcoal.com/blank/nc.jsp?mid=99588 煤炭供需 内蒙古煤炭日销量破200万吨 2020-02-26\n",
      "http://news.cqcoal.com/blank/nc.jsp?mid=99580 煤炭供需 准格尔旗49座煤矿复工复产 复工复产率达到70% 2020-02-26\n",
      "http://news.cqcoal.com/blank/nc.jsp?mid=99578 煤炭供需 新疆在产煤矿40处 生产能力占全疆总产能的87.9% 2020-02-26\n",
      "http://news.cqcoal.com/blank/nc.jsp?mid=99576 煤炭供需 下游成交频现高价 煤炭供应真的短缺吗？ 2020-02-26\n",
      "http://news.cqcoal.com/blank/nc.jsp?mid=99575 煤炭供需 云南：力争月底煤矿复产率超六成 2020-02-26\n",
      "http://news.cqcoal.com/blank/nc.jsp?mid=99570 煤炭供需 国家发改委：湖北存煤可用54天 2020-02-26\n",
      "http://news.cqcoal.com/blank/nc.jsp?mid=99567 煤炭供需 全国煤矿产能复产率突破70% 2020-02-26\n",
      "http://news.cqcoal.com/blank/nc.jsp?mid=99563 煤炭供需 煤炭市场整体供需正逐步趋向宽松 2020-02-26\n",
      "http://news.cqcoal.com/blank/nc.jsp?mid=99562 煤炭供需 中国煤炭工业协会：防疫复工两手抓 煤矿产能复产率创新高 2020-02-25\n",
      "http://news.cqcoal.com/blank/nc.jsp?mid=99559 煤炭供需 河南：骨干煤炭企业全面复产 保障了省内电煤供应 2020-02-25\n",
      "http://news.cqcoal.com/blank/nc.jsp?mid=99551 煤炭供需 四川省建立煤炭生产日报告制度 2020-02-25\n",
      "http://news.cqcoal.com/blank/nc.jsp?mid=99548 煤炭供需 湖北现存煤493万吨 东北煤炭供应保障近几年最好 2020-02-24\n",
      "http://news.cqcoal.com/blank/nc.jsp?mid=99547 煤炭供需 截至2月20日贵州全省复工复产煤矿达243处 产能14187万吨/年 2020-02-24\n"
     ]
    }
   ],
   "source": [
    "# 解析方法1\n",
    "list_ = []\n",
    "l=return_data.split(\"},{\")\n",
    "for i in [*range(len(l))]:\n",
    "    url= \"http://news.cqcoal.com/blank/nc.jsp?mid=\"+l[i][l[i].find(\"id\")+4:l[i].find(\"typeid\")-2]\n",
    "    title = l[i][l[i].find(\"title\")+8:l[i].find(\"shorttitle\")-3] \n",
    "    typename = l[i][l[i].find(\"typename\")+11:l[i].find(\"typeid2\")-3] \n",
    "    timeStamp = l[i][(l[i].find(\"pubdate\")+10):(l[i].find(\"senddate\")-3)] \n",
    "    description = l[i][l[i].find(\"description\")+14:l[i].find(\"filename\")-3] \n",
    "    timeStamp=int(timeStamp)\n",
    "    dateArray = datetime.datetime.utcfromtimestamp(timeStamp)\n",
    "    pubdate = dateArray.strftime(\"%Y-%m-%d\")\n",
    "    list_.append((url,typename,title,pubdate))\n",
    "    print(url,typename,title,pubdate)"
   ]
  },
  {
   "cell_type": "code",
   "execution_count": 21,
   "metadata": {},
   "outputs": [
    {
     "name": "stdout",
     "output_type": "stream",
     "text": [
      "疫情过后，煤炭供应过剩的压力会继续得到缓解吗？ http://news.cqcoal.com/blank/nc.jsp?mid=99623 2020-02-28\n",
      "辽宁：齐抓共管促煤矿安全复产 http://news.cqcoal.com/blank/nc.jsp?mid=99600 2020-02-27\n",
      "山西省两部门联合开展煤矿“一通三防”专项监察 http://news.cqcoal.com/blank/nc.jsp?mid=99597 2020-02-27\n",
      "截至2月24日毕节市累计137个煤矿复工复产 产能6957万吨 http://news.cqcoal.com/blank/nc.jsp?mid=99596 2020-02-27\n",
      "1月份山东生产原煤977.7万吨 同比下降8.69% http://news.cqcoal.com/blank/nc.jsp?mid=99595 2020-02-27\n",
      "1月份河南省生产原煤814.09万吨 同比下降9.1% http://news.cqcoal.com/blank/nc.jsp?mid=99594 2020-02-27\n",
      "咸阳市13处煤矿企业已复工复产 产能5011万吨/年 http://news.cqcoal.com/blank/nc.jsp?mid=99591 2020-02-27\n",
      "内蒙古煤炭日销量破200万吨 http://news.cqcoal.com/blank/nc.jsp?mid=99588 2020-02-26\n",
      "准格尔旗49座煤矿复工复产 复工复产率达到70% http://news.cqcoal.com/blank/nc.jsp?mid=99580 2020-02-26\n",
      "新疆在产煤矿40处 生产能力占全疆总产能的87.9% http://news.cqcoal.com/blank/nc.jsp?mid=99578 2020-02-26\n",
      "下游成交频现高价 煤炭供应真的短缺吗？ http://news.cqcoal.com/blank/nc.jsp?mid=99576 2020-02-26\n",
      "云南：力争月底煤矿复产率超六成 http://news.cqcoal.com/blank/nc.jsp?mid=99575 2020-02-26\n",
      "国家发改委：湖北存煤可用54天 http://news.cqcoal.com/blank/nc.jsp?mid=99570 2020-02-26\n",
      "全国煤矿产能复产率突破70% http://news.cqcoal.com/blank/nc.jsp?mid=99567 2020-02-26\n",
      "煤炭市场整体供需正逐步趋向宽松 http://news.cqcoal.com/blank/nc.jsp?mid=99563 2020-02-26\n",
      "中国煤炭工业协会：防疫复工两手抓 煤矿产能复产率创新高 http://news.cqcoal.com/blank/nc.jsp?mid=99562 2020-02-25\n",
      "河南：骨干煤炭企业全面复产 保障了省内电煤供应 http://news.cqcoal.com/blank/nc.jsp?mid=99559 2020-02-25\n",
      "四川省建立煤炭生产日报告制度 http://news.cqcoal.com/blank/nc.jsp?mid=99551 2020-02-25\n",
      "湖北现存煤493万吨 东北煤炭供应保障近几年最好 http://news.cqcoal.com/blank/nc.jsp?mid=99548 2020-02-24\n",
      "截至2月20日贵州全省复工复产煤矿达243处 产能14187万吨/年 http://news.cqcoal.com/blank/nc.jsp?mid=99547 2020-02-24\n"
     ]
    }
   ],
   "source": [
    "# 解析方法2\n",
    "import json\n",
    "for i in json.loads(return_data)[\"rows\"]:\n",
    "    title = i[\"title\"]\n",
    "    url = \"http://news.cqcoal.com/blank/nc.jsp?mid=\"+str(i[\"id\"])\n",
    "    timeStamp=int(i[\"pubdate\"])\n",
    "    dateArray = datetime.datetime.utcfromtimestamp(timeStamp)\n",
    "    date = dateArray.strftime(\"%Y-%m-%d\")\n",
    "    print(title,url,date)"
   ]
  },
  {
   "cell_type": "code",
   "execution_count": null,
   "metadata": {},
   "outputs": [],
   "source": []
  },
  {
   "cell_type": "code",
   "execution_count": 1,
   "metadata": {},
   "outputs": [],
   "source": []
  },
  {
   "cell_type": "code",
   "execution_count": null,
   "metadata": {},
   "outputs": [],
   "source": []
  }
 ],
 "metadata": {
  "kernelspec": {
   "display_name": "Python 3",
   "language": "python",
   "name": "python3"
  },
  "language_info": {
   "codemirror_mode": {
    "name": "ipython",
    "version": 3
   },
   "file_extension": ".py",
   "mimetype": "text/x-python",
   "name": "python",
   "nbconvert_exporter": "python",
   "pygments_lexer": "ipython3",
   "version": "3.6.5"
  }
 },
 "nbformat": 4,
 "nbformat_minor": 2
}
