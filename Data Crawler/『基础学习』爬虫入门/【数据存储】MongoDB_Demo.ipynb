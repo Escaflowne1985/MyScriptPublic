{
 "cells": [
  {
   "cell_type": "code",
   "execution_count": 21,
   "metadata": {},
   "outputs": [],
   "source": [
    "#coding:utf-8\n",
    "__author__ = 'Mr.数据杨'\n",
    "__explain__ = '爬虫数据存储mongodb模板' \\\n",
    "\n",
    "import requests\n",
    "from bs4 import BeautifulSoup\n",
    "import pymongo"
   ]
  },
  {
   "cell_type": "code",
   "execution_count": 18,
   "metadata": {},
   "outputs": [],
   "source": [
    "# 获取mongoClient对象\n",
    "client = pymongo.MongoClient(\"localhost\", 27017)\n",
    "# 获取使用的database对象\n",
    "db = client[\"TestNews\"]"
   ]
  },
  {
   "cell_type": "code",
   "execution_count": 19,
   "metadata": {},
   "outputs": [],
   "source": [
    "url = \"http://www.cwestc.com/MroeNews.aspx?gd=1\"\n",
    "html = requests.get(url)\n",
    "soup = BeautifulSoup(html.text,'lxml')"
   ]
  },
  {
   "cell_type": "code",
   "execution_count": 20,
   "metadata": {},
   "outputs": [],
   "source": [
    "lptable = soup.find('table',width='780')\n",
    "for i in lptable.find_all(\"td\",width=\"680\"): \n",
    "    Title = i.b.strong.a.string  # title字段\n",
    "    Url =  \"http://www.cwestc.com\"+i.find('a')['href'] # url字段\n",
    "    Date =  Url.split(\"/\")[4]  # 日期字段\n",
    "    # 根据url抓取正文\n",
    "    content = requests.get(Url)\n",
    "    content.encoding = \"utf-8\"\n",
    "    soup = BeautifulSoup(content.text,'html.parser')\n",
    "    try:\n",
    "        NewsBody = str(soup.find('td',{'class':'newsContent'}))\n",
    "    except:\n",
    "        NewsBody = \"无内容\"\n",
    "    #写入Mongodb\n",
    "    one_page={'title':Title,'url':Url,'date':Date,\"NewsBody\":NewsBody}\n",
    "    db[\"TestNews\"].insert_one(one_page)"
   ]
  }
 ],
 "metadata": {
  "kernelspec": {
   "display_name": "Python 3",
   "language": "python",
   "name": "python3"
  },
  "language_info": {
   "codemirror_mode": {
    "name": "ipython",
    "version": 3
   },
   "file_extension": ".py",
   "mimetype": "text/x-python",
   "name": "python",
   "nbconvert_exporter": "python",
   "pygments_lexer": "ipython3",
   "version": "3.6.5"
  },
  "pycharm": {
   "stem_cell": {
    "cell_type": "raw",
    "metadata": {
     "collapsed": false
    },
    "source": []
   }
  }
 },
 "nbformat": 4,
 "nbformat_minor": 2
}
