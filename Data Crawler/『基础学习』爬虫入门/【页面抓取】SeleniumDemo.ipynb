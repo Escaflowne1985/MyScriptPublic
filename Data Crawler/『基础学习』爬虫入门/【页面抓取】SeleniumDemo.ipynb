{
 "cells": [
  {
   "cell_type": "markdown",
   "metadata": {},
   "source": [
    "http://www.sxcoal.com/news  中国煤炭资源网"
   ]
  },
  {
   "cell_type": "code",
   "execution_count": 5,
   "metadata": {},
   "outputs": [],
   "source": [
    "chrm=R\"./WebDrivers/chromedriver_win32/chromedriver.exe\"\n",
    "import time\n",
    "import re\n",
    "from bs4 import BeautifulSoup\n",
    "import requests\n",
    "from selenium import webdriver#加载驱动\n",
    "from selenium.webdriver.common.keys import Keys#控制按键\n",
    "from selenium.webdriver.chrome.options import Options #模拟器设置\n",
    "### 不想打开模拟器的话\n",
    "# chrome_options=Options()\n",
    "# chrome_options.add_argument('--headless')\n",
    "# driver = webdriver.Chrome(chrm,options=chrome_options)#运行浏览器驱动打开浏览器"
   ]
  },
  {
   "cell_type": "code",
   "execution_count": null,
   "metadata": {},
   "outputs": [],
   "source": [
    "driver = webdriver.Chrome(chrm)\n",
    "driver.get(\"http://www.sxcoal.com/news\")\n",
    "driver.page_source\n",
    "soup=BeautifulSoup(driver.page_source,\"lxml\")\n",
    "cookie=driver.get_cookies()\n",
    "driver.find_element_by_xpath(\"/html/body/div[11]/div/span\").click()\n",
    "def execute_times(times):\n",
    "    for i in range(times + 1):\n",
    "        driver.execute_script(\"window.scrollBy(0,10000)\")\n",
    "        time.sleep(1)\n",
    "        driver.find_element_by_xpath(\"//*[@id='more']\").click()\n",
    "        time.sleep(1)\n",
    "execute_times(1)\n",
    "html = driver.page_source\n",
    "soup = BeautifulSoup(html,\"lxml\")\n",
    "for i in soup.find_all(\"div\",class_=\"artnr\"):    \n",
    "    title = i.select('h4')[0].text.replace(\" \",\"\")\n",
    "    href = i.a['href']\n",
    "    date = i.p.find('span',class_='spandate').string.split(\" \")[1]\n",
    "    print(title,\"&\",href,\"&\",date)  "
   ]
  },
  {
   "cell_type": "code",
   "execution_count": null,
   "metadata": {},
   "outputs": [],
   "source": []
  },
  {
   "cell_type": "code",
   "execution_count": null,
   "metadata": {},
   "outputs": [],
   "source": []
  },
  {
   "cell_type": "markdown",
   "metadata": {},
   "source": [
    "## 各种模拟器配置"
   ]
  },
  {
   "cell_type": "code",
   "execution_count": 7,
   "metadata": {},
   "outputs": [
    {
     "name": "stderr",
     "output_type": "stream",
     "text": [
      "C:\\Users\\AERO\\Anaconda3\\lib\\site-packages\\ipykernel_launcher.py:7: DeprecationWarning: use options instead of firefox_options\n",
      "  import sys\n"
     ]
    }
   ],
   "source": [
    "# Firefox\n",
    "from selenium import webdriver\n",
    "from selenium.webdriver.firefox.options import Options\n",
    "options = Options()\n",
    "options.add_argument('-headless')\n",
    "options.add_argument('--disable-gpu')\n",
    "driver =  webdriver.Firefox(firefox_options=options,service_log_path=\"./WebDrivers/logs/geckodriver.log\")"
   ]
  },
  {
   "cell_type": "code",
   "execution_count": 6,
   "metadata": {},
   "outputs": [
    {
     "name": "stderr",
     "output_type": "stream",
     "text": [
      "C:\\Users\\AERO\\Anaconda3\\lib\\site-packages\\selenium\\webdriver\\phantomjs\\webdriver.py:49: UserWarning: Selenium support for PhantomJS has been deprecated, please use headless versions of Chrome or Firefox instead\n",
      "  warnings.warn('Selenium support for PhantomJS has been deprecated, please use headless '\n"
     ]
    }
   ],
   "source": [
    "# PhantomJS\n",
    "from selenium import webdriver\n",
    "driver = webdriver.PhantomJS(executable_path='./WebDrivers/phantomjs/bin/phantomjs.exe',service_log_path=\"./WebDrivers/logs/ghostdriver.log\")"
   ]
  },
  {
   "cell_type": "code",
   "execution_count": null,
   "metadata": {},
   "outputs": [],
   "source": []
  }
 ],
 "metadata": {
  "kernelspec": {
   "display_name": "Python 3",
   "language": "python",
   "name": "python3"
  },
  "language_info": {
   "codemirror_mode": {
    "name": "ipython",
    "version": 3
   },
   "file_extension": ".py",
   "mimetype": "text/x-python",
   "name": "python",
   "nbconvert_exporter": "python",
   "pygments_lexer": "ipython3",
   "version": "3.6.5"
  }
 },
 "nbformat": 4,
 "nbformat_minor": 2
}
