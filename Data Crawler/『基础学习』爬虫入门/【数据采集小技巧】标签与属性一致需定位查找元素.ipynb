{
 "cells": [
  {
   "cell_type": "code",
   "execution_count": null,
   "metadata": {},
   "outputs": [],
   "source": [
    "dict2 = {'名称': driver.find_element_by_xpath(\"//td[contains(text(),'名称')]/following-sibling::td[1]\").text,\\\n",
    "        '统一社会信用代码': driver.find_element_by_xpath(\"//td[contains(text(),'统一社会信用代码')]/following-sibling::td[1]\").text,\\\n",
    "        '宗旨和业务范围': driver.find_element_by_xpath(\"//td[contains(text(),'宗旨和业务范围')]/following-sibling::td[1]\").text,\\\n",
    "        '住所': driver.find_element_by_xpath(\"//td[contains(text(),'住所')]/following-sibling::td[1]\").text,\\\n",
    "        '法定代表人': driver.find_element_by_xpath(\"//td[contains(text(),'法定代表人')]/following-sibling::td[1]\").text,\\\n",
    "        '经费来源': driver.find_element_by_xpath(\"//td[contains(text(),'经费来源')]/following-sibling::td[1]\").text.replace(\"\\n\",\"\"),\\\n",
    "        '开办资金': driver.find_element_by_xpath(\"//td[contains(text(),'开办资金')]/following-sibling::td[1]\").text,\\\n",
    "        '举办单位': driver.find_element_by_xpath(\"//td[contains(text(),'举办单位')]/following-sibling::td[1]\").text.replace(\"\\n\",\"\"),\\\n",
    "        '有效期': driver.find_element_by_xpath(\"//td[contains(text(),'有效期')]/following-sibling::td[1]\").text.replace(\"\\n\",\"\").strip(),\\\n",
    "        '单位状态': driver.find_element_by_xpath(\"//td[contains(text(),'单位状态')]/following-sibling::td[1]\").text.replace(\"\\n\",\"\").strip(),\\\n",
    "        '登记管理机关': driver.find_element_by_xpath(\"//td[contains(text(),'登记管理机关')]/following-sibling::td[1]\").text\n",
    "       }"
   ]
  }
 ],
 "metadata": {
  "kernelspec": {
   "display_name": "Python 3",
   "language": "python",
   "name": "python3"
  },
  "language_info": {
   "codemirror_mode": {
    "name": "ipython",
    "version": 3
   },
   "file_extension": ".py",
   "mimetype": "text/x-python",
   "name": "python",
   "nbconvert_exporter": "python",
   "pygments_lexer": "ipython3",
   "version": "3.6.5"
  }
 },
 "nbformat": 4,
 "nbformat_minor": 2
}
