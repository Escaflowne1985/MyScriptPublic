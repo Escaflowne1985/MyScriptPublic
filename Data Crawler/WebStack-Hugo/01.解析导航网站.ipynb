{
 "cells": [
  {
   "cell_type": "code",
   "execution_count": 2,
   "id": "33412b82",
   "metadata": {},
   "outputs": [],
   "source": [
    "import requests\n",
    "from bs4 import BeautifulSoup\n",
    "import pandas as pd"
   ]
  },
  {
   "cell_type": "markdown",
   "id": "4694ca9f",
   "metadata": {},
   "source": [
    "# http://www.che0.com/"
   ]
  },
  {
   "cell_type": "code",
   "execution_count": 10,
   "id": "51d94daf",
   "metadata": {},
   "outputs": [],
   "source": [
    "url = \"http://www.che0.com/\"\n",
    "url = \"https://ai-bot.cn/\"\n",
    "html = requests.get(url)\n",
    "soup = BeautifulSoup(html.text,'lxml')"
   ]
  },
  {
   "cell_type": "code",
   "execution_count": null,
   "id": "f12ac115",
   "metadata": {},
   "outputs": [],
   "source": []
  },
  {
   "cell_type": "markdown",
   "id": "665b06f4",
   "metadata": {},
   "source": [
    "# https://ai-bot.cn/"
   ]
  },
  {
   "cell_type": "code",
   "execution_count": 1,
   "id": "bba0363c",
   "metadata": {},
   "outputs": [
    {
     "ename": "NameError",
     "evalue": "name 'BeautifulSoup' is not defined",
     "output_type": "error",
     "traceback": [
      "\u001b[1;31m---------------------------------------------------------------------------\u001b[0m",
      "\u001b[1;31mNameError\u001b[0m                                 Traceback (most recent call last)",
      "Cell \u001b[1;32mIn[1], line 3\u001b[0m\n\u001b[0;32m      1\u001b[0m \u001b[38;5;28;01mwith\u001b[39;00m \u001b[38;5;28mopen\u001b[39m(\u001b[38;5;124m\"\u001b[39m\u001b[38;5;124mdata.html\u001b[39m\u001b[38;5;124m\"\u001b[39m,encoding\u001b[38;5;241m=\u001b[39m\u001b[38;5;124m\"\u001b[39m\u001b[38;5;124mutf8\u001b[39m\u001b[38;5;124m\"\u001b[39m) \u001b[38;5;28;01mas\u001b[39;00m f:\n\u001b[0;32m      2\u001b[0m     data \u001b[38;5;241m=\u001b[39m f\u001b[38;5;241m.\u001b[39mread()\n\u001b[1;32m----> 3\u001b[0m soup \u001b[38;5;241m=\u001b[39m \u001b[43mBeautifulSoup\u001b[49m(data,\u001b[38;5;124m'\u001b[39m\u001b[38;5;124mlxml\u001b[39m\u001b[38;5;124m'\u001b[39m)\n",
      "\u001b[1;31mNameError\u001b[0m: name 'BeautifulSoup' is not defined"
     ]
    }
   ],
   "source": [
    "with open(\"data.html\",encoding=\"utf8\") as f:\n",
    "    data = f.read()\n",
    "soup = BeautifulSoup(data,'lxml')"
   ]
  },
  {
   "cell_type": "code",
   "execution_count": 42,
   "id": "c9ba0fea",
   "metadata": {},
   "outputs": [],
   "source": [
    "# for taxonomy_c in soup.find_all(\"div\",class_=\"d-flex flex-fill align-items-center mb-4\"):\n",
    "# #     taxonomy = taxonomy_c.h4.text.strip()\n",
    "#     print(taxonomy_c)\n",
    "\n",
    "data_list = []\n",
    "for term in soup.find_all(\"div\",class_=\"url-body default\"):\n",
    "    title=term.find(\"strong\").text\n",
    "    description=term.a[\"title\"]\n",
    "    url=term.a[\"data-url\"]\n",
    "    logo=term.find(\"img\")[\"data-src\"]\n",
    "\n",
    "    data_list.append((title,description,url,logo))\n",
    "\n",
    "df = pd.DataFrame(data_list,columns=[\"title\",\"description\",\"url\",\"logo\"])\n",
    "df.to_excel(\"ai-bot.cn.xlsx\")"
   ]
  },
  {
   "cell_type": "code",
   "execution_count": 16,
   "id": "d88cb9d5",
   "metadata": {},
   "outputs": [],
   "source": [
    "import warnings\n",
    "warnings.filterwarnings(\"ignore\")\n",
    "import time\n",
    "import pandas as pd\n",
    "from bs4 import BeautifulSoup\n",
    "import requests\n",
    "from PIL import Image\n",
    "import matplotlib.pyplot as plt\n",
    "from selenium import webdriver#加载驱动\n",
    "from selenium.webdriver.common.keys import Keys#控制按键\n",
    "from selenium.webdriver.common.by import By\n",
    "import requests\n",
    "import hashlib\n",
    "chrome=\"./chromedriver-win64/chromedriver.exe\"\n",
    "\n",
    "agent = 'Mozilla/5.0 (Linux; Android 6.0; Nexus 5 Build/MRA58N) AppleWebKit/537.36 (KHTML, like Gecko) Chrome/56.0.2924.87 Mobile Safari/537.36'\n",
    "headers = {\n",
    "    \"Host\": \"www.zhihu.com\",\n",
    "    \"Referer\": \"https://www.zhihu.com/\",\n",
    "    'User-Agent': agent}\n",
    "\n",
    "from selenium import webdriver\n",
    "from selenium.webdriver.chrome.options import Options\n",
    "\n",
    "chrome_options = Options()\n",
    "# chrome_options.add_argument('--headless')\n",
    "# chrome_options.add_argument('--disable-gpu')\n",
    "driver = webdriver.Chrome(chrome,chrome_options=chrome_options)\n",
    "url = \"https://ai-bot.cn/\"\n",
    "driver.get(url)\n",
    "driver.set_window_size(1366,768)\n",
    "# driver.page_source\n",
    "data_list = []"
   ]
  },
  {
   "cell_type": "code",
   "execution_count": 28,
   "id": "c2cc82a2",
   "metadata": {},
   "outputs": [],
   "source": [
    "soup = BeautifulSoup(driver.page_source,\"lxml\")\n",
    "for term in soup.find_all(\"div\",class_=\"url-body default\"):\n",
    "    title=term.find(\"strong\").text\n",
    "    description=term.a[\"data-original-title\"]\n",
    "    url=term.a[\"data-url\"]\n",
    "    logo=term.find(\"img\")[\"data-src\"]\n",
    "    data_list.append((title,description,url,logo))"
   ]
  },
  {
   "cell_type": "code",
   "execution_count": 29,
   "id": "3b96d51b",
   "metadata": {},
   "outputs": [],
   "source": [
    "df = pd.DataFrame(data_list,columns=[\"title\",\"description\",\"url\",\"logo\"])\n",
    "df = df.drop_duplicates(keep='last')\n",
    "df.to_excel(\"ai-bot.cn.xlsx\",index=False)"
   ]
  },
  {
   "cell_type": "code",
   "execution_count": null,
   "id": "a37fca42",
   "metadata": {},
   "outputs": [],
   "source": []
  }
 ],
 "metadata": {
  "kernelspec": {
   "display_name": "Python 3 (ipykernel)",
   "language": "python",
   "name": "python3"
  },
  "language_info": {
   "codemirror_mode": {
    "name": "ipython",
    "version": 3
   },
   "file_extension": ".py",
   "mimetype": "text/x-python",
   "name": "python",
   "nbconvert_exporter": "python",
   "pygments_lexer": "ipython3",
   "version": "3.10.9"
  },
  "toc": {
   "base_numbering": 1,
   "nav_menu": {},
   "number_sections": true,
   "sideBar": true,
   "skip_h1_title": false,
   "title_cell": "Table of Contents",
   "title_sidebar": "Contents",
   "toc_cell": false,
   "toc_position": {},
   "toc_section_display": true,
   "toc_window_display": false
  }
 },
 "nbformat": 4,
 "nbformat_minor": 5
}
