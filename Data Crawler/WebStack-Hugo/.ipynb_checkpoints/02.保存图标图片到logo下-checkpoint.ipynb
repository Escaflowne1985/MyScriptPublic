{
 "cells": [
  {
   "cell_type": "code",
   "execution_count": 4,
   "id": "00806d22",
   "metadata": {},
   "outputs": [],
   "source": [
    "import os,base64\n",
    "import requests\n",
    "from PIL import Image\n",
    "from io import BytesIO\n",
    "from urllib.parse import urlparse"
   ]
  },
  {
   "cell_type": "code",
   "execution_count": 5,
   "id": "187f2b69",
   "metadata": {},
   "outputs": [],
   "source": [
    "df = pd.read_excel(\"data.xlsx\")"
   ]
  },
  {
   "cell_type": "code",
   "execution_count": 7,
   "id": "d71ff5f2",
   "metadata": {},
   "outputs": [],
   "source": [
    "for i in range(len(df)):\n",
    "    name = df[\"logo\"][i]\n",
    "    ico_url = df[\"logo_url\"][i]\n",
    "    html_ico = requests.get(ico_url)\n",
    "    image = Image.open(BytesIO(html_ico.content))\n",
    "    ls_f = base64.b64encode(BytesIO(html_ico.content).read())\n",
    "    imgdata = base64.b64decode(ls_f)\n",
    "    with open(\"logo/\"+name, 'wb') as f:\n",
    "        f.write(imgdata)"
   ]
  },
  {
   "cell_type": "code",
   "execution_count": null,
   "id": "e8b08d4e",
   "metadata": {},
   "outputs": [],
   "source": []
  }
 ],
 "metadata": {
  "kernelspec": {
   "display_name": "Python 3 (ipykernel)",
   "language": "python",
   "name": "python3"
  },
  "language_info": {
   "codemirror_mode": {
    "name": "ipython",
    "version": 3
   },
   "file_extension": ".py",
   "mimetype": "text/x-python",
   "name": "python",
   "nbconvert_exporter": "python",
   "pygments_lexer": "ipython3",
   "version": "3.10.9"
  },
  "toc": {
   "base_numbering": 1,
   "nav_menu": {},
   "number_sections": true,
   "sideBar": true,
   "skip_h1_title": false,
   "title_cell": "Table of Contents",
   "title_sidebar": "Contents",
   "toc_cell": false,
   "toc_position": {},
   "toc_section_display": true,
   "toc_window_display": false
  }
 },
 "nbformat": 4,
 "nbformat_minor": 5
}
