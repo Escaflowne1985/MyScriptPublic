{
 "cells": [
  {
   "cell_type": "code",
   "execution_count": 1,
   "metadata": {},
   "outputs": [],
   "source": [
    "# 模拟器下载地址\n",
    "# http://chromedriver.storage.googleapis.com/index.html\n",
    "# https://googlechromelabs.github.io/chrome-for-testing/\n",
    "# https://chromedriver.chromium.org/downloads"
   ]
  },
  {
   "cell_type": "code",
   "execution_count": null,
   "metadata": {},
   "outputs": [],
   "source": []
  },
  {
   "cell_type": "code",
   "execution_count": 2,
   "metadata": {},
   "outputs": [],
   "source": [
    "#coding:utf-8\n",
    "__author__ = 'Mr数据杨'\n",
    "__explain__ = '经管之家'\n",
    "import warnings\n",
    "warnings.filterwarnings(\"ignore\")\n",
    "import time\n",
    "import pandas as pd\n",
    "from bs4 import BeautifulSoup\n",
    "import requests\n",
    "from PIL import Image\n",
    "import matplotlib.pyplot as plt\n",
    "from selenium import webdriver#加载驱动\n",
    "from selenium.webdriver.common.keys import Keys#控制按键\n",
    "from selenium.webdriver.common.by import By\n",
    "import requests\n",
    "import hashlib\n",
    "chrome=R\"F:/PythonWorkProject/Git Project/Python-Web-Crawler/My Use/driver/chromedriver-win64/chromedriver.exe\"\n",
    "\n",
    "agent = 'Mozilla/5.0 (Linux; Android 6.0; Nexus 5 Build/MRA58N) AppleWebKit/537.36 (KHTML, like Gecko) Chrome/56.0.2924.87 Mobile Safari/537.36'\n",
    "headers = {\n",
    "    \"Host\": \"www.zhihu.com\",\n",
    "    \"Referer\": \"https://www.zhihu.com/\",\n",
    "    'User-Agent': agent}\n",
    "\n",
    "from selenium import webdriver\n",
    "from selenium.webdriver.chrome.options import Options\n",
    "\n",
    "chrome_options = Options()\n",
    "# chrome_options.add_argument('--headless')\n",
    "# chrome_options.add_argument('--disable-gpu')\n",
    "driver = webdriver.Chrome(chrome,chrome_options=chrome_options)\n",
    "url = \"http://passport.pinggu.org/login/index?appId=1&redirect=http%3A%2F%2Fbbs.pinggu.org\"\n",
    "driver.get(url)\n",
    "driver.set_window_size(1366,768)\n",
    "# driver.page_source"
   ]
  },
  {
   "cell_type": "code",
   "execution_count": null,
   "metadata": {},
   "outputs": [],
   "source": []
  },
  {
   "cell_type": "markdown",
   "metadata": {},
   "source": [
    "# 获取需要恢复的文章列表"
   ]
  },
  {
   "cell_type": "code",
   "execution_count": 3,
   "metadata": {},
   "outputs": [],
   "source": [
    "data = driver.page_source\n",
    "soup = BeautifulSoup(data,'lxml')"
   ]
  },
  {
   "cell_type": "code",
   "execution_count": 4,
   "metadata": {},
   "outputs": [],
   "source": [
    "url_list = []\n",
    "# 最新帖子\n",
    "for i in soup.find(\"div\",class_=\"zuixintiezi_one\").find_all(\"a\"):\n",
    "    if \".html\" in i[\"href\"]:\n",
    "        url_list.append(i[\"href\"])\n",
    "\n",
    "\n",
    "# 二日人气\n",
    "for i in soup.find(\"dl\",class_=\"errirenqi_one\").find_all(\"a\"):\n",
    "    if \".html\" in i[\"href\"]:\n",
    "        url_list.append(i[\"href\"])\n"
   ]
  },
  {
   "cell_type": "code",
   "execution_count": 5,
   "metadata": {},
   "outputs": [],
   "source": [
    "url_list = url_list[3:]"
   ]
  },
  {
   "cell_type": "code",
   "execution_count": 6,
   "metadata": {},
   "outputs": [
    {
     "data": {
      "text/plain": [
       "['https://bbs.pinggu.org/thread-11680711-1-1.html',\n",
       " 'https://bbs.pinggu.org/thread-11680710-1-1.html',\n",
       " 'https://bbs.pinggu.org/thread-11680394-1-1.html',\n",
       " 'https://bbs.pinggu.org/thread-11680120-1-1.html',\n",
       " 'https://bbs.pinggu.org/thread-11679929-1-1.html',\n",
       " 'https://bbs.pinggu.org/thread-11679506-1-1.html',\n",
       " 'https://bbs.pinggu.org/thread-11678417-1-1.html',\n",
       " 'https://bbs.pinggu.org/thread-11679599-1-1.html',\n",
       " 'https://bbs.pinggu.org/thread-11680065-1-1.html',\n",
       " 'https://bbs.pinggu.org/thread-11679706-1-1.html',\n",
       " 'https://bbs.pinggu.org/thread-11679671-1-1.html',\n",
       " 'https://bbs.pinggu.org/thread-11679734-1-1.html',\n",
       " 'https://bbs.pinggu.org/thread-11680099-1-1.html',\n",
       " 'https://bbs.pinggu.org/thread-11679951-1-1.html',\n",
       " 'https://bbs.pinggu.org/thread-11680193-1-1.html',\n",
       " 'https://bbs.pinggu.org/thread-11680147-1-1.html',\n",
       " 'https://bbs.pinggu.org/thread-11680301-1-1.html']"
      ]
     },
     "execution_count": 6,
     "metadata": {},
     "output_type": "execute_result"
    }
   ],
   "source": [
    "url_list"
   ]
  },
  {
   "cell_type": "code",
   "execution_count": 7,
   "metadata": {},
   "outputs": [
    {
     "data": {
      "text/plain": [
       "'http://passport.pinggu.org/login/index?appId=1&redirect=http%3A%2F%2Fbbs.pinggu.org'"
      ]
     },
     "execution_count": 7,
     "metadata": {},
     "output_type": "execute_result"
    }
   ],
   "source": [
    "url"
   ]
  },
  {
   "cell_type": "code",
   "execution_count": 8,
   "metadata": {},
   "outputs": [
    {
     "ename": "NoSuchElementException",
     "evalue": "Message: no such element: Unable to locate element: {\"method\":\"xpath\",\"selector\":\"//*[@id=\"fastpostmessage\"]\"}\n  (Session info: chrome=120.0.6099.111)\nStacktrace:\n\tGetHandleVerifier [0x00007FF6C67482B2+55298]\n\t(No symbol) [0x00007FF6C66B5E02]\n\t(No symbol) [0x00007FF6C65705AB]\n\t(No symbol) [0x00007FF6C65B175C]\n\t(No symbol) [0x00007FF6C65B18DC]\n\t(No symbol) [0x00007FF6C65ECBC7]\n\t(No symbol) [0x00007FF6C65D20EF]\n\t(No symbol) [0x00007FF6C65EAAA4]\n\t(No symbol) [0x00007FF6C65D1E83]\n\t(No symbol) [0x00007FF6C65A670A]\n\t(No symbol) [0x00007FF6C65A7964]\n\tGetHandleVerifier [0x00007FF6C6AC0AAB+3694587]\n\tGetHandleVerifier [0x00007FF6C6B1728E+4048862]\n\tGetHandleVerifier [0x00007FF6C6B0F173+4015811]\n\tGetHandleVerifier [0x00007FF6C67E47D6+695590]\n\t(No symbol) [0x00007FF6C66C0CE8]\n\t(No symbol) [0x00007FF6C66BCF34]\n\t(No symbol) [0x00007FF6C66BD062]\n\t(No symbol) [0x00007FF6C66AD3A3]\n\tBaseThreadInitThunk [0x00007FF866977344+20]\n\tRtlUserThreadStart [0x00007FF8682826B1+33]\n",
     "output_type": "error",
     "traceback": [
      "\u001b[1;31m---------------------------------------------------------------------------\u001b[0m",
      "\u001b[1;31mNoSuchElementException\u001b[0m                    Traceback (most recent call last)",
      "Cell \u001b[1;32mIn[8], line 10\u001b[0m\n\u001b[0;32m      8\u001b[0m time\u001b[38;5;241m.\u001b[39msleep(\u001b[38;5;241m2\u001b[39m)\n\u001b[0;32m      9\u001b[0m \u001b[38;5;66;03m# 定位元素找输入框\u001b[39;00m\n\u001b[1;32m---> 10\u001b[0m elem \u001b[38;5;241m=\u001b[39m \u001b[43mdriver\u001b[49m\u001b[38;5;241;43m.\u001b[39;49m\u001b[43mfind_element\u001b[49m\u001b[43m(\u001b[49m\u001b[43mBy\u001b[49m\u001b[38;5;241;43m.\u001b[39;49m\u001b[43mXPATH\u001b[49m\u001b[43m,\u001b[49m\u001b[38;5;124;43m'\u001b[39;49m\u001b[38;5;124;43m//*[@id=\u001b[39;49m\u001b[38;5;124;43m\"\u001b[39;49m\u001b[38;5;124;43mfastpostmessage\u001b[39;49m\u001b[38;5;124;43m\"\u001b[39;49m\u001b[38;5;124;43m]\u001b[39;49m\u001b[38;5;124;43m'\u001b[39;49m\u001b[43m)\u001b[49m\n\u001b[0;32m     11\u001b[0m elem\u001b[38;5;241m.\u001b[39mclear()\n\u001b[0;32m     12\u001b[0m \u001b[38;5;66;03m# 发送文字\u001b[39;00m\n",
      "File \u001b[1;32md:\\MyTools\\anaconda3\\lib\\site-packages\\selenium\\webdriver\\remote\\webdriver.py:831\u001b[0m, in \u001b[0;36mWebDriver.find_element\u001b[1;34m(self, by, value)\u001b[0m\n\u001b[0;32m    828\u001b[0m     by \u001b[38;5;241m=\u001b[39m By\u001b[38;5;241m.\u001b[39mCSS_SELECTOR\n\u001b[0;32m    829\u001b[0m     value \u001b[38;5;241m=\u001b[39m \u001b[38;5;124mf\u001b[39m\u001b[38;5;124m'\u001b[39m\u001b[38;5;124m[name=\u001b[39m\u001b[38;5;124m\"\u001b[39m\u001b[38;5;132;01m{\u001b[39;00mvalue\u001b[38;5;132;01m}\u001b[39;00m\u001b[38;5;124m\"\u001b[39m\u001b[38;5;124m]\u001b[39m\u001b[38;5;124m'\u001b[39m\n\u001b[1;32m--> 831\u001b[0m \u001b[38;5;28;01mreturn\u001b[39;00m \u001b[38;5;28;43mself\u001b[39;49m\u001b[38;5;241;43m.\u001b[39;49m\u001b[43mexecute\u001b[49m\u001b[43m(\u001b[49m\u001b[43mCommand\u001b[49m\u001b[38;5;241;43m.\u001b[39;49m\u001b[43mFIND_ELEMENT\u001b[49m\u001b[43m,\u001b[49m\u001b[43m \u001b[49m\u001b[43m{\u001b[49m\u001b[38;5;124;43m\"\u001b[39;49m\u001b[38;5;124;43musing\u001b[39;49m\u001b[38;5;124;43m\"\u001b[39;49m\u001b[43m:\u001b[49m\u001b[43m \u001b[49m\u001b[43mby\u001b[49m\u001b[43m,\u001b[49m\u001b[43m \u001b[49m\u001b[38;5;124;43m\"\u001b[39;49m\u001b[38;5;124;43mvalue\u001b[39;49m\u001b[38;5;124;43m\"\u001b[39;49m\u001b[43m:\u001b[49m\u001b[43m \u001b[49m\u001b[43mvalue\u001b[49m\u001b[43m}\u001b[49m\u001b[43m)\u001b[49m[\u001b[38;5;124m\"\u001b[39m\u001b[38;5;124mvalue\u001b[39m\u001b[38;5;124m\"\u001b[39m]\n",
      "File \u001b[1;32md:\\MyTools\\anaconda3\\lib\\site-packages\\selenium\\webdriver\\remote\\webdriver.py:440\u001b[0m, in \u001b[0;36mWebDriver.execute\u001b[1;34m(self, driver_command, params)\u001b[0m\n\u001b[0;32m    438\u001b[0m response \u001b[38;5;241m=\u001b[39m \u001b[38;5;28mself\u001b[39m\u001b[38;5;241m.\u001b[39mcommand_executor\u001b[38;5;241m.\u001b[39mexecute(driver_command, params)\n\u001b[0;32m    439\u001b[0m \u001b[38;5;28;01mif\u001b[39;00m response:\n\u001b[1;32m--> 440\u001b[0m     \u001b[38;5;28;43mself\u001b[39;49m\u001b[38;5;241;43m.\u001b[39;49m\u001b[43merror_handler\u001b[49m\u001b[38;5;241;43m.\u001b[39;49m\u001b[43mcheck_response\u001b[49m\u001b[43m(\u001b[49m\u001b[43mresponse\u001b[49m\u001b[43m)\u001b[49m\n\u001b[0;32m    441\u001b[0m     response[\u001b[38;5;124m\"\u001b[39m\u001b[38;5;124mvalue\u001b[39m\u001b[38;5;124m\"\u001b[39m] \u001b[38;5;241m=\u001b[39m \u001b[38;5;28mself\u001b[39m\u001b[38;5;241m.\u001b[39m_unwrap_value(response\u001b[38;5;241m.\u001b[39mget(\u001b[38;5;124m\"\u001b[39m\u001b[38;5;124mvalue\u001b[39m\u001b[38;5;124m\"\u001b[39m, \u001b[38;5;28;01mNone\u001b[39;00m))\n\u001b[0;32m    442\u001b[0m     \u001b[38;5;28;01mreturn\u001b[39;00m response\n",
      "File \u001b[1;32md:\\MyTools\\anaconda3\\lib\\site-packages\\selenium\\webdriver\\remote\\errorhandler.py:245\u001b[0m, in \u001b[0;36mErrorHandler.check_response\u001b[1;34m(self, response)\u001b[0m\n\u001b[0;32m    243\u001b[0m         alert_text \u001b[38;5;241m=\u001b[39m value[\u001b[38;5;124m\"\u001b[39m\u001b[38;5;124malert\u001b[39m\u001b[38;5;124m\"\u001b[39m]\u001b[38;5;241m.\u001b[39mget(\u001b[38;5;124m\"\u001b[39m\u001b[38;5;124mtext\u001b[39m\u001b[38;5;124m\"\u001b[39m)\n\u001b[0;32m    244\u001b[0m     \u001b[38;5;28;01mraise\u001b[39;00m exception_class(message, screen, stacktrace, alert_text)  \u001b[38;5;66;03m# type: ignore[call-arg]  # mypy is not smart enough here\u001b[39;00m\n\u001b[1;32m--> 245\u001b[0m \u001b[38;5;28;01mraise\u001b[39;00m exception_class(message, screen, stacktrace)\n",
      "\u001b[1;31mNoSuchElementException\u001b[0m: Message: no such element: Unable to locate element: {\"method\":\"xpath\",\"selector\":\"//*[@id=\"fastpostmessage\"]\"}\n  (Session info: chrome=120.0.6099.111)\nStacktrace:\n\tGetHandleVerifier [0x00007FF6C67482B2+55298]\n\t(No symbol) [0x00007FF6C66B5E02]\n\t(No symbol) [0x00007FF6C65705AB]\n\t(No symbol) [0x00007FF6C65B175C]\n\t(No symbol) [0x00007FF6C65B18DC]\n\t(No symbol) [0x00007FF6C65ECBC7]\n\t(No symbol) [0x00007FF6C65D20EF]\n\t(No symbol) [0x00007FF6C65EAAA4]\n\t(No symbol) [0x00007FF6C65D1E83]\n\t(No symbol) [0x00007FF6C65A670A]\n\t(No symbol) [0x00007FF6C65A7964]\n\tGetHandleVerifier [0x00007FF6C6AC0AAB+3694587]\n\tGetHandleVerifier [0x00007FF6C6B1728E+4048862]\n\tGetHandleVerifier [0x00007FF6C6B0F173+4015811]\n\tGetHandleVerifier [0x00007FF6C67E47D6+695590]\n\t(No symbol) [0x00007FF6C66C0CE8]\n\t(No symbol) [0x00007FF6C66BCF34]\n\t(No symbol) [0x00007FF6C66BD062]\n\t(No symbol) [0x00007FF6C66AD3A3]\n\tBaseThreadInitThunk [0x00007FF866977344+20]\n\tRtlUserThreadStart [0x00007FF8682826B1+33]\n"
     ]
    }
   ],
   "source": [
    "for url in url_list[2:]:\n",
    "    # 打开连接\n",
    "    driver.get(url)\n",
    "    time.sleep(2)\n",
    "    # 滚动到最下面\n",
    "    js=\"var q=document.documentElement.scrollTop=100000\" \n",
    "    driver.execute_script(js)\n",
    "    time.sleep(2)\n",
    "    # 定位元素找输入框\n",
    "    elem = driver.find_element(By.XPATH,'//*[@id=\"fastpostmessage\"]')\n",
    "    elem.clear()\n",
    "    # 发送文字\n",
    "    elem.send_keys(\"感谢分享~~~~~~么么哒\")\n",
    "    # 提交\n",
    "    driver.find_element(By.XPATH,'//*[@id=\"fastpostsubmit\"]/strong').click()\n",
    "    # 延迟15秒\n",
    "    time.sleep(15)"
   ]
  },
  {
   "cell_type": "code",
   "execution_count": null,
   "metadata": {},
   "outputs": [],
   "source": []
  },
  {
   "cell_type": "code",
   "execution_count": null,
   "metadata": {},
   "outputs": [],
   "source": []
  },
  {
   "cell_type": "code",
   "execution_count": null,
   "metadata": {},
   "outputs": [],
   "source": [
    "url_list = []\n",
    "# 最新帖子\n",
    "for i in soup.find(\"div\",class_=\"zuixintiezi_one\").find_all(\"a\"):\n",
    "    if \".html\" in i[\"href\"]:\n",
    "        url_list.append(i[\"href\"])\n",
    "        \n",
    "for i in soup.find(\"div\",class_=\"zuixintiezi_two\").find_all(\"a\"):\n",
    "    if \".html\" in i[\"href\"]:\n",
    "        url_list.append(i[\"href\"])\n",
    "\n",
    "# 二日人气\n",
    "for i in soup.find(\"dl\",class_=\"errirenqi_one\").find_all(\"a\"):\n",
    "    if \".html\" in i[\"href\"]:\n",
    "        url_list.append(i[\"href\"])\n",
    "        \n",
    "for i in soup.find(\"dl\",class_=\"errirenqi_two\").find_all(\"a\"):\n",
    "    if \".html\" in i[\"href\"]:\n",
    "        url_list.append(i[\"href\"])"
   ]
  },
  {
   "cell_type": "code",
   "execution_count": null,
   "metadata": {},
   "outputs": [],
   "source": []
  },
  {
   "cell_type": "code",
   "execution_count": null,
   "metadata": {},
   "outputs": [],
   "source": [
    "# 用户登陆验证码\n",
    "uname = \"escaflowne1985\"\n",
    "psword = \"19850707a\"\n",
    "elem = driver.find_element_by_xpath('//*[@id=\"username\"]')#定位元素找输入框\n",
    "elem.clear()\n",
    "elem.send_keys(uname)\n",
    "elem = driver.find_element_by_xpath('//*[@id=\"password\"]')#定位元素找输入框\n",
    "elem.clear()\n",
    "elem.send_keys(psword)\n",
    "\n",
    "driver.find_element_by_xpath('//*[@id=\"captcha\"]').click()\n",
    "time.sleep(1)\n",
    "driver.find_element_by_xpath('//*[@id=\"captchaImg\"]').click()\n",
    "time.sleep(1)\n",
    "driver.find_element_by_xpath('//*[@id=\"captchaImg\"]').click()\n",
    "\n",
    "driver.save_screenshot('index.jpg') \n",
    "\n",
    "# # # 定位验证码\n",
    "# # imgelement = driver.find_element_by_xpath('//*[@id=\"captchaImg\"]')  \n",
    "# # location = imgelement.location  #获取验证码x,y轴坐标\n",
    "# # size= imgelement.size  #获取验证码的长宽\n",
    "# # rangle=(int(location['x']),int(location['y']),int(location['x']+size['width']),int(location['y']+size['height'])) \n",
    "location = {'x': 1370, 'y': 480}\n",
    "size = {'height': 41, 'width': 80}\n",
    "rangle=(int(location['x']),int(location['y']),int(location['x']+size['width']),int(location['y']+size['height'])) \n",
    "i=Image.open(\"index.jpg\")\n",
    "frame4=i.crop(rangle)  #使用Image的crop函数，从截图中再次截取我们需要的区域\n",
    "frame4.save('yzm.png')\n",
    "# img=Image.open('index.jpg')  #打开图像\n",
    "# box=(1100,385,1175,425)\n",
    "# roi=img.crop(box)\n",
    "# plt.subplot(1,2,2)\n",
    "# plt.imshow(roi),plt.axis('off')\n",
    "# plt.savefig(\"yzm.png\")\n",
    "\n",
    "class Chaojiying_Client(object):\n",
    "    def __init__(self, username, password, soft_id):\n",
    "        self.username = username\n",
    "        self.password = p\n",
    "        self.soft_id = soft_id\n",
    "        self.base_params = {\n",
    "            'user': self.username,\n",
    "            'pass2': self.password,\n",
    "            'softid': self.soft_id,\n",
    "        }\n",
    "        self.headers = {\n",
    "            'Connection': 'Keep-Alive',\n",
    "            'User-Agent': 'Mozilla/4.0 (compatible; MSIE 8.0; Windows NT 5.1; Trident/4.0)',\n",
    "        }\n",
    "\n",
    "    def PostPic(self, im, codetype):\n",
    "        \"\"\"\n",
    "        im: 图片字节\n",
    "        codetype: 题目类型 参考 http://www.chaojiying.com/price.html\n",
    "        \"\"\"\n",
    "        params = {\n",
    "            'codetype': codetype,\n",
    "        }\n",
    "        params.update(self.base_params)\n",
    "        files = {'userfile': ('ccc.jpg', im)}\n",
    "        r = requests.post('http://upload.chaojiying.net/Upload/Processing.php', data=params, files=files,\n",
    "                          headers=self.headers)\n",
    "        return r.json()\n",
    "\n",
    "    def ReportError(self, im_id):\n",
    "        \"\"\"\n",
    "        im_id:报错题目的图片ID\n",
    "        \"\"\"\n",
    "        params = {\n",
    "            'id': im_id,\n",
    "        }\n",
    "        params.update(self.base_params)\n",
    "        r = requests.post('http://upload.chaojiying.net/Upload/ReportError.php', data=params, headers=self.headers)\n",
    "        return r.json()\n",
    "\n",
    "\n",
    "    \n",
    "\n",
    "if __name__ == '__main__':\n",
    "    def get_md5(password):\n",
    "        m = hashlib.md5()\n",
    "        m.update(password)\n",
    "        return m.hexdigest()\n",
    "\n",
    "\n",
    "    p = get_md5(\"19850707a\".encode(\"utf-8\"))\n",
    "    chaojiying = Chaojiying_Client('18902195858', p, '96001')\n",
    "\n",
    "\n",
    "    im = open('yzm.png', 'rb').read()\n",
    "    # print (chaojiying.PostPic(im, 1902).get('pic_str'))\n",
    "    \n",
    "    # 验证码操作\n",
    "    code = chaojiying.PostPic(im, 1902).get('pic_str')\n",
    "    elem = driver.find_element_by_xpath('//*[@id=\"captcha\"]')#定位元素找输入框\n",
    "    elem.clear()\n",
    "    elem.send_keys(code)\n",
    "    time.sleep(1)\n",
    "    driver.find_element_by_xpath('/html/body/div[2]/div/div[2]/a').click()\n",
    "    \n",
    "    #图灵API\n",
    "    KEY = 'f5ec9599ee4f4200ab69ca3c24b561be'\n",
    "    def get_response(msg):\n",
    "        apiUrl = 'http://www.tuling123.com/openapi/api'\n",
    "        data = {'key'    : KEY,'info'   : msg, 'userid' : 'wechat-robot',}\n",
    "        try:\n",
    "            r = requests.post(apiUrl, data=data).json()\n",
    "            return r.get('text')\n",
    "        except:\n",
    "            return \"Thank you for your shine\"\n",
    "\n",
    "    def tuling_reply(msg):\n",
    "        #默认回复\n",
    "        defaultReply = \"Thank you for your shine[victory]\"\n",
    "        #图灵回复\n",
    "        reply = get_response(msg)\n",
    "    #     return reply \n",
    "        return defaultReply"
   ]
  },
  {
   "cell_type": "code",
   "execution_count": null,
   "metadata": {},
   "outputs": [],
   "source": []
  },
  {
   "cell_type": "code",
   "execution_count": null,
   "metadata": {},
   "outputs": [],
   "source": []
  },
  {
   "cell_type": "code",
   "execution_count": null,
   "metadata": {},
   "outputs": [],
   "source": []
  },
  {
   "cell_type": "code",
   "execution_count": null,
   "metadata": {},
   "outputs": [],
   "source": []
  }
 ],
 "metadata": {
  "hide_input": false,
  "kernelspec": {
   "display_name": "Python 3 (ipykernel)",
   "language": "python",
   "name": "python3"
  },
  "language_info": {
   "codemirror_mode": {
    "name": "ipython",
    "version": 3
   },
   "file_extension": ".py",
   "mimetype": "text/x-python",
   "name": "python",
   "nbconvert_exporter": "python",
   "pygments_lexer": "ipython3",
   "version": "3.10.9"
  },
  "toc": {
   "base_numbering": 1,
   "nav_menu": {},
   "number_sections": true,
   "sideBar": true,
   "skip_h1_title": false,
   "title_cell": "Table of Contents",
   "title_sidebar": "Contents",
   "toc_cell": false,
   "toc_position": {
    "height": "calc(100% - 180px)",
    "left": "10px",
    "top": "150px",
    "width": "165px"
   },
   "toc_section_display": true,
   "toc_window_display": true
  }
 },
 "nbformat": 4,
 "nbformat_minor": 2
}
