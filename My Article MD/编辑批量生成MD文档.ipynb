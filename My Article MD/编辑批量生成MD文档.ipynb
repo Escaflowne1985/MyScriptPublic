{
 "cells": [
  {
   "cell_type": "code",
   "execution_count": 4,
   "id": "8c95e915",
   "metadata": {},
   "outputs": [],
   "source": [
    "import os\n",
    "import pandas as pd"
   ]
  },
  {
   "cell_type": "code",
   "execution_count": 5,
   "id": "0cfd8d8f",
   "metadata": {},
   "outputs": [
    {
     "data": {
      "text/plain": [
       "array(['Python 学习杂谈', 'Python 软件与环境', 'Python 编程基础', 'Python 数据攻略',\n",
       "       'Python 网络爬虫', 'Python Web开发', 'Python 数据分析师', 'Python 数据可视化',\n",
       "       'Python 视频剪辑', 'ChatGPT', 'Python 实用程序', 'Python AI数字人',\n",
       "       'Python 自然语言技术', 'Python 音频技术', 'Python 计算机视觉',\n",
       "       'Stable Diffusion AI绘画', 'Python 机器学习', 'Python 深度学习'],\n",
       "      dtype=object)"
      ]
     },
     "execution_count": 5,
     "metadata": {},
     "output_type": "execute_result"
    }
   ],
   "source": [
    "def filter_files(dir_name):\n",
    "    \"\"\"\n",
    "    筛选出特定前缀的文件名。\n",
    "\n",
    "    :param dir_name: 目录名\n",
    "    :return: 符合条件的文件名列表\n",
    "    \"\"\"\n",
    "    filtered_files = []\n",
    "    for file in os.listdir(dir_name):\n",
    "        if file.startswith('0') or file.startswith('1'):\n",
    "            filtered_files.append(file)\n",
    "    return filtered_files\n",
    "\n",
    "dir_name = \"Learning-Notes-and-Projects\"\n",
    "file_list = filter_files(dir_name)\n",
    "\n",
    "df = pd.read_excel('menu.xlsx')\n",
    "\n",
    "category_list = df[\"新栏目\"].unique()\n",
    "category_list"
   ]
  },
  {
   "cell_type": "code",
   "execution_count": 13,
   "id": "e4f04681",
   "metadata": {},
   "outputs": [
    {
     "name": "stdout",
     "output_type": "stream",
     "text": [
      "0000.Python 学习杂谈.md\n",
      "['学习总结' '职业职场' '技术趋势']\n",
      "0100.Python 软件与环境.md\n",
      "['环境配置' '工具技巧' '数据库与服务器']\n",
      "0200.Python 编程基础.md\n",
      "['基础概念与数据类型' '集合与数据结构' '编程结构与控制流' '输入输出与字符串处理' '函数与模块' '高级主题']\n",
      "0300.Python 数据攻略.md\n",
      "['Pandas操作' '文件操作与序列化' '数据处理技术']\n",
      "0400.Python 网络爬虫.md\n",
      "['爬虫基础' 'Scrapy框架' '爬虫案例' '爬虫项目']\n",
      "0500.Python Web开发.md\n",
      "['Django框架' 'DRF框架' 'Django应用方法' 'Django总结' '网站案例' 'DjangoVue2项目']\n",
      "0600.Python 数据分析师.md\n",
      "['操作基础' '统计基础' '基础算法' '数据库操作' '数据分析案例' '数据预处理']\n",
      "0700.Python 数据可视化.md\n",
      "['Echarts 基础组件' 'Echarts 二维图表' 'Echarts 三维图表' 'Echarts 地图与地理数据'\n",
      " 'Echarts 数据结构与关系图' 'Echarts 组合与复合图表' 'Echarts 特殊图表' 'Echarts 动态图表'\n",
      " '可视化应用方法']\n",
      "0800.Python 视频剪辑.md\n",
      "['Moviepy基础' 'FFmpeg基础' 'Audio基础' '项目案例']\n",
      "0900.ChatGPT.md\n",
      "['基础应用']\n",
      "1000.Python 实用程序.md\n",
      "['应用程序' '应用方法' '应用脚本']\n",
      "1100.Python AI数字人.md\n",
      "['github实践']\n",
      "1200.Python 自然语言技术.md\n",
      "['理论基础' 'github实践']\n",
      "1300.Python 音频技术.md\n",
      "['github实践']\n",
      "1400.Python 计算机视觉.md\n",
      "['github实践' '理论基础']\n",
      "1500.Python 数据分案例.md\n",
      "1600.Stable Diffusion AI绘画.md\n",
      "['Stable Diffusion 基础与安装' '提示词与图像生成' '图像问题解决与优化' '模型管理与定制' '动画与视频生成']\n",
      "1700.Python 机器学习.md\n",
      "['聚类' '复合估计器' '概率校准' '协方差估计' '交叉分解' '任务数据集' '矩阵分解' '判别分析' '伪估计量' '集成学习'\n",
      " '特征提取/提取' '高斯过程' '图像提取' '缺失值填充' '检验、检查' '等渗回归' '内核近似特征' '核岭回归' '线性分类器'\n",
      " '经典线性回归' '变量选择回归器' '贝叶斯回归' '多变量回归' '广义线性回归' '鲁棒性回归器' '流形学习' '评估函数' '高斯混合'\n",
      " '交叉验证' '近邻算法' '多输出' '多分类' '朴素贝叶斯' '人工神经网络' '自动化工作流' '数据预处理' '随机投影'\n",
      " '半监督学习' '支持向量机' '决策树']\n",
      "1800.Python 深度学习.md\n",
      "['基础入门与核心组件' '层与函数' '损失函数与特殊技术']\n"
     ]
    }
   ],
   "source": [
    "for md_name in file_list:\n",
    "    print(md_name)\n",
    "    md_path = os.path.join(dir_name,md_name)\n",
    "    with open(md_path,encoding='utf8') as f:\n",
    "        # 获取每个md文档的前面内容\n",
    "        data_content = f.read().split(\"下面是我撰写的笔记内容。\")[0]\n",
    "        data_content = data_content + \"\\n下面是我撰写的笔记内容。\\n\\n\"\n",
    "        # 遍历类别\n",
    "        for category in category_list:\n",
    "            # 文档和新栏目匹配\n",
    "            if category in md_name:\n",
    "                # 获取 category 的栏目的二级分类\n",
    "                menu_list = df[df[\"新栏目\"]==category][\"专栏分类\"].unique()\n",
    "                print(menu_list)\n",
    "                for menu in menu_list:\n",
    "                    data_df = df[(df[\"新栏目\"]==category)&(df[\"专栏分类\"]==menu)]\n",
    "                    data_df = data_df.reset_index(drop=True)\n",
    "                    # category 新栏目/menu 专栏分类\n",
    "                    data_content = data_content + \"\\n\\n# \" + menu + \"\\n\\n\\n|编号|内容和链接| \\n| ---- | ---- |\\n\"\n",
    "                    for i in range(len(data_df)):\n",
    "#                         print(data_df[\"序号\"][i])\n",
    "                        data_content = data_content+ \"|\" + data_df[\"序号\"][i] + \"|[\" + data_df[\"内容主题\"][i]+ \"](\" + data_df[\"文章链接\"][i]+ \")|\\n\" \n",
    "#                         print(data_content)\n",
    "    # 将内容写回MD文档\n",
    "    with open(md_path, 'w', encoding='utf8') as f:\n",
    "        data_content = data_content.replace(\"\\n\\n\",\"\\n\")\n",
    "        f.write(data_content)"
   ]
  },
  {
   "cell_type": "code",
   "execution_count": null,
   "id": "1eb3d67a",
   "metadata": {},
   "outputs": [],
   "source": []
  },
  {
   "cell_type": "code",
   "execution_count": null,
   "id": "d9608b27",
   "metadata": {},
   "outputs": [],
   "source": []
  }
 ],
 "metadata": {
  "kernelspec": {
   "display_name": "Python 3 (ipykernel)",
   "language": "python",
   "name": "python3"
  },
  "language_info": {
   "codemirror_mode": {
    "name": "ipython",
    "version": 3
   },
   "file_extension": ".py",
   "mimetype": "text/x-python",
   "name": "python",
   "nbconvert_exporter": "python",
   "pygments_lexer": "ipython3",
   "version": "3.10.9"
  },
  "toc": {
   "base_numbering": 1,
   "nav_menu": {},
   "number_sections": true,
   "sideBar": true,
   "skip_h1_title": false,
   "title_cell": "Table of Contents",
   "title_sidebar": "Contents",
   "toc_cell": false,
   "toc_position": {},
   "toc_section_display": true,
   "toc_window_display": false
  }
 },
 "nbformat": 4,
 "nbformat_minor": 5
}
